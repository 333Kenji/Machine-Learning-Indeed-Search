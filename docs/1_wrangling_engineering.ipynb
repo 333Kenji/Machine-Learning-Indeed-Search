{
 "cells": [
  {
   "cell_type": "code",
   "execution_count": 1,
   "metadata": {},
   "outputs": [],
   "source": [
    "import numpy as np\n",
    "import pandas as pd\n",
    "import csv\n",
    "import matplotlib.pyplot as plt\n",
    "from datetime import datetime, date, timedelta\n",
    "\n",
    "plt.rcParams['figure.figsize'] = (8, 6)\n",
    "plt.rcParams['font.size'] = 17\n",
    "\n",
    "import seaborn as sns\n",
    "import re\n",
    "import warnings # current version of seaborn generates a bunch of warnings that we'll ignore\n",
    "warnings.filterwarnings(\"ignore\")\n",
    "sns.set(style=\"ticks\", color_codes=True)"
   ]
  },
  {
   "cell_type": "markdown",
   "metadata": {},
   "source": [
    "## 1. Data\n",
    "##### Data Dictionary\n",
    "company<br>\n",
    "    - String, company names\n",
    "\n",
    "description<br>\n",
    "    - String, full text description of job\n",
    "\n",
    "estimated_salary<br>\n",
    "    - String, Indeed's salary estimation\n",
    "\n",
    "extractDate<br>\n",
    "    - String(?), date record was webscrapped\n",
    "\n",
    "job_type_items<br>\n",
    "    - String, formatted list of 'full-time', 'part-time', etc\n",
    "\n",
    "location<br>\n",
    "    - String, state and city/remote\n",
    "\n",
    "postDate<br>\n",
    "    - String, date job posting was created\n",
    "\n",
    "rating<br>\n",
    "    - Float, Indeed.com ascribed company ratings\n",
    "\n",
    "raw_desc_soup<br>\n",
    "    - String, raw full description, retained for possible future use/analysis\n",
    "\n",
    "requirements<br>\n",
    "    - String, employer-listed educational, aptitude, and experience requirements\n",
    "\n",
    "sal_guide_items<br>\n",
    "    - String, formatted list containing redundant characters and the Indeed salary estimate\n",
    "\n",
    "salary<br>\n",
    "    - String, if given by employer\n",
    "\n",
    "salary_and_jType<br>\n",
    "    - String, formatted list combining salary from salfromsection and job_type_items\n",
    "\n",
    "salfromsection<br>\n",
    "    - String, salary, if given, extracted from job description\n",
    "\n",
    "summary<br>\n",
    "    - String, brief summaries of each job extracted from sach results\n",
    "\n",
    "title<br>\n",
    "    - String, job position title\n",
    "\n",
    "url<br>\n",
    "    - String, job posting/description address"
   ]
  },
  {
   "cell_type": "markdown",
   "metadata": {},
   "source": [
    "### 1.1 Load & Inspect Data"
   ]
  },
  {
   "cell_type": "code",
   "execution_count": 2,
   "metadata": {},
   "outputs": [
    {
     "name": "stdout",
     "output_type": "stream",
     "text": [
      "<class 'pandas.core.frame.DataFrame'>\n",
      "RangeIndex: 1515 entries, 0 to 1514\n",
      "Data columns (total 17 columns):\n",
      " #   Column            Non-Null Count  Dtype  \n",
      "---  ------            --------------  -----  \n",
      " 0   company           1515 non-null   object \n",
      " 1   description       1515 non-null   object \n",
      " 2   estimated_salary  686 non-null    object \n",
      " 3   extractDate       1515 non-null   object \n",
      " 4   job_type_items    361 non-null    object \n",
      " 5   location          1515 non-null   object \n",
      " 6   postDate          1515 non-null   object \n",
      " 7   rating            1035 non-null   float64\n",
      " 8   raw_desc_soup     1515 non-null   object \n",
      " 9   requirements      187 non-null    object \n",
      " 10  sal_guide_items   753 non-null    object \n",
      " 11  salary            447 non-null    object \n",
      " 12  salary_and_jType  1025 non-null   object \n",
      " 13  salfromsection    446 non-null    object \n",
      " 14  summary           1515 non-null   object \n",
      " 15  title             1515 non-null   object \n",
      " 16  url               1515 non-null   object \n",
      "dtypes: float64(1), object(16)\n",
      "memory usage: 748.2 MB\n"
     ]
    },
    {
     "data": {
      "text/html": [
       "<div>\n",
       "<style scoped>\n",
       "    .dataframe tbody tr th:only-of-type {\n",
       "        vertical-align: middle;\n",
       "    }\n",
       "\n",
       "    .dataframe tbody tr th {\n",
       "        vertical-align: top;\n",
       "    }\n",
       "\n",
       "    .dataframe thead th {\n",
       "        text-align: right;\n",
       "    }\n",
       "</style>\n",
       "<table border=\"1\" class=\"dataframe\">\n",
       "  <thead>\n",
       "    <tr style=\"text-align: right;\">\n",
       "      <th></th>\n",
       "      <th>company</th>\n",
       "      <th>description</th>\n",
       "      <th>estimated_salary</th>\n",
       "      <th>extractDate</th>\n",
       "      <th>job_type_items</th>\n",
       "      <th>location</th>\n",
       "      <th>postDate</th>\n",
       "      <th>rating</th>\n",
       "      <th>raw_desc_soup</th>\n",
       "      <th>requirements</th>\n",
       "      <th>sal_guide_items</th>\n",
       "      <th>salary</th>\n",
       "      <th>salary_and_jType</th>\n",
       "      <th>salfromsection</th>\n",
       "      <th>summary</th>\n",
       "      <th>title</th>\n",
       "      <th>url</th>\n",
       "    </tr>\n",
       "  </thead>\n",
       "  <tbody>\n",
       "    <tr>\n",
       "      <th>0</th>\n",
       "      <td>Online Technical Services</td>\n",
       "      <td>Job descriptionData Scientist, MarketingSAN DI...</td>\n",
       "      <td>NaN</td>\n",
       "      <td>2022-04-13</td>\n",
       "      <td>['Full-time']</td>\n",
       "      <td>Remote</td>\n",
       "      <td>PostedJust posted</td>\n",
       "      <td>3.7</td>\n",
       "      <td>&lt;!DOCTYPE html&gt;\\n\\n&lt;html dir=\"ltr\" lang=\"en\"&gt;\\...</td>\n",
       "      <td>Master's (Preferred)Python: 1 year (Preferred)...</td>\n",
       "      <td>NaN</td>\n",
       "      <td>$145,000 - $150,000 a year</td>\n",
       "      <td>$145,000 - $150,000 a year -  Full-time</td>\n",
       "      <td>$145,000 - $150,000 a year</td>\n",
       "      <td>Identify relevant data sources and data sets t...</td>\n",
       "      <td>Data Scientist - Marketing</td>\n",
       "      <td>https://www.indeed.com/pagead/clk?mo=r&amp;ad=-6NY...</td>\n",
       "    </tr>\n",
       "    <tr>\n",
       "      <th>1</th>\n",
       "      <td>West CAP</td>\n",
       "      <td>HUMAN was founded in 2012 in a Brooklyn sci-fi...</td>\n",
       "      <td>Estimated $114K – $144K a year</td>\n",
       "      <td>2022-04-13</td>\n",
       "      <td>NaN</td>\n",
       "      <td>Remote in New York, NY+2 locations</td>\n",
       "      <td>PostedJust posted</td>\n",
       "      <td>3.5</td>\n",
       "      <td>&lt;!DOCTYPE html&gt;\\n\\n&lt;html dir=\"ltr\" lang=\"en\"&gt;\\...</td>\n",
       "      <td>NaN</td>\n",
       "      <td>['', 'Not provided by employer', \"$114K to $14...</td>\n",
       "      <td>NaN</td>\n",
       "      <td>Full-time</td>\n",
       "      <td>NaN</td>\n",
       "      <td>You’ve worked as a data scientist solving larg...</td>\n",
       "      <td>Data Scientist, BotGuard</td>\n",
       "      <td>https://www.indeed.com/rc/clk?jk=58cdde046f643...</td>\n",
       "    </tr>\n",
       "    <tr>\n",
       "      <th>2</th>\n",
       "      <td>Maya Ai inc.</td>\n",
       "      <td>Our Maya team is expanding and we are looking ...</td>\n",
       "      <td>NaN</td>\n",
       "      <td>2022-04-13</td>\n",
       "      <td>['Full-time', 'Part-time']</td>\n",
       "      <td>Remote</td>\n",
       "      <td>PostedJust posted</td>\n",
       "      <td>NaN</td>\n",
       "      <td>&lt;!DOCTYPE html&gt;\\n\\n&lt;html dir=\"ltr\" lang=\"en\"&gt;\\...</td>\n",
       "      <td>Python: 1 year (Preferred)SQL: 1 year (Preferred)</td>\n",
       "      <td>NaN</td>\n",
       "      <td>$77,766 - $183,411 a year</td>\n",
       "      <td>$77,766 - $183,411 a year -  Full-time, Part-time</td>\n",
       "      <td>$77,766 - $183,411 a year</td>\n",
       "      <td>Our Analyst will be dealing with data coming i...</td>\n",
       "      <td>Data Scientist</td>\n",
       "      <td>https://www.indeed.com/company/Maya-Ai-inc./jo...</td>\n",
       "    </tr>\n",
       "    <tr>\n",
       "      <th>3</th>\n",
       "      <td>EMERGETECH, INC</td>\n",
       "      <td>Description:Job CategoryData ScienceAbout Emer...</td>\n",
       "      <td>Estimated $94.7K – $120K a year</td>\n",
       "      <td>2022-04-13</td>\n",
       "      <td>NaN</td>\n",
       "      <td>Remote</td>\n",
       "      <td>PostedJust posted</td>\n",
       "      <td>NaN</td>\n",
       "      <td>&lt;!DOCTYPE html&gt;\\n\\n&lt;html dir=\"ltr\" lang=\"en\"&gt;\\...</td>\n",
       "      <td>NaN</td>\n",
       "      <td>['', 'Not provided by employer', \"$94.7K to $1...</td>\n",
       "      <td>NaN</td>\n",
       "      <td>NaN</td>\n",
       "      <td>NaN</td>\n",
       "      <td>Design and create the data sources that ”citiz...</td>\n",
       "      <td>Data Scientist</td>\n",
       "      <td>https://www.indeed.com/rc/clk?jk=95fb128bb025f...</td>\n",
       "    </tr>\n",
       "    <tr>\n",
       "      <th>4</th>\n",
       "      <td>Recurrent</td>\n",
       "      <td>What's the opportunity?Recurrent is on a missi...</td>\n",
       "      <td>Estimated $119K – $151K a year</td>\n",
       "      <td>2022-04-13</td>\n",
       "      <td>NaN</td>\n",
       "      <td>Remote in Seattle, WA</td>\n",
       "      <td>PostedJust posted</td>\n",
       "      <td>NaN</td>\n",
       "      <td>&lt;!DOCTYPE html&gt;\\n\\n&lt;html dir=\"ltr\" lang=\"en\"&gt;\\...</td>\n",
       "      <td>NaN</td>\n",
       "      <td>['', 'Not provided by employer', \"$119K to $15...</td>\n",
       "      <td>NaN</td>\n",
       "      <td>NaN</td>\n",
       "      <td>NaN</td>\n",
       "      <td>Experienced - you have 2+ years of experience ...</td>\n",
       "      <td>Data Scientist</td>\n",
       "      <td>https://www.indeed.com/rc/clk?jk=e9ce610b72deb...</td>\n",
       "    </tr>\n",
       "  </tbody>\n",
       "</table>\n",
       "</div>"
      ],
      "text/plain": [
       "                     company  \\\n",
       "0  Online Technical Services   \n",
       "1                   West CAP   \n",
       "2               Maya Ai inc.   \n",
       "3            EMERGETECH, INC   \n",
       "4                  Recurrent   \n",
       "\n",
       "                                         description  \\\n",
       "0  Job descriptionData Scientist, MarketingSAN DI...   \n",
       "1  HUMAN was founded in 2012 in a Brooklyn sci-fi...   \n",
       "2  Our Maya team is expanding and we are looking ...   \n",
       "3  Description:Job CategoryData ScienceAbout Emer...   \n",
       "4  What's the opportunity?Recurrent is on a missi...   \n",
       "\n",
       "                  estimated_salary extractDate              job_type_items  \\\n",
       "0                              NaN  2022-04-13               ['Full-time']   \n",
       "1   Estimated $114K – $144K a year  2022-04-13                         NaN   \n",
       "2                              NaN  2022-04-13  ['Full-time', 'Part-time']   \n",
       "3  Estimated $94.7K – $120K a year  2022-04-13                         NaN   \n",
       "4   Estimated $119K – $151K a year  2022-04-13                         NaN   \n",
       "\n",
       "                             location           postDate  rating  \\\n",
       "0                              Remote  PostedJust posted     3.7   \n",
       "1  Remote in New York, NY+2 locations  PostedJust posted     3.5   \n",
       "2                              Remote  PostedJust posted     NaN   \n",
       "3                              Remote  PostedJust posted     NaN   \n",
       "4               Remote in Seattle, WA  PostedJust posted     NaN   \n",
       "\n",
       "                                       raw_desc_soup  \\\n",
       "0  <!DOCTYPE html>\\n\\n<html dir=\"ltr\" lang=\"en\">\\...   \n",
       "1  <!DOCTYPE html>\\n\\n<html dir=\"ltr\" lang=\"en\">\\...   \n",
       "2  <!DOCTYPE html>\\n\\n<html dir=\"ltr\" lang=\"en\">\\...   \n",
       "3  <!DOCTYPE html>\\n\\n<html dir=\"ltr\" lang=\"en\">\\...   \n",
       "4  <!DOCTYPE html>\\n\\n<html dir=\"ltr\" lang=\"en\">\\...   \n",
       "\n",
       "                                        requirements  \\\n",
       "0  Master's (Preferred)Python: 1 year (Preferred)...   \n",
       "1                                                NaN   \n",
       "2  Python: 1 year (Preferred)SQL: 1 year (Preferred)   \n",
       "3                                                NaN   \n",
       "4                                                NaN   \n",
       "\n",
       "                                     sal_guide_items  \\\n",
       "0                                                NaN   \n",
       "1  ['', 'Not provided by employer', \"$114K to $14...   \n",
       "2                                                NaN   \n",
       "3  ['', 'Not provided by employer', \"$94.7K to $1...   \n",
       "4  ['', 'Not provided by employer', \"$119K to $15...   \n",
       "\n",
       "                       salary  \\\n",
       "0  $145,000 - $150,000 a year   \n",
       "1                         NaN   \n",
       "2   $77,766 - $183,411 a year   \n",
       "3                         NaN   \n",
       "4                         NaN   \n",
       "\n",
       "                                    salary_and_jType  \\\n",
       "0            $145,000 - $150,000 a year -  Full-time   \n",
       "1                                          Full-time   \n",
       "2  $77,766 - $183,411 a year -  Full-time, Part-time   \n",
       "3                                                NaN   \n",
       "4                                                NaN   \n",
       "\n",
       "               salfromsection  \\\n",
       "0  $145,000 - $150,000 a year   \n",
       "1                         NaN   \n",
       "2   $77,766 - $183,411 a year   \n",
       "3                         NaN   \n",
       "4                         NaN   \n",
       "\n",
       "                                             summary  \\\n",
       "0  Identify relevant data sources and data sets t...   \n",
       "1  You’ve worked as a data scientist solving larg...   \n",
       "2  Our Analyst will be dealing with data coming i...   \n",
       "3  Design and create the data sources that ”citiz...   \n",
       "4  Experienced - you have 2+ years of experience ...   \n",
       "\n",
       "                        title  \\\n",
       "0  Data Scientist - Marketing   \n",
       "1    Data Scientist, BotGuard   \n",
       "2              Data Scientist   \n",
       "3              Data Scientist   \n",
       "4              Data Scientist   \n",
       "\n",
       "                                                 url  \n",
       "0  https://www.indeed.com/pagead/clk?mo=r&ad=-6NY...  \n",
       "1  https://www.indeed.com/rc/clk?jk=58cdde046f643...  \n",
       "2  https://www.indeed.com/company/Maya-Ai-inc./jo...  \n",
       "3  https://www.indeed.com/rc/clk?jk=95fb128bb025f...  \n",
       "4  https://www.indeed.com/rc/clk?jk=e9ce610b72deb...  "
      ]
     },
     "execution_count": 2,
     "metadata": {},
     "output_type": "execute_result"
    }
   ],
   "source": [
    "data = pd.read_csv('../app/data/total.csv')\n",
    "# 1.1.1 Inspect Table\n",
    "data.info(memory_usage='deep')\n",
    "data.head()"
   ]
  },
  {
   "cell_type": "code",
   "execution_count": 3,
   "metadata": {},
   "outputs": [
    {
     "name": "stdout",
     "output_type": "stream",
     "text": [
      "\n",
      "The data contains 1515 rows of individual job postings with values for 17 columns based on\n",
      " different sections of each post's web page.\n",
      "\n",
      "- Out of 1515 job postings 447 or 29.5% include some sort of salary information,\n",
      "- The remaining 1068 rowws, or 70.5% are missing salary data.\n",
      "- Also, there are no null values in the rest of the table meaning we won't need\n",
      "  to lose any data by dropping rows. While the null values in the Pay column will\n",
      "  simply be dropped after we translate the not nulls into the target.\n"
     ]
    }
   ],
   "source": [
    "null = sum(data.salary.isnull())\n",
    "nnull = sum(data.salary.notnull())\n",
    "print('')\n",
    "print(f'The data contains {data.shape[0]} rows of individual job postings with values for {data.shape[1]} columns based on\\n different sections of each post\\'s web page.')\n",
    "print('')\n",
    "print(f'- Out of {len(data)} job postings {nnull} or {round(nnull/len(data)*100,2)}% include some sort of salary information,\\n- The remaining {null} rowws, or {round(null/len(data)*100,2)}% are missing salary data.\\n- Also, there are no null values in the rest of the table meaning we won\\'t need\\n  to lose any data by dropping rows. While the null values in the Pay column will\\n  simply be dropped after we translate the not nulls into the target.')"
   ]
  },
  {
   "cell_type": "markdown",
   "metadata": {},
   "source": [
    "    The following table is a view of the raw data from the scrape. I'll build the target by reducing the pay column to floating point values; this will require text cleaning which will also be conducted for the rest of the table. Location will be split into new columns for City and State while and because Indeed's search results show dates relative to the date the query was made I'll need to use PostDate and ExtractDate build a DatePosted column. It is important to note that JobUrl and date-related columns will not be converted into features for the logistic regression, instead they will be reattached to the data at the end in order to provide additional information and insights through the EC2 application. The only rows that'l  be using for modelling are JobTitle, Company, Summary, Requirements, and Description."
   ]
  },
  {
   "cell_type": "code",
   "execution_count": 4,
   "metadata": {},
   "outputs": [
    {
     "name": "stdout",
     "output_type": "stream",
     "text": [
      "The 1515 rows of data have 17 features. Since this is a classification problem I'll be selecting one to be the target, leaving me with 16 features to work with.\n"
     ]
    }
   ],
   "source": [
    "shape = data.shape\n",
    "print(f\"The {shape[0]} rows of data have {shape[1]} features. Since this is a classification problem I'll be selecting one to be the target, leaving me with {shape[1]-1} features to work with.\")"
   ]
  },
  {
   "cell_type": "code",
   "execution_count": 5,
   "metadata": {},
   "outputs": [
    {
     "name": "stdout",
     "output_type": "stream",
     "text": [
      "0\n"
     ]
    }
   ],
   "source": [
    "#check for dupes\n",
    "print(len(data[data.duplicated()]))\n"
   ]
  },
  {
   "cell_type": "code",
   "execution_count": 6,
   "metadata": {},
   "outputs": [
    {
     "name": "stdout",
     "output_type": "stream",
     "text": [
      "requirements        1328\n",
      "job_type_items      1154\n",
      "salfromsection      1069\n",
      "salary              1068\n",
      "estimated_salary     829\n",
      "sal_guide_items      762\n",
      "salary_and_jType     490\n",
      "rating               480\n",
      "url                    0\n",
      "description            0\n",
      "extractDate            0\n",
      "raw_desc_soup          0\n",
      "location               0\n",
      "postDate               0\n",
      "title                  0\n",
      "summary                0\n",
      "company                0\n",
      "dtype: int64\n"
     ]
    }
   ],
   "source": [
    "#check for missing\n",
    "print(data.isna().sum().sort_values(ascending=False))"
   ]
  },
  {
   "cell_type": "markdown",
   "metadata": {},
   "source": [
    "The likelihood of seeing duplicates coming from the raw scrapping is very unlikely, but this is still a good check to do in case something changes with Indeed.com's front-end code.\n",
    "\n",
    "Missing values are another story. It seems that Indeed.com doesn't require employers to provide values for every feature, this certainly seems to be the case with requirements, not to mention everywhere salary information coud be held.\\\n",
    "Others, like estimated salary and ratings are generated by Indeed.com but don't exist for every posting.\\\n",
    "job_type_items and salary_and_jType will likely be collapsed into a new column for job types, I'll also do the same with all of the salary related features to build the model's target."
   ]
  },
  {
   "cell_type": "code",
   "execution_count": 7,
   "metadata": {},
   "outputs": [
    {
     "data": {
      "text/plain": [
       "raw_desc_soup       1395\n",
       "url                  302\n",
       "summary              165\n",
       "description          119\n",
       "company               97\n",
       "title                 89\n",
       "estimated_salary      89\n",
       "sal_guide_items       87\n",
       "location              83\n",
       "salary_and_jType      38\n",
       "salfromsection        34\n",
       "salary                34\n",
       "rating                22\n",
       "requirements          10\n",
       "extractDate            6\n",
       "postDate               4\n",
       "job_type_items         4\n",
       "dtype: int64"
      ]
     },
     "execution_count": 7,
     "metadata": {},
     "output_type": "execute_result"
    }
   ],
   "source": [
    "# 1.1.2 Inspect & Modify Columns\n",
    "data.nunique().sort_values(ascending=False)\n"
   ]
  },
  {
   "cell_type": "code",
   "execution_count": 8,
   "metadata": {},
   "outputs": [],
   "source": [
    "data.columns = map(str.lower, data.columns)\n",
    "# no need to change many column names because they're about to be dropped.\n",
    "data = data.rename({'title': 'job_title'}, axis=1)"
   ]
  },
  {
   "cell_type": "markdown",
   "metadata": {},
   "source": [
    "## 2. Preprocesing\n",
    "### 2.1 Reinspect Data"
   ]
  },
  {
   "cell_type": "code",
   "execution_count": 9,
   "metadata": {},
   "outputs": [
    {
     "name": "stdout",
     "output_type": "stream",
     "text": [
      "<class 'pandas.core.frame.DataFrame'>\n",
      "RangeIndex: 1515 entries, 0 to 1514\n",
      "Data columns (total 17 columns):\n",
      " #   Column            Non-Null Count  Dtype  \n",
      "---  ------            --------------  -----  \n",
      " 0   company           1515 non-null   object \n",
      " 1   description       1515 non-null   object \n",
      " 2   estimated_salary  686 non-null    object \n",
      " 3   extractdate       1515 non-null   object \n",
      " 4   job_type_items    361 non-null    object \n",
      " 5   location          1515 non-null   object \n",
      " 6   postdate          1515 non-null   object \n",
      " 7   rating            1035 non-null   float64\n",
      " 8   raw_desc_soup     1515 non-null   object \n",
      " 9   requirements      187 non-null    object \n",
      " 10  sal_guide_items   753 non-null    object \n",
      " 11  salary            447 non-null    object \n",
      " 12  salary_and_jtype  1025 non-null   object \n",
      " 13  salfromsection    446 non-null    object \n",
      " 14  summary           1515 non-null   object \n",
      " 15  job_title         1515 non-null   object \n",
      " 16  url               1515 non-null   object \n",
      "dtypes: float64(1), object(16)\n",
      "memory usage: 1.1 GB\n"
     ]
    },
    {
     "data": {
      "text/html": [
       "<div>\n",
       "<style scoped>\n",
       "    .dataframe tbody tr th:only-of-type {\n",
       "        vertical-align: middle;\n",
       "    }\n",
       "\n",
       "    .dataframe tbody tr th {\n",
       "        vertical-align: top;\n",
       "    }\n",
       "\n",
       "    .dataframe thead th {\n",
       "        text-align: right;\n",
       "    }\n",
       "</style>\n",
       "<table border=\"1\" class=\"dataframe\">\n",
       "  <thead>\n",
       "    <tr style=\"text-align: right;\">\n",
       "      <th></th>\n",
       "      <th>company</th>\n",
       "      <th>description</th>\n",
       "      <th>estimated_salary</th>\n",
       "      <th>extractdate</th>\n",
       "      <th>job_type_items</th>\n",
       "      <th>location</th>\n",
       "      <th>postdate</th>\n",
       "      <th>rating</th>\n",
       "      <th>raw_desc_soup</th>\n",
       "      <th>requirements</th>\n",
       "      <th>sal_guide_items</th>\n",
       "      <th>salary</th>\n",
       "      <th>salary_and_jtype</th>\n",
       "      <th>salfromsection</th>\n",
       "      <th>summary</th>\n",
       "      <th>job_title</th>\n",
       "      <th>url</th>\n",
       "    </tr>\n",
       "  </thead>\n",
       "  <tbody>\n",
       "    <tr>\n",
       "      <th>0</th>\n",
       "      <td>Online Technical Services</td>\n",
       "      <td>Job descriptionData Scientist, MarketingSAN DI...</td>\n",
       "      <td>NaN</td>\n",
       "      <td>2022-04-13</td>\n",
       "      <td>['Full-time']</td>\n",
       "      <td>Remote</td>\n",
       "      <td>PostedJust posted</td>\n",
       "      <td>3.7</td>\n",
       "      <td>&lt;!DOCTYPE html&gt;\\n\\n&lt;html dir=\"ltr\" lang=\"en\"&gt;\\...</td>\n",
       "      <td>Master's (Preferred)Python: 1 year (Preferred)...</td>\n",
       "      <td>NaN</td>\n",
       "      <td>$145,000 - $150,000 a year</td>\n",
       "      <td>$145,000 - $150,000 a year -  Full-time</td>\n",
       "      <td>$145,000 - $150,000 a year</td>\n",
       "      <td>Identify relevant data sources and data sets t...</td>\n",
       "      <td>Data Scientist - Marketing</td>\n",
       "      <td>https://www.indeed.com/pagead/clk?mo=r&amp;ad=-6NY...</td>\n",
       "    </tr>\n",
       "    <tr>\n",
       "      <th>1</th>\n",
       "      <td>West CAP</td>\n",
       "      <td>HUMAN was founded in 2012 in a Brooklyn sci-fi...</td>\n",
       "      <td>Estimated $114K – $144K a year</td>\n",
       "      <td>2022-04-13</td>\n",
       "      <td>NaN</td>\n",
       "      <td>Remote in New York, NY+2 locations</td>\n",
       "      <td>PostedJust posted</td>\n",
       "      <td>3.5</td>\n",
       "      <td>&lt;!DOCTYPE html&gt;\\n\\n&lt;html dir=\"ltr\" lang=\"en\"&gt;\\...</td>\n",
       "      <td>NaN</td>\n",
       "      <td>['', 'Not provided by employer', \"$114K to $14...</td>\n",
       "      <td>NaN</td>\n",
       "      <td>Full-time</td>\n",
       "      <td>NaN</td>\n",
       "      <td>You’ve worked as a data scientist solving larg...</td>\n",
       "      <td>Data Scientist, BotGuard</td>\n",
       "      <td>https://www.indeed.com/rc/clk?jk=58cdde046f643...</td>\n",
       "    </tr>\n",
       "    <tr>\n",
       "      <th>2</th>\n",
       "      <td>Maya Ai inc.</td>\n",
       "      <td>Our Maya team is expanding and we are looking ...</td>\n",
       "      <td>NaN</td>\n",
       "      <td>2022-04-13</td>\n",
       "      <td>['Full-time', 'Part-time']</td>\n",
       "      <td>Remote</td>\n",
       "      <td>PostedJust posted</td>\n",
       "      <td>NaN</td>\n",
       "      <td>&lt;!DOCTYPE html&gt;\\n\\n&lt;html dir=\"ltr\" lang=\"en\"&gt;\\...</td>\n",
       "      <td>Python: 1 year (Preferred)SQL: 1 year (Preferred)</td>\n",
       "      <td>NaN</td>\n",
       "      <td>$77,766 - $183,411 a year</td>\n",
       "      <td>$77,766 - $183,411 a year -  Full-time, Part-time</td>\n",
       "      <td>$77,766 - $183,411 a year</td>\n",
       "      <td>Our Analyst will be dealing with data coming i...</td>\n",
       "      <td>Data Scientist</td>\n",
       "      <td>https://www.indeed.com/company/Maya-Ai-inc./jo...</td>\n",
       "    </tr>\n",
       "    <tr>\n",
       "      <th>3</th>\n",
       "      <td>EMERGETECH, INC</td>\n",
       "      <td>Description:Job CategoryData ScienceAbout Emer...</td>\n",
       "      <td>Estimated $94.7K – $120K a year</td>\n",
       "      <td>2022-04-13</td>\n",
       "      <td>NaN</td>\n",
       "      <td>Remote</td>\n",
       "      <td>PostedJust posted</td>\n",
       "      <td>NaN</td>\n",
       "      <td>&lt;!DOCTYPE html&gt;\\n\\n&lt;html dir=\"ltr\" lang=\"en\"&gt;\\...</td>\n",
       "      <td>NaN</td>\n",
       "      <td>['', 'Not provided by employer', \"$94.7K to $1...</td>\n",
       "      <td>NaN</td>\n",
       "      <td>NaN</td>\n",
       "      <td>NaN</td>\n",
       "      <td>Design and create the data sources that ”citiz...</td>\n",
       "      <td>Data Scientist</td>\n",
       "      <td>https://www.indeed.com/rc/clk?jk=95fb128bb025f...</td>\n",
       "    </tr>\n",
       "    <tr>\n",
       "      <th>4</th>\n",
       "      <td>Recurrent</td>\n",
       "      <td>What's the opportunity?Recurrent is on a missi...</td>\n",
       "      <td>Estimated $119K – $151K a year</td>\n",
       "      <td>2022-04-13</td>\n",
       "      <td>NaN</td>\n",
       "      <td>Remote in Seattle, WA</td>\n",
       "      <td>PostedJust posted</td>\n",
       "      <td>NaN</td>\n",
       "      <td>&lt;!DOCTYPE html&gt;\\n\\n&lt;html dir=\"ltr\" lang=\"en\"&gt;\\...</td>\n",
       "      <td>NaN</td>\n",
       "      <td>['', 'Not provided by employer', \"$119K to $15...</td>\n",
       "      <td>NaN</td>\n",
       "      <td>NaN</td>\n",
       "      <td>NaN</td>\n",
       "      <td>Experienced - you have 2+ years of experience ...</td>\n",
       "      <td>Data Scientist</td>\n",
       "      <td>https://www.indeed.com/rc/clk?jk=e9ce610b72deb...</td>\n",
       "    </tr>\n",
       "  </tbody>\n",
       "</table>\n",
       "</div>"
      ],
      "text/plain": [
       "                     company  \\\n",
       "0  Online Technical Services   \n",
       "1                   West CAP   \n",
       "2               Maya Ai inc.   \n",
       "3            EMERGETECH, INC   \n",
       "4                  Recurrent   \n",
       "\n",
       "                                         description  \\\n",
       "0  Job descriptionData Scientist, MarketingSAN DI...   \n",
       "1  HUMAN was founded in 2012 in a Brooklyn sci-fi...   \n",
       "2  Our Maya team is expanding and we are looking ...   \n",
       "3  Description:Job CategoryData ScienceAbout Emer...   \n",
       "4  What's the opportunity?Recurrent is on a missi...   \n",
       "\n",
       "                  estimated_salary extractdate              job_type_items  \\\n",
       "0                              NaN  2022-04-13               ['Full-time']   \n",
       "1   Estimated $114K – $144K a year  2022-04-13                         NaN   \n",
       "2                              NaN  2022-04-13  ['Full-time', 'Part-time']   \n",
       "3  Estimated $94.7K – $120K a year  2022-04-13                         NaN   \n",
       "4   Estimated $119K – $151K a year  2022-04-13                         NaN   \n",
       "\n",
       "                             location           postdate  rating  \\\n",
       "0                              Remote  PostedJust posted     3.7   \n",
       "1  Remote in New York, NY+2 locations  PostedJust posted     3.5   \n",
       "2                              Remote  PostedJust posted     NaN   \n",
       "3                              Remote  PostedJust posted     NaN   \n",
       "4               Remote in Seattle, WA  PostedJust posted     NaN   \n",
       "\n",
       "                                       raw_desc_soup  \\\n",
       "0  <!DOCTYPE html>\\n\\n<html dir=\"ltr\" lang=\"en\">\\...   \n",
       "1  <!DOCTYPE html>\\n\\n<html dir=\"ltr\" lang=\"en\">\\...   \n",
       "2  <!DOCTYPE html>\\n\\n<html dir=\"ltr\" lang=\"en\">\\...   \n",
       "3  <!DOCTYPE html>\\n\\n<html dir=\"ltr\" lang=\"en\">\\...   \n",
       "4  <!DOCTYPE html>\\n\\n<html dir=\"ltr\" lang=\"en\">\\...   \n",
       "\n",
       "                                        requirements  \\\n",
       "0  Master's (Preferred)Python: 1 year (Preferred)...   \n",
       "1                                                NaN   \n",
       "2  Python: 1 year (Preferred)SQL: 1 year (Preferred)   \n",
       "3                                                NaN   \n",
       "4                                                NaN   \n",
       "\n",
       "                                     sal_guide_items  \\\n",
       "0                                                NaN   \n",
       "1  ['', 'Not provided by employer', \"$114K to $14...   \n",
       "2                                                NaN   \n",
       "3  ['', 'Not provided by employer', \"$94.7K to $1...   \n",
       "4  ['', 'Not provided by employer', \"$119K to $15...   \n",
       "\n",
       "                       salary  \\\n",
       "0  $145,000 - $150,000 a year   \n",
       "1                         NaN   \n",
       "2   $77,766 - $183,411 a year   \n",
       "3                         NaN   \n",
       "4                         NaN   \n",
       "\n",
       "                                    salary_and_jtype  \\\n",
       "0            $145,000 - $150,000 a year -  Full-time   \n",
       "1                                          Full-time   \n",
       "2  $77,766 - $183,411 a year -  Full-time, Part-time   \n",
       "3                                                NaN   \n",
       "4                                                NaN   \n",
       "\n",
       "               salfromsection  \\\n",
       "0  $145,000 - $150,000 a year   \n",
       "1                         NaN   \n",
       "2   $77,766 - $183,411 a year   \n",
       "3                         NaN   \n",
       "4                         NaN   \n",
       "\n",
       "                                             summary  \\\n",
       "0  Identify relevant data sources and data sets t...   \n",
       "1  You’ve worked as a data scientist solving larg...   \n",
       "2  Our Analyst will be dealing with data coming i...   \n",
       "3  Design and create the data sources that ”citiz...   \n",
       "4  Experienced - you have 2+ years of experience ...   \n",
       "\n",
       "                    job_title  \\\n",
       "0  Data Scientist - Marketing   \n",
       "1    Data Scientist, BotGuard   \n",
       "2              Data Scientist   \n",
       "3              Data Scientist   \n",
       "4              Data Scientist   \n",
       "\n",
       "                                                 url  \n",
       "0  https://www.indeed.com/pagead/clk?mo=r&ad=-6NY...  \n",
       "1  https://www.indeed.com/rc/clk?jk=58cdde046f643...  \n",
       "2  https://www.indeed.com/company/Maya-Ai-inc./jo...  \n",
       "3  https://www.indeed.com/rc/clk?jk=95fb128bb025f...  \n",
       "4  https://www.indeed.com/rc/clk?jk=e9ce610b72deb...  "
      ]
     },
     "execution_count": 9,
     "metadata": {},
     "output_type": "execute_result"
    }
   ],
   "source": [
    "data.info(memory_usage='deep')\n",
    "data.head()"
   ]
  },
  {
   "cell_type": "markdown",
   "metadata": {},
   "source": [
    "### 2.2 Diagnose Data\n",
    "In order to proceed with any statistical or exploratory data analysis I will need to wrangle the data quite a bit.\n",
    "Here, I'll list each of the current feature columns and briefly describe what I'll need to do with them."
   ]
  },
  {
   "cell_type": "code",
   "execution_count": 10,
   "metadata": {},
   "outputs": [
    {
     "data": {
      "text/plain": [
       "array(['Online Technical Services', 'West CAP', 'Maya Ai inc.',\n",
       "       'EMERGETECH, INC', 'Recurrent', 'Fractal.ai', 'TechTrueUP', 'EAB',\n",
       "       'Ford Motor Company', 'Redfin'], dtype=object)"
      ]
     },
     "execution_count": 10,
     "metadata": {},
     "output_type": "execute_result"
    }
   ],
   "source": [
    "# converting to lower and removing ounctuation/special charcters\n",
    "#TODO remember to remove punct/spec - NPL may take care of this.\n",
    "data.company.unique()[:10]"
   ]
  },
  {
   "cell_type": "markdown",
   "metadata": {},
   "source": [
    "'description'\\\n",
    "Each value is a unique string of the full job description. I'll lower and remove special characters but this feature will be dealt with seperately in its own NLP process.\n"
   ]
  },
  {
   "cell_type": "code",
   "execution_count": 11,
   "metadata": {},
   "outputs": [
    {
     "data": {
      "text/plain": [
       "\"Job descriptionData Scientist, MarketingSAN DIEGO, CA /ANALYTICS – DATA SCIENCE /FULL-TIMEHeadquartered in San Diego, we serve as a leading provider of working capital ($5K - $1.5M) to the small and medium-sized businesses that fuel our country. Since 2008, we have prided ourselves on our collaborative, innovative, and customer-focused approach. Enjoying a period of unprecedented growth, driven by the combination of cutting-edge technology, human touch, and unwavering integrity, we are looking to add to our people-first culture, with highly motivated and results-oriented professionals, to push the limits of what's possible while creating value for all of our partners.We are seeking a mid-level to senior level statistician, quantitative modeling specialist, or data scientist to join our Analytics team and build predictive models for marketing. If you have exceptional analytical, quantitative and problem-solving skills, demonstrated experience designing and implementing predictive models and analytics in marketing, a proven track record of bringing thought leadership to problems, and the desire to make a rapid impact on the success of the business, this is an opportunity for you.The ideal candidate has an advanced degree in statistics, economics, mathematics or a related field; strong inner motivation to work hard, learn and grow; intellectual curiosity and honesty; attention to detail; and excellent interpersonal skills. This position reports to the SVP of Analytics.ResponsibilitiesResearch, devise, test and implement innovative statistical models for marketing and related areas of the business.Work independently and in collaboration with others on the team.Identify relevant data sources and data sets to deliver insights and analysis for business decision-making.Source, cleanse and verify data.Work closely with analytics and technology teams to deploy models in production and to monitor and test deployed models.Communicate analytics solutions to parties across the business in the form of presentations and other materials.Own the accuracy and precision of all work.Required QualificationsB.A. or above in statistics, economics, applied mathematics, or related discipline (Master’s or above preferred).2-5 years of experience in model design and implementation in marketing for fintech or related industry.Independence and thought leadership in problem solving; demonstrated ability to own a problem from initial data analysis to model research, development, testing and operationalization.Strong understanding of and experience with marketing data flows and methods for audience segmentation, customer lifetime value, and attribution.Fluency with statistical modeling and machine learning methods.Fluency with SQL and Python.Fluency with descriptive data analysis and presentation.Strong attention to detail and organizational skills.Intellectual curiosity and creativity.Strong written and verbal communication skills.We OfferCompetitive compensation package.Great Medical, Vision and Dental Benefits.Health Savings Account.Flexible Spending Accounts.Life and disability insurance.Fantastic 401K with matching contribution.Sick, Vacation, and Holidays.Gym membership contribution.Employee Assistance Program (EAP) – mental health support.Online commuter benefits.Internal Referral Program.Fun team and company events.Start-up culture, within an established business with 13 years of experience.Great central location in San Diego – easy access from highway.We are an Equal Opportunity Employer (EOE) and takes great pride in building a diverse work environment. Qualified applicants are considered for employment without regard to age, race, religion, gender, national origin, sexual orientation, disability or veteran status.Job Type: Full-timePay: $145,000.00 - $150,000.00 per yearBenefits:Dental insuranceFlexible scheduleHealth insurancePaid time offVision insuranceSchedule:8 hour shiftDay shiftMonday to FridayEducation:Master's (Preferred)Experience:Python: 1 year (Preferred)SQL: 1 year (Preferred)Data Scientists & Statisticians: 1 year (Preferred)Work Location: Remote\""
      ]
     },
     "execution_count": 11,
     "metadata": {},
     "output_type": "execute_result"
    }
   ],
   "source": [
    "data.description[0]"
   ]
  },
  {
   "cell_type": "markdown",
   "metadata": {},
   "source": [
    "'estimated_salary'\\\n",
    "Indeed.com provides its own salary estimates in what appear to be bins.\n",
    "These and all other salary ranges will be collapsed to their median values once I've extracted and converted their numeric string reresentations.\n"
   ]
  },
  {
   "cell_type": "code",
   "execution_count": 12,
   "metadata": {},
   "outputs": [
    {
     "data": {
      "text/plain": [
       "array([nan, 'Estimated $114K – $144K a year',\n",
       "       'Estimated $94.7K – $120K a year',\n",
       "       'Estimated $119K – $151K a year', 'Estimated $137K – $174K a year'],\n",
       "      dtype=object)"
      ]
     },
     "execution_count": 12,
     "metadata": {},
     "output_type": "execute_result"
    }
   ],
   "source": [
    "data.estimated_salary.unique()[:5]"
   ]
  },
  {
   "cell_type": "markdown",
   "metadata": {},
   "source": [
    "'sal_guide_items'\\\n",
    "While I could convert these to lists, the only information I need (salary) can be parsed out."
   ]
  },
  {
   "cell_type": "code",
   "execution_count": 13,
   "metadata": {},
   "outputs": [
    {
     "data": {
      "text/plain": [
       "array([nan,\n",
       "       '[\\'\\', \\'Not provided by employer\\', \"$114K to $144K per year is Indeed\\'s estimated salary for data scientist in New York, NY.\"]',\n",
       "       '[\\'\\', \\'Not provided by employer\\', \"$94.7K to $120K per year is Indeed\\'s estimated salary for data scientist in Remote.\"]',\n",
       "       '[\\'\\', \\'Not provided by employer\\', \"$119K to $151K per year is Indeed\\'s estimated salary for data scientist in Seattle, WA.\"]',\n",
       "       '[\\'\\', \\'Not provided by employer\\', \"$137K to $174K per year is Indeed\\'s estimated salary for data scientist in New York, NY.\"]'],\n",
       "      dtype=object)"
      ]
     },
     "execution_count": 13,
     "metadata": {},
     "output_type": "execute_result"
    }
   ],
   "source": [
    "data.sal_guide_items.unique()[:5]"
   ]
  },
  {
   "cell_type": "markdown",
   "metadata": {},
   "source": [
    "'salary_and_jtype' & 'salfromsection'\\\n",
    "These will be wrangled in much the same way. The only other pertinent information in these features would be the job_type data already found in job_type_items,"
   ]
  },
  {
   "cell_type": "code",
   "execution_count": 14,
   "metadata": {},
   "outputs": [
    {
     "data": {
      "text/plain": [
       "array(['$145,000 - $150,000 a year -  Full-time', 'Full-time',\n",
       "       '$77,766 - $183,411 a year -  Full-time, Part-time'], dtype=object)"
      ]
     },
     "execution_count": 14,
     "metadata": {},
     "output_type": "execute_result"
    }
   ],
   "source": [
    "data.salary_and_jtype.unique()[:3]"
   ]
  },
  {
   "cell_type": "code",
   "execution_count": 15,
   "metadata": {},
   "outputs": [
    {
     "data": {
      "text/plain": [
       "array(['$145,000 - $150,000 a year', nan, '$77,766 - $183,411 a year',\n",
       "       '$60 - $70 an hour', '$87,600 - $131,400 a year'], dtype=object)"
      ]
     },
     "execution_count": 15,
     "metadata": {},
     "output_type": "execute_result"
    }
   ],
   "source": [
    "data.salfromsection.unique()[:5]"
   ]
  },
  {
   "cell_type": "markdown",
   "metadata": {},
   "source": [
    "'salary'\\\n",
    "Several different approaches will need to be used to extract salary information from this feature because employers provide this information themselves.\n",
    "For one example, the pay periods of hour, day, week etc will need to be scaled to an anuual scale so I can have a standard scale to start wiith.\n",
    "The salary ranges also appear here, so I'll be extracting numeric string characters, converting them into floats representing the lower and upper bounds of each range, and taking their medaian value."
   ]
  },
  {
   "cell_type": "code",
   "execution_count": 16,
   "metadata": {},
   "outputs": [
    {
     "data": {
      "text/plain": [
       "array(['$145,000 - $150,000 a year', nan, '$77,766 - $183,411 a year',\n",
       "       '$60 - $70 an hour', '$87,600 - $131,400 a year'], dtype=object)"
      ]
     },
     "execution_count": 16,
     "metadata": {},
     "output_type": "execute_result"
    }
   ],
   "source": [
    "data.salary.unique()[:5]"
   ]
  },
  {
   "cell_type": "markdown",
   "metadata": {},
   "source": [
    "'extractdate' & 'postdate'\\\n",
    "extract_date is a string showing the day the record was webscrapped.\n",
    "post_date is a string description of the relative age of each post from the date it was posted to the day it was webscrapped.\n",
    "Converting post_date to a number will give me the the posts ae, which I'll then subtract from it's extract date in order to build a new feature carrying values for the DATE each job posting has been submitted to Indeed.com.\n"
   ]
  },
  {
   "cell_type": "code",
   "execution_count": 17,
   "metadata": {},
   "outputs": [
    {
     "data": {
      "text/plain": [
       "array(['PostedJust posted', 'PostedToday', 'Hiring ongoing',\n",
       "       'Posted1 day ago'], dtype=object)"
      ]
     },
     "execution_count": 17,
     "metadata": {},
     "output_type": "execute_result"
    }
   ],
   "source": [
    "data.postdate.unique()[:5]"
   ]
  },
  {
   "cell_type": "code",
   "execution_count": 18,
   "metadata": {},
   "outputs": [
    {
     "data": {
      "text/plain": [
       "array(['2022-04-13', '2022-04-14', '2022-04-15', '2022-04-17',\n",
       "       '2022-04-19'], dtype=object)"
      ]
     },
     "execution_count": 18,
     "metadata": {},
     "output_type": "execute_result"
    }
   ],
   "source": [
    "data.extractdate.unique()[:5]"
   ]
  },
  {
   "cell_type": "markdown",
   "metadata": {},
   "source": [
    "'job_type_items'\\\n",
    "    I'm going to treat these as likert values, converrting each of these string formatted lists into an ordinal values for a new column.\n"
   ]
  },
  {
   "cell_type": "code",
   "execution_count": 19,
   "metadata": {},
   "outputs": [
    {
     "data": {
      "text/plain": [
       "array([\"['Full-time']\", nan, \"['Full-time', 'Part-time']\",\n",
       "       \"['Full-time', 'Contract']\", \"['Full-time', 'Temporary']\"],\n",
       "      dtype=object)"
      ]
     },
     "execution_count": 19,
     "metadata": {},
     "output_type": "execute_result"
    }
   ],
   "source": [
    "data.job_type_items.unique()"
   ]
  },
  {
   "cell_type": "markdown",
   "metadata": {},
   "source": [
    "'location'\\\n",
    "This feature holds a wealth of information: state, city/remote, and in some cases a zip code.\n",
    "Zip codes seem to be a recent addition to the information I can get from Indeed.com but since its presence is rather sparse I'll just extract city/remote and state values, splitting them into their respective columns."
   ]
  },
  {
   "cell_type": "code",
   "execution_count": 20,
   "metadata": {},
   "outputs": [
    {
     "data": {
      "text/plain": [
       "array(['Remote', 'Remote in New York, NY+2 locations',\n",
       "       'Remote in Seattle, WA', 'Remote in New York, NY',\n",
       "       'Remote in Washington, DC 20036'], dtype=object)"
      ]
     },
     "execution_count": 20,
     "metadata": {},
     "output_type": "execute_result"
    }
   ],
   "source": [
    "data.location.unique()[:5]"
   ]
  },
  {
   "cell_type": "markdown",
   "metadata": {},
   "source": [
    "'rating'\\\n",
    "As the only feature coming in with numeric (float) values I should just need to scale it. I'll address missing values by imputing zero. The rationale behind this is that an unrated company should simply be rated as zero."
   ]
  },
  {
   "cell_type": "code",
   "execution_count": 21,
   "metadata": {},
   "outputs": [
    {
     "name": "stdout",
     "output_type": "stream",
     "text": [
      "[3.5, 3.7, nan, 1.5, 2.0, 2.5, 2.6, 2.9, 3.0, 3.2, 3.3, 3.4, 3.6, 3.8, 3.9, 4.0, 4.1, 4.2, 4.3, 4.4, 4.5, 4.6, 5.0]\n"
     ]
    }
   ],
   "source": [
    "print(sorted(data.rating.unique()))"
   ]
  },
  {
   "cell_type": "markdown",
   "metadata": {},
   "source": [
    "'raw_desc_soup'\\\n",
    "I'm only saving this in case I refine or change my parsing. Below is a truncated slice of one of the raw records."
   ]
  },
  {
   "cell_type": "code",
   "execution_count": 22,
   "metadata": {},
   "outputs": [
    {
     "data": {
      "text/plain": [
       "'<!DOCTYPE html>\\n\\n<html dir=\"ltr\" lang=\"en\">\\n<head>\\n<script crossorigin=\"anonymous\" defer=\"\" src=\"//d3fw5vlhllyvee.cloudfront.net/m/s/d33a2798ce09eea9cc81/scripts/viewjob.js\"></script>\\n<title>Data Scientist, BotGuard - New York, NY - Indeed.com</title><meta charset=\"utf-8\"/><meta content=\"ie=edge\" http-equiv=\"x-ua-compatible\"/><meta content=\"notranslate\" name=\"google\"/><meta content=\"width=device-width, initial-scale=1\" name=\"viewport\"/><meta content=\"noindex\" name=\"robots\"/><meta content=\"https://www.indeed.com/viewjob?from=appsharedroid&amp;jk=58cdde046f64371c\" id=\"indeed-share-url\"/><meta content=\"Data Scientist, BotGuard\" id=\"indeed-share-message\"/><meta content=\"simple\" id=\"indeed-share-type\"/><meta content=\"Data Scientist, BotGuard - New York, NY - Indeed.com\" property=\"og:title\"/><meta content=\"Data Scientist, BotGuard - New York, NY - Indeed.com\" name=\"twitter:title\"/><meta content=\"summary_large_image\" name=\"twitter:card\"/><meta content=\"@indeed\" name=\"twitter:site\"/><meta cont'"
      ]
     },
     "execution_count": 22,
     "metadata": {},
     "output_type": "execute_result"
    }
   ],
   "source": [
    "data.raw_desc_soup[1][:1000]"
   ]
  },
  {
   "cell_type": "markdown",
   "metadata": {},
   "source": [
    "'requirements'\\\n",
    "I will most likely merge this in with the description prior to conducting NLP. The rationale is that these explicit requirements may be echoed in the description or summary, so by adding them to the corpus I'll raise the scores derived from their increaseed frequency. Eventually I wiuld like to build a set of requirements that I can use in with a clustering algorithm, like KNN, to find/define subgroups within the sample population."
   ]
  },
  {
   "cell_type": "code",
   "execution_count": 23,
   "metadata": {},
   "outputs": [
    {
     "data": {
      "text/plain": [
       "\"Master's (Preferred)Python: 1 year (Preferred)SQL: 1 year (Preferred)\""
      ]
     },
     "execution_count": 23,
     "metadata": {},
     "output_type": "execute_result"
    }
   ],
   "source": [
    "data.requirements[0]"
   ]
  },
  {
   "cell_type": "markdown",
   "metadata": {},
   "source": [
    "'summary'\\\n",
    "Much like the description, these are unique. COming from the search results page itself, these are brief descriptions of each job. In most cases this is not merely an abridgement of the summary. Like 'requirement' I'll start by lumping these texts in with description so analysis of the corpus can be boosted by the added descriptions."
   ]
  },
  {
   "cell_type": "code",
   "execution_count": 24,
   "metadata": {},
   "outputs": [
    {
     "name": "stdout",
     "output_type": "stream",
     "text": [
      "Identify relevant data sources and data sets to deliver insights and analysis for business decision-making. Source, cleanse and verify data.\n",
      "You’ve worked as a data scientist solving large-scale data intensive problems in production systems (we process trillions of events per day, so literacy with…\n",
      "Our Analyst will be dealing with data coming in from BI platforms for Maya to analyze for marketing insights and predictions. Experience with Python and/or.\n"
     ]
    }
   ],
   "source": [
    "for i in data.summary[:3]:\n",
    "    print(i)"
   ]
  },
  {
   "cell_type": "markdown",
   "metadata": {},
   "source": [
    "'job_title'\\\n",
    "Although the webscrapper searches for 'data scientist' the results contain over 80 unique job titles. This is largely due to a prefix or suffix that provides the role's specialization at that particular company for that particular job posting. These include items like 'Marketing', 'Senior', 'Geospatial...'.\n",
    "I'll start by cleaning and simplifying these values, i.e. appearences of 'Sr' can be converted to 'Senior'. This will significantly reduce the number of unique values, hopefully increasing model accuracy."
   ]
  },
  {
   "cell_type": "code",
   "execution_count": 25,
   "metadata": {},
   "outputs": [
    {
     "name": "stdout",
     "output_type": "stream",
     "text": [
      "89\n"
     ]
    },
    {
     "data": {
      "text/plain": [
       "array(['Data Scientist - Marketing', 'Data Scientist, BotGuard',\n",
       "       'Data Scientist', 'MCS Data Scientist', 'Associate Data Scientist',\n",
       "       'Geospatial Data Scientist - Remote',\n",
       "       'Senior Data Analyst - Tour Support (Remote Eligible)',\n",
       "       'Data Scientist II', 'Sr. Data Scientist', 'Senior Data Analyst'],\n",
       "      dtype=object)"
      ]
     },
     "execution_count": 25,
     "metadata": {},
     "output_type": "execute_result"
    }
   ],
   "source": [
    "print(len(data.job_title.unique()))\n",
    "data.job_title.unique()[:10]"
   ]
  },
  {
   "cell_type": "markdown",
   "metadata": {},
   "source": [
    "'url'\\\n",
    "Like raw_doc_soup, I'm simply keeping these in case I need to go back and re-parse the raw data. In fact, this URL points directly to the page where that raw doc soup is found.\n",
    "I may also be able to detect job post updates and duplicates by using these unique addresses."
   ]
  },
  {
   "cell_type": "code",
   "execution_count": 26,
   "metadata": {},
   "outputs": [
    {
     "data": {
      "text/plain": [
       "'https://www.indeed.com/pagead/clk?mo=r&ad=-6NYlbfkN0CO3lo8tTSczNz5vS4BPhUQq5cXCmywFqjKhWVhQ5Cs0rpojEv2EMPlMF6RJyTPSWyz_jsR_97aGBu_tsR4MZoGXIHGV-TuTZJ1GgnqUTNh_NOmvL22DHTkffMgHPb4H3uAtf7OG1ZRk35vsaF_O6Cb3Eiu79RcVNJM7tHMXRpb6xuu2Nm87-f74oO85uzlaLUVKOnFDu6ZH2mz0qooDYDHNP3BDEPNpjBJdFQ0DVvzmu0A--5fpTpO94rB1SPmkHdCJI0NhRhSd3oG6nFNqu3O5HLbpHyM504ZKcnX7F84n9Et8MJyX-trWXNlhqtj721rXaQQLs9CdyQXTMmHDiXsmnkW_dUM0yXrvvsZokba5epb9xtM5aBupuhJ1UB5OuJ2A_jUdInPD-paiEWtaMb2rjllecKGVmOO2VURUVo5HSCgDzj4MJ2K4B3W4m_R0E0rltrIMrxtINKOjCzK-Mxv-6kL1DZjPYJo1ucmJ3Uobst5ADvtlCA1&p=0&fvj=1&vjs=3'"
      ]
     },
     "execution_count": 26,
     "metadata": {},
     "output_type": "execute_result"
    }
   ],
   "source": [
    "data.url[0]"
   ]
  },
  {
   "cell_type": "markdown",
   "metadata": {},
   "source": [
    "### 2.3 Wrangling & Feature Engineering\n",
    "Below are the implementations of the data wrangling steps I described above for each feature. Using Numpy, Regex, and Pandas I'll simutaneaously clean the strings, extract and convert numeric information, and create new feature columns."
   ]
  },
  {
   "cell_type": "code",
   "execution_count": 27,
   "metadata": {},
   "outputs": [],
   "source": [
    "\n",
    "def sal_chars(data):\n",
    "    \"\"\"When applied, substitutes '' for any listed special characters, \n",
    "\n",
    "    Args:\n",
    "        data (column values): I call this function on specific columns. Data, in this case, represents that column and its values.\n",
    "\n",
    "    Returns:\n",
    "        string: the original string values, sans any listed special characters.\n",
    "    \"\"\"\n",
    "    cleaned = re.sub(r'[\\n|,|+|$|[|$|\\'|\"]',r'',data)\n",
    "    return cleaned\n",
    "\n",
    "def sal_splitter(data):\n",
    "    \"\"\"Splits off salary information from a string formatted list\n",
    "\n",
    "    Args:\n",
    "        data (column values):  I call this function on specific columns. Data, in this case, represents that column and its values.\n",
    "\n",
    "    Returns:\n",
    "        string: returns the split containing salary information.\n",
    "    \"\"\"\n",
    "    x = data.split(',')\n",
    "    return x[2]\n",
    "\n",
    "def Pay_period(data):\n",
    "    \"\"\"Used in the creation of a temporary column that will be discarded once I use it to generate a annualized salary column.\n",
    "\n",
    "    Args:\n",
    "        data (string): I call this function on specific columns. Data, in this case, represents that column and its values.\n",
    "\n",
    "    Returns:\n",
    "        string: pay rate descripions\n",
    "    \"\"\"\n",
    "    z = ''\n",
    "    substrings = ['hour','day','week','year']\n",
    "    for i in substrings:\n",
    "        if i in data:\n",
    "            return i\n",
    "        else:\n",
    "            continue\n",
    "\n",
    "def jobtype(data):\n",
    "    \"\"\"Used for creating a new feature containing nominal values for the job type.\n",
    "\n",
    "    Args:\n",
    "        data (string): Values from the 'job_type_items' column.\n",
    "\n",
    "    Returns:\n",
    "        string: Extracted and simplified values for each category.\n",
    "    \"\"\"\n",
    "    if type(data) == str:\n",
    "        if re.search('full', data):\n",
    "            out = 'full'\n",
    "        if re.search('part', data):\n",
    "            out = 'part'\n",
    "        if re.search('contract', data):\n",
    "            out = 'contract'\n",
    "        if re.search('temp', data):\n",
    "            out = 'temp'\n",
    "        return out\n",
    "    else:\n",
    "        pass\n",
    "\n",
    "def annual(data):\n",
    "    \"\"\"Annualizes salary data\n",
    "\n",
    "    Args:\n",
    "        data (dataframe): the entire dataframe is passed through.\n",
    "\n",
    "    Returns:\n",
    "        string: In the new 'annual_sal' column, creates annualized salaries by multiplying them against the observed (and previously extracted) pay rates.\n",
    "    \"\"\"\n",
    "    data['annual_sal'] = np.nan\n",
    "    data['annual_sal'] = np.where(data['schedule'].str.contains(\"hour\"), data.salary*365/7*40, data['salary'])\n",
    "    #data['annual_sal'] = np.where(data['schedule'].str.contains(\"day\"), data['salary']*365/7*5, data['salary'])\n",
    "    #data['annual_sal'] = np.where(data['schedule'].str.contains(\"week\"), data['salary']*365/7, data['salary'])\n",
    "    #data['annual_sal'] = np.where(data['schedule'].str.contains(\"month\"), data['salary']*365/12, data['salary'])\n",
    "    #data['annual_sal'] = np.where(data['schedule'].str.contains(\"year\"), data['salary'], data['salary'])\n",
    "    return data\n",
    "\n",
    "def split_sal(i):\n",
    "    try:\n",
    "        lst = i.split('-',1)\n",
    "        x = lst[0]\n",
    "        y = lst[1]\n",
    "        \n",
    "        y = re.sub(r'[-]',r'',y)\n",
    "\n",
    "        return (float(x)+float(y))//2\n",
    "    except:\n",
    "        return i"
   ]
  },
  {
   "cell_type": "code",
   "execution_count": 28,
   "metadata": {},
   "outputs": [],
   "source": [
    "salary = data[data.salary.notnull()]\n",
    "data[['salary',]] = salary['salary'].apply(sal_chars)\n",
    "\n",
    "estimated_salary = data[data.estimated_salary.notnull()]\n",
    "data['estimated_salary'] = estimated_salary['estimated_salary'].apply(sal_chars)\n",
    "\n",
    "salfromsection = data[data.salfromsection.notnull()]\n",
    "data[['salfromsection',]] = salfromsection['salfromsection'].apply(sal_chars)\n",
    "\n",
    "salary_and_jtype = data[data.salfromsection.notnull()]\n",
    "data[['salary_and_jtype',]] = salary_and_jtype['salary_and_jtype'].apply(sal_chars)\n",
    "\n",
    "\n",
    "\n",
    "\n",
    "sal_guide_arr = data[data.sal_guide_items.notnull()]\n",
    "data[['sal_guide_items']] = sal_guide_arr['sal_guide_items'].apply(sal_splitter)\n",
    "\n",
    "sal_guide_arr = data[data.sal_guide_items.notnull()]\n",
    "data[['sal_guide_items']] = sal_guide_arr['sal_guide_items'].apply(sal_chars)\n",
    "\n",
    "\n",
    "estimated_salary = data[data['estimated_salary'].notnull()]\n",
    "data['Schedule1'] = estimated_salary['estimated_salary'].apply(Pay_period)\n",
    "\n",
    "sal_guide_items = data[data['sal_guide_items'].notnull()]\n",
    "data['Schedule2'] = sal_guide_items['sal_guide_items'].apply(Pay_period)\n",
    "\n",
    "salary = data[data['salary'].notnull()]\n",
    "data['Schedule3'] = salary['salary'].apply(Pay_period)\n",
    "\n",
    "salary_and_jtype = data[data['salary_and_jtype'].notnull()]\n",
    "data['Schedule4'] = salary_and_jtype['salary_and_jtype'].apply(Pay_period)\n",
    "\n",
    "salfromsection = data[data['salfromsection'].notnull()]\n",
    "data['Schedule5'] = salfromsection['salfromsection'].apply(Pay_period)\n",
    "\n",
    "val_cols = ['Schedule1','Schedule2','Schedule3','Schedule4','Schedule5']\n",
    "data['schedule'] = data[val_cols].bfill(axis=1).iloc[:, 0]\n",
    "data.drop(val_cols,inplace=True,axis=1)\n",
    "\n",
    "\n",
    "col = ['estimated_salary','sal_guide_items','salary','salary_and_jtype','salfromsection']\n",
    "for sal in col:\n",
    "    data[sal].replace('[^\\d\\-]','',regex=True, inplace = True)\n",
    "\n",
    "for sal in col:\n",
    "    data[sal] = data[sal].apply(lambda x:split_sal(x))\n",
    "\n",
    "data.rename(columns={'salary': 'sal'},inplace=True)\n",
    "\n",
    "col = ['estimated_salary','sal_guide_items','sal','salary_and_jtype','salfromsection']\n",
    "\n",
    "data['salary'] = data[col].bfill(axis=1).iloc[:, 0]\n",
    "data.drop(col,inplace=True,axis=1)\n",
    "\n",
    "data['salary'] = pd.to_numeric(data['salary'])\n",
    "\n",
    "\n",
    "cols = ['company','description', 'job_type_items','location','postdate','requirements',\t'summary','job_title']\n",
    "for txt_col in cols:\n",
    "    data[txt_col] = data[txt_col].str.lower()\n",
    "\n",
    "\n",
    "\n",
    "data['jobtype'] = data.job_type_items.apply(jobtype)\n",
    "\n",
    "data['text'] = data.description+' '+data.summary\n",
    "#TODO add requirements\n",
    "\n",
    "cols = ['job_type_items','raw_desc_soup','url','description','summary','requirements']\n",
    "data.drop(cols,inplace=True,axis=1)\n",
    "\n",
    "data.text = data.text.replace(')',' ')\n",
    "\n",
    "\n",
    "\n",
    "data = annual(data)\n",
    "#data.schedule.value_counts() keep and eye on this, may have to deal with more than just hourly"
   ]
  },
  {
   "cell_type": "markdown",
   "metadata": {},
   "source": [
    "Let's see what the data looks like at this point. It looks like the 17 original features have been reduced to 11. Most of the columns have been collapsed and cleaned, too. Just a bit more work till this is ready for EDA, NLP, and transformations."
   ]
  },
  {
   "cell_type": "code",
   "execution_count": 29,
   "metadata": {},
   "outputs": [
    {
     "data": {
      "text/html": [
       "<div>\n",
       "<style scoped>\n",
       "    .dataframe tbody tr th:only-of-type {\n",
       "        vertical-align: middle;\n",
       "    }\n",
       "\n",
       "    .dataframe tbody tr th {\n",
       "        vertical-align: top;\n",
       "    }\n",
       "\n",
       "    .dataframe thead th {\n",
       "        text-align: right;\n",
       "    }\n",
       "</style>\n",
       "<table border=\"1\" class=\"dataframe\">\n",
       "  <thead>\n",
       "    <tr style=\"text-align: right;\">\n",
       "      <th></th>\n",
       "      <th>company</th>\n",
       "      <th>extractdate</th>\n",
       "      <th>location</th>\n",
       "      <th>postdate</th>\n",
       "      <th>rating</th>\n",
       "      <th>job_title</th>\n",
       "      <th>schedule</th>\n",
       "      <th>salary</th>\n",
       "      <th>jobtype</th>\n",
       "      <th>text</th>\n",
       "      <th>annual_sal</th>\n",
       "    </tr>\n",
       "  </thead>\n",
       "  <tbody>\n",
       "    <tr>\n",
       "      <th>0</th>\n",
       "      <td>online technical services</td>\n",
       "      <td>2022-04-13</td>\n",
       "      <td>remote</td>\n",
       "      <td>postedjust posted</td>\n",
       "      <td>3.7</td>\n",
       "      <td>data scientist - marketing</td>\n",
       "      <td>year</td>\n",
       "      <td>147500.0</td>\n",
       "      <td>full</td>\n",
       "      <td>job descriptiondata scientist, marketingsan di...</td>\n",
       "      <td>147500.0</td>\n",
       "    </tr>\n",
       "    <tr>\n",
       "      <th>1</th>\n",
       "      <td>west cap</td>\n",
       "      <td>2022-04-13</td>\n",
       "      <td>remote in new york, ny+2 locations</td>\n",
       "      <td>postedjust posted</td>\n",
       "      <td>3.5</td>\n",
       "      <td>data scientist, botguard</td>\n",
       "      <td>year</td>\n",
       "      <td>114144.0</td>\n",
       "      <td>None</td>\n",
       "      <td>human was founded in 2012 in a brooklyn sci-fi...</td>\n",
       "      <td>114144.0</td>\n",
       "    </tr>\n",
       "    <tr>\n",
       "      <th>2</th>\n",
       "      <td>maya ai inc.</td>\n",
       "      <td>2022-04-13</td>\n",
       "      <td>remote</td>\n",
       "      <td>postedjust posted</td>\n",
       "      <td>NaN</td>\n",
       "      <td>data scientist</td>\n",
       "      <td>year</td>\n",
       "      <td>130588.0</td>\n",
       "      <td>part</td>\n",
       "      <td>our maya team is expanding and we are looking ...</td>\n",
       "      <td>130588.0</td>\n",
       "    </tr>\n",
       "    <tr>\n",
       "      <th>3</th>\n",
       "      <td>emergetech, inc</td>\n",
       "      <td>2022-04-13</td>\n",
       "      <td>remote</td>\n",
       "      <td>postedjust posted</td>\n",
       "      <td>NaN</td>\n",
       "      <td>data scientist</td>\n",
       "      <td>year</td>\n",
       "      <td>947120.0</td>\n",
       "      <td>None</td>\n",
       "      <td>description:job categorydata scienceabout emer...</td>\n",
       "      <td>947120.0</td>\n",
       "    </tr>\n",
       "    <tr>\n",
       "      <th>4</th>\n",
       "      <td>recurrent</td>\n",
       "      <td>2022-04-13</td>\n",
       "      <td>remote in seattle, wa</td>\n",
       "      <td>postedjust posted</td>\n",
       "      <td>NaN</td>\n",
       "      <td>data scientist</td>\n",
       "      <td>year</td>\n",
       "      <td>119151.0</td>\n",
       "      <td>None</td>\n",
       "      <td>what's the opportunity?recurrent is on a missi...</td>\n",
       "      <td>119151.0</td>\n",
       "    </tr>\n",
       "  </tbody>\n",
       "</table>\n",
       "</div>"
      ],
      "text/plain": [
       "                     company extractdate                            location  \\\n",
       "0  online technical services  2022-04-13                              remote   \n",
       "1                   west cap  2022-04-13  remote in new york, ny+2 locations   \n",
       "2               maya ai inc.  2022-04-13                              remote   \n",
       "3            emergetech, inc  2022-04-13                              remote   \n",
       "4                  recurrent  2022-04-13               remote in seattle, wa   \n",
       "\n",
       "            postdate  rating                   job_title schedule    salary  \\\n",
       "0  postedjust posted     3.7  data scientist - marketing     year  147500.0   \n",
       "1  postedjust posted     3.5    data scientist, botguard     year  114144.0   \n",
       "2  postedjust posted     NaN              data scientist     year  130588.0   \n",
       "3  postedjust posted     NaN              data scientist     year  947120.0   \n",
       "4  postedjust posted     NaN              data scientist     year  119151.0   \n",
       "\n",
       "  jobtype                                               text  annual_sal  \n",
       "0    full  job descriptiondata scientist, marketingsan di...    147500.0  \n",
       "1    None  human was founded in 2012 in a brooklyn sci-fi...    114144.0  \n",
       "2    part  our maya team is expanding and we are looking ...    130588.0  \n",
       "3    None  description:job categorydata scienceabout emer...    947120.0  \n",
       "4    None  what's the opportunity?recurrent is on a missi...    119151.0  "
      ]
     },
     "execution_count": 29,
     "metadata": {},
     "output_type": "execute_result"
    }
   ],
   "source": [
    "\n",
    "data.head()"
   ]
  },
  {
   "cell_type": "code",
   "execution_count": 30,
   "metadata": {},
   "outputs": [],
   "source": [
    "def postD(data):\n",
    "    \"\"\"Critical function that converts postdate values into relative (in days) distance from the extract date.\n",
    "\n",
    "    Args:\n",
    "        data (string): text descrption of how old the post is.\n",
    "\n",
    "    Returns:\n",
    "        npnan or int: numeric representation of post age\n",
    "    \"\"\"\n",
    "    if data != np.nan:\n",
    "        rid = ['active','%+ days ago','+']\n",
    "        for i in rid:\n",
    "            if i in data:\n",
    "                return np.nan\n",
    "        \n",
    "        rid2 = ['just posted','today','postedjust posted','postedtoday','hiring ongoing']\n",
    "        for i in rid2:\n",
    "            if i in data:\n",
    "                return 0   \n",
    "            \n",
    "        rid3 = ['posted1 day ago']\n",
    "        for i in rid3:\n",
    "            if i in data:\n",
    "                return 1\n",
    "\n",
    "\n",
    "    #data['dateposted'] = data['dateposted'].astype('int')\n",
    "    return data\n",
    "\n",
    "def pDate(row):\n",
    "    \"\"\"Subtracts the distance (in days) provided by the postD function.\n",
    "    Args:\n",
    "        row (record in the data): record\n",
    "\n",
    "    Returns:\n",
    "        datetime object: extract date - relative age = actual post date\n",
    "    \"\"\"\n",
    "\n",
    "    days_ago = row['dateposted']\n",
    "    delta = timedelta(days_ago)\n",
    "    try:\n",
    "        return row['extractdate'] - delta\n",
    "    except:\n",
    "        return row\n",
    "\n",
    "def sal_fixer(data):\n",
    "    \"\"\"Ensures that all salaries are on the same annualized scale.\n",
    "\n",
    "    Args:\n",
    "        data (float): values from the salary column\n",
    "\n",
    "    Returns:\n",
    "        float: annualized salary\n",
    "    \"\"\"\n",
    "    if type(data) != np.nan:\n",
    "        data = round(data,0)\n",
    "\n",
    "        if len(str(data)) <= 5:\n",
    "            data*=1000\n",
    "    else:\n",
    "        pass\n",
    "    return data"
   ]
  },
  {
   "cell_type": "code",
   "execution_count": 31,
   "metadata": {},
   "outputs": [],
   "source": [
    "data['dateposted'] = data.postdate.apply(postD)\n",
    "data['extractdate']= pd.to_datetime(data['extractdate'])\n",
    "\n",
    "data['dateposted'] = data.apply( lambda row : pDate(row), axis = 1)\n",
    "\n",
    "data.rating = data.rating.fillna(0)\n",
    "\n",
    "cols = ['extractdate','postdate','schedule','jobtype','salary']\n",
    "data.drop(cols,inplace=True,axis=1)\n",
    "data = data.rename({'annual_sal': 'salary'}, axis=1)\n",
    "\n",
    "data['salary'] = data['salary'].apply(sal_fixer)"
   ]
  },
  {
   "cell_type": "code",
   "execution_count": 32,
   "metadata": {},
   "outputs": [],
   "source": [
    "def states_(i):\n",
    "    \"\"\"Extracts state values from location\n",
    "\n",
    "    Args:\n",
    "        i (string): values from location\n",
    "\n",
    "    Returns:\n",
    "        string: extracted state value\n",
    "    \"\"\"\n",
    "    if ',' in i:\n",
    "        fix =  i.partition(',')[2].strip()\n",
    "        if len(fix) >2:\n",
    "            return fix[:2]\n",
    "        else:\n",
    "            return fix\n",
    "    if ',' not in i:\n",
    "        return i\n",
    "    elif 'remote' in i:\n",
    "        return 'remote'\n",
    "\n",
    "\n",
    "def cities_(i):\n",
    "    \"\"\"Extracts city values from location\n",
    "\n",
    "    Args:\n",
    "        i (string): values from location\n",
    "\n",
    "    Returns:\n",
    "        string: extracted city value\n",
    "    \"\"\"\n",
    "    if ',' in i:\n",
    "        return i.partition(',')[0]\n",
    "    if ',' not in i:\n",
    "        return i\n",
    "    elif 'remote' in i:\n",
    "        return 'remote'\n",
    "\n",
    "data['state'] = data.location.apply(states_)\n",
    "data['city'] = data[\"location\"].apply(cities_)\n",
    "#data[data.state.isnull()] = 'remote'"
   ]
  },
  {
   "cell_type": "markdown",
   "metadata": {},
   "source": [
    "### 2.4 Assessment"
   ]
  },
  {
   "cell_type": "code",
   "execution_count": 33,
   "metadata": {},
   "outputs": [
    {
     "name": "stdout",
     "output_type": "stream",
     "text": [
      "<class 'pandas.core.frame.DataFrame'>\n",
      "RangeIndex: 1515 entries, 0 to 1514\n",
      "Data columns (total 9 columns):\n",
      " #   Column      Non-Null Count  Dtype         \n",
      "---  ------      --------------  -----         \n",
      " 0   company     1515 non-null   object        \n",
      " 1   location    1515 non-null   object        \n",
      " 2   rating      1515 non-null   float64       \n",
      " 3   job_title   1515 non-null   object        \n",
      " 4   text        1515 non-null   object        \n",
      " 5   salary      1210 non-null   float64       \n",
      " 6   dateposted  1515 non-null   datetime64[ns]\n",
      " 7   state       1515 non-null   object        \n",
      " 8   city        1515 non-null   object        \n",
      "dtypes: datetime64[ns](1), float64(2), object(6)\n",
      "memory usage: 12.4 MB\n"
     ]
    },
    {
     "data": {
      "text/html": [
       "<div>\n",
       "<style scoped>\n",
       "    .dataframe tbody tr th:only-of-type {\n",
       "        vertical-align: middle;\n",
       "    }\n",
       "\n",
       "    .dataframe tbody tr th {\n",
       "        vertical-align: top;\n",
       "    }\n",
       "\n",
       "    .dataframe thead th {\n",
       "        text-align: right;\n",
       "    }\n",
       "</style>\n",
       "<table border=\"1\" class=\"dataframe\">\n",
       "  <thead>\n",
       "    <tr style=\"text-align: right;\">\n",
       "      <th></th>\n",
       "      <th>company</th>\n",
       "      <th>location</th>\n",
       "      <th>rating</th>\n",
       "      <th>job_title</th>\n",
       "      <th>text</th>\n",
       "      <th>salary</th>\n",
       "      <th>dateposted</th>\n",
       "      <th>state</th>\n",
       "      <th>city</th>\n",
       "    </tr>\n",
       "  </thead>\n",
       "  <tbody>\n",
       "    <tr>\n",
       "      <th>0</th>\n",
       "      <td>online technical services</td>\n",
       "      <td>remote</td>\n",
       "      <td>3.7</td>\n",
       "      <td>data scientist - marketing</td>\n",
       "      <td>job descriptiondata scientist, marketingsan di...</td>\n",
       "      <td>147500.0</td>\n",
       "      <td>2022-04-13</td>\n",
       "      <td>remote</td>\n",
       "      <td>remote</td>\n",
       "    </tr>\n",
       "    <tr>\n",
       "      <th>1</th>\n",
       "      <td>west cap</td>\n",
       "      <td>remote in new york, ny+2 locations</td>\n",
       "      <td>3.5</td>\n",
       "      <td>data scientist, botguard</td>\n",
       "      <td>human was founded in 2012 in a brooklyn sci-fi...</td>\n",
       "      <td>114144.0</td>\n",
       "      <td>2022-04-13</td>\n",
       "      <td>ny</td>\n",
       "      <td>remote in new york</td>\n",
       "    </tr>\n",
       "    <tr>\n",
       "      <th>2</th>\n",
       "      <td>maya ai inc.</td>\n",
       "      <td>remote</td>\n",
       "      <td>0.0</td>\n",
       "      <td>data scientist</td>\n",
       "      <td>our maya team is expanding and we are looking ...</td>\n",
       "      <td>130588.0</td>\n",
       "      <td>2022-04-13</td>\n",
       "      <td>remote</td>\n",
       "      <td>remote</td>\n",
       "    </tr>\n",
       "    <tr>\n",
       "      <th>3</th>\n",
       "      <td>emergetech, inc</td>\n",
       "      <td>remote</td>\n",
       "      <td>0.0</td>\n",
       "      <td>data scientist</td>\n",
       "      <td>description:job categorydata scienceabout emer...</td>\n",
       "      <td>947120.0</td>\n",
       "      <td>2022-04-13</td>\n",
       "      <td>remote</td>\n",
       "      <td>remote</td>\n",
       "    </tr>\n",
       "    <tr>\n",
       "      <th>4</th>\n",
       "      <td>recurrent</td>\n",
       "      <td>remote in seattle, wa</td>\n",
       "      <td>0.0</td>\n",
       "      <td>data scientist</td>\n",
       "      <td>what's the opportunity?recurrent is on a missi...</td>\n",
       "      <td>119151.0</td>\n",
       "      <td>2022-04-13</td>\n",
       "      <td>wa</td>\n",
       "      <td>remote in seattle</td>\n",
       "    </tr>\n",
       "  </tbody>\n",
       "</table>\n",
       "</div>"
      ],
      "text/plain": [
       "                     company                            location  rating  \\\n",
       "0  online technical services                              remote     3.7   \n",
       "1                   west cap  remote in new york, ny+2 locations     3.5   \n",
       "2               maya ai inc.                              remote     0.0   \n",
       "3            emergetech, inc                              remote     0.0   \n",
       "4                  recurrent               remote in seattle, wa     0.0   \n",
       "\n",
       "                    job_title  \\\n",
       "0  data scientist - marketing   \n",
       "1    data scientist, botguard   \n",
       "2              data scientist   \n",
       "3              data scientist   \n",
       "4              data scientist   \n",
       "\n",
       "                                                text    salary dateposted  \\\n",
       "0  job descriptiondata scientist, marketingsan di...  147500.0 2022-04-13   \n",
       "1  human was founded in 2012 in a brooklyn sci-fi...  114144.0 2022-04-13   \n",
       "2  our maya team is expanding and we are looking ...  130588.0 2022-04-13   \n",
       "3  description:job categorydata scienceabout emer...  947120.0 2022-04-13   \n",
       "4  what's the opportunity?recurrent is on a missi...  119151.0 2022-04-13   \n",
       "\n",
       "    state                city  \n",
       "0  remote              remote  \n",
       "1      ny  remote in new york  \n",
       "2  remote              remote  \n",
       "3  remote              remote  \n",
       "4      wa   remote in seattle  "
      ]
     },
     "execution_count": 33,
     "metadata": {},
     "output_type": "execute_result"
    }
   ],
   "source": [
    "data.info(memory_usage='deep')\n",
    "data.head()"
   ]
  },
  {
   "cell_type": "code",
   "execution_count": 34,
   "metadata": {},
   "outputs": [
    {
     "name": "stdout",
     "output_type": "stream",
     "text": [
      "The 1515 rows of data now have 9 variables whose values are now cleaned and typed properly.\n",
      "The only missing values are in Salary which is my target.\n",
      "Next, I'll conduct analysis, encoding, and scaling of each feature, starting with Salary which .\n"
     ]
    },
    {
     "data": {
      "text/html": [
       "<div>\n",
       "<style scoped>\n",
       "    .dataframe tbody tr th:only-of-type {\n",
       "        vertical-align: middle;\n",
       "    }\n",
       "\n",
       "    .dataframe tbody tr th {\n",
       "        vertical-align: top;\n",
       "    }\n",
       "\n",
       "    .dataframe thead th {\n",
       "        text-align: right;\n",
       "    }\n",
       "</style>\n",
       "<table border=\"1\" class=\"dataframe\">\n",
       "  <thead>\n",
       "    <tr style=\"text-align: right;\">\n",
       "      <th></th>\n",
       "      <th>company</th>\n",
       "      <th>location</th>\n",
       "      <th>rating</th>\n",
       "      <th>job_title</th>\n",
       "      <th>text</th>\n",
       "      <th>salary</th>\n",
       "      <th>dateposted</th>\n",
       "      <th>state</th>\n",
       "      <th>city</th>\n",
       "    </tr>\n",
       "  </thead>\n",
       "  <tbody>\n",
       "    <tr>\n",
       "      <th>count</th>\n",
       "      <td>1515</td>\n",
       "      <td>1515</td>\n",
       "      <td>1515.000000</td>\n",
       "      <td>1515</td>\n",
       "      <td>1515</td>\n",
       "      <td>1210.000000</td>\n",
       "      <td>1515</td>\n",
       "      <td>1515</td>\n",
       "      <td>1515</td>\n",
       "    </tr>\n",
       "    <tr>\n",
       "      <th>unique</th>\n",
       "      <td>97</td>\n",
       "      <td>83</td>\n",
       "      <td>NaN</td>\n",
       "      <td>88</td>\n",
       "      <td>173</td>\n",
       "      <td>NaN</td>\n",
       "      <td>7</td>\n",
       "      <td>30</td>\n",
       "      <td>51</td>\n",
       "    </tr>\n",
       "    <tr>\n",
       "      <th>top</th>\n",
       "      <td>sparkcognition</td>\n",
       "      <td>remote</td>\n",
       "      <td>NaN</td>\n",
       "      <td>data scientist</td>\n",
       "      <td>we are currently seeking a senior data scienti...</td>\n",
       "      <td>NaN</td>\n",
       "      <td>2022-04-16 00:00:00</td>\n",
       "      <td>remote</td>\n",
       "      <td>remote</td>\n",
       "    </tr>\n",
       "    <tr>\n",
       "      <th>freq</th>\n",
       "      <td>80</td>\n",
       "      <td>386</td>\n",
       "      <td>NaN</td>\n",
       "      <td>348</td>\n",
       "      <td>68</td>\n",
       "      <td>NaN</td>\n",
       "      <td>381</td>\n",
       "      <td>386</td>\n",
       "      <td>386</td>\n",
       "    </tr>\n",
       "    <tr>\n",
       "      <th>first</th>\n",
       "      <td>NaN</td>\n",
       "      <td>NaN</td>\n",
       "      <td>NaN</td>\n",
       "      <td>NaN</td>\n",
       "      <td>NaN</td>\n",
       "      <td>NaN</td>\n",
       "      <td>2022-04-13 00:00:00</td>\n",
       "      <td>NaN</td>\n",
       "      <td>NaN</td>\n",
       "    </tr>\n",
       "    <tr>\n",
       "      <th>last</th>\n",
       "      <td>NaN</td>\n",
       "      <td>NaN</td>\n",
       "      <td>NaN</td>\n",
       "      <td>NaN</td>\n",
       "      <td>NaN</td>\n",
       "      <td>NaN</td>\n",
       "      <td>2022-04-20 00:00:00</td>\n",
       "      <td>NaN</td>\n",
       "      <td>NaN</td>\n",
       "    </tr>\n",
       "    <tr>\n",
       "      <th>mean</th>\n",
       "      <td>NaN</td>\n",
       "      <td>NaN</td>\n",
       "      <td>2.521980</td>\n",
       "      <td>NaN</td>\n",
       "      <td>NaN</td>\n",
       "      <td>281597.949587</td>\n",
       "      <td>NaN</td>\n",
       "      <td>NaN</td>\n",
       "      <td>NaN</td>\n",
       "    </tr>\n",
       "    <tr>\n",
       "      <th>std</th>\n",
       "      <td>NaN</td>\n",
       "      <td>NaN</td>\n",
       "      <td>1.779933</td>\n",
       "      <td>NaN</td>\n",
       "      <td>NaN</td>\n",
       "      <td>266911.570832</td>\n",
       "      <td>NaN</td>\n",
       "      <td>NaN</td>\n",
       "      <td>NaN</td>\n",
       "    </tr>\n",
       "    <tr>\n",
       "      <th>min</th>\n",
       "      <td>NaN</td>\n",
       "      <td>NaN</td>\n",
       "      <td>0.000000</td>\n",
       "      <td>NaN</td>\n",
       "      <td>NaN</td>\n",
       "      <td>53672.000000</td>\n",
       "      <td>NaN</td>\n",
       "      <td>NaN</td>\n",
       "      <td>NaN</td>\n",
       "    </tr>\n",
       "    <tr>\n",
       "      <th>25%</th>\n",
       "      <td>NaN</td>\n",
       "      <td>NaN</td>\n",
       "      <td>0.000000</td>\n",
       "      <td>NaN</td>\n",
       "      <td>NaN</td>\n",
       "      <td>120000.000000</td>\n",
       "      <td>NaN</td>\n",
       "      <td>NaN</td>\n",
       "      <td>NaN</td>\n",
       "    </tr>\n",
       "    <tr>\n",
       "      <th>50%</th>\n",
       "      <td>NaN</td>\n",
       "      <td>NaN</td>\n",
       "      <td>3.500000</td>\n",
       "      <td>NaN</td>\n",
       "      <td>NaN</td>\n",
       "      <td>145000.000000</td>\n",
       "      <td>NaN</td>\n",
       "      <td>NaN</td>\n",
       "      <td>NaN</td>\n",
       "    </tr>\n",
       "    <tr>\n",
       "      <th>75%</th>\n",
       "      <td>NaN</td>\n",
       "      <td>NaN</td>\n",
       "      <td>3.900000</td>\n",
       "      <td>NaN</td>\n",
       "      <td>NaN</td>\n",
       "      <td>448000.000000</td>\n",
       "      <td>NaN</td>\n",
       "      <td>NaN</td>\n",
       "      <td>NaN</td>\n",
       "    </tr>\n",
       "    <tr>\n",
       "      <th>max</th>\n",
       "      <td>NaN</td>\n",
       "      <td>NaN</td>\n",
       "      <td>5.000000</td>\n",
       "      <td>NaN</td>\n",
       "      <td>NaN</td>\n",
       "      <td>954121.000000</td>\n",
       "      <td>NaN</td>\n",
       "      <td>NaN</td>\n",
       "      <td>NaN</td>\n",
       "    </tr>\n",
       "  </tbody>\n",
       "</table>\n",
       "</div>"
      ],
      "text/plain": [
       "               company location       rating       job_title  \\\n",
       "count             1515     1515  1515.000000            1515   \n",
       "unique              97       83          NaN              88   \n",
       "top     sparkcognition   remote          NaN  data scientist   \n",
       "freq                80      386          NaN             348   \n",
       "first              NaN      NaN          NaN             NaN   \n",
       "last               NaN      NaN          NaN             NaN   \n",
       "mean               NaN      NaN     2.521980             NaN   \n",
       "std                NaN      NaN     1.779933             NaN   \n",
       "min                NaN      NaN     0.000000             NaN   \n",
       "25%                NaN      NaN     0.000000             NaN   \n",
       "50%                NaN      NaN     3.500000             NaN   \n",
       "75%                NaN      NaN     3.900000             NaN   \n",
       "max                NaN      NaN     5.000000             NaN   \n",
       "\n",
       "                                                     text         salary  \\\n",
       "count                                                1515    1210.000000   \n",
       "unique                                                173            NaN   \n",
       "top     we are currently seeking a senior data scienti...            NaN   \n",
       "freq                                                   68            NaN   \n",
       "first                                                 NaN            NaN   \n",
       "last                                                  NaN            NaN   \n",
       "mean                                                  NaN  281597.949587   \n",
       "std                                                   NaN  266911.570832   \n",
       "min                                                   NaN   53672.000000   \n",
       "25%                                                   NaN  120000.000000   \n",
       "50%                                                   NaN  145000.000000   \n",
       "75%                                                   NaN  448000.000000   \n",
       "max                                                   NaN  954121.000000   \n",
       "\n",
       "                 dateposted   state    city  \n",
       "count                  1515    1515    1515  \n",
       "unique                    7      30      51  \n",
       "top     2022-04-16 00:00:00  remote  remote  \n",
       "freq                    381     386     386  \n",
       "first   2022-04-13 00:00:00     NaN     NaN  \n",
       "last    2022-04-20 00:00:00     NaN     NaN  \n",
       "mean                    NaN     NaN     NaN  \n",
       "std                     NaN     NaN     NaN  \n",
       "min                     NaN     NaN     NaN  \n",
       "25%                     NaN     NaN     NaN  \n",
       "50%                     NaN     NaN     NaN  \n",
       "75%                     NaN     NaN     NaN  \n",
       "max                     NaN     NaN     NaN  "
      ]
     },
     "execution_count": 34,
     "metadata": {},
     "output_type": "execute_result"
    }
   ],
   "source": [
    "shape = data.shape\n",
    "print(f\"The {shape[0]} rows of data now have {shape[1]} variables whose values are now cleaned and typed properly.\\nThe only missing values are in Salary which is my target.\\nNext, I'll conduct analysis, encoding, and scaling of each feature, starting with Salary which .\")\n",
    "data.describe(include = 'all')\n"
   ]
  },
  {
   "cell_type": "code",
   "execution_count": 35,
   "metadata": {},
   "outputs": [
    {
     "data": {
      "image/png": "[encoded data removed]",
      "text/plain": [
       "<Figure size 576x432 with 1 Axes>"
      ]
     },
     "metadata": {},
     "output_type": "display_data"
    }
   ],
   "source": [
    "sns.countplot(x='salary', data=data.notnull(), palette='Set3')\n",
    "plt.show()"
   ]
  },
  {
   "cell_type": "code",
   "execution_count": 48,
   "metadata": {},
   "outputs": [
    {
     "name": "stdout",
     "output_type": "stream",
     "text": [
      "79.87% of the data has salary information, should be an easy target\n"
     ]
    }
   ],
   "source": [
    "null = len(data[data.salary.isnull()])\n",
    "nnull = len(data[data.salary.notnull()])\n",
    "print(f'{round(nnull/len(data)*100,2)}% of the data has salary information, should be an easy target')"
   ]
  },
  {
   "cell_type": "code",
   "execution_count": null,
   "metadata": {},
   "outputs": [],
   "source": []
  },
  {
   "cell_type": "code",
   "execution_count": null,
   "metadata": {},
   "outputs": [],
   "source": [
    "\n"
   ]
  },
  {
   "cell_type": "code",
   "execution_count": null,
   "metadata": {},
   "outputs": [],
   "source": []
  },
  {
   "cell_type": "code",
   "execution_count": null,
   "metadata": {},
   "outputs": [],
   "source": []
  },
  {
   "cell_type": "code",
   "execution_count": null,
   "metadata": {},
   "outputs": [],
   "source": [
    "munged = data\n",
    "munged"
   ]
  },
  {
   "cell_type": "code",
   "execution_count": null,
   "metadata": {},
   "outputs": [],
   "source": [
    "null = len(munged[munged.salary.isnull()])\n",
    "nnull = len(munged[munged.salary.notnull()])\n",
    "print(f'Droping {len(data)-len(munged)} duplicates and out of date posts leaves {len(munged)} rows of data for the regressor to be trained and tested on.')\n",
    "print(f'- Of those {len(munged)} job postings {nnull} or {round(nnull/len(munged)*100,2)}% include salary information,\\n- The remaining {null} rows, or {round(null/len(munged)*100,2)}% are missing salary data.')"
   ]
  },
  {
   "cell_type": "markdown",
   "metadata": {},
   "source": [
    "## Detecting Outliers: Using both the Z-Score and IQR methods\n",
    "    Now that preprocessed the data and building the target variable of Salary let's see conduct a bit more EDA to see if there are any outliers that could potentially skew how the regressor will learn from the training data."
   ]
  },
  {
   "cell_type": "code",
   "execution_count": null,
   "metadata": {},
   "outputs": [],
   "source": [
    "ax = sns.pairplot(data=munged[munged.salary.notnull()],\n",
    "                  x_vars=['dateposted'],\n",
    "                  y_vars=['salary'], height=8, hue=\"salary\", palette=\"crest\")\n",
    "\n",
    "ax.fig.set_size_inches(18,4)"
   ]
  },
  {
   "cell_type": "markdown",
   "metadata": {},
   "source": [
    "A plot is helpful in isualizing data, but let's program a few functions to detect and remove outliers based on thresholds.\n",
    "With the Z-Score, we can determine any data outside 3 standard deviations from the mean of our salary data to be an outlier.\n",
    "Wheras with the interquartile (IQR) range, the middle 50% of given salaries, I'll set the conventional cutoff of 1.5+/- the IQR as the cutoff.\n",
    "Values found outside of either range will be collected into a list and that'll allow for some fancy indexing so those particular postings can be examined and removed programatically."
   ]
  },
  {
   "cell_type": "markdown",
   "metadata": {},
   "source": [
    "#### Z-Score\n",
    "Salaries 3 standard deviations away from the mean will be listed as outliers."
   ]
  },
  {
   "cell_type": "code",
   "execution_count": null,
   "metadata": {},
   "outputs": [],
   "source": [
    "outliers = []\n",
    "def z_detect(munged):\n",
    "    sample = munged[munged['salary'].notnull()].salary\n",
    "    threshold=3\n",
    "    mean = np.mean(sample)\n",
    "    std = np.std(sample)\n",
    "    \n",
    "    for i in sample:\n",
    "        z_score = (i-mean)/std\n",
    "        if np.abs(z_score) > threshold:\n",
    "            outliers.append(i)\n",
    "    if len(outliers) == 0:\n",
    "        pass\n",
    "    else:\n",
    "        return outliers\n",
    "z_detect(munged)"
   ]
  },
  {
   "cell_type": "markdown",
   "metadata": {},
   "source": [
    "#### IQR\n",
    "Salaries outside 1.5 times the interquartile range boundaries, either above or below will be listed as outliers."
   ]
  },
  {
   "cell_type": "code",
   "execution_count": null,
   "metadata": {},
   "outputs": [],
   "source": [
    "def iqr_detect(munged):\n",
    "    sample = munged[munged['salary'].notnull()].salary\n",
    "    Q1, Q3 = np.percentile(sample,[25,75])\n",
    "    iqr = Q3-Q1\n",
    "    lower_bound = Q1-(1.5*iqr)\n",
    "    upper_bound = Q3+(1.5*iqr)\n",
    "    for i in sample:\n",
    "        if (i < lower_bound)  | (i > upper_bound):\n",
    "            outliers.append(i)\n",
    "    if len(outliers) == 0:\n",
    "        pass\n",
    "    else:\n",
    "        return outliers\n",
    "set(iqr_detect(munged))"
   ]
  },
  {
   "cell_type": "code",
   "execution_count": null,
   "metadata": {},
   "outputs": [],
   "source": [
    "def unique(list1):\n",
    "    list_set = set(list1)\n",
    "    # convert the set to the list\n",
    "    unique_list = (list(list_set))\n",
    "    for x in unique_list:\n",
    "        print(x)\n",
    "        \n",
    "mn = min(outliers)\n",
    "mx = max(outliers)\n",
    "print(f'The {len(set(outliers))} Unique Outliers Are:')\n",
    "unique(outliers)\n",
    "print(f'- With a minumum of ${round(mn)} and a maximum of ${round(mx)}')"
   ]
  },
  {
   "cell_type": "code",
   "execution_count": null,
   "metadata": {},
   "outputs": [],
   "source": [
    "# Take a look at those tables.\n",
    "\n",
    "outliers = munged[munged['salary'].isin(outliers)]\n",
    "munged.drop(outliers.index, axis=0,inplace=True)\n",
    "outliers"
   ]
  },
  {
   "cell_type": "code",
   "execution_count": null,
   "metadata": {},
   "outputs": [],
   "source": [
    "null = len(munged[munged.salary.isnull()])\n",
    "nnull = len(munged[munged.salary.notnull()])"
   ]
  },
  {
   "cell_type": "code",
   "execution_count": null,
   "metadata": {},
   "outputs": [],
   "source": [
    "ax = sns.pairplot(data=munged[munged.salary.notnull()],\n",
    "                  x_vars=['dateposted'],\n",
    "                  y_vars=['salary'], height=8, hue=\"salary\", palette=\"crest\")\n",
    "\n",
    "ax.fig.set_size_inches(18,4)"
   ]
  },
  {
   "cell_type": "code",
   "execution_count": null,
   "metadata": {},
   "outputs": [],
   "source": [
    "sns.countplot(x='salary', data=munged.notnull(), palette='Set3')\n",
    "print(f'- Dropping {len(outliers)} outliers now leaves {nnull}, or {round(nnull/len(munged)*100,2)}%, of rows with with salary information,\\n- The remaining {null} rows, or {round(null/len(munged)*100,2)}%, are missing salary data.')\n"
   ]
  },
  {
   "cell_type": "code",
   "execution_count": null,
   "metadata": {},
   "outputs": [],
   "source": [
    "munged.info()"
   ]
  },
  {
   "cell_type": "code",
   "execution_count": null,
   "metadata": {},
   "outputs": [],
   "source": [
    "munged.to_csv(f'../app/data/wrangled_data.csv', index=False)"
   ]
  },
  {
   "cell_type": "code",
   "execution_count": null,
   "metadata": {},
   "outputs": [],
   "source": [
    "munged.info()"
   ]
  },
  {
   "cell_type": "code",
   "execution_count": null,
   "metadata": {},
   "outputs": [],
   "source": [
    "munged.info(memory_usage='deep')"
   ]
  },
  {
   "cell_type": "code",
   "execution_count": null,
   "metadata": {},
   "outputs": [],
   "source": [
    "munged.drop('location',inplace=True,axis=1)"
   ]
  },
  {
   "cell_type": "code",
   "execution_count": null,
   "metadata": {},
   "outputs": [],
   "source": [
    "munged.info(memory_usage='deep')"
   ]
  },
  {
   "cell_type": "code",
   "execution_count": null,
   "metadata": {},
   "outputs": [],
   "source": []
  },
  {
   "cell_type": "code",
   "execution_count": null,
   "metadata": {},
   "outputs": [],
   "source": []
  }
 ],
 "metadata": {
  "interpreter": {
   "hash": "ac83f05b37eb5c5c49ba67e50f0047ddfbc4b30205fc79ee5f327b9c0ac37f55"
  },
  "kernelspec": {
   "display_name": "Python 3.8.10 ('indeedapp')",
   "language": "python",
   "name": "python3"
  },
  "language_info": {
   "codemirror_mode": {
    "name": "ipython",
    "version": 3
   },
   "file_extension": ".py",
   "mimetype": "text/x-python",
   "name": "python",
   "nbconvert_exporter": "python",
   "pygments_lexer": "ipython3",
   "version": "3.8.10"
  },
  "metadata": {
   "interpreter": {
    "hash": "46216370387cf43888a1dc9433c5a4546bda9feed2ad4f35c2a851da9960dc54"
   }
  }
 },
 "nbformat": 4,
 "nbformat_minor": 4
}
