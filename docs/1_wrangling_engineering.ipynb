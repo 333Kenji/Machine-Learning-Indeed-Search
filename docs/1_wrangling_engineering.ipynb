{
 "cells": [
  {
   "cell_type": "code",
   "execution_count": 1,
   "metadata": {},
   "outputs": [],
   "source": [
    "import numpy as np\n",
    "import pandas as pd\n",
    "from scipy.stats import norm\n",
    "from sklearn.preprocessing import OneHotEncoder, OrdinalEncoder, StandardScaler, MinMaxScaler\n",
    "\n",
    "\n",
    "import re\n",
    "from datetime import datetime, date, timedelta\n",
    "\n",
    "\n",
    "import matplotlib.pyplot as plt\n",
    "import seaborn as sns\n",
    "from to_img import to_img\n",
    "\n",
    "\n",
    "\n",
    "plt.rcParams['figure.figsize'] = (8, 6)\n",
    "plt.rcParams['font.size'] = 17\n",
    "import warnings # current version of seaborn generates a bunch of warnings that we'll ignore\n",
    "warnings.filterwarnings(\"ignore\")\n",
    "sns.set(style=\"ticks\", color_codes=True)"
   ]
  },
  {
   "cell_type": "markdown",
   "metadata": {},
   "source": [
    "## 1. Data\n",
    "\n",
    "The data consists of text scraped from every search result for 'data science/scientist' on Indeed.com using the [Requests](https://docs.python-requests.org/en/master/ \"Requests Library\"), Tor, and [BeautifulSoup](https://www.crummy.com/software/BeautifulSoup/bs4/doc/ \"BeautifulSoup\") libraries.\n",
    "\n",
    "### 1.1 Load and Inspect Table"
   ]
  },
  {
   "cell_type": "code",
   "execution_count": 2,
   "metadata": {},
   "outputs": [
    {
     "name": "stdout",
     "output_type": "stream",
     "text": [
      "1128\n",
      "<class 'pandas.core.frame.DataFrame'>\n",
      "RangeIndex: 1128 entries, 0 to 1127\n",
      "Data columns (total 14 columns):\n",
      " #   Column            Non-Null Count  Dtype  \n",
      "---  ------            --------------  -----  \n",
      " 0   company           1128 non-null   object \n",
      " 1   description       1123 non-null   object \n",
      " 2   estimated_salary  207 non-null    object \n",
      " 3   extractDate       1128 non-null   object \n",
      " 4   job_type_items    142 non-null    object \n",
      " 5   location          1128 non-null   object \n",
      " 6   postDate          1128 non-null   object \n",
      " 7   rating            957 non-null    float64\n",
      " 8   raw_desc_soup     1124 non-null   object \n",
      " 9   requirements      59 non-null     object \n",
      " 10  salary            708 non-null    object \n",
      " 11  summary           1128 non-null   object \n",
      " 12  title             1128 non-null   object \n",
      " 13  url               1128 non-null   object \n",
      "dtypes: float64(1), object(13)\n",
      "memory usage: 559.9 MB\n"
     ]
    },
    {
     "data": {
      "text/html": [
       "<div>\n",
       "<style scoped>\n",
       "    .dataframe tbody tr th:only-of-type {\n",
       "        vertical-align: middle;\n",
       "    }\n",
       "\n",
       "    .dataframe tbody tr th {\n",
       "        vertical-align: top;\n",
       "    }\n",
       "\n",
       "    .dataframe thead th {\n",
       "        text-align: right;\n",
       "    }\n",
       "</style>\n",
       "<table border=\"1\" class=\"dataframe\">\n",
       "  <thead>\n",
       "    <tr style=\"text-align: right;\">\n",
       "      <th></th>\n",
       "      <th>company</th>\n",
       "      <th>description</th>\n",
       "      <th>estimated_salary</th>\n",
       "      <th>extractDate</th>\n",
       "      <th>job_type_items</th>\n",
       "      <th>location</th>\n",
       "      <th>postDate</th>\n",
       "      <th>rating</th>\n",
       "      <th>raw_desc_soup</th>\n",
       "      <th>requirements</th>\n",
       "      <th>salary</th>\n",
       "      <th>summary</th>\n",
       "      <th>title</th>\n",
       "      <th>url</th>\n",
       "    </tr>\n",
       "  </thead>\n",
       "  <tbody>\n",
       "    <tr>\n",
       "      <th>0</th>\n",
       "      <td>Regions</td>\n",
       "      <td>Thank you for your interest in a career at Reg...</td>\n",
       "      <td>NaN</td>\n",
       "      <td>2022-06-23</td>\n",
       "      <td>NaN</td>\n",
       "      <td>Remote in Birmingham, AL 35203</td>\n",
       "      <td>PostedJust posted</td>\n",
       "      <td>3.5</td>\n",
       "      <td>&lt;!DOCTYPE html&gt;\\n\\n&lt;html dir=\"ltr\" lang=\"en\"&gt;\\...</td>\n",
       "      <td>NaN</td>\n",
       "      <td>Full-time</td>\n",
       "      <td>Draws insights from data to make quick, well i...</td>\n",
       "      <td>Data Scientist(REMOTE)</td>\n",
       "      <td>https://www.indeed.com/rc/clk?jk=50d4c207a2b5f...</td>\n",
       "    </tr>\n",
       "    <tr>\n",
       "      <th>1</th>\n",
       "      <td>Protective Life Corporation</td>\n",
       "      <td>The work we do has an impact on millions of...</td>\n",
       "      <td>['', 'Not provided by employer', \"$78.5K - $99...</td>\n",
       "      <td>2022-06-23</td>\n",
       "      <td>NaN</td>\n",
       "      <td>Birmingham, AL</td>\n",
       "      <td>PostedToday</td>\n",
       "      <td>3.6</td>\n",
       "      <td>&lt;!DOCTYPE html&gt;\\n\\n&lt;html dir=\"ltr\" lang=\"en\"&gt;\\...</td>\n",
       "      <td>NaN</td>\n",
       "      <td>Full-time</td>\n",
       "      <td>As an Associate Data Scientist, you will work ...</td>\n",
       "      <td>Associate Data Scientist</td>\n",
       "      <td>https://www.indeed.com/rc/clk?jk=6a1ee4df8a406...</td>\n",
       "    </tr>\n",
       "    <tr>\n",
       "      <th>2</th>\n",
       "      <td>Modern Technology Solutions, Inc.</td>\n",
       "      <td>Overview:  Modern Technology Solutions, Inc. ...</td>\n",
       "      <td>['', 'Not provided by employer', \"$109K - $138...</td>\n",
       "      <td>2022-06-23</td>\n",
       "      <td>NaN</td>\n",
       "      <td>Huntsville, AL 35806</td>\n",
       "      <td>PostedToday</td>\n",
       "      <td>4.5</td>\n",
       "      <td>&lt;!DOCTYPE html&gt;\\n\\n&lt;html dir=\"ltr\" lang=\"en\"&gt;\\...</td>\n",
       "      <td>NaN</td>\n",
       "      <td>Part-time</td>\n",
       "      <td>We offer other employee focused benefits, incl...</td>\n",
       "      <td>Senior Airworthiness Engineer – Complex Softwa...</td>\n",
       "      <td>https://www.indeed.com/rc/clk?jk=0f8c60ed2c842...</td>\n",
       "    </tr>\n",
       "    <tr>\n",
       "      <th>3</th>\n",
       "      <td>LOCKHEED MARTIN CORPORATION</td>\n",
       "      <td>COVID-19 continues to significantly impact ou...</td>\n",
       "      <td>NaN</td>\n",
       "      <td>2022-06-23</td>\n",
       "      <td>NaN</td>\n",
       "      <td>Huntsville, AL 35805</td>\n",
       "      <td>PostedToday</td>\n",
       "      <td>4.0</td>\n",
       "      <td>&lt;!DOCTYPE html&gt;\\n\\n&lt;html dir=\"ltr\" lang=\"en\"&gt;\\...</td>\n",
       "      <td>NaN</td>\n",
       "      <td>NaN</td>\n",
       "      <td>Work on datasets with applied statistics and m...</td>\n",
       "      <td>Data Scientist</td>\n",
       "      <td>https://www.indeed.com/rc/clk?jk=44f2b2a37f2c9...</td>\n",
       "    </tr>\n",
       "    <tr>\n",
       "      <th>4</th>\n",
       "      <td>ITAC Solutions</td>\n",
       "      <td>ITAC is assisting a local Birmingham client in...</td>\n",
       "      <td>['', 'Not provided by employer', \"$93.1K - $11...</td>\n",
       "      <td>2022-06-23</td>\n",
       "      <td>NaN</td>\n",
       "      <td>Remote in Birmingham, AL 35242</td>\n",
       "      <td>PostedToday</td>\n",
       "      <td>4.1</td>\n",
       "      <td>&lt;!DOCTYPE html&gt;\\n\\n&lt;html dir=\"ltr\" lang=\"en\"&gt;\\...</td>\n",
       "      <td>NaN</td>\n",
       "      <td>NaN</td>\n",
       "      <td>Lead exploratory data analysis to support adva...</td>\n",
       "      <td>Sr. Data Analyst</td>\n",
       "      <td>https://www.indeed.com/pagead/clk?mo=r&amp;ad=-6NY...</td>\n",
       "    </tr>\n",
       "  </tbody>\n",
       "</table>\n",
       "</div>"
      ],
      "text/plain": [
       "                             company  \\\n",
       "0                            Regions   \n",
       "1        Protective Life Corporation   \n",
       "2  Modern Technology Solutions, Inc.   \n",
       "3        LOCKHEED MARTIN CORPORATION   \n",
       "4                     ITAC Solutions   \n",
       "\n",
       "                                         description  \\\n",
       "0  Thank you for your interest in a career at Reg...   \n",
       "1     The work we do has an impact on millions of...   \n",
       "2   Overview:  Modern Technology Solutions, Inc. ...   \n",
       "3   COVID-19 continues to significantly impact ou...   \n",
       "4  ITAC is assisting a local Birmingham client in...   \n",
       "\n",
       "                                    estimated_salary extractDate  \\\n",
       "0                                                NaN  2022-06-23   \n",
       "1  ['', 'Not provided by employer', \"$78.5K - $99...  2022-06-23   \n",
       "2  ['', 'Not provided by employer', \"$109K - $138...  2022-06-23   \n",
       "3                                                NaN  2022-06-23   \n",
       "4  ['', 'Not provided by employer', \"$93.1K - $11...  2022-06-23   \n",
       "\n",
       "  job_type_items                        location           postDate  rating  \\\n",
       "0            NaN  Remote in Birmingham, AL 35203  PostedJust posted     3.5   \n",
       "1            NaN                  Birmingham, AL        PostedToday     3.6   \n",
       "2            NaN            Huntsville, AL 35806        PostedToday     4.5   \n",
       "3            NaN            Huntsville, AL 35805        PostedToday     4.0   \n",
       "4            NaN  Remote in Birmingham, AL 35242        PostedToday     4.1   \n",
       "\n",
       "                                       raw_desc_soup requirements     salary  \\\n",
       "0  <!DOCTYPE html>\\n\\n<html dir=\"ltr\" lang=\"en\">\\...          NaN  Full-time   \n",
       "1  <!DOCTYPE html>\\n\\n<html dir=\"ltr\" lang=\"en\">\\...          NaN  Full-time   \n",
       "2  <!DOCTYPE html>\\n\\n<html dir=\"ltr\" lang=\"en\">\\...          NaN  Part-time   \n",
       "3  <!DOCTYPE html>\\n\\n<html dir=\"ltr\" lang=\"en\">\\...          NaN        NaN   \n",
       "4  <!DOCTYPE html>\\n\\n<html dir=\"ltr\" lang=\"en\">\\...          NaN        NaN   \n",
       "\n",
       "                                             summary  \\\n",
       "0  Draws insights from data to make quick, well i...   \n",
       "1  As an Associate Data Scientist, you will work ...   \n",
       "2  We offer other employee focused benefits, incl...   \n",
       "3  Work on datasets with applied statistics and m...   \n",
       "4  Lead exploratory data analysis to support adva...   \n",
       "\n",
       "                                               title  \\\n",
       "0                             Data Scientist(REMOTE)   \n",
       "1                           Associate Data Scientist   \n",
       "2  Senior Airworthiness Engineer – Complex Softwa...   \n",
       "3                                     Data Scientist   \n",
       "4                                   Sr. Data Analyst   \n",
       "\n",
       "                                                 url  \n",
       "0  https://www.indeed.com/rc/clk?jk=50d4c207a2b5f...  \n",
       "1  https://www.indeed.com/rc/clk?jk=6a1ee4df8a406...  \n",
       "2  https://www.indeed.com/rc/clk?jk=0f8c60ed2c842...  \n",
       "3  https://www.indeed.com/rc/clk?jk=44f2b2a37f2c9...  \n",
       "4  https://www.indeed.com/pagead/clk?mo=r&ad=-6NY...  "
      ]
     },
     "execution_count": 2,
     "metadata": {},
     "output_type": "execute_result"
    }
   ],
   "source": [
    "# note the change in memory usage.\n",
    "data = pd.read_csv('../app/data/total.csv')\n",
    "print(len(data))\n",
    "data.info(memory_usage='deep')\n",
    "data.head()"
   ]
  },
  {
   "cell_type": "markdown",
   "metadata": {},
   "source": [
    "The following table is a view of the raw data from the scrape. I'll build the target by reducing the pay column to floating point values; this will require text cleaning which will also be conducted for the rest of the table. Location will be split into new columns for City and State while and because Indeed's search results show dates relative to the date the query was made I'll need to use PostDate and ExtractDate build a DatePosted column. It is important to note that JobUrl and date-related columns will not be converted into features for the logistic regression, instead they will be reattached to the data at the end in order to provide additional information and insights through the EC2 application. The only rows that'l  be using for modelling are JobTitle, Company, Summary, Requirements, and Description."
   ]
  },
  {
   "cell_type": "code",
   "execution_count": 3,
   "metadata": {},
   "outputs": [],
   "source": [
    "data.columns = map(str.lower, data.columns)\n",
    "data = data.rename({'title': 'job_title'}, axis=1)"
   ]
  },
  {
   "cell_type": "markdown",
   "metadata": {},
   "source": [
    "##### Data Dictionary\n",
    "- company<br>\n",
    "&nbsp;\n",
    "&nbsp;name of company\n",
    "- description<br>\n",
    "&nbsp;full text description of job\n",
    "- estimated_salary<br>\n",
    "&nbsp;Indeed's salary estimation\n",
    "- extractDate<br>\n",
    "&nbsp;String(?), date record was webscrapped\n",
    "- job_type_items<br>\n",
    "&nbsp;formatted list of 'full-time', 'part-time', etc\n",
    "- location<br>\n",
    "&nbsp;state and city/remote\n",
    "- postDate<br>\n",
    "&nbsp;date job posting was created\n",
    "- rating<br>\n",
    "&nbsp;Indeed.com ascribed company ratings\n",
    "- raw_desc_soup<br>\n",
    "&nbsp;raw full description, retained for possible future use/analysis\n",
    "- requirements<br>\n",
    "&nbsp;employer-listed educational, aptitude, and experience requirements\n",
    "- sal_guide_items<br>\n",
    "&nbsp;formatted list containing redundant characters and the Indeed salary estimate\n",
    "- salary<br>\n",
    "&nbsp;if given by employer\n",
    "- salary_and_jType<br>\n",
    "&nbsp;formatted list combining salary from salfromsection and job_type_items\n",
    "- salfromsection<br>\n",
    "&nbsp;salary, if given, extracted from job description\n",
    "- summary<br>\n",
    "&nbsp;brief summaries of each job extracted from sach results\n",
    "- title<br>\n",
    "&nbsp;job position title\n",
    "- url<br>\n",
    "&nbsp;job posting/description address"
   ]
  },
  {
   "cell_type": "code",
   "execution_count": 4,
   "metadata": {},
   "outputs": [
    {
     "name": "stdout",
     "output_type": "stream",
     "text": [
      "Number of dupes: 0\n"
     ]
    },
    {
     "data": {
      "text/html": [
       "<div>\n",
       "<style scoped>\n",
       "    .dataframe tbody tr th:only-of-type {\n",
       "        vertical-align: middle;\n",
       "    }\n",
       "\n",
       "    .dataframe tbody tr th {\n",
       "        vertical-align: top;\n",
       "    }\n",
       "\n",
       "    .dataframe thead th {\n",
       "        text-align: right;\n",
       "    }\n",
       "</style>\n",
       "<table border=\"1\" class=\"dataframe\">\n",
       "  <thead>\n",
       "    <tr style=\"text-align: right;\">\n",
       "      <th></th>\n",
       "      <th>company</th>\n",
       "      <th>description</th>\n",
       "      <th>estimated_salary</th>\n",
       "      <th>extractdate</th>\n",
       "      <th>job_type_items</th>\n",
       "      <th>location</th>\n",
       "      <th>postdate</th>\n",
       "      <th>rating</th>\n",
       "      <th>raw_desc_soup</th>\n",
       "      <th>requirements</th>\n",
       "      <th>salary</th>\n",
       "      <th>summary</th>\n",
       "      <th>job_title</th>\n",
       "      <th>url</th>\n",
       "    </tr>\n",
       "  </thead>\n",
       "  <tbody>\n",
       "  </tbody>\n",
       "</table>\n",
       "</div>"
      ],
      "text/plain": [
       "Empty DataFrame\n",
       "Columns: [company, description, estimated_salary, extractdate, job_type_items, location, postdate, rating, raw_desc_soup, requirements, salary, summary, job_title, url]\n",
       "Index: []"
      ]
     },
     "execution_count": 4,
     "metadata": {},
     "output_type": "execute_result"
    }
   ],
   "source": [
    "# check for duplcates.\n",
    "print(f'Number of dupes: {sum(data.duplicated())}')\n",
    "data[data.duplicated() == True]"
   ]
  },
  {
   "cell_type": "markdown",
   "metadata": {},
   "source": [
    "The likelihood of seeing duplicates coming from the raw scrapping is very unlikely, but this is still a good check to do in case something changes with Indeed.com's front-end code."
   ]
  },
  {
   "cell_type": "markdown",
   "metadata": {},
   "source": [
    "Missing values are another story. It seems that Indeed.com doesn't require employers to provide values for every feature, this certainly seems to be the case with requirements, not to mention everywhere salary information coud be held.\\\n",
    "Others, like estimated salary and ratings are generated by Indeed.com but don't exist for every posting.\\\n",
    "job_type_items and salary_and_jType will likely be collapsed into a new column for job types, I'll also do the same with all of the salary related features to build the model's target."
   ]
  },
  {
   "cell_type": "markdown",
   "metadata": {},
   "source": [
    "### 1.1 Diagnose Data\n",
    "In order to proceed with any statistical or exploratory data analysis I will need to wrangle the data quite a bit.\n",
    "Here, I'll list each of the current feature columns and briefly describe what I'll need to do with them.\n",
    "\n",
    "Column Groups and Needs\n",
    "Simple\n",
    "Salary\n",
    "Text\n",
    "etc"
   ]
  },
  {
   "cell_type": "markdown",
   "metadata": {},
   "source": [
    "#### 1.2 Features\n"
   ]
  },
  {
   "cell_type": "code",
   "execution_count": 5,
   "metadata": {},
   "outputs": [
    {
     "data": {
      "text/plain": [
       "raw_desc_soup       1124\n",
       "url                  519\n",
       "location             322\n",
       "description          284\n",
       "summary              283\n",
       "job_title            220\n",
       "company              217\n",
       "estimated_salary      71\n",
       "salary                61\n",
       "rating                21\n",
       "requirements          20\n",
       "postdate               5\n",
       "job_type_items         4\n",
       "extractdate            1\n",
       "dtype: int64"
      ]
     },
     "execution_count": 5,
     "metadata": {},
     "output_type": "execute_result"
    }
   ],
   "source": [
    "data.nunique().sort_values(ascending=False)"
   ]
  },
  {
   "cell_type": "code",
   "execution_count": 6,
   "metadata": {},
   "outputs": [
    {
     "name": "stdout",
     "output_type": "stream",
     "text": [
      "requirements        1069\n",
      "job_type_items       986\n",
      "estimated_salary     921\n",
      "salary               420\n",
      "rating               171\n",
      "description            5\n",
      "raw_desc_soup          4\n",
      "company                0\n",
      "extractdate            0\n",
      "location               0\n",
      "postdate               0\n",
      "summary                0\n",
      "job_title              0\n",
      "url                    0\n",
      "dtype: int64\n"
     ]
    }
   ],
   "source": [
    "#check for missing\n",
    "print(data.isna().sum().sort_values(ascending=False))"
   ]
  },
  {
   "cell_type": "code",
   "execution_count": 7,
   "metadata": {},
   "outputs": [
    {
     "name": "stdout",
     "output_type": "stream",
     "text": [
      "The 1128 rows of data have 14 features. Since this is a classification problem I'll be selecting one to be the target, leaving me with 13 dependent variables to work with.\n"
     ]
    }
   ],
   "source": [
    "\n",
    "print(f\"The {data.shape[0]} rows of data have {data.shape[1]} features. Since this is a classification problem I'll be selecting one to be the target, leaving me with {data.shape[1]-1} dependent variables to work with.\")\n"
   ]
  },
  {
   "cell_type": "markdown",
   "metadata": {},
   "source": [
    "##### 1.2a Rating\n",
    "\n",
    "As the only feature coming in with numeric (float) values I should just need to scale it. I'll address missing values by imputing zero. The rationale behind this is that an unrated company should simply be rated as zero.\n",
    "print(sorted(data.rating.unique()))"
   ]
  },
  {
   "cell_type": "code",
   "execution_count": 8,
   "metadata": {},
   "outputs": [
    {
     "data": {
      "text/html": [
       "<div>\n",
       "<style scoped>\n",
       "    .dataframe tbody tr th:only-of-type {\n",
       "        vertical-align: middle;\n",
       "    }\n",
       "\n",
       "    .dataframe tbody tr th {\n",
       "        vertical-align: top;\n",
       "    }\n",
       "\n",
       "    .dataframe thead th {\n",
       "        text-align: right;\n",
       "    }\n",
       "</style>\n",
       "<table border=\"1\" class=\"dataframe\">\n",
       "  <thead>\n",
       "    <tr style=\"text-align: right;\">\n",
       "      <th></th>\n",
       "      <th>company</th>\n",
       "      <th>description</th>\n",
       "      <th>estimated_salary</th>\n",
       "      <th>extractdate</th>\n",
       "      <th>job_type_items</th>\n",
       "      <th>location</th>\n",
       "      <th>postdate</th>\n",
       "      <th>rating</th>\n",
       "      <th>raw_desc_soup</th>\n",
       "      <th>requirements</th>\n",
       "      <th>salary</th>\n",
       "      <th>summary</th>\n",
       "      <th>job_title</th>\n",
       "      <th>url</th>\n",
       "    </tr>\n",
       "  </thead>\n",
       "  <tbody>\n",
       "    <tr>\n",
       "      <th>28</th>\n",
       "      <td>ICW Group Holdings, Inc</td>\n",
       "      <td>Are you looking for more than just a job? Do y...</td>\n",
       "      <td>['', 'Not provided by employer', \"$103K - $130...</td>\n",
       "      <td>2022-06-23</td>\n",
       "      <td>NaN</td>\n",
       "      <td>San Diego, CA 92128</td>\n",
       "      <td>PostedJust posted</td>\n",
       "      <td>NaN</td>\n",
       "      <td>&lt;!DOCTYPE html&gt;\\n\\n&lt;html dir=\"ltr\" lang=\"en\"&gt;\\...</td>\n",
       "      <td>NaN</td>\n",
       "      <td>Full-time</td>\n",
       "      <td>Utilizes advanced data mining techniques to di...</td>\n",
       "      <td>Data Scientist</td>\n",
       "      <td>https://www.indeed.com/rc/clk?jk=50ce10da7e8a3...</td>\n",
       "    </tr>\n",
       "    <tr>\n",
       "      <th>31</th>\n",
       "      <td>Aideo Technologies</td>\n",
       "      <td>Aidéo Technologies provides solutions that aut...</td>\n",
       "      <td>NaN</td>\n",
       "      <td>2022-06-23</td>\n",
       "      <td>['Full-time']</td>\n",
       "      <td>Pleasanton, CA 94566</td>\n",
       "      <td>PostedJust posted</td>\n",
       "      <td>NaN</td>\n",
       "      <td>&lt;!DOCTYPE html&gt;\\n\\n&lt;html dir=\"ltr\" lang=\"en\"&gt;\\...</td>\n",
       "      <td>Master's (Required)Python: 2 years (Required)</td>\n",
       "      <td>$135,000 - $180,000 a year -  Full-time</td>\n",
       "      <td>The data science team is responsible for our c...</td>\n",
       "      <td>Machine Learning Engineer</td>\n",
       "      <td>https://www.indeed.com/company/Aideo-Technolog...</td>\n",
       "    </tr>\n",
       "    <tr>\n",
       "      <th>32</th>\n",
       "      <td>Rubrik Job Board</td>\n",
       "      <td>Job SummaryAbout Team &amp; About Role:Jarvis is t...</td>\n",
       "      <td>['', 'Not provided by employer', \"$106K - $134...</td>\n",
       "      <td>2022-06-23</td>\n",
       "      <td>NaN</td>\n",
       "      <td>Palo Alto, CA</td>\n",
       "      <td>PostedJust posted</td>\n",
       "      <td>NaN</td>\n",
       "      <td>&lt;!DOCTYPE html&gt;\\n\\n&lt;html dir=\"ltr\" lang=\"en\"&gt;\\...</td>\n",
       "      <td>NaN</td>\n",
       "      <td>NaN</td>\n",
       "      <td>Familiarity with one or more of the following ...</td>\n",
       "      <td>Software Engineer - Jarvis, Data Platform</td>\n",
       "      <td>https://www.indeed.com/rc/clk?jk=c58e002167d88...</td>\n",
       "    </tr>\n",
       "  </tbody>\n",
       "</table>\n",
       "</div>"
      ],
      "text/plain": [
       "                    company  \\\n",
       "28  ICW Group Holdings, Inc   \n",
       "31       Aideo Technologies   \n",
       "32         Rubrik Job Board   \n",
       "\n",
       "                                          description  \\\n",
       "28  Are you looking for more than just a job? Do y...   \n",
       "31  Aidéo Technologies provides solutions that aut...   \n",
       "32  Job SummaryAbout Team & About Role:Jarvis is t...   \n",
       "\n",
       "                                     estimated_salary extractdate  \\\n",
       "28  ['', 'Not provided by employer', \"$103K - $130...  2022-06-23   \n",
       "31                                                NaN  2022-06-23   \n",
       "32  ['', 'Not provided by employer', \"$106K - $134...  2022-06-23   \n",
       "\n",
       "   job_type_items              location           postdate  rating  \\\n",
       "28            NaN   San Diego, CA 92128  PostedJust posted     NaN   \n",
       "31  ['Full-time']  Pleasanton, CA 94566  PostedJust posted     NaN   \n",
       "32            NaN         Palo Alto, CA  PostedJust posted     NaN   \n",
       "\n",
       "                                        raw_desc_soup  \\\n",
       "28  <!DOCTYPE html>\\n\\n<html dir=\"ltr\" lang=\"en\">\\...   \n",
       "31  <!DOCTYPE html>\\n\\n<html dir=\"ltr\" lang=\"en\">\\...   \n",
       "32  <!DOCTYPE html>\\n\\n<html dir=\"ltr\" lang=\"en\">\\...   \n",
       "\n",
       "                                     requirements  \\\n",
       "28                                            NaN   \n",
       "31  Master's (Required)Python: 2 years (Required)   \n",
       "32                                            NaN   \n",
       "\n",
       "                                     salary  \\\n",
       "28                                Full-time   \n",
       "31  $135,000 - $180,000 a year -  Full-time   \n",
       "32                                      NaN   \n",
       "\n",
       "                                              summary  \\\n",
       "28  Utilizes advanced data mining techniques to di...   \n",
       "31  The data science team is responsible for our c...   \n",
       "32  Familiarity with one or more of the following ...   \n",
       "\n",
       "                                    job_title  \\\n",
       "28                             Data Scientist   \n",
       "31                  Machine Learning Engineer   \n",
       "32  Software Engineer - Jarvis, Data Platform   \n",
       "\n",
       "                                                  url  \n",
       "28  https://www.indeed.com/rc/clk?jk=50ce10da7e8a3...  \n",
       "31  https://www.indeed.com/company/Aideo-Technolog...  \n",
       "32  https://www.indeed.com/rc/clk?jk=c58e002167d88...  "
      ]
     },
     "execution_count": 8,
     "metadata": {},
     "output_type": "execute_result"
    }
   ],
   "source": [
    "data[data.rating.isnull()].head(3)"
   ]
  },
  {
   "cell_type": "code",
   "execution_count": 9,
   "metadata": {},
   "outputs": [
    {
     "name": "stdout",
     "output_type": "stream",
     "text": [
      "Percent Missing: 6.6%\n",
      "Number Missing: 171\n",
      "3.7700104493207944\n"
     ]
    },
    {
     "data": {
      "text/plain": [
       "count    957.000000\n",
       "mean       3.770010\n",
       "std        0.377602\n",
       "min        2.400000\n",
       "25%        3.600000\n",
       "50%        3.900000\n",
       "75%        4.000000\n",
       "max        5.000000\n",
       "Name: rating, dtype: float64"
      ]
     },
     "execution_count": 9,
     "metadata": {},
     "output_type": "execute_result"
    }
   ],
   "source": [
    "def missing(data,feature):\n",
    "    data_len = len(data)\n",
    "    missing_len = len(data[data[feature].isnull()])\n",
    "    try:\n",
    "        print(f'Percent Missing: {round(data_len/missing_len,1)}%')\n",
    "    except:\n",
    "        print('nothing missing')\n",
    "\n",
    "    notna = data[feature].notna()\n",
    "\n",
    "    print(f'Number Missing: {missing_len}')\n",
    "\n",
    "    print(np.mean(data[notna]['rating']))\n",
    "\n",
    "    return data[feature].describe()\n",
    "        \n",
    "missing(data, feature = 'rating')\n",
    "\n"
   ]
  },
  {
   "cell_type": "code",
   "execution_count": null,
   "metadata": {},
   "outputs": [],
   "source": []
  },
  {
   "cell_type": "markdown",
   "metadata": {},
   "source": [
    "For now I'll drop these. I'm considering what and how to impute. What I'd like to do is run clustering on the data, or perhaps logistic regression. One thing I know is that the picture will become clearer as I gain more data. For now though, the amount of missing values is very small."
   ]
  },
  {
   "cell_type": "code",
   "execution_count": 10,
   "metadata": {},
   "outputs": [
    {
     "name": "stdout",
     "output_type": "stream",
     "text": [
      "957\n"
     ]
    },
    {
     "data": {
      "image/png": "[encoded data removed]",
      "text/plain": [
       "<Figure size 576x432 with 1 Axes>"
      ]
     },
     "metadata": {},
     "output_type": "display_data"
    }
   ],
   "source": [
    "data = data[data['rating'].notnull()]\n",
    "print(len(data))\n",
    "\n",
    "ax = sns.distplot(data.rating, fit=norm, bins=data.rating.nunique(), kde=True)\n",
    "plt.title('raw')\n",
    "#ax.set_xticks(data.rating.unique())\n",
    "plt.axvline(x=np.mean(data.rating), label='mean', c = 'r')\n",
    "plt.legend()\n",
    "plt.show()"
   ]
  },
  {
   "cell_type": "markdown",
   "metadata": {},
   "source": [
    "outliers"
   ]
  },
  {
   "cell_type": "code",
   "execution_count": 11,
   "metadata": {},
   "outputs": [
    {
     "data": {
      "text/plain": [
       "[2.4,\n",
       " 2.4,\n",
       " 2.4,\n",
       " 2.4,\n",
       " 2.4,\n",
       " 2.4,\n",
       " 2.4,\n",
       " 2.6,\n",
       " 2.6,\n",
       " 2.6,\n",
       " 2.6,\n",
       " 5.0,\n",
       " 5.0,\n",
       " 5.0,\n",
       " 5.0,\n",
       " 5.0,\n",
       " 5.0,\n",
       " 5.0,\n",
       " 5.0,\n",
       " 5.0]"
      ]
     },
     "execution_count": 11,
     "metadata": {},
     "output_type": "execute_result"
    }
   ],
   "source": [
    "outliers = []\n",
    "def z_detect(data, feature):\n",
    "    sample = data[feature]\n",
    "    threshold=3\n",
    "    mean = np.mean(sample)\n",
    "    std = np.std(sample)\n",
    "    \n",
    "    for i in sample:\n",
    "        z_score = (i-mean)/std\n",
    "        if np.abs(z_score) > threshold:\n",
    "            outliers.append(i)\n",
    "    if len(outliers) == 0:\n",
    "        pass\n",
    "    else:\n",
    "        return sorted(outliers)\n",
    "z_detect(data, feature = 'rating')\n"
   ]
  },
  {
   "cell_type": "code",
   "execution_count": 12,
   "metadata": {},
   "outputs": [
    {
     "name": "stdout",
     "output_type": "stream",
     "text": [
      "There are 9 records below and 22 above.\n"
     ]
    },
    {
     "data": {
      "image/png": "[encoded data removed]",
      "text/plain": [
       "<Figure size 360x360 with 1 Axes>"
      ]
     },
     "metadata": {},
     "output_type": "display_data"
    },
    {
     "data": {
      "image/png": "[encoded data removed]",
      "text/plain": [
       "<Figure size 576x432 with 1 Axes>"
      ]
     },
     "metadata": {},
     "output_type": "display_data"
    },
    {
     "name": "stdout",
     "output_type": "stream",
     "text": [
      "957\n",
      "926\n"
     ]
    },
    {
     "data": {
      "image/png": "[encoded data removed]",
      "text/plain": [
       "<Figure size 360x360 with 1 Axes>"
      ]
     },
     "metadata": {},
     "output_type": "display_data"
    },
    {
     "data": {
      "image/png": "[encoded data removed]",
      "text/plain": [
       "<Figure size 576x432 with 1 Axes>"
      ]
     },
     "metadata": {},
     "output_type": "display_data"
    }
   ],
   "source": [
    "def iqr_detect(data):\n",
    "    q1 = np.quantile(data.rating, 0.25)\n",
    "    q2 = np.quantile(data.rating, 0.5)\n",
    "    q3 = np.quantile(data.rating, 0.75)\n",
    "\n",
    "    # calc iqr\n",
    "    iqr = (q3 - q1)\n",
    "    \n",
    "    # expand iqr to discern outliers\n",
    "    iqr_x = iqr*1.5\n",
    "\n",
    "    # setting the lower and upper limits\n",
    "    iqr_lower = q1-iqr_x\n",
    "    iqr_upper = q3+iqr_x\n",
    "\n",
    "    # report\n",
    "    print(f'There are {len(data[data.rating > iqr_upper])} records below and {len(data[data.rating < iqr_lower])} above.')\n",
    "\n",
    "\n",
    "\n",
    "    # plotting\n",
    "    sns.displot(data.rating)\n",
    "    plt.axvline(x=q1, label=\"Q1\", c = 'g')\n",
    "    plt.axvline(x=q2, label=\"Q2\", c = 'b')\n",
    "    plt.axvline(x=q3, label=\"Q3\", c = 'r')\n",
    "\n",
    "    plt.axvline(x=iqr_lower, label = 'IQR Lower', c = 'black')\n",
    "    plt.axvline(x=iqr_upper, label = 'IQR Upper', c = 'black')\n",
    "    plt.axvline(x=np.mean(data.rating), label='mean', c = 'y')\n",
    "    plt.xticks(rotation=30)\n",
    "    plt.legend()\n",
    "    plt.show()\n",
    "\n",
    "    sns.boxplot(data=data, x='rating')\n",
    "    plt.xticks(rotation=30)\n",
    "    plt.show()\n",
    "\n",
    "    \n",
    "    # trimming outliers\n",
    "    trimmed = data[data.rating > iqr_upper]\n",
    "    trimmed = data[data.rating < iqr_lower]\n",
    "    print(len(data))\n",
    "    data = data[data.rating <= iqr_upper]\n",
    "    data = data[data.rating >= iqr_lower]\n",
    "    print(len(data))\n",
    "\n",
    "\n",
    "\n",
    "    # plotting\n",
    "    sns.displot(data.rating)\n",
    "    plt.axvline(x=q1, label=\"Q1\", c = 'g')\n",
    "    plt.axvline(x=q2, label=\"Q2\", c = 'b')\n",
    "    plt.axvline(x=q3, label=\"Q3\", c = 'r')\n",
    "\n",
    "    plt.axvline(x=iqr_lower, label = 'IQR Lower', c = 'black')\n",
    "    plt.axvline(x=iqr_upper, label = 'IQR Upper', c = 'black')\n",
    "    plt.axvline(x=np.mean(data.rating), label='mean', c = 'y')\n",
    "    plt.xticks(rotation=30)\n",
    "    plt.legend()\n",
    "    plt.show()\n",
    "\n",
    "    sns.boxplot(data=data, x='rating')\n",
    "    plt.xticks(rotation=30)\n",
    "    plt.show()\n",
    "    return data, trimmed\n",
    "\n",
    "data, trimmed = iqr_detect(data)"
   ]
  },
  {
   "cell_type": "code",
   "execution_count": 13,
   "metadata": {},
   "outputs": [
    {
     "data": {
      "image/png": "[encoded data removed]",
      "text/plain": [
       "<Figure size 576x432 with 1 Axes>"
      ]
     },
     "metadata": {},
     "output_type": "display_data"
    }
   ],
   "source": [
    "ax = sns.distplot(data.rating, fit=norm, bins=data.rating.nunique(), kde=True)\n",
    "plt.title('raw')\n",
    "#ax.set_xticks(data.rating.unique())\n",
    "plt.axvline(x=np.mean(data.rating), label='mean', c = 'r')\n",
    "plt.legend()\n",
    "plt.show()\n"
   ]
  },
  {
   "cell_type": "code",
   "execution_count": 14,
   "metadata": {},
   "outputs": [
    {
     "data": {
      "text/plain": [
       "count    926.000000\n",
       "mean       3.784881\n",
       "std        0.318287\n",
       "min        3.000000\n",
       "25%        3.600000\n",
       "50%        3.900000\n",
       "75%        4.000000\n",
       "max        4.600000\n",
       "Name: rating, dtype: float64"
      ]
     },
     "execution_count": 14,
     "metadata": {},
     "output_type": "execute_result"
    }
   ],
   "source": [
    "data.rating.describe()"
   ]
  },
  {
   "cell_type": "code",
   "execution_count": 15,
   "metadata": {},
   "outputs": [
    {
     "data": {
      "image/png": "[encoded data removed]",
      "text/plain": [
       "<Figure size 576x432 with 1 Axes>"
      ]
     },
     "metadata": {},
     "output_type": "display_data"
    },
    {
     "data": {
      "text/plain": [
       "count    9.260000e+02\n",
       "mean     3.980497e-16\n",
       "std      1.000540e+00\n",
       "min     -2.467291e+00\n",
       "25%     -5.811780e-01\n",
       "50%      3.618783e-01\n",
       "75%      6.762305e-01\n",
       "max      2.562343e+00\n",
       "Name: rating, dtype: float64"
      ]
     },
     "execution_count": 15,
     "metadata": {},
     "output_type": "execute_result"
    }
   ],
   "source": [
    "\n",
    "\n",
    "scalar = StandardScaler()\n",
    "scaled_ratings = pd.DataFrame(scalar.fit_transform(pd.DataFrame(data.rating)), columns=['rating'])\n",
    "\n",
    "scalar = StandardScaler()\n",
    "scaled_ratings = pd.DataFrame(scalar.fit_transform(pd.DataFrame(data.rating)), columns=['rating'])\n",
    "ax = sns.distplot(scaled_ratings, fit=norm, bins=data.rating.nunique(), kde=True)\n",
    "plt.title('scaled')\n",
    "#ax.set_xticks(data.rating.unique())\n",
    "plt.axvline(x=np.mean(scaled_ratings.rating), label='mean', c = 'r')\n",
    "plt.legend()\n",
    "plt.show()\n",
    "\n",
    "scaled_ratings.rating.describe()\n"
   ]
  },
  {
   "cell_type": "markdown",
   "metadata": {},
   "source": [
    "##### 1.2a Dates\n",
    "\n",
    "'extractdate' & 'postdate'\\\n",
    "extract_date is a string showing the day the record was webscrapped.\n",
    "post_date is a string description of the relative age of each post from the date it was posted to the day it was webscrapped.\n",
    "Converting post_date to a number will give me the the posts ae, which I'll then subtract from it's extract date in order to build a new feature carrying values for the DATE each job posting has been submitted to Indeed.com.\n",
    "\n",
    "The extractdate is the value given by my parser representing the date the data was pulled from Indeed.com.\\\n",
    "The postdate is how many days have passed since the post was made and when the search was conducted (by my webscraper).\\\n",
    "The task is to find the delta (difference), the intervening days since the post was made, and subtract it from the extract date so I can get the actual date publishd."
   ]
  },
  {
   "cell_type": "code",
   "execution_count": 16,
   "metadata": {},
   "outputs": [
    {
     "data": {
      "text/html": [
       "<div>\n",
       "<style scoped>\n",
       "    .dataframe tbody tr th:only-of-type {\n",
       "        vertical-align: middle;\n",
       "    }\n",
       "\n",
       "    .dataframe tbody tr th {\n",
       "        vertical-align: top;\n",
       "    }\n",
       "\n",
       "    .dataframe thead th {\n",
       "        text-align: right;\n",
       "    }\n",
       "</style>\n",
       "<table border=\"1\" class=\"dataframe\">\n",
       "  <thead>\n",
       "    <tr style=\"text-align: right;\">\n",
       "      <th></th>\n",
       "      <th>extractdate</th>\n",
       "      <th>postdate</th>\n",
       "    </tr>\n",
       "  </thead>\n",
       "  <tbody>\n",
       "    <tr>\n",
       "      <th>0</th>\n",
       "      <td>2022-06-23</td>\n",
       "      <td>PostedJust posted</td>\n",
       "    </tr>\n",
       "    <tr>\n",
       "      <th>1</th>\n",
       "      <td>2022-06-23</td>\n",
       "      <td>PostedToday</td>\n",
       "    </tr>\n",
       "    <tr>\n",
       "      <th>2</th>\n",
       "      <td>2022-06-23</td>\n",
       "      <td>PostedToday</td>\n",
       "    </tr>\n",
       "    <tr>\n",
       "      <th>3</th>\n",
       "      <td>2022-06-23</td>\n",
       "      <td>PostedToday</td>\n",
       "    </tr>\n",
       "    <tr>\n",
       "      <th>4</th>\n",
       "      <td>2022-06-23</td>\n",
       "      <td>PostedToday</td>\n",
       "    </tr>\n",
       "  </tbody>\n",
       "</table>\n",
       "</div>"
      ],
      "text/plain": [
       "  extractdate           postdate\n",
       "0  2022-06-23  PostedJust posted\n",
       "1  2022-06-23        PostedToday\n",
       "2  2022-06-23        PostedToday\n",
       "3  2022-06-23        PostedToday\n",
       "4  2022-06-23        PostedToday"
      ]
     },
     "execution_count": 16,
     "metadata": {},
     "output_type": "execute_result"
    }
   ],
   "source": [
    "data[['extractdate', 'postdate']].head()"
   ]
  },
  {
   "cell_type": "code",
   "execution_count": 17,
   "metadata": {},
   "outputs": [
    {
     "name": "stdout",
     "output_type": "stream",
     "text": [
      "nothing missing\n",
      "Number Missing: 0\n",
      "3.7848812095032396\n",
      "count            926\n",
      "unique             1\n",
      "top       2022-06-23\n",
      "freq             926\n",
      "Name: extractdate, dtype: object \n",
      "\n",
      "nothing missing\n",
      "Number Missing: 0\n",
      "3.7848812095032396\n",
      "count             926\n",
      "unique              5\n",
      "top       PostedToday\n",
      "freq              436\n",
      "Name: postdate, dtype: object\n"
     ]
    }
   ],
   "source": [
    "print(missing(data, feature = 'extractdate'),'\\n')\n",
    "print(missing(data, feature = 'postdate'))"
   ]
  },
  {
   "cell_type": "code",
   "execution_count": 18,
   "metadata": {},
   "outputs": [
    {
     "name": "stdout",
     "output_type": "stream",
     "text": [
      "['PostedJust posted' 'PostedToday' 'Posted1 day ago'\n",
      " 'PostedPosted 1 day ago' 'Hiring ongoing'] \n",
      "\n",
      "['2022-06-23'] \n",
      "\n",
      "PostedToday               436\n",
      "PostedJust posted         242\n",
      "Posted1 day ago           116\n",
      "PostedPosted 1 day ago    114\n",
      "Hiring ongoing             18\n",
      "Name: postdate, dtype: int64 \n",
      "\n",
      "2022-06-23    926\n",
      "Name: extractdate, dtype: int64\n"
     ]
    }
   ],
   "source": [
    "print(data.postdate.unique(),'\\n')\n",
    "print(data.extractdate.unique(),'\\n')\n",
    "print(data.postdate.value_counts(),'\\n')\n",
    "print(data.extractdate.value_counts())"
   ]
  },
  {
   "cell_type": "code",
   "execution_count": 19,
   "metadata": {},
   "outputs": [
    {
     "data": {
      "text/html": [
       "<div>\n",
       "<style scoped>\n",
       "    .dataframe tbody tr th:only-of-type {\n",
       "        vertical-align: middle;\n",
       "    }\n",
       "\n",
       "    .dataframe tbody tr th {\n",
       "        vertical-align: top;\n",
       "    }\n",
       "\n",
       "    .dataframe thead th {\n",
       "        text-align: right;\n",
       "    }\n",
       "</style>\n",
       "<table border=\"1\" class=\"dataframe\">\n",
       "  <thead>\n",
       "    <tr style=\"text-align: right;\">\n",
       "      <th></th>\n",
       "      <th>extractdate</th>\n",
       "      <th>postdate</th>\n",
       "      <th>dateposted</th>\n",
       "    </tr>\n",
       "  </thead>\n",
       "  <tbody>\n",
       "    <tr>\n",
       "      <th>0</th>\n",
       "      <td>2022-06-23</td>\n",
       "      <td>PostedJust posted</td>\n",
       "      <td>2022-06-23</td>\n",
       "    </tr>\n",
       "    <tr>\n",
       "      <th>1</th>\n",
       "      <td>2022-06-23</td>\n",
       "      <td>PostedToday</td>\n",
       "      <td>2022-06-23</td>\n",
       "    </tr>\n",
       "    <tr>\n",
       "      <th>2</th>\n",
       "      <td>2022-06-23</td>\n",
       "      <td>PostedToday</td>\n",
       "      <td>2022-06-23</td>\n",
       "    </tr>\n",
       "    <tr>\n",
       "      <th>3</th>\n",
       "      <td>2022-06-23</td>\n",
       "      <td>PostedToday</td>\n",
       "      <td>2022-06-23</td>\n",
       "    </tr>\n",
       "    <tr>\n",
       "      <th>4</th>\n",
       "      <td>2022-06-23</td>\n",
       "      <td>PostedToday</td>\n",
       "      <td>2022-06-23</td>\n",
       "    </tr>\n",
       "  </tbody>\n",
       "</table>\n",
       "</div>"
      ],
      "text/plain": [
       "  extractdate           postdate dateposted\n",
       "0  2022-06-23  PostedJust posted 2022-06-23\n",
       "1  2022-06-23        PostedToday 2022-06-23\n",
       "2  2022-06-23        PostedToday 2022-06-23\n",
       "3  2022-06-23        PostedToday 2022-06-23\n",
       "4  2022-06-23        PostedToday 2022-06-23"
      ]
     },
     "execution_count": 19,
     "metadata": {},
     "output_type": "execute_result"
    }
   ],
   "source": [
    "def postD(row):\n",
    "    \"\"\"Critical function that converts postdate values into relative (in days) distance from the extract date.\n",
    "    Args:\n",
    "        data (string): text descrption of how old the post is.\n",
    "    Returns:\n",
    "        npnan or int: numeric representation of post age\n",
    "    \"\"\"\n",
    "    if row['postdate'] != np.nan:\n",
    "        if row['postdate'] in ['PostedToday', 'PostedJust posted', 'Hiring ongoing']:\n",
    "            delta = timedelta(0)\n",
    "        elif row['postdate'] in ['PostedPosted 1 day ago', 'Posted1 day ago']:\n",
    "            delta = timedelta(1)\n",
    "\n",
    "         \n",
    "        value = pd.to_datetime(row['extractdate'])-delta\n",
    "    return value\n",
    "\n",
    "\n",
    "\n",
    "data['dateposted'] = data.apply( lambda row : postD(row), axis = 1)\n",
    "\n",
    "data[['extractdate', 'postdate','dateposted']].head()"
   ]
  },
  {
   "cell_type": "markdown",
   "metadata": {},
   "source": [
    "##### 1.2b Salary\n",
    "\n",
    "'salary'\\\n",
    "Several different approaches will need to be used to extract salary information from this feature because employers provide this information themselves.\n",
    "For one example, the pay periods of hour, day, week etc will need to be scaled to an anuual scale so I can have a standard scale to start wiith.\n",
    "The salary ranges also appear here, so I'll be extracting numeric string characters, converting them into floats representing the lower and upper bounds of each range, and taking their medaian value.\n",
    "\n",
    "'estimated_salary'\\\n",
    "\n",
    "\n",
    "\n",
    "'sal_guide_items'\\\n",
    "\n",
    "\n",
    "'salary_and_jtype' & 'salfromsection'\\\n",
    "These will be wrangled in much the same way. The only other pertinent information in these features would be the job_type data already found in job_type_items,\n",
    "\n",
    "\n",
    "The 'salary' feature is whatever information the employer provided. There are several subgroups within these values:\\\n",
    "&nbsp;work week\\\n",
    "While I could convert these to lists, the only information I need (salary) can be parsed out.\n",
    "\n",
    "\n",
    "The 'estimated_salary' feature \n",
    "Indeed.com provides its own salary estimates in what appear to be bins.\n",
    "These and all other salary ranges will be collapsed to their median values once I've extracted and converted their numeric string reresentations.\n",
    "\n",
    "\n",
    "\n",
    "The task is to find the delta (difference), the intervening days since the post was made, and subtract it from the extract date so I can get the actual date publishd."
   ]
  },
  {
   "cell_type": "code",
   "execution_count": 20,
   "metadata": {},
   "outputs": [
    {
     "name": "stdout",
     "output_type": "stream",
     "text": [
      "['Full-time' 'Part-time' nan '$100,000 - $175,000 a year -  Full-time'\n",
      " '$115,599 - $176,300 a year -  Full-time'\n",
      " 'From $90,000 a year -  Full-time'\n",
      " '$190,000 - $225,000 a year -  Full-time'\n",
      " '$124,800 a year -  Full-time, Contract'\n",
      " 'Up to $140,000 a year -  Full-time'\n",
      " '$90,000 - $115,000 a year -  Full-time'\n",
      " '$150,000 - $200,000 a year -  Full-time' 'Full-time, Contract'\n",
      " '$130,000 - $150,000 a year' '$101,400 - $152,200 a year'\n",
      " '$90,000 a year -  Full-time' '$130,000 - $180,000 a year -  Full-time'\n",
      " '$70 - $90 an hour -  Full-time, Contract'\n",
      " '$100,000 - $190,000 a year -  Full-time'\n",
      " '$65,000 - $75,000 a year -  Full-time'\n",
      " '$80,000 - $90,000 a year -  Full-time' '$22 - $25 an hour -  Contract'\n",
      " '$130,000 - $160,000 a year' 'Up to $190,500 a year -  Full-time'\n",
      " '$120,000 - $160,000 a year -  Full-time' 'Full-time, Internship'\n",
      " '$170,000 - $200,000 a year -  Full-time'\n",
      " '$100,000 - $150,000 a year -  Full-time'\n",
      " '$65,000 - $90,000 a year -  Full-time'\n",
      " '$108,545 - $127,700 a year -  Full-time'\n",
      " '$89,772 - $134,638 a year -  Full-time'\n",
      " '$96,119 - $164,102 a year -  Full-time'\n",
      " '$49,000 - $83,800 a year -  Full-time'\n",
      " '$62,000 - $106,000 a year -  Full-time' 'Contract'\n",
      " 'Up to $174,000 a year' '$110,000 - $120,000 a year -  Full-time'\n",
      " '$104,000 a year -  Full-time' '$80,000 - $125,000 a year -  Full-time'\n",
      " '$40 - $49 an hour -  Full-time' '$27,450 - $33,489 a year'\n",
      " 'Up to $176,600 a year' '$75,602 - $110,000 a year -  Full-time'\n",
      " 'From $95,000 a year -  Full-time']\n",
      "[nan\n",
      " '[\\'\\', \\'Not provided by employer\\', \"$78.5K - $99.5K a year is Indeed\\'s estimated salary for this role in Birmingham, AL.\"]'\n",
      " '[\\'\\', \\'Not provided by employer\\', \"$109K - $138K a year is Indeed\\'s estimated salary for this role in Huntsville, AL.\"]'] \n",
      "\n",
      "salary\n",
      "estimated_salary\n"
     ]
    }
   ],
   "source": [
    "print(data.salary.unique()[:])\n",
    "print(data.estimated_salary.unique()[:3],'\\n')\n",
    "data[['salary','estimated_salary']].head(3)\n",
    "x = data[['salary','estimated_salary']]\n",
    "for i in x:\n",
    "    print(i)\n"
   ]
  },
  {
   "cell_type": "code",
   "execution_count": 21,
   "metadata": {},
   "outputs": [
    {
     "data": {
      "text/plain": [
       "array([            nan, 137500.        , 145949.5       ,  90000.        ,\n",
       "       207500.        , 124800.        , 140000.        , 102500.        ,\n",
       "       175000.        , 126800.        , 155000.        , 166857.14285714,\n",
       "       145000.        ,  70000.        ,  85000.        ,  49014.28571429,\n",
       "       190500.        , 185000.        , 125000.        ,  77500.        ,\n",
       "       118122.5       , 112205.        , 130110.5       ,  66400.        ,\n",
       "        84000.        , 174000.        , 115000.        , 104000.        ,\n",
       "        92814.28571429,  30469.5       , 176600.        ,  92801.        ,\n",
       "        95000.        ])"
      ]
     },
     "execution_count": 21,
     "metadata": {},
     "output_type": "execute_result"
    }
   ],
   "source": [
    "def justNumbers(data):\n",
    "    if type(data) == str:\n",
    "        # for estimatedsalary col\n",
    "        if bool(re.search(r'Not provided by employer', data)):\n",
    "            est = data.split(',')\n",
    "            est = est[2].split('a year')[0]\n",
    "            est = re.sub(r'[(a-zA-Z,&,$)]+' '|:]',r'',est)\n",
    "            est = est.replace(\"-\",\"\")\n",
    "            est = est.replace('\"',\"\")\n",
    "            est1 = est.split()[0]\n",
    "            est2 = est.split()[1]\n",
    "  \n",
    "\n",
    "\n",
    "            return (float(est1)+float(est2))/2\n",
    "        # for salary col\n",
    "        else:\n",
    "            if bool(re.search(r'$', data)):\n",
    "                if bool(re.search(r'\\d', data)):\n",
    "                    if bool(re.search(r' - ', data)):\n",
    "                        z = data.split(' - ')\n",
    "                        sal = z[0]+' '+z[1]\n",
    "                    else:\n",
    "\n",
    "                        sal = data\n",
    "\n",
    "\n",
    "                    sal = re.sub(r'[?|!|\\'|\"|#|/|-|(|)|$|' '|:]',r'',sal)\n",
    "                    sal = re.sub(r'[(a-zA-Z,&)]+' '|:]',r'',sal)\n",
    "                    sal = sal.replace(\"-\",\"\")\n",
    "                    sal = sal.strip()\n",
    "                    if bool(re.search(r' ', sal)):\n",
    "                        sal1 = sal.split(' ')[0]\n",
    "                        sal2 = sal.split(' ')[1]\n",
    "                        if bool(re.search(r'hour', data)):\n",
    "                            return ((float(sal1)+float(sal2))/2)*40*(365/7)\n",
    "                        else:\n",
    "                            return (float(sal1)+float(sal2))/2\n",
    "                    else:\n",
    "                        return float(sal)\n",
    "            \n",
    "        return None\n",
    "\n",
    "        \n",
    "\n",
    "\n",
    "\n",
    "data['cleanedsal'] = data.salary.apply(justNumbers)\n",
    "data['cleanedest'] = data.estimated_salary.apply(justNumbers)\n",
    "\n",
    "data['cleanedsal'].unique()"
   ]
  },
  {
   "cell_type": "code",
   "execution_count": 22,
   "metadata": {},
   "outputs": [],
   "source": [
    "def salaries(row):\n",
    "    \"\"\"Critical function that converts postdate values into relative (in days) distance from the extract date.\n",
    "    Args:\n",
    "        data (string): text descrption of how old the post is.\n",
    "    Returns:\n",
    "        npnan or int: numeric representation of post age\n",
    "    \"\"\"\n",
    "    if (row['cleanedest'] >0) or (row['cleanedsal'] >0):\n",
    "        if (row['cleanedest'] >0):\n",
    "            return float(row['cleanedest'])\n",
    "        else:\n",
    "            return float(row['cleanedsal'])\n",
    "\n",
    "data['salaries'] = data.apply( lambda row : salaries(row), axis = 1).astype(float)\n"
   ]
  },
  {
   "cell_type": "code",
   "execution_count": 23,
   "metadata": {},
   "outputs": [
    {
     "name": "stdout",
     "output_type": "stream",
     "text": [
      "salary\n",
      "43 \n",
      "\n",
      "cleanedsal\n",
      "33 \n",
      "\n",
      "estimated_salary\n",
      "42 \n",
      "\n",
      "cleanedest\n",
      "38 \n",
      "\n",
      "salaries\n",
      "70 \n",
      "\n"
     ]
    },
    {
     "data": {
      "text/html": [
       "<div>\n",
       "<style scoped>\n",
       "    .dataframe tbody tr th:only-of-type {\n",
       "        vertical-align: middle;\n",
       "    }\n",
       "\n",
       "    .dataframe tbody tr th {\n",
       "        vertical-align: top;\n",
       "    }\n",
       "\n",
       "    .dataframe thead th {\n",
       "        text-align: right;\n",
       "    }\n",
       "</style>\n",
       "<table border=\"1\" class=\"dataframe\">\n",
       "  <thead>\n",
       "    <tr style=\"text-align: right;\">\n",
       "      <th></th>\n",
       "      <th>salary</th>\n",
       "      <th>cleanedsal</th>\n",
       "      <th>estimated_salary</th>\n",
       "      <th>cleanedest</th>\n",
       "      <th>salaries</th>\n",
       "    </tr>\n",
       "  </thead>\n",
       "  <tbody>\n",
       "    <tr>\n",
       "      <th>0</th>\n",
       "      <td>Full-time</td>\n",
       "      <td>NaN</td>\n",
       "      <td>NaN</td>\n",
       "      <td>NaN</td>\n",
       "      <td>NaN</td>\n",
       "    </tr>\n",
       "    <tr>\n",
       "      <th>1</th>\n",
       "      <td>Full-time</td>\n",
       "      <td>NaN</td>\n",
       "      <td>['', 'Not provided by employer', \"$78.5K - $99...</td>\n",
       "      <td>89.0</td>\n",
       "      <td>89.0</td>\n",
       "    </tr>\n",
       "    <tr>\n",
       "      <th>2</th>\n",
       "      <td>Part-time</td>\n",
       "      <td>NaN</td>\n",
       "      <td>['', 'Not provided by employer', \"$109K - $138...</td>\n",
       "      <td>123.5</td>\n",
       "      <td>123.5</td>\n",
       "    </tr>\n",
       "  </tbody>\n",
       "</table>\n",
       "</div>"
      ],
      "text/plain": [
       "      salary  cleanedsal                                   estimated_salary  \\\n",
       "0  Full-time         NaN                                                NaN   \n",
       "1  Full-time         NaN  ['', 'Not provided by employer', \"$78.5K - $99...   \n",
       "2  Part-time         NaN  ['', 'Not provided by employer', \"$109K - $138...   \n",
       "\n",
       "   cleanedest  salaries  \n",
       "0         NaN       NaN  \n",
       "1        89.0      89.0  \n",
       "2       123.5     123.5  "
      ]
     },
     "execution_count": 23,
     "metadata": {},
     "output_type": "execute_result"
    }
   ],
   "source": [
    "cols = ['salary','cleanedsal','estimated_salary','cleanedest','salaries']\n",
    "for i in cols:\n",
    "    print(i)\n",
    "    print(len(data[i].unique()),'\\n')\n",
    "\n",
    "data[cols].head(3)"
   ]
  },
  {
   "cell_type": "code",
   "execution_count": 24,
   "metadata": {},
   "outputs": [
    {
     "data": {
      "text/plain": [
       "[nan,\n",
       " 67.4,\n",
       " 86.8,\n",
       " 89.0,\n",
       " 89.4,\n",
       " 90.3,\n",
       " 91.2,\n",
       " 91.25,\n",
       " 94.05,\n",
       " 95.75,\n",
       " 99.4,\n",
       " 102.15,\n",
       " 104.65,\n",
       " 105.55,\n",
       " 107.5,\n",
       " 108.4,\n",
       " 109.05,\n",
       " 111.9,\n",
       " 112.7,\n",
       " 115.5,\n",
       " 117.0,\n",
       " 118.0,\n",
       " 120.0,\n",
       " 123.5,\n",
       " 124.5,\n",
       " 125.0,\n",
       " 126.0,\n",
       " 131.5,\n",
       " 132.5,\n",
       " 133.0,\n",
       " 134.0,\n",
       " 134.5,\n",
       " 135.0,\n",
       " 136.0,\n",
       " 137.0,\n",
       " 144.0,\n",
       " 147.0,\n",
       " 150.5,\n",
       " 30469.5,\n",
       " 49014.28571428572,\n",
       " 66400.0,\n",
       " 70000.0,\n",
       " 77500.0,\n",
       " 84000.0,\n",
       " 85000.0,\n",
       " 90000.0,\n",
       " 92801.0,\n",
       " 92814.28571428572,\n",
       " 95000.0,\n",
       " 102500.0,\n",
       " 104000.0,\n",
       " 112205.0,\n",
       " 115000.0,\n",
       " 118122.5,\n",
       " 124800.0,\n",
       " 125000.0,\n",
       " 126800.0,\n",
       " 130110.5,\n",
       " 137500.0,\n",
       " 140000.0,\n",
       " 145000.0,\n",
       " 145949.5,\n",
       " 155000.0,\n",
       " 166857.14285714287,\n",
       " 174000.0,\n",
       " 175000.0,\n",
       " 176600.0,\n",
       " 185000.0,\n",
       " 190500.0,\n",
       " 207500.0]"
      ]
     },
     "execution_count": 24,
     "metadata": {},
     "output_type": "execute_result"
    }
   ],
   "source": [
    "sorted(list(data['salaries'].unique()))"
   ]
  },
  {
   "cell_type": "code",
   "execution_count": null,
   "metadata": {},
   "outputs": [],
   "source": [
    "def clean_text(data):\n",
    "    sentences = data.split('.')\n",
    "    clean_sentences = []\n",
    "    for i in sentences:\n",
    "        clean_sentence = re.sub(r'[?|!|\\'|\"|#|/|-|,(|)|$|-|' '|:]',r'',i)\n",
    "        clean_sentence = re.sub(r'[?|!|\\'|\"|#|/|-|,(|)|$|-|' '|:]',r'',clean_sentence)\n",
    "        clean_sentence = \"  \".join(re.findall(\"[(a-zA-Z,&)]+\", clean_sentence))\n",
    "        clean_sentences.append(clean_sentence)\n",
    "    clean_text = ''\n",
    "    for i in clean_sentences:\n",
    "        clean_text += (' '+i)\n",
    "    return clean_text.strip(' ')\n",
    "\n",
    "    \n",
    "\n",
    "data['cleaned'] = data.text.apply(clean_text)"
   ]
  },
  {
   "cell_type": "code",
   "execution_count": 27,
   "metadata": {},
   "outputs": [
    {
     "name": "stdout",
     "output_type": "stream",
     "text": [
      "\n",
      "The data contains 926 rows of individual job postings with values for 18 columns based on\n",
      " different sections of each post's web page.\n",
      "\n",
      "- Out of 926 job postings 206 or 22.25% include some sort of salary information,\n",
      "- The remaining 720 rowws, or 77.75% are missing salary data.\n"
     ]
    }
   ],
   "source": [
    "null = sum(data.salaries.isnull())\n",
    "nnull = sum(data.salaries.notnull())\n",
    "print('')\n",
    "print(f'The data contains {data.shape[0]} rows of individual job postings with values for {data.shape[1]} columns based on\\n different sections of each post\\'s web page.')\n",
    "print('')\n",
    "print(f'- Out of {len(data)} job postings {nnull} or {round(nnull/len(data)*100,2)}% include some sort of salary information,\\n- The remaining {null} rowws, or {round(null/len(data)*100,2)}% are missing salary data.')\n",
    "#\\n- Also, there are no null values in the rest of the table meaning we won\\'t need\\n  to lose any data by dropping rows. While the null values in the Pay column will\\n  simply be dropped after we translate the not nulls into the target.')"
   ]
  },
  {
   "cell_type": "markdown",
   "metadata": {},
   "source": [
    "'job_type_items'\\\n",
    "    I'm going to treat these as likert values, converrting each of these string formatted lists into an ordinal values for a new column.\n"
   ]
  },
  {
   "cell_type": "code",
   "execution_count": 36,
   "metadata": {},
   "outputs": [],
   "source": [
    "data = data.copy()"
   ]
  },
  {
   "cell_type": "code",
   "execution_count": 48,
   "metadata": {},
   "outputs": [
    {
     "data": {
      "text/plain": [
       "1           89.00\n",
       "2          123.50\n",
       "4          105.55\n",
       "5       137500.00\n",
       "8       145949.50\n",
       "          ...    \n",
       "1082    176600.00\n",
       "1084     92801.00\n",
       "1087       111.90\n",
       "1099     95000.00\n",
       "1111     95000.00\n",
       "Name: salaries, Length: 206, dtype: float64"
      ]
     },
     "execution_count": 48,
     "metadata": {},
     "output_type": "execute_result"
    }
   ],
   "source": [
    "data[data['salaries'].notna()].salaries"
   ]
  },
  {
   "cell_type": "code",
   "execution_count": 49,
   "metadata": {},
   "outputs": [
    {
     "name": "stdout",
     "output_type": "stream",
     "text": [
      "Percent Missing: 1.3%\n",
      "Number Missing: 720\n",
      "3.7\n",
      "count       206.000000\n",
      "mean      75755.730166\n",
      "std       72102.344171\n",
      "min          67.400000\n",
      "25%         120.000000\n",
      "50%       92801.000000\n",
      "75%      139375.000000\n",
      "max      207500.000000\n",
      "Name: salaries, dtype: float64\n"
     ]
    }
   ],
   "source": [
    "print(missing(data, feature = 'salaries'))"
   ]
  },
  {
   "cell_type": "code",
   "execution_count": 50,
   "metadata": {},
   "outputs": [
    {
     "name": "stdout",
     "output_type": "stream",
     "text": [
      "Percent Missing: 1.1%\n",
      "Number Missing: 832\n",
      "3.6936170212765975\n",
      "count                94\n",
      "unique                3\n",
      "top       ['Full-time']\n",
      "freq                 87\n",
      "Name: job_type_items, dtype: object\n"
     ]
    }
   ],
   "source": [
    "print(missing(data, feature = 'job_type_items'))"
   ]
  },
  {
   "cell_type": "code",
   "execution_count": 57,
   "metadata": {},
   "outputs": [
    {
     "name": "stdout",
     "output_type": "stream",
     "text": [
      "<class 'pandas.core.frame.DataFrame'>\n",
      "Int64Index: 926 entries, 0 to 1127\n",
      "Data columns (total 18 columns):\n",
      " #   Column            Non-Null Count  Dtype         \n",
      "---  ------            --------------  -----         \n",
      " 0   company           926 non-null    object        \n",
      " 1   description       922 non-null    object        \n",
      " 2   estimated_salary  89 non-null     object        \n",
      " 3   extractdate       926 non-null    object        \n",
      " 4   job_type_items    94 non-null     object        \n",
      " 5   location          926 non-null    object        \n",
      " 6   postdate          926 non-null    object        \n",
      " 7   rating            926 non-null    float64       \n",
      " 8   raw_desc_soup     923 non-null    object        \n",
      " 9   requirements      17 non-null     object        \n",
      " 10  salary            558 non-null    object        \n",
      " 11  summary           926 non-null    object        \n",
      " 12  job_title         926 non-null    object        \n",
      " 13  url               926 non-null    object        \n",
      " 14  dateposted        926 non-null    datetime64[ns]\n",
      " 15  cleanedsal        117 non-null    float64       \n",
      " 16  cleanedest        89 non-null     float64       \n",
      " 17  salaries          206 non-null    float64       \n",
      "dtypes: datetime64[ns](1), float64(4), object(13)\n",
      "memory usage: 137.5+ KB\n"
     ]
    }
   ],
   "source": [
    "data.info()"
   ]
  },
  {
   "cell_type": "code",
   "execution_count": null,
   "metadata": {},
   "outputs": [],
   "source": [
    "\n",
    "\n",
    "\n",
    "\n",
    "def jobtype(data):\n",
    "    \"\"\"Used for creating a new feature containing nominal values for the job type.\n",
    "\n",
    "    Args:\n",
    "        data (string): Values from the 'job_type_items' column.\n",
    "\n",
    "    Returns:\n",
    "        string: Extracted and simplified values for each category.\n",
    "    \"\"\"\n",
    "    if type(data) == str:\n",
    "        if re.search('full', data):\n",
    "            out = 'full'\n",
    "        if re.search('part', data):\n",
    "            out = 'part'\n",
    "        if re.search('contract', data):\n",
    "            out = 'contract'\n",
    "        if re.search('temp', data):\n",
    "            out = 'temp'\n",
    "        return out\n",
    "    else:\n",
    "        pass\n",
    "\n",
    "cols = ['company','description', 'job_type_items','location','postdate','requirements',\t'summary','job_title']\n",
    "for txt_col in cols:\n",
    "    data[txt_col] = data[txt_col].str.lower()\n",
    "\n",
    "\n",
    "\n",
    "data['jobtype'] = data.job_type_items.apply(jobtype)\n",
    "\n",
    "data['text'] = data.description+' '+data.summary\n",
    "#TODO add requirements\n",
    "\n",
    "cols = ['job_type_items','raw_desc_soup','url','description','summary','requirements']\n",
    "\n",
    "\n",
    "data.text = data.text.replace(')',' ')\n",
    "\n",
    "\n",
    "\n",
    "data = annual(data)\n",
    "#data.schedule.value_counts() keep and eye on this, may have to deal with more than just hourly"
   ]
  },
  {
   "cell_type": "markdown",
   "metadata": {},
   "source": [
    "'location'\\\n",
    "This feature holds a wealth of information: state, city/remote, and in some cases a zip code.\n",
    "Zip codes seem to be a recent addition to the information I can get from Indeed.com but since its presence is rather sparse I'll just extract city/remote and state values, splitting them into their respective columns."
   ]
  },
  {
   "cell_type": "code",
   "execution_count": null,
   "metadata": {},
   "outputs": [],
   "source": [
    "data.job_type_items.unique()"
   ]
  },
  {
   "cell_type": "markdown",
   "metadata": {},
   "source": [
    "'job_title'\\\n",
    "Although the webscrapper searches for 'data scientist' the results contain over 80 unique job titles. This is largely due to a prefix or suffix that provides the role's specialization at that particular company for that particular job posting. These include items like 'Marketing', 'Senior', 'Geospatial...'.\n",
    "I'll start by cleaning and simplifying these values, i.e. appearences of 'Sr' can be converted to 'Senior'. This will significantly reduce the number of unique values, hopefully increasing model accuracy."
   ]
  },
  {
   "cell_type": "code",
   "execution_count": null,
   "metadata": {},
   "outputs": [],
   "source": [
    "print(len(data.job_title.unique()))\n",
    "data.job_title.unique()[:10]"
   ]
  },
  {
   "cell_type": "markdown",
   "metadata": {},
   "source": [
    "'requirements'\\\n",
    "I will most likely merge this in with the description prior to conducting NLP. The rationale is that these explicit requirements may be echoed in the description or summary, so by adding them to the corpus I'll raise the scores derived from their increaseed frequency. Eventually I wiuld like to build a set of requirements that I can use in with a clustering algorithm, like KNN, to find/define subgroups within the sample population."
   ]
  },
  {
   "cell_type": "code",
   "execution_count": null,
   "metadata": {},
   "outputs": [],
   "source": [
    "data.requirements[0]"
   ]
  },
  {
   "cell_type": "markdown",
   "metadata": {},
   "source": [
    "'summary'\\\n",
    "Much like the description, these are unique. COming from the search results page itself, these are brief descriptions of each job. In most cases this is not merely an abridgement of the summary. Like 'requirement' I'll start by lumping these texts in with description so analysis of the corpus can be boosted by the added descriptions."
   ]
  },
  {
   "cell_type": "code",
   "execution_count": null,
   "metadata": {},
   "outputs": [],
   "source": [
    "for i in data.summary[:3]:\n",
    "    print(i)"
   ]
  },
  {
   "cell_type": "markdown",
   "metadata": {},
   "source": [
    "'description'\\\n",
    "Each value is a unique string of the full job description. I'll lower and remove special characters but this feature will be dealt with seperately in its own NLP process.\n"
   ]
  },
  {
   "cell_type": "markdown",
   "metadata": {},
   "source": []
  },
  {
   "cell_type": "markdown",
   "metadata": {},
   "source": [
    "'raw_desc_soup'\\\n",
    "I'm only saving this in case I refine or change my parsing. Below is a truncated slice of one of the raw records.\n",
    "\n",
    "'url'\\\n",
    "Like raw_doc_soup, I'm simply keeping these in case I need to go back and re-parse the raw data. In fact, this URL points directly to the page where that raw doc soup is found.\n",
    "I may also be able to detect job post updates and duplicates by using these unique addresses."
   ]
  },
  {
   "cell_type": "code",
   "execution_count": null,
   "metadata": {},
   "outputs": [],
   "source": [
    "data.raw_desc_soup[1][:1000]\n",
    "data.url[0]"
   ]
  },
  {
   "cell_type": "markdown",
   "metadata": {},
   "source": [
    "### 2.3 Wrangling & Feature Engineering\n",
    "Below are the implementations of the data wrangling steps I described above for each feature. Using Numpy, Regex, and Pandas I'll simutaneaously clean the strings, extract and convert numeric information, and create new feature columns."
   ]
  },
  {
   "cell_type": "markdown",
   "metadata": {},
   "source": [
    "Let's see what the data looks like at this point. It looks like the 17 original features have been reduced to 11. Most of the columns have been collapsed and cleaned, too. Just a bit more work till this is ready for EDA, NLP, and transformations."
   ]
  },
  {
   "cell_type": "code",
   "execution_count": null,
   "metadata": {},
   "outputs": [],
   "source": [
    "data"
   ]
  },
  {
   "cell_type": "code",
   "execution_count": null,
   "metadata": {},
   "outputs": [],
   "source": [
    "\n",
    "\n",
    "data.rating = data.rating.fillna(0)\n",
    "\n",
    "cols = ['extractdate','postdate','schedule','jobtype','salary']\n",
    "data.drop(cols,inplace=True,axis=1)\n",
    "data = data.rename({'annual_sal': 'salary'}, axis=1)\n",
    "\n",
    "data['salary'] = data['salary'].apply(sal_fixer)"
   ]
  },
  {
   "cell_type": "code",
   "execution_count": null,
   "metadata": {},
   "outputs": [],
   "source": [
    "data.salary"
   ]
  },
  {
   "cell_type": "code",
   "execution_count": null,
   "metadata": {},
   "outputs": [],
   "source": [
    "def states_(i):\n",
    "    \"\"\"Extracts state values from location\n",
    "\n",
    "    Args:\n",
    "        i (string): values from location\n",
    "\n",
    "    Returns:\n",
    "        string: extracted state value\n",
    "    \"\"\"\n",
    "    if ',' in i:\n",
    "        fix =  i.partition(',')[2].strip()\n",
    "        if len(fix) >2:\n",
    "            return fix[:2]\n",
    "        else:\n",
    "            return fix\n",
    "    if ',' not in i:\n",
    "        return i\n",
    "    elif 'remote' in i:\n",
    "        return 'remote'\n",
    "\n",
    "\n",
    "def cities_(i):\n",
    "    \"\"\"Extracts city values from location\n",
    "\n",
    "    Args:\n",
    "        i (string): values from location\n",
    "\n",
    "    Returns:\n",
    "        string: extracted city value\n",
    "    \"\"\"\n",
    "    if ',' in i:\n",
    "        return i.partition(',')[0]\n",
    "    if ',' not in i:\n",
    "        return i\n",
    "    elif 'remote' in i:\n",
    "        return 'remote'\n",
    "\n",
    "data['state'] = data.location.apply(states_)\n",
    "data['city'] = data[\"location\"].apply(cities_)\n",
    "#data[data.state.isnull()] = 'remote'"
   ]
  },
  {
   "cell_type": "code",
   "execution_count": null,
   "metadata": {},
   "outputs": [],
   "source": [
    "data.columns\n",
    "cols = ['salary','estimated_salary', 'job_type_items','raw_desc_soup', 'sal_guide_items','salary_and_jtype', 'salfromsection']\n",
    "data.drop(cols,inplace=True,axis=1)\n",
    "data.rename(columns={'final_sal': 'salary'},inplace=True)\n",
    "\n",
    "data = data[data.description != 'NaN']\n",
    "\n",
    "len(data)\n",
    "\n",
    "data.description.value_counts()[1:]"
   ]
  },
  {
   "cell_type": "code",
   "execution_count": null,
   "metadata": {},
   "outputs": [],
   "source": []
  },
  {
   "cell_type": "code",
   "execution_count": null,
   "metadata": {},
   "outputs": [],
   "source": []
  },
  {
   "cell_type": "code",
   "execution_count": null,
   "metadata": {},
   "outputs": [],
   "source": []
  },
  {
   "cell_type": "markdown",
   "metadata": {},
   "source": [
    "### 2.4 Assessment"
   ]
  },
  {
   "cell_type": "code",
   "execution_count": null,
   "metadata": {},
   "outputs": [],
   "source": [
    "data.info(memory_usage='deep')\n",
    "data.head()"
   ]
  },
  {
   "cell_type": "code",
   "execution_count": null,
   "metadata": {},
   "outputs": [],
   "source": [
    "shape = data.shape\n",
    "print(f\"The {shape[0]} rows of data now have {shape[1]} variables whose values are now cleaned and typed properly.\\nThe only missing values are in Salary which is my target.\\nNext, I'll conduct analysis, encoding, and scaling of each feature, starting with Salary which .\")\n",
    "data.describe(include = 'all')\n"
   ]
  },
  {
   "cell_type": "code",
   "execution_count": null,
   "metadata": {},
   "outputs": [],
   "source": [
    "sns.countplot(x='salary', data=data.notnull(), palette='Set3')\n",
    "plt.show()"
   ]
  },
  {
   "cell_type": "code",
   "execution_count": null,
   "metadata": {},
   "outputs": [],
   "source": [
    "null = len(data[data.salary.isnull()])\n",
    "nnull = len(data[data.salary.notnull()])\n",
    "print(f'{round(nnull/len(data)*100,2)}% of the data has salary information, should be an easy target')"
   ]
  },
  {
   "cell_type": "code",
   "execution_count": null,
   "metadata": {},
   "outputs": [],
   "source": [
    "data = data[data['text'].notna()]"
   ]
  },
  {
   "cell_type": "code",
   "execution_count": null,
   "metadata": {},
   "outputs": [],
   "source": [
    "data.to_csv(f'../app/data/wrangled_data.csv', index=False)"
   ]
  },
  {
   "cell_type": "code",
   "execution_count": null,
   "metadata": {},
   "outputs": [],
   "source": [
    "data"
   ]
  },
  {
   "cell_type": "code",
   "execution_count": null,
   "metadata": {},
   "outputs": [],
   "source": [
    "munged = data\n",
    "munged"
   ]
  },
  {
   "cell_type": "code",
   "execution_count": null,
   "metadata": {},
   "outputs": [],
   "source": [
    "null = len(munged[munged.salary.isnull()])\n",
    "nnull = len(munged[munged.salary.notnull()])\n",
    "print(f'Droping {len(data)-len(munged)} duplicates and out of date posts leaves {len(munged)} rows of data for the regressor to be trained and tested on.')\n",
    "print(f'- Of those {len(munged)} job postings {nnull} or {round(nnull/len(munged)*100,2)}% include salary information,\\n- The remaining {null} rows, or {round(null/len(munged)*100,2)}% are missing salary data.')"
   ]
  },
  {
   "cell_type": "markdown",
   "metadata": {},
   "source": [
    "## EDA"
   ]
  },
  {
   "cell_type": "code",
   "execution_count": null,
   "metadata": {},
   "outputs": [],
   "source": [
    "import numpy as np\n",
    "import pandas as pd\n",
    "\n",
    "from sklearn import metrics\n",
    "from scipy.stats import pearsonr, chi2_contingency\n",
    "from sklearn.preprocessing import StandardScaler, MinMaxScaler\n",
    "\n",
    "\n",
    "\n",
    "import matplotlib.pyplot as plt\n",
    "from datetime import datetime, date, timedelta\n",
    "\n",
    "plt.rcParams['figure.figsize'] = (8, 8)\n",
    "plt.rcParams['font.size'] = 17\n",
    "\n",
    "import seaborn as sns\n",
    "import re\n",
    "import warnings # current version of seaborn generates a bunch of warnings that we'll ignore\n",
    "warnings.filterwarnings(\"ignore\")\n",
    "sns.set(style=\"ticks\", color_codes=True)\n",
    "%matplotlib inline"
   ]
  },
  {
   "cell_type": "markdown",
   "metadata": {},
   "source": [
    "### Target\n",
    "\n",
    "### Numeric Features\n",
    "### Categorical Features\n",
    "### Feature Associations\n",
    "#### Feature Selection and Hyperparameter Tuning\n",
    "### Pipeline GridSearch\n",
    "## Modelling\n",
    "## Evaluations"
   ]
  },
  {
   "cell_type": "markdown",
   "metadata": {},
   "source": [
    "## Detecting Outliers: Using both the Z-Score and IQR methods\n",
    "    Now that preprocessed the data and building the target variable of Salary let's see conduct a bit more EDA to see if there are any outliers that could potentially skew how the regressor will learn from the training data."
   ]
  },
  {
   "cell_type": "code",
   "execution_count": null,
   "metadata": {},
   "outputs": [],
   "source": [
    "ax = sns.pairplot(data=munged[munged.salary.notnull()],\n",
    "                  x_vars=['dateposted'],\n",
    "                  y_vars=['salary'], height=8, hue=\"salary\", palette=\"crest\")\n",
    "\n",
    "ax.fig.set_size_inches(18,4)"
   ]
  },
  {
   "cell_type": "markdown",
   "metadata": {},
   "source": [
    "A plot is helpful in isualizing data, but let's program a few functions to detect and remove outliers based on thresholds.\n",
    "With the Z-Score, we can determine any data outside 3 standard deviations from the mean of our salary data to be an outlier.\n",
    "Wheras with the interquartile (IQR) range, the middle 50% of given salaries, I'll set the conventional cutoff of 1.5+/- the IQR as the cutoff.\n",
    "Values found outside of either range will be collected into a list and that'll allow for some fancy indexing so those particular postings can be examined and removed programatically."
   ]
  },
  {
   "cell_type": "markdown",
   "metadata": {},
   "source": [
    "#### Z-Score\n",
    "Salaries 3 standard deviations away from the mean will be listed as outliers."
   ]
  },
  {
   "cell_type": "code",
   "execution_count": null,
   "metadata": {},
   "outputs": [],
   "source": [
    "outliers = []\n",
    "def z_detect(munged):\n",
    "    sample = munged[munged['salary'].notnull()].salary\n",
    "    threshold=3\n",
    "    mean = np.mean(sample)\n",
    "    std = np.std(sample)\n",
    "    \n",
    "    for i in sample:\n",
    "        z_score = (i-mean)/std\n",
    "        if np.abs(z_score) > threshold:\n",
    "            outliers.append(i)\n",
    "    if len(outliers) == 0:\n",
    "        pass\n",
    "    else:\n",
    "        return outliers\n",
    "z_detect(munged)"
   ]
  },
  {
   "cell_type": "code",
   "execution_count": null,
   "metadata": {},
   "outputs": [],
   "source": [
    "munged"
   ]
  },
  {
   "cell_type": "markdown",
   "metadata": {},
   "source": [
    "#### IQR\n",
    "Salaries outside 1.5 times the interquartile range boundaries, either above or below will be listed as outliers."
   ]
  },
  {
   "cell_type": "code",
   "execution_count": null,
   "metadata": {},
   "outputs": [],
   "source": [
    "def iqr_detect(munged):\n",
    "    sample = munged[munged['salary'].notnull()].salary\n",
    "    Q1, Q3 = np.percentile(sample,[25,75])\n",
    "    iqr = Q3-Q1\n",
    "    lower_bound = Q1-(1.5*iqr)\n",
    "    upper_bound = Q3+(1.5*iqr)\n",
    "    for i in sample:\n",
    "        if (i < lower_bound)  | (i > upper_bound):\n",
    "            outliers.append(i)\n",
    "    if len(outliers) == 0:\n",
    "        pass\n",
    "    else:\n",
    "        return outliers\n",
    "set(iqr_detect(munged))"
   ]
  },
  {
   "cell_type": "code",
   "execution_count": null,
   "metadata": {},
   "outputs": [],
   "source": [
    "def unique(list1):\n",
    "    list_set = set(list1)\n",
    "    # convert the set to the list\n",
    "    unique_list = (list(list_set))\n",
    "    for x in unique_list:\n",
    "        print(x)\n",
    "        \n",
    "mn = min(outliers)\n",
    "mx = max(outliers)\n",
    "print(f'The {len(set(outliers))} Unique Outliers Are:')\n",
    "unique(outliers)\n",
    "print(f'- With a minumum of ${round(mn)} and a maximum of ${round(mx)}')"
   ]
  },
  {
   "cell_type": "code",
   "execution_count": null,
   "metadata": {},
   "outputs": [],
   "source": [
    "# Take a look at those tables.\n",
    "\n",
    "outliers = munged[munged['salary'].isin(outliers)]\n",
    "munged.drop(outliers.index, axis=0,inplace=True)\n",
    "outliers"
   ]
  },
  {
   "cell_type": "code",
   "execution_count": null,
   "metadata": {},
   "outputs": [],
   "source": [
    "null = len(munged[munged.salary.isnull()])\n",
    "\n",
    "nnull = len(munged[munged.salary.notnull()])"
   ]
  },
  {
   "cell_type": "code",
   "execution_count": null,
   "metadata": {},
   "outputs": [],
   "source": [
    "ax = sns.pairplot(data=munged[munged.salary.notnull()],\n",
    "                  x_vars=['dateposted'],\n",
    "                  y_vars=['salary'], height=8, hue=\"salary\", palette=\"crest\")\n",
    "\n",
    "ax.fig.set_size_inches(18,4)"
   ]
  },
  {
   "cell_type": "code",
   "execution_count": null,
   "metadata": {},
   "outputs": [],
   "source": [
    "sns.countplot(x='salary', data=munged.notnull(), palette='Set3')\n",
    "print(f'- Dropping {len(outliers)} outliers now leaves {nnull}, or {round(nnull/len(munged)*100,2)}%, of rows with with salary information,\\n- The remaining {null} rows, or {round(null/len(munged)*100,2)}%, are missing salary data.')\n"
   ]
  },
  {
   "cell_type": "code",
   "execution_count": null,
   "metadata": {},
   "outputs": [],
   "source": [
    "munged.info()"
   ]
  },
  {
   "cell_type": "code",
   "execution_count": null,
   "metadata": {},
   "outputs": [],
   "source": [
    "munged.to_csv(f'../app/data/wrangled_data.csv', index=False)"
   ]
  },
  {
   "cell_type": "code",
   "execution_count": null,
   "metadata": {},
   "outputs": [],
   "source": [
    "munged.info()"
   ]
  },
  {
   "cell_type": "code",
   "execution_count": null,
   "metadata": {},
   "outputs": [],
   "source": [
    "munged.info(memory_usage='deep')"
   ]
  },
  {
   "cell_type": "markdown",
   "metadata": {},
   "source": []
  },
  {
   "cell_type": "code",
   "execution_count": null,
   "metadata": {},
   "outputs": [],
   "source": [
    "munged.drop('location',inplace=True,axis=1)"
   ]
  },
  {
   "cell_type": "code",
   "execution_count": null,
   "metadata": {},
   "outputs": [],
   "source": [
    "munged.info(memory_usage='deep')"
   ]
  },
  {
   "cell_type": "code",
   "execution_count": null,
   "metadata": {},
   "outputs": [],
   "source": []
  },
  {
   "cell_type": "code",
   "execution_count": null,
   "metadata": {},
   "outputs": [],
   "source": []
  }
 ],
 "metadata": {
  "interpreter": {
   "hash": "ac83f05b37eb5c5c49ba67e50f0047ddfbc4b30205fc79ee5f327b9c0ac37f55"
  },
  "kernelspec": {
   "display_name": "Python 3.8.10 ('indeedapp')",
   "language": "python",
   "name": "python3"
  },
  "language_info": {
   "codemirror_mode": {
    "name": "ipython",
    "version": 3
   },
   "file_extension": ".py",
   "mimetype": "text/x-python",
   "name": "python",
   "nbconvert_exporter": "python",
   "pygments_lexer": "ipython3",
   "version": "3.8.10"
  },
  "metadata": {
   "interpreter": {
    "hash": "46216370387cf43888a1dc9433c5a4546bda9feed2ad4f35c2a851da9960dc54"
   }
  }
 },
 "nbformat": 4,
 "nbformat_minor": 4
}
