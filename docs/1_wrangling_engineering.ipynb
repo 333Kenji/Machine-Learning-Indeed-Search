{
 "cells": [
  {
   "cell_type": "code",
   "execution_count": 430,
   "metadata": {},
   "outputs": [],
   "source": [
    "import numpy as np\n",
    "import pandas as pd\n",
    "from datetime import datetime, date, timedelta\n",
    "import re\n",
    "\n",
    "from scipy.stats import norm, pearsonr, chi2_contingency, mode\n",
    "from sklearn.preprocessing import OneHotEncoder, StandardScaler, MinMaxScaler\n",
    "from sklearn.feature_extraction.text import TfidfVectorizer\n",
    "from nltk.stem.snowball import SnowballStemmer\n",
    "from nltk.stem import WordNetLemmatizer\n",
    "from sklearn.model_selection import train_test_split, cross_validate, GridSearchCV\n",
    "\n",
    "from sklearn.pipeline import Pipeline\n",
    "from sklearn.compose import ColumnTransformer\n",
    "from sklearn import set_config\n",
    "set_config(display='diagram')\n",
    "\n",
    "from sklearn.linear_model import LogisticRegression\n",
    "from sklearn.metrics import classification_report, confusion_matrix, accuracy_score, log_loss, roc_auc_score, roc_curve, hamming_loss,precision_score,recall_score,f1_score\n",
    "\n",
    "from confusion import make_confusion_matrix\n",
    "\n",
    "import matplotlib.pyplot as plt\n",
    "import seaborn as sns\n",
    "from to_img import to_img\n",
    "\n",
    "plt.rcParams['figure.figsize'] = (8, 6)\n",
    "plt.rcParams['font.size'] = 17\n",
    "import warnings # current version of seaborn generates a bunch of warnings that we'll ignore\n",
    "warnings.filterwarnings(\"ignore\")\n",
    "sns.set(style=\"ticks\", color_codes=True)\n",
    "\n",
    "%matplotlib inline"
   ]
  },
  {
   "cell_type": "markdown",
   "metadata": {},
   "source": [
    "## 1. Data\n",
    "\n",
    "The data consists of text scraped from every search result for 'data science/scientist' on Indeed.com using the [Requests](https://docs.python-requests.org/en/master/ \"Requests Library\"), Tor, and [BeautifulSoup](https://www.crummy.com/software/BeautifulSoup/bs4/doc/ \"BeautifulSoup\") libraries.\n",
    "\n",
    "### 1.1 Load and Inspect Table"
   ]
  },
  {
   "cell_type": "code",
   "execution_count": 431,
   "metadata": {},
   "outputs": [
    {
     "name": "stdout",
     "output_type": "stream",
     "text": [
      "11023\n",
      "<class 'pandas.core.frame.DataFrame'>\n",
      "RangeIndex: 11023 entries, 0 to 11022\n",
      "Data columns (total 12 columns):\n",
      " #   Column            Non-Null Count  Dtype  \n",
      "---  ------            --------------  -----  \n",
      " 0   company           11023 non-null  object \n",
      " 1   description       11023 non-null  object \n",
      " 2   estimated_salary  3666 non-null   object \n",
      " 3   extractDate       11023 non-null  object \n",
      " 4   location          11023 non-null  object \n",
      " 5   postDate          11023 non-null  object \n",
      " 6   rating            8707 non-null   float64\n",
      " 7   requirements      739 non-null    object \n",
      " 8   salary            7422 non-null   object \n",
      " 9   summary           11023 non-null  object \n",
      " 10  title             11023 non-null  object \n",
      " 11  url               11023 non-null  object \n",
      "dtypes: float64(1), object(11)\n",
      "memory usage: 102.5 MB\n"
     ]
    },
    {
     "data": {
      "text/html": [
       "<div>\n",
       "<style scoped>\n",
       "    .dataframe tbody tr th:only-of-type {\n",
       "        vertical-align: middle;\n",
       "    }\n",
       "\n",
       "    .dataframe tbody tr th {\n",
       "        vertical-align: top;\n",
       "    }\n",
       "\n",
       "    .dataframe thead th {\n",
       "        text-align: right;\n",
       "    }\n",
       "</style>\n",
       "<table border=\"1\" class=\"dataframe\">\n",
       "  <thead>\n",
       "    <tr style=\"text-align: right;\">\n",
       "      <th></th>\n",
       "      <th>company</th>\n",
       "      <th>description</th>\n",
       "      <th>estimated_salary</th>\n",
       "      <th>extractDate</th>\n",
       "      <th>location</th>\n",
       "      <th>postDate</th>\n",
       "      <th>rating</th>\n",
       "      <th>requirements</th>\n",
       "      <th>salary</th>\n",
       "      <th>summary</th>\n",
       "      <th>title</th>\n",
       "      <th>url</th>\n",
       "    </tr>\n",
       "  </thead>\n",
       "  <tbody>\n",
       "    <tr>\n",
       "      <th>0</th>\n",
       "      <td>Northrop Grumman</td>\n",
       "      <td>Requisition ID: R10053754Category: Engineering...</td>\n",
       "      <td>NaN</td>\n",
       "      <td>2022-07-20</td>\n",
       "      <td>Huntsville, AL</td>\n",
       "      <td>PostedToday</td>\n",
       "      <td>4.0</td>\n",
       "      <td>NaN</td>\n",
       "      <td>$71,100 - $138,400 a year</td>\n",
       "      <td>Support the design, develop, and document the ...</td>\n",
       "      <td>Sentinel (GBSD) Software Engineer/Data Scienti...</td>\n",
       "      <td>https://www.indeed.com/rc/clk?jk=b2d23fef7cf5a...</td>\n",
       "    </tr>\n",
       "    <tr>\n",
       "      <th>1</th>\n",
       "      <td>AL2S3 LTD</td>\n",
       "      <td>Job Description  An award-winning lobal early ...</td>\n",
       "      <td>['', 'Not provided by employer', \"$114K - $145...</td>\n",
       "      <td>2022-07-20</td>\n",
       "      <td>United States</td>\n",
       "      <td>PostedPosted 1 day ago</td>\n",
       "      <td>NaN</td>\n",
       "      <td>NaN</td>\n",
       "      <td>NaN</td>\n",
       "      <td>Manipulate, summarise and analyse clinical tri...</td>\n",
       "      <td>Senior Statistician</td>\n",
       "      <td>https://www.indeed.com/pagead/clk?mo=r&amp;ad=-6NY...</td>\n",
       "    </tr>\n",
       "    <tr>\n",
       "      <th>2</th>\n",
       "      <td>Bigbear.ai</td>\n",
       "      <td>Overview:   BigBear.ai is seeking a Data Mana...</td>\n",
       "      <td>['', 'Not provided by employer', \"$102K - $129...</td>\n",
       "      <td>2022-07-20</td>\n",
       "      <td>Montgomery, AL 36114</td>\n",
       "      <td>PostedPosted 1 day ago</td>\n",
       "      <td>4.8</td>\n",
       "      <td>NaN</td>\n",
       "      <td>Full-time</td>\n",
       "      <td>Federal Government, as well as customers in th...</td>\n",
       "      <td>Data Manager III</td>\n",
       "      <td>https://www.indeed.com/rc/clk?jk=2384cca332c13...</td>\n",
       "    </tr>\n",
       "  </tbody>\n",
       "</table>\n",
       "</div>"
      ],
      "text/plain": [
       "            company                                        description  \\\n",
       "0  Northrop Grumman  Requisition ID: R10053754Category: Engineering...   \n",
       "1         AL2S3 LTD  Job Description  An award-winning lobal early ...   \n",
       "2        Bigbear.ai   Overview:   BigBear.ai is seeking a Data Mana...   \n",
       "\n",
       "                                    estimated_salary extractDate  \\\n",
       "0                                                NaN  2022-07-20   \n",
       "1  ['', 'Not provided by employer', \"$114K - $145...  2022-07-20   \n",
       "2  ['', 'Not provided by employer', \"$102K - $129...  2022-07-20   \n",
       "\n",
       "               location                postDate  rating requirements  \\\n",
       "0        Huntsville, AL             PostedToday     4.0          NaN   \n",
       "1         United States  PostedPosted 1 day ago     NaN          NaN   \n",
       "2  Montgomery, AL 36114  PostedPosted 1 day ago     4.8          NaN   \n",
       "\n",
       "                      salary  \\\n",
       "0  $71,100 - $138,400 a year   \n",
       "1                        NaN   \n",
       "2                  Full-time   \n",
       "\n",
       "                                             summary  \\\n",
       "0  Support the design, develop, and document the ...   \n",
       "1  Manipulate, summarise and analyse clinical tri...   \n",
       "2  Federal Government, as well as customers in th...   \n",
       "\n",
       "                                               title  \\\n",
       "0  Sentinel (GBSD) Software Engineer/Data Scienti...   \n",
       "1                                Senior Statistician   \n",
       "2                                   Data Manager III   \n",
       "\n",
       "                                                 url  \n",
       "0  https://www.indeed.com/rc/clk?jk=b2d23fef7cf5a...  \n",
       "1  https://www.indeed.com/pagead/clk?mo=r&ad=-6NY...  \n",
       "2  https://www.indeed.com/rc/clk?jk=2384cca332c13...  "
      ]
     },
     "execution_count": 431,
     "metadata": {},
     "output_type": "execute_result"
    }
   ],
   "source": [
    "# usecols is a memory saver. The entire table is in the low gigabytes, largly because I'm saving the raw HTML each record is derived from.\n",
    "cols = ['rating', 'company', 'title', 'location', 'extractDate', 'postDate', 'requirements', 'description', 'summary', 'salary', 'estimated_salary', 'url']\n",
    "#data = pd.read_csv('../app/data/total.csv',usecols=cols)\n",
    "data = pd.read_csv('../app/data/total.csv',usecols=cols)\n",
    "print(len(data))\n",
    "data.info(memory_usage='deep')\n",
    "data.head(3)"
   ]
  },
  {
   "cell_type": "markdown",
   "metadata": {},
   "source": [
    "The table above is a view of the raw data from the scrape. I'll build the target by reducing the pay column to floating point values; this will require text cleaning which will also be conducted for the rest of the table. Location will be split into new columns for City and State while and because Indeed's search results show dates relative to the date the query was made I'll need to use PostDate and ExtractDate build a DatePosted column. It is important to note that JobUrl and date-related columns will not be converted into features for the logistic regression, instead they will be reattached to the data at the end in order to provide additional information and insights through the EC2 application. The only rows that'l  be using for modelling are JobTitle, Company, Summary, Requirements, and Description.\n",
    "\n",
    "\n"
   ]
  },
  {
   "cell_type": "code",
   "execution_count": 432,
   "metadata": {},
   "outputs": [
    {
     "name": "stdout",
     "output_type": "stream",
     "text": [
      "requirements        10284\n",
      "estimated_salary     7357\n",
      "salary               3601\n",
      "rating               2316\n",
      "company                 0\n",
      "description             0\n",
      "extractDate             0\n",
      "location                0\n",
      "postDate                0\n",
      "summary                 0\n",
      "title                   0\n",
      "url                     0\n",
      "dtype: int64\n"
     ]
    }
   ],
   "source": [
    "# check for missing\n",
    "print(data.isna().sum().sort_values(ascending=False))\n",
    "data.description.dropna(axis=0, inplace=True)\n"
   ]
  },
  {
   "cell_type": "code",
   "execution_count": 433,
   "metadata": {},
   "outputs": [
    {
     "name": "stdout",
     "output_type": "stream",
     "text": [
      "Number of dupes: 8302\n"
     ]
    }
   ],
   "source": [
    "# check for duplcates.\n",
    "dupes = data.duplicated()\n",
    "print(f'Number of dupes: {sum(dupes)}')\n",
    "\n",
    "\n",
    "#data.drop_duplicates(inplace=True)\n",
    "\n",
    "# renaming columns\n",
    "data.columns = map(str.lower, data.columns)\n",
    "data = data.rename({'title': 'job_title'}, axis=1)"
   ]
  },
  {
   "cell_type": "markdown",
   "metadata": {},
   "source": [
    "The likelihood of seeing duplicates coming from the raw scrapping is very unlikely, but this is still a good check to do in case something changes with Indeed.com's front-end code."
   ]
  },
  {
   "cell_type": "code",
   "execution_count": 434,
   "metadata": {},
   "outputs": [
    {
     "name": "stdout",
     "output_type": "stream",
     "text": [
      "<class 'pandas.core.frame.DataFrame'>\n",
      "RangeIndex: 11023 entries, 0 to 11022\n",
      "Data columns (total 12 columns):\n",
      " #   Column            Non-Null Count  Dtype  \n",
      "---  ------            --------------  -----  \n",
      " 0   company           11023 non-null  object \n",
      " 1   description       11023 non-null  object \n",
      " 2   estimated_salary  3666 non-null   object \n",
      " 3   extractdate       11023 non-null  object \n",
      " 4   location          11023 non-null  object \n",
      " 5   postdate          11023 non-null  object \n",
      " 6   rating            8707 non-null   float64\n",
      " 7   requirements      739 non-null    object \n",
      " 8   salary            7422 non-null   object \n",
      " 9   summary           11023 non-null  object \n",
      " 10  job_title         11023 non-null  object \n",
      " 11  url               11023 non-null  object \n",
      "dtypes: float64(1), object(11)\n",
      "memory usage: 1.0+ MB\n"
     ]
    }
   ],
   "source": [
    "data.info()"
   ]
  },
  {
   "cell_type": "markdown",
   "metadata": {},
   "source": [
    "Missing values are another story. It seems that Indeed.com doesn't require employers to provide values for every feature, this certainly seems to be the case with requirements, not to mention everywhere salary information coud be held.\\\n",
    "Others, like estimated salary and ratings are generated by Indeed.com but don't exist for every posting.\\\n",
    "job_type_items and salary_and_jType will likely be collapsed into a new column for job types, I'll also do the same with all of the salary related features to build the model's target."
   ]
  },
  {
   "cell_type": "markdown",
   "metadata": {},
   "source": [
    "### 1.1 Diagnose Data\n",
    "In order to proceed with any statistical or exploratory data analysis I will need to wrangle the data quite a bit.\n",
    "Here, I'll list each of the current feature columns and briefly describe what I'll need to do with them.\n",
    "\n",
    "Column Groups and Needs\n",
    "Simple\n",
    "Salary\n",
    "Text\n",
    "etc"
   ]
  },
  {
   "cell_type": "markdown",
   "metadata": {},
   "source": [
    "#### 1.2 Features\n"
   ]
  },
  {
   "cell_type": "markdown",
   "metadata": {},
   "source": [
    "#### Data Dictionary\n",
    "\n",
    "<style>\n",
    "td, th {\n",
    "   border: none!important;\n",
    "}\n",
    "</style>\n",
    "\n",
    "\n",
    "| Feature      | Description \n",
    "|  :----:       |    :---   |\n",
    "| rating   | Indeed.com ascribed company ratings        |\n",
    "| company      | name of company       |\n",
    "| location   | state and city/remote        |\n",
    "| **Date Information**      |\n",
    "| extractDate   | date record was webscrapped        |\n",
    "| postDate   | date job posting was created        |\n",
    "| **Descriptive Text**      |\n",
    "| title   | job position title        |\n",
    "| requirements   | employer-listed educational, aptitudes, and experience requirements        |\n",
    "| summary   | brief summaries of each job extracted from sach results        |\n",
    "| description   | full text description of job        |\n",
    "| **Salary Information**      |\n",
    "| sal_guide_items   | formatted list containing redundant characters and the Indeed salary estimate        |\n",
    "| salary   | if given by employer        |\n",
    "| salary_and_jType   | formatted list combining salary from salfromsection and job_type_items        |\n",
    "| salfromsection   | salary, if given, extracted from job description        |\n",
    "| estimated_salary   | Indeed's salary estimationname of company        |\n",
    "| **etc.**      |\n",
    "| raw_desc_soup   | raw full description, retained for possible future use/analysis        |\n",
    "| job_type_items   | formatted list of 'full-time', 'part-time', etc        |\n",
    "| url   | url of postings specific web page on Indeed.com        |"
   ]
  },
  {
   "cell_type": "code",
   "execution_count": 435,
   "metadata": {},
   "outputs": [
    {
     "name": "stdout",
     "output_type": "stream",
     "text": [
      "requirements        10284\n",
      "estimated_salary     7357\n",
      "salary               3601\n",
      "rating               2316\n",
      "company                 0\n",
      "description             0\n",
      "extractdate             0\n",
      "location                0\n",
      "postdate                0\n",
      "summary                 0\n",
      "job_title               0\n",
      "url                     0\n",
      "dtype: int64\n"
     ]
    }
   ],
   "source": [
    "# check for missing\n",
    "print(data.isna().sum().sort_values(ascending=False))"
   ]
  },
  {
   "cell_type": "code",
   "execution_count": 436,
   "metadata": {},
   "outputs": [
    {
     "data": {
      "text/plain": [
       "url                 2472\n",
       "summary              689\n",
       "description          539\n",
       "location             537\n",
       "company              384\n",
       "job_title            372\n",
       "estimated_salary     194\n",
       "salary               128\n",
       "requirements          36\n",
       "rating                27\n",
       "postdate               6\n",
       "extractdate            3\n",
       "dtype: int64"
      ]
     },
     "execution_count": 436,
     "metadata": {},
     "output_type": "execute_result"
    }
   ],
   "source": [
    "data.nunique().sort_values(ascending=False)"
   ]
  },
  {
   "cell_type": "code",
   "execution_count": 437,
   "metadata": {},
   "outputs": [
    {
     "data": {
      "text/html": [
       "<div>\n",
       "<style scoped>\n",
       "    .dataframe tbody tr th:only-of-type {\n",
       "        vertical-align: middle;\n",
       "    }\n",
       "\n",
       "    .dataframe tbody tr th {\n",
       "        vertical-align: top;\n",
       "    }\n",
       "\n",
       "    .dataframe thead th {\n",
       "        text-align: right;\n",
       "    }\n",
       "</style>\n",
       "<table border=\"1\" class=\"dataframe\">\n",
       "  <thead>\n",
       "    <tr style=\"text-align: right;\">\n",
       "      <th></th>\n",
       "      <th>company</th>\n",
       "      <th>description</th>\n",
       "      <th>estimated_salary</th>\n",
       "      <th>extractdate</th>\n",
       "      <th>location</th>\n",
       "      <th>postdate</th>\n",
       "      <th>rating</th>\n",
       "      <th>requirements</th>\n",
       "      <th>salary</th>\n",
       "      <th>summary</th>\n",
       "      <th>job_title</th>\n",
       "      <th>url</th>\n",
       "    </tr>\n",
       "  </thead>\n",
       "  <tbody>\n",
       "    <tr>\n",
       "      <th>count</th>\n",
       "      <td>11023</td>\n",
       "      <td>11023</td>\n",
       "      <td>3666</td>\n",
       "      <td>11023</td>\n",
       "      <td>11023</td>\n",
       "      <td>11023</td>\n",
       "      <td>8707.000000</td>\n",
       "      <td>739</td>\n",
       "      <td>7422</td>\n",
       "      <td>11023</td>\n",
       "      <td>11023</td>\n",
       "      <td>11023</td>\n",
       "    </tr>\n",
       "    <tr>\n",
       "      <th>unique</th>\n",
       "      <td>384</td>\n",
       "      <td>539</td>\n",
       "      <td>194</td>\n",
       "      <td>3</td>\n",
       "      <td>537</td>\n",
       "      <td>6</td>\n",
       "      <td>NaN</td>\n",
       "      <td>36</td>\n",
       "      <td>128</td>\n",
       "      <td>689</td>\n",
       "      <td>372</td>\n",
       "      <td>2472</td>\n",
       "    </tr>\n",
       "    <tr>\n",
       "      <th>top</th>\n",
       "      <td>KPMG</td>\n",
       "      <td>The KPMG Advisory practice is currently our fa...</td>\n",
       "      <td>['', 'Not provided by employer', \"$114K - $145...</td>\n",
       "      <td>2022-07-19</td>\n",
       "      <td>United States</td>\n",
       "      <td>PostedToday</td>\n",
       "      <td>NaN</td>\n",
       "      <td>Bachelor's (Required)US work authorization (Re...</td>\n",
       "      <td>Full-time</td>\n",
       "      <td>Analyze structured and unstructured data, unde...</td>\n",
       "      <td>Data Scientist</td>\n",
       "      <td>https://www.indeed.com/rc/clk?jk=920c25011a399...</td>\n",
       "    </tr>\n",
       "    <tr>\n",
       "      <th>freq</th>\n",
       "      <td>738</td>\n",
       "      <td>326</td>\n",
       "      <td>237</td>\n",
       "      <td>5792</td>\n",
       "      <td>386</td>\n",
       "      <td>5809</td>\n",
       "      <td>NaN</td>\n",
       "      <td>137</td>\n",
       "      <td>4041</td>\n",
       "      <td>322</td>\n",
       "      <td>1025</td>\n",
       "      <td>111</td>\n",
       "    </tr>\n",
       "    <tr>\n",
       "      <th>mean</th>\n",
       "      <td>NaN</td>\n",
       "      <td>NaN</td>\n",
       "      <td>NaN</td>\n",
       "      <td>NaN</td>\n",
       "      <td>NaN</td>\n",
       "      <td>NaN</td>\n",
       "      <td>3.800287</td>\n",
       "      <td>NaN</td>\n",
       "      <td>NaN</td>\n",
       "      <td>NaN</td>\n",
       "      <td>NaN</td>\n",
       "      <td>NaN</td>\n",
       "    </tr>\n",
       "    <tr>\n",
       "      <th>std</th>\n",
       "      <td>NaN</td>\n",
       "      <td>NaN</td>\n",
       "      <td>NaN</td>\n",
       "      <td>NaN</td>\n",
       "      <td>NaN</td>\n",
       "      <td>NaN</td>\n",
       "      <td>0.447490</td>\n",
       "      <td>NaN</td>\n",
       "      <td>NaN</td>\n",
       "      <td>NaN</td>\n",
       "      <td>NaN</td>\n",
       "      <td>NaN</td>\n",
       "    </tr>\n",
       "    <tr>\n",
       "      <th>min</th>\n",
       "      <td>NaN</td>\n",
       "      <td>NaN</td>\n",
       "      <td>NaN</td>\n",
       "      <td>NaN</td>\n",
       "      <td>NaN</td>\n",
       "      <td>NaN</td>\n",
       "      <td>1.000000</td>\n",
       "      <td>NaN</td>\n",
       "      <td>NaN</td>\n",
       "      <td>NaN</td>\n",
       "      <td>NaN</td>\n",
       "      <td>NaN</td>\n",
       "    </tr>\n",
       "    <tr>\n",
       "      <th>25%</th>\n",
       "      <td>NaN</td>\n",
       "      <td>NaN</td>\n",
       "      <td>NaN</td>\n",
       "      <td>NaN</td>\n",
       "      <td>NaN</td>\n",
       "      <td>NaN</td>\n",
       "      <td>3.600000</td>\n",
       "      <td>NaN</td>\n",
       "      <td>NaN</td>\n",
       "      <td>NaN</td>\n",
       "      <td>NaN</td>\n",
       "      <td>NaN</td>\n",
       "    </tr>\n",
       "    <tr>\n",
       "      <th>50%</th>\n",
       "      <td>NaN</td>\n",
       "      <td>NaN</td>\n",
       "      <td>NaN</td>\n",
       "      <td>NaN</td>\n",
       "      <td>NaN</td>\n",
       "      <td>NaN</td>\n",
       "      <td>3.900000</td>\n",
       "      <td>NaN</td>\n",
       "      <td>NaN</td>\n",
       "      <td>NaN</td>\n",
       "      <td>NaN</td>\n",
       "      <td>NaN</td>\n",
       "    </tr>\n",
       "    <tr>\n",
       "      <th>75%</th>\n",
       "      <td>NaN</td>\n",
       "      <td>NaN</td>\n",
       "      <td>NaN</td>\n",
       "      <td>NaN</td>\n",
       "      <td>NaN</td>\n",
       "      <td>NaN</td>\n",
       "      <td>4.000000</td>\n",
       "      <td>NaN</td>\n",
       "      <td>NaN</td>\n",
       "      <td>NaN</td>\n",
       "      <td>NaN</td>\n",
       "      <td>NaN</td>\n",
       "    </tr>\n",
       "    <tr>\n",
       "      <th>max</th>\n",
       "      <td>NaN</td>\n",
       "      <td>NaN</td>\n",
       "      <td>NaN</td>\n",
       "      <td>NaN</td>\n",
       "      <td>NaN</td>\n",
       "      <td>NaN</td>\n",
       "      <td>5.000000</td>\n",
       "      <td>NaN</td>\n",
       "      <td>NaN</td>\n",
       "      <td>NaN</td>\n",
       "      <td>NaN</td>\n",
       "      <td>NaN</td>\n",
       "    </tr>\n",
       "  </tbody>\n",
       "</table>\n",
       "</div>"
      ],
      "text/plain": [
       "       company                                        description  \\\n",
       "count    11023                                              11023   \n",
       "unique     384                                                539   \n",
       "top       KPMG  The KPMG Advisory practice is currently our fa...   \n",
       "freq       738                                                326   \n",
       "mean       NaN                                                NaN   \n",
       "std        NaN                                                NaN   \n",
       "min        NaN                                                NaN   \n",
       "25%        NaN                                                NaN   \n",
       "50%        NaN                                                NaN   \n",
       "75%        NaN                                                NaN   \n",
       "max        NaN                                                NaN   \n",
       "\n",
       "                                         estimated_salary extractdate  \\\n",
       "count                                                3666       11023   \n",
       "unique                                                194           3   \n",
       "top     ['', 'Not provided by employer', \"$114K - $145...  2022-07-19   \n",
       "freq                                                  237        5792   \n",
       "mean                                                  NaN         NaN   \n",
       "std                                                   NaN         NaN   \n",
       "min                                                   NaN         NaN   \n",
       "25%                                                   NaN         NaN   \n",
       "50%                                                   NaN         NaN   \n",
       "75%                                                   NaN         NaN   \n",
       "max                                                   NaN         NaN   \n",
       "\n",
       "             location     postdate       rating  \\\n",
       "count           11023        11023  8707.000000   \n",
       "unique            537            6          NaN   \n",
       "top     United States  PostedToday          NaN   \n",
       "freq              386         5809          NaN   \n",
       "mean              NaN          NaN     3.800287   \n",
       "std               NaN          NaN     0.447490   \n",
       "min               NaN          NaN     1.000000   \n",
       "25%               NaN          NaN     3.600000   \n",
       "50%               NaN          NaN     3.900000   \n",
       "75%               NaN          NaN     4.000000   \n",
       "max               NaN          NaN     5.000000   \n",
       "\n",
       "                                             requirements     salary  \\\n",
       "count                                                 739       7422   \n",
       "unique                                                 36        128   \n",
       "top     Bachelor's (Required)US work authorization (Re...  Full-time   \n",
       "freq                                                  137       4041   \n",
       "mean                                                  NaN        NaN   \n",
       "std                                                   NaN        NaN   \n",
       "min                                                   NaN        NaN   \n",
       "25%                                                   NaN        NaN   \n",
       "50%                                                   NaN        NaN   \n",
       "75%                                                   NaN        NaN   \n",
       "max                                                   NaN        NaN   \n",
       "\n",
       "                                                  summary       job_title  \\\n",
       "count                                               11023           11023   \n",
       "unique                                                689             372   \n",
       "top     Analyze structured and unstructured data, unde...  Data Scientist   \n",
       "freq                                                  322            1025   \n",
       "mean                                                  NaN             NaN   \n",
       "std                                                   NaN             NaN   \n",
       "min                                                   NaN             NaN   \n",
       "25%                                                   NaN             NaN   \n",
       "50%                                                   NaN             NaN   \n",
       "75%                                                   NaN             NaN   \n",
       "max                                                   NaN             NaN   \n",
       "\n",
       "                                                      url  \n",
       "count                                               11023  \n",
       "unique                                               2472  \n",
       "top     https://www.indeed.com/rc/clk?jk=920c25011a399...  \n",
       "freq                                                  111  \n",
       "mean                                                  NaN  \n",
       "std                                                   NaN  \n",
       "min                                                   NaN  \n",
       "25%                                                   NaN  \n",
       "50%                                                   NaN  \n",
       "75%                                                   NaN  \n",
       "max                                                   NaN  "
      ]
     },
     "execution_count": 437,
     "metadata": {},
     "output_type": "execute_result"
    }
   ],
   "source": [
    "data.describe(include='all')"
   ]
  },
  {
   "cell_type": "markdown",
   "metadata": {},
   "source": [
    "##### 1.2a Rating\n",
    "\n",
    "As the only feature coming in with numeric (float) values I should just need to scale it. I'll address missing values by imputing zero. The rationale behind this is that an unrated company should simply be rated as zero.\n",
    "print(sorted(data.rating.unique()))\n",
    "\n",
    "'rating'\\\n",
    "Roughly a third of the data is missing values for the company rating feature. At first I used np.fillna(0) to imput 0 for all the missing values but that sharply right-skewed the distribution towards zero.\\\n",
    "Then I checked is scaling the data would fix the bi-modality but I think I have two options here, drop all those records or drop a potentially valuable feature.\\\n",
    "For now, I'll drop the records, I can always get more, and in the future I could conduct linear regression to imput the values."
   ]
  },
  {
   "cell_type": "code",
   "execution_count": 438,
   "metadata": {},
   "outputs": [
    {
     "name": "stdout",
     "output_type": "stream",
     "text": [
      "-- rating report --\n",
      "Missing 2316 out of 11023 Records\n",
      "Percent Missing: 21.0%\n",
      "Unique Values: 28\n",
      "Min: 1.0\n",
      "Max: 5.0\n",
      "Mean: 3.8003\n",
      "Mode: 3.9\n",
      "Std.Dev: 0.4475\n"
     ]
    }
   ],
   "source": [
    "def featureReport(data,feature):\n",
    "    \"\"\"Returns summary information for a given feature.\n",
    "\n",
    "    Args:\n",
    "        data (DataFrame): data collection\n",
    "        feature (DataFrame): particular feature identifier\n",
    "    \"\"\"\n",
    "    data_len = len(data)\n",
    "    missing_len = len(data[data[feature].isna()])\n",
    "    print(f'-- {feature} report --')\n",
    "    if missing_len > 0:\n",
    "        print(f'Missing {missing_len} out of {data_len} Records')\n",
    "        print(f'Percent Missing: {round((missing_len/data_len)*100,1)}%')\n",
    "    else:\n",
    "        print('Nothing Missing')\n",
    "        print(f'Records: {data_len}')\n",
    "    \n",
    "    print(f'Unique Values: {len(data[feature].unique())}')\n",
    "\n",
    "    notna = data[feature].notna()\n",
    "\n",
    "    if (data[feature].dtype != (object)) and feature !='dateposted':\n",
    "\n",
    "        mini = np.min(data[notna][feature])\n",
    "        if mini != None:\n",
    "            print(f'Min: {round(mini,4)}')\n",
    "\n",
    "        maxi = np.max(data[notna][feature])\n",
    "        if maxi != None:\n",
    "            print(f'Max: {round(maxi,4)}')\n",
    "\n",
    "        mean = np.mean(data[notna][feature])\n",
    "        if mean != None:\n",
    "            print(f'Mean: {round(mean,4)}')\n",
    "\n",
    "        mode_ = mode(data[notna][feature])[0][0]\n",
    "        if mode_ != None:\n",
    "            print(f'Mode: {round(mode_,4)}')\n",
    "\n",
    "        std = np.std(data[notna][feature])\n",
    "        if std != None:\n",
    "            print(f'Std.Dev: {round(std,4)}')\n",
    "        #Percentage=(missing_len/len_data)*100\n",
    "\n",
    "\n",
    "featureReport(data, feature = 'rating')"
   ]
  },
  {
   "cell_type": "markdown",
   "metadata": {},
   "source": [
    "For now I'll drop these. I'm considering what and how to impute. What I'd like to do is run clustering on the data, or perhaps logistic regression. One thing I know is that the picture will become clearer as I gain more data. For now though, the amount of missing values is very small."
   ]
  },
  {
   "cell_type": "code",
   "execution_count": 439,
   "metadata": {},
   "outputs": [
    {
     "name": "stdout",
     "output_type": "stream",
     "text": [
      "11023\n"
     ]
    }
   ],
   "source": [
    "data[data['rating'].isnull()] == 0\n",
    "print(len(data))"
   ]
  },
  {
   "cell_type": "markdown",
   "metadata": {},
   "source": [
    "outliers"
   ]
  },
  {
   "cell_type": "code",
   "execution_count": 440,
   "metadata": {},
   "outputs": [
    {
     "data": {
      "text/plain": [
       "1.0    50\n",
       "Name: rating, dtype: int64"
      ]
     },
     "execution_count": 440,
     "metadata": {},
     "output_type": "execute_result"
    }
   ],
   "source": [
    "outliers = []\n",
    "def z_detect(data, feature):\n",
    "    sample = data[feature]\n",
    "    threshold=3\n",
    "    mean = np.mean(sample)\n",
    "    std = np.std(sample)\n",
    "    \n",
    "    for i in sample:\n",
    "        z_score = (i-mean)/std\n",
    "        if np.abs(z_score) > threshold:\n",
    "            outliers.append(i)\n",
    "    if len(outliers) == 0:\n",
    "        pass\n",
    "    else:\n",
    "        return sorted(outliers)\n",
    "        \n",
    "z = z_detect(data, feature = 'rating')\n",
    "data.loc[data['rating'].isin(z)][:].rating.value_counts()\n"
   ]
  },
  {
   "cell_type": "code",
   "execution_count": 441,
   "metadata": {},
   "outputs": [
    {
     "data": {
      "text/html": [
       "<div>\n",
       "<style scoped>\n",
       "    .dataframe tbody tr th:only-of-type {\n",
       "        vertical-align: middle;\n",
       "    }\n",
       "\n",
       "    .dataframe tbody tr th {\n",
       "        vertical-align: top;\n",
       "    }\n",
       "\n",
       "    .dataframe thead th {\n",
       "        text-align: right;\n",
       "    }\n",
       "</style>\n",
       "<table border=\"1\" class=\"dataframe\">\n",
       "  <thead>\n",
       "    <tr style=\"text-align: right;\">\n",
       "      <th></th>\n",
       "      <th>company</th>\n",
       "      <th>description</th>\n",
       "      <th>estimated_salary</th>\n",
       "      <th>extractdate</th>\n",
       "      <th>location</th>\n",
       "      <th>postdate</th>\n",
       "      <th>rating</th>\n",
       "      <th>requirements</th>\n",
       "      <th>salary</th>\n",
       "      <th>summary</th>\n",
       "      <th>job_title</th>\n",
       "      <th>url</th>\n",
       "    </tr>\n",
       "  </thead>\n",
       "  <tbody>\n",
       "    <tr>\n",
       "      <th>4146</th>\n",
       "      <td>MSi Workforce Solutions, LLC</td>\n",
       "      <td>Title:  Sr. Systems Analyst (Data Analyst)Loca...</td>\n",
       "      <td>['', 'Not provided by employer', \"$95K - $120K...</td>\n",
       "      <td>2022-07-20</td>\n",
       "      <td>Chattanooga, TN 37421</td>\n",
       "      <td>PostedPosted 2 days ago</td>\n",
       "      <td>1.0</td>\n",
       "      <td>SQL: 5 years (Required)</td>\n",
       "      <td>Full-time</td>\n",
       "      <td>Experience with data analytics and data insigh...</td>\n",
       "      <td>Sr Systems Analyst/Data Analyst</td>\n",
       "      <td>https://www.indeed.com/pagead/clk?mo=r&amp;ad=-6NY...</td>\n",
       "    </tr>\n",
       "    <tr>\n",
       "      <th>4155</th>\n",
       "      <td>MSi Workforce Solutions, LLC</td>\n",
       "      <td>Title:  Sr. Systems Analyst (Data Analyst)Loca...</td>\n",
       "      <td>['', 'Not provided by employer', \"$95K - $120K...</td>\n",
       "      <td>2022-07-20</td>\n",
       "      <td>Chattanooga, TN 37421</td>\n",
       "      <td>PostedPosted 2 days ago</td>\n",
       "      <td>1.0</td>\n",
       "      <td>SQL: 5 years (Required)</td>\n",
       "      <td>Full-time</td>\n",
       "      <td>Experience with data analytics and data insigh...</td>\n",
       "      <td>Sr Systems Analyst/Data Analyst</td>\n",
       "      <td>https://www.indeed.com/pagead/clk?mo=r&amp;ad=-6NY...</td>\n",
       "    </tr>\n",
       "    <tr>\n",
       "      <th>4163</th>\n",
       "      <td>MSi Workforce Solutions, LLC</td>\n",
       "      <td>Title:  Sr. Systems Analyst (Data Analyst)Loca...</td>\n",
       "      <td>['', 'Not provided by employer', \"$95K - $120K...</td>\n",
       "      <td>2022-07-20</td>\n",
       "      <td>Chattanooga, TN 37421</td>\n",
       "      <td>PostedPosted 2 days ago</td>\n",
       "      <td>1.0</td>\n",
       "      <td>SQL: 5 years (Required)</td>\n",
       "      <td>Full-time</td>\n",
       "      <td>Experience with data analytics and data insigh...</td>\n",
       "      <td>Sr Systems Analyst/Data Analyst</td>\n",
       "      <td>https://www.indeed.com/pagead/clk?mo=r&amp;ad=-6NY...</td>\n",
       "    </tr>\n",
       "  </tbody>\n",
       "</table>\n",
       "</div>"
      ],
      "text/plain": [
       "                           company  \\\n",
       "4146  MSi Workforce Solutions, LLC   \n",
       "4155  MSi Workforce Solutions, LLC   \n",
       "4163  MSi Workforce Solutions, LLC   \n",
       "\n",
       "                                            description  \\\n",
       "4146  Title:  Sr. Systems Analyst (Data Analyst)Loca...   \n",
       "4155  Title:  Sr. Systems Analyst (Data Analyst)Loca...   \n",
       "4163  Title:  Sr. Systems Analyst (Data Analyst)Loca...   \n",
       "\n",
       "                                       estimated_salary extractdate  \\\n",
       "4146  ['', 'Not provided by employer', \"$95K - $120K...  2022-07-20   \n",
       "4155  ['', 'Not provided by employer', \"$95K - $120K...  2022-07-20   \n",
       "4163  ['', 'Not provided by employer', \"$95K - $120K...  2022-07-20   \n",
       "\n",
       "                   location                 postdate  rating  \\\n",
       "4146  Chattanooga, TN 37421  PostedPosted 2 days ago     1.0   \n",
       "4155  Chattanooga, TN 37421  PostedPosted 2 days ago     1.0   \n",
       "4163  Chattanooga, TN 37421  PostedPosted 2 days ago     1.0   \n",
       "\n",
       "                 requirements     salary  \\\n",
       "4146  SQL: 5 years (Required)  Full-time   \n",
       "4155  SQL: 5 years (Required)  Full-time   \n",
       "4163  SQL: 5 years (Required)  Full-time   \n",
       "\n",
       "                                                summary  \\\n",
       "4146  Experience with data analytics and data insigh...   \n",
       "4155  Experience with data analytics and data insigh...   \n",
       "4163  Experience with data analytics and data insigh...   \n",
       "\n",
       "                            job_title  \\\n",
       "4146  Sr Systems Analyst/Data Analyst   \n",
       "4155  Sr Systems Analyst/Data Analyst   \n",
       "4163  Sr Systems Analyst/Data Analyst   \n",
       "\n",
       "                                                    url  \n",
       "4146  https://www.indeed.com/pagead/clk?mo=r&ad=-6NY...  \n",
       "4155  https://www.indeed.com/pagead/clk?mo=r&ad=-6NY...  \n",
       "4163  https://www.indeed.com/pagead/clk?mo=r&ad=-6NY...  "
      ]
     },
     "execution_count": 441,
     "metadata": {},
     "output_type": "execute_result"
    }
   ],
   "source": [
    "data.loc[data['rating'].isin(z)].head(3)"
   ]
  },
  {
   "cell_type": "code",
   "execution_count": 469,
   "metadata": {},
   "outputs": [
    {
     "data": {
      "image/png": "[encoded data removed]",
      "text/plain": [
       "<Figure size 432x288 with 1 Axes>"
      ]
     },
     "metadata": {
      "needs_background": "light"
     },
     "output_type": "display_data"
    },
    {
     "data": {
      "image/png": "[encoded data removed]",
      "text/plain": [
       "<Figure size 432x288 with 1 Axes>"
      ]
     },
     "metadata": {
      "needs_background": "light"
     },
     "output_type": "display_data"
    },
    {
     "data": {
      "image/png": "[encoded data removed]",
      "text/plain": [
       "<Figure size 432x288 with 1 Axes>"
      ]
     },
     "metadata": {
      "needs_background": "light"
     },
     "output_type": "display_data"
    },
    {
     "name": "stdout",
     "output_type": "stream",
     "text": [
      "There are 0 records below and 0 above.\n",
      "Records Including Outliers: 8327\n",
      "Records Without Outliers: 8327\n"
     ]
    },
    {
     "data": {
      "image/png": "[encoded data removed]",
      "text/plain": [
       "<Figure size 432x288 with 1 Axes>"
      ]
     },
     "metadata": {
      "needs_background": "light"
     },
     "output_type": "display_data"
    },
    {
     "data": {
      "image/png": "[encoded data removed]",
      "text/plain": [
       "<Figure size 432x288 with 1 Axes>"
      ]
     },
     "metadata": {
      "needs_background": "light"
     },
     "output_type": "display_data"
    },
    {
     "data": {
      "image/png": "[encoded data removed]",
      "text/plain": [
       "<Figure size 432x288 with 1 Axes>"
      ]
     },
     "metadata": {
      "needs_background": "light"
     },
     "output_type": "display_data"
    },
    {
     "name": "stdout",
     "output_type": "stream",
     "text": [
      "-- rating report --\n",
      "Nothing Missing\n",
      "Records: 8327\n",
      "Unique Values: 17\n",
      "Min: 3.0\n",
      "Max: 4.6\n",
      "Mean: 3.8199\n",
      "Mode: 3.9\n",
      "Std.Dev: 0.3358\n"
     ]
    }
   ],
   "source": [
    "def iqr_detect(data, feature):\n",
    "    \"\"\"takes data, selects particular feature, analyses outliers using IQR method, then trims out data that contains detected outliers\n",
    "\n",
    "    Args:\n",
    "        data (Dataframe): data\n",
    "        feature (string): identifier for particular feature\n",
    "\n",
    "    Returns:\n",
    "        sns plots and a DataFrame: pre and post outlier trimming plots\n",
    "    \"\"\"\n",
    "    # plotting\n",
    "    def plotting(axlabel_):\n",
    "        \"\"\"provides pre and post outlier trimming plots\n",
    "\n",
    "        Args:\n",
    "            axlabel_ (string): permits ax label to be passed as an arguement at each function call\n",
    "        \"\"\"\n",
    "\n",
    "        # histogram\n",
    "        sns.histplot(data[feature])\n",
    "        plt.show()\n",
    "\n",
    "        # distribution plot\n",
    "        sns.distplot(data[feature], fit=norm, kde=True, kde_kws={'color': 'k', 'label': 'KDE', }, axlabel=axlabel_)\n",
    "        \n",
    "\n",
    "        plt.axvline(x=q1, label='Q1', c = 'y')\n",
    "        plt.axvline(x=q2, label='Q2', c = 'g')\n",
    "        plt.axvline(x=q3, label='Q3', c = 'b')\n",
    "\n",
    "        plt.axvline(x=iqr_lower, label = 'IQR Lower', c = 'black')\n",
    "        plt.axvline(x=iqr_upper, label = 'IQR Upper', c = 'black')\n",
    "        plt.axvline(x=np.mean(data[feature]), label='mean', c = 'r')\n",
    "\n",
    "        plt.xticks(rotation=30)\n",
    "        plt.title(f'{feature.capitalize()}')\n",
    "        plt.legend()\n",
    "        plt.show()\n",
    "\n",
    "        # boxplot\n",
    "        sns.boxplot(data=data, x=feature)\n",
    "        plt.xticks(rotation=30)\n",
    "        plt.title(f'{feature.capitalize()}')\n",
    "        plt.show()\n",
    "\n",
    "\n",
    "\n",
    "    q1 = np.quantile(data[data[feature].notna()][feature], 0.25)\n",
    "    q2 = np.quantile(data[data[feature].notna()][feature], 0.5)\n",
    "    q3 = np.quantile(data[data[feature].notna()][feature], 0.75)\n",
    "\n",
    "    # calc iqr\n",
    "    iqr = (q3 - q1)\n",
    "    # expand iqr to discern outliers\n",
    "    iqr_x = iqr*1.5\n",
    "    # setting the lower and upper limits\n",
    "    iqr_lower = q1-iqr_x\n",
    "    iqr_upper = q3+iqr_x\n",
    "    plotting(axlabel_='With Outliers (if any)')\n",
    "    # report\n",
    "    print(f'There are {len(data[data[feature] > iqr_upper])} records below and {len(data[data[feature] < iqr_lower])} above.')\n",
    "    # trimming outliers\n",
    "    '''\n",
    "    trimmed = data[data[feature] > iqr_upper]\n",
    "    trimmed = data[data[feature] < iqr_lower]\n",
    "    '''\n",
    "    print(f'Records Including Outliers: {len(data)}')\n",
    "    data = data[data[feature] <= iqr_upper]\n",
    "    data = data[data[feature] >= iqr_lower]\n",
    "    print(f'Records Without Outliers: {len(data)}')\n",
    "\n",
    "    plotting(axlabel_='Outliers Removed')\n",
    "    \n",
    "    return data, q1, q3\n",
    "\n",
    "\"\"\"\n",
    "       \n",
    "    else:\n",
    "        q1 = np.quantile(data[data[feature].notna()][feature], 0.25)\n",
    "        q2 = np.quantile(data[data[feature].notna()][feature], 0.5)\n",
    "        q3 = np.quantile(data[data[feature].notna()][feature], 0.75)\n",
    "\n",
    "\n",
    "        # calc iqr\n",
    "        iqr = (q3 - q1)\n",
    "\n",
    "        # expand iqr to discern outliers\n",
    "        iqr_x = iqr*1.5\n",
    "\n",
    "        # setting the lower and upper limits\n",
    "        iqr_lower = q1-iqr_x\n",
    "        iqr_upper = q3+iqr_x\n",
    "        plotting(axlabel_='With Outliers (if any)')\n",
    "        print(f'There are {len(data[data[feature] > iqr_upper])} records below and {len(data[data[feature] < iqr_lower])} above.')\n",
    "\n",
    "        print(f'Records Including Outliers: {len(data)}')\n",
    "        data = data[data[feature].notna() <= iqr_upper]\n",
    "        data = data[data[feature].notna() >= iqr_lower]\n",
    "        print(f'Records Without Outliers: {len(data)}')\n",
    "        print('hi')\n",
    "        plotting(axlabel_='Outliers Removed')\n",
    "\"\"\"\n",
    "\n",
    "    \n",
    "\n",
    "\n",
    "data, q1, q3 = iqr_detect(data, feature='rating')\n",
    "featureReport(data, feature = 'rating')"
   ]
  },
  {
   "cell_type": "code",
   "execution_count": 443,
   "metadata": {},
   "outputs": [
    {
     "data": {
      "image/png": "[encoded data removed]",
      "text/plain": [
       "<Figure size 432x288 with 1 Axes>"
      ]
     },
     "metadata": {
      "needs_background": "light"
     },
     "output_type": "display_data"
    },
    {
     "name": "stdout",
     "output_type": "stream",
     "text": [
      "-- rating report --\n",
      "Nothing Missing\n",
      "Records: 8327\n",
      "Unique Values: 17\n",
      "Min: 0.0\n",
      "Max: 1.0\n",
      "Mean: 0.5124\n",
      "Mode: 0.5625\n",
      "Std.Dev: 0.2099\n"
     ]
    },
    {
     "data": {
      "image/png": "[encoded data removed]",
      "text/plain": [
       "<Figure size 432x288 with 1 Axes>"
      ]
     },
     "metadata": {
      "needs_background": "light"
     },
     "output_type": "display_data"
    },
    {
     "name": "stdout",
     "output_type": "stream",
     "text": [
      "-- rating report --\n",
      "Nothing Missing\n",
      "Records: 8327\n",
      "Unique Values: 17\n",
      "Min: -2.4412\n",
      "Max: 2.3229\n",
      "Mean: 0.0\n",
      "Mode: 0.2386\n",
      "Std.Dev: 1.0\n"
     ]
    }
   ],
   "source": [
    "# The below is a preview of how this feature will be shaped with a given slaing method to be used in the preprocessing piepline\n",
    "scalar = MinMaxScaler()\n",
    "minmax_scaled_ratings = pd.DataFrame(scalar.fit_transform(pd.DataFrame(data.rating)), columns=['rating'])\n",
    "sns.distplot(minmax_scaled_ratings, fit=norm, bins=minmax_scaled_ratings.rating.nunique(), kde=True, kde_kws={'color': 'b', 'label': 'KDE'}, axlabel='MinMax')\n",
    "plt.title('scaled')\n",
    "#ax.set_xticks(data.rating.unique())\n",
    "plt.axvline(x=np.mean(minmax_scaled_ratings.rating), label='mean', c = 'r')\n",
    "plt.legend()\n",
    "plt.show()\n",
    "featureReport(minmax_scaled_ratings, feature = 'rating')\n",
    "\n",
    "\n",
    "\n",
    "scalar = StandardScaler()\n",
    "standard_scaled_ratings = pd.DataFrame(scalar.fit_transform(pd.DataFrame(data.rating)), columns=['rating'])\n",
    "sns.distplot(standard_scaled_ratings, fit=norm, bins=minmax_scaled_ratings.rating.nunique(), kde=True, kde_kws={'color': 'b', 'label': 'KDE'}, axlabel='StandardScalar')\n",
    "plt.title('scaled')\n",
    "#ax.set_xticks(data.rating.unique())\n",
    "plt.axvline(x=np.mean(standard_scaled_ratings.rating), label='mean', c = 'r')\n",
    "plt.legend()\n",
    "plt.show()\n",
    "featureReport(standard_scaled_ratings, feature = 'rating')\n"
   ]
  },
  {
   "cell_type": "markdown",
   "metadata": {},
   "source": [
    "I'm going to run a few tests to see which scaling is best. I suspect it will fall on standard deviation, which for MinMax is tighter. Other than that I'm pleased with how this feature has been preprocessed.<br>\\\n",
    "For further analysis I'd like to analyze the trends in who's hiring:\n",
    "- the trends of each of my four target-associated sub-populations.\n",
    "- which companies are going big.\n",
    "- historical, weekly, monly, annually even - this could be a backdoor into stock market and company valuation analysis."
   ]
  },
  {
   "cell_type": "code",
   "execution_count": 444,
   "metadata": {},
   "outputs": [
    {
     "data": {
      "text/plain": [
       "KPMG                         738\n",
       "IBM                          216\n",
       "Navy Federal Credit Union    110\n",
       "Expedia Group                 95\n",
       "Vail Resorts                  67\n",
       "Name: company, dtype: int64"
      ]
     },
     "execution_count": 444,
     "metadata": {},
     "output_type": "execute_result"
    }
   ],
   "source": [
    "# Companies that share the mode as their rating\n",
    "data[data.rating == mode(data.rating)[0][0]].company.value_counts()[:5]"
   ]
  },
  {
   "cell_type": "markdown",
   "metadata": {},
   "source": [
    "##### 1.2a Dates\n",
    "\n",
    "'extractdate' & 'postdate'\\\n",
    "extract_date is a string showing the day the record was webscrapped.\n",
    "post_date is a string description of the relative age of each post from the date it was posted to the day it was webscrapped.\n",
    "Converting post_date to a number will give me the the posts ae, which I'll then subtract from it's extract date in order to build a new feature carrying values for the DATE each job posting has been submitted to Indeed.com.\n",
    "\n",
    "The extractdate is the value given by my parser representing the date the data was pulled from Indeed.com.\\\n",
    "The postdate is how many days have passed since the post was made and when the search was conducted (by my webscraper).\\\n",
    "The task is to find the delta (difference), the intervening days since the post was made, and subtract it from the extract date so I can get the actual date publishd."
   ]
  },
  {
   "cell_type": "code",
   "execution_count": 445,
   "metadata": {},
   "outputs": [
    {
     "name": "stdout",
     "output_type": "stream",
     "text": [
      "-- extractdate report --\n",
      "Nothing Missing\n",
      "Records: 8327\n",
      "Unique Values: 3\n",
      "\n",
      "-- postdate report --\n",
      "Nothing Missing\n",
      "Records: 8327\n",
      "Unique Values: 5\n",
      "\n"
     ]
    },
    {
     "data": {
      "image/png": "[encoded data removed]",
      "text/plain": [
       "<Figure size 432x288 with 1 Axes>"
      ]
     },
     "metadata": {
      "needs_background": "light"
     },
     "output_type": "display_data"
    },
    {
     "data": {
      "text/html": [
       "<div>\n",
       "<style scoped>\n",
       "    .dataframe tbody tr th:only-of-type {\n",
       "        vertical-align: middle;\n",
       "    }\n",
       "\n",
       "    .dataframe tbody tr th {\n",
       "        vertical-align: top;\n",
       "    }\n",
       "\n",
       "    .dataframe thead th {\n",
       "        text-align: right;\n",
       "    }\n",
       "</style>\n",
       "<table border=\"1\" class=\"dataframe\">\n",
       "  <thead>\n",
       "    <tr style=\"text-align: right;\">\n",
       "      <th></th>\n",
       "      <th>extractdate</th>\n",
       "      <th>postdate</th>\n",
       "    </tr>\n",
       "  </thead>\n",
       "  <tbody>\n",
       "    <tr>\n",
       "      <th>0</th>\n",
       "      <td>2022-07-20</td>\n",
       "      <td>PostedToday</td>\n",
       "    </tr>\n",
       "    <tr>\n",
       "      <th>4</th>\n",
       "      <td>2022-07-20</td>\n",
       "      <td>PostedPosted 3 days ago</td>\n",
       "    </tr>\n",
       "    <tr>\n",
       "      <th>7</th>\n",
       "      <td>2022-07-20</td>\n",
       "      <td>PostedToday</td>\n",
       "    </tr>\n",
       "    <tr>\n",
       "      <th>8</th>\n",
       "      <td>2022-07-20</td>\n",
       "      <td>PostedPosted 1 day ago</td>\n",
       "    </tr>\n",
       "    <tr>\n",
       "      <th>12</th>\n",
       "      <td>2022-07-20</td>\n",
       "      <td>PostedToday</td>\n",
       "    </tr>\n",
       "  </tbody>\n",
       "</table>\n",
       "</div>"
      ],
      "text/plain": [
       "   extractdate                 postdate\n",
       "0   2022-07-20              PostedToday\n",
       "4   2022-07-20  PostedPosted 3 days ago\n",
       "7   2022-07-20              PostedToday\n",
       "8   2022-07-20   PostedPosted 1 day ago\n",
       "12  2022-07-20              PostedToday"
      ]
     },
     "execution_count": 445,
     "metadata": {},
     "output_type": "execute_result"
    }
   ],
   "source": [
    "features = data[['extractdate', 'postdate']].columns\n",
    "\n",
    "for feature_ in features:\n",
    "    featureReport(data, feature = feature_)\n",
    "    print('')\n",
    "\n",
    "#plt.title('extractdate ')\n",
    "sns.histplot(data['extractdate'])\n",
    "plt.xticks(rotation=30)\n",
    "plt.show()\n",
    "\n",
    "\n",
    "data[['extractdate', 'postdate']].head()"
   ]
  },
  {
   "cell_type": "code",
   "execution_count": 446,
   "metadata": {},
   "outputs": [
    {
     "name": "stdout",
     "output_type": "stream",
     "text": [
      "-- extractdate report --\n",
      "Nothing Missing\n",
      "Records: 8327\n",
      "Unique Values: 3\n",
      "None \n",
      "\n",
      "-- postdate report --\n",
      "Nothing Missing\n",
      "Records: 8327\n",
      "Unique Values: 5\n",
      "None \n",
      "\n",
      "-- dateposted report --\n",
      "Nothing Missing\n",
      "Records: 8327\n",
      "Unique Values: 6\n",
      "None \n",
      "\n"
     ]
    },
    {
     "data": {
      "text/html": [
       "<div>\n",
       "<style scoped>\n",
       "    .dataframe tbody tr th:only-of-type {\n",
       "        vertical-align: middle;\n",
       "    }\n",
       "\n",
       "    .dataframe tbody tr th {\n",
       "        vertical-align: top;\n",
       "    }\n",
       "\n",
       "    .dataframe thead th {\n",
       "        text-align: right;\n",
       "    }\n",
       "</style>\n",
       "<table border=\"1\" class=\"dataframe\">\n",
       "  <thead>\n",
       "    <tr style=\"text-align: right;\">\n",
       "      <th></th>\n",
       "      <th>extractdate</th>\n",
       "      <th>postdate</th>\n",
       "      <th>dateposted</th>\n",
       "    </tr>\n",
       "  </thead>\n",
       "  <tbody>\n",
       "    <tr>\n",
       "      <th>0</th>\n",
       "      <td>2022-07-20</td>\n",
       "      <td>PostedToday</td>\n",
       "      <td>2022-07-20</td>\n",
       "    </tr>\n",
       "    <tr>\n",
       "      <th>4</th>\n",
       "      <td>2022-07-20</td>\n",
       "      <td>PostedPosted 3 days ago</td>\n",
       "      <td>2022-07-17</td>\n",
       "    </tr>\n",
       "    <tr>\n",
       "      <th>7</th>\n",
       "      <td>2022-07-20</td>\n",
       "      <td>PostedToday</td>\n",
       "      <td>2022-07-20</td>\n",
       "    </tr>\n",
       "    <tr>\n",
       "      <th>8</th>\n",
       "      <td>2022-07-20</td>\n",
       "      <td>PostedPosted 1 day ago</td>\n",
       "      <td>2022-07-19</td>\n",
       "    </tr>\n",
       "    <tr>\n",
       "      <th>12</th>\n",
       "      <td>2022-07-20</td>\n",
       "      <td>PostedToday</td>\n",
       "      <td>2022-07-20</td>\n",
       "    </tr>\n",
       "  </tbody>\n",
       "</table>\n",
       "</div>"
      ],
      "text/plain": [
       "   extractdate                 postdate dateposted\n",
       "0   2022-07-20              PostedToday 2022-07-20\n",
       "4   2022-07-20  PostedPosted 3 days ago 2022-07-17\n",
       "7   2022-07-20              PostedToday 2022-07-20\n",
       "8   2022-07-20   PostedPosted 1 day ago 2022-07-19\n",
       "12  2022-07-20              PostedToday 2022-07-20"
      ]
     },
     "execution_count": 446,
     "metadata": {},
     "output_type": "execute_result"
    }
   ],
   "source": [
    "def postD(row):\n",
    "    \"\"\"Critical function that converts postdate values into relative (in days) distance from the extract date.\n",
    "    Args:\n",
    "        data (string): text descrption of how old the post is.\n",
    "    Returns:\n",
    "        npnan or int: numeric representation of post age\n",
    "    \"\"\"\n",
    "    if row['postdate'] != np.nan:\n",
    "        if row['postdate'] in ['PostedToday', 'PostedJust posted', 'Hiring ongoing']:\n",
    "            delta = timedelta(0)\n",
    "        elif row['postdate'] in ['PostedPosted 1 day ago', 'Posted1 day ago']:\n",
    "            delta = timedelta(1)\n",
    "        elif row['postdate'] in ['PostedPosted 2 days ago', 'Posted2 day ago']:\n",
    "            delta = timedelta(2)\n",
    "        elif row['postdate'] in ['PostedPosted 3 days ago', 'Posted3 day ago']:\n",
    "            delta = timedelta(3)\n",
    "        value = pd.to_datetime(row['extractdate'])-delta\n",
    "    return value\n",
    "\n",
    "\n",
    "\n",
    "data['dateposted'] = data.apply( lambda row : postD(row), axis = 1)\n",
    "print(featureReport(data, feature = 'extractdate'),'\\n')\n",
    "print(featureReport(data, feature = 'postdate'),'\\n')\n",
    "print(featureReport(data, feature = 'dateposted'),'\\n')\n",
    "data[['extractdate', 'postdate','dateposted']].head()"
   ]
  },
  {
   "cell_type": "markdown",
   "metadata": {},
   "source": [
    "Even though it's not being used directly in my analysis, for now - I would like to find play with time series and seasonality. There's a pairplot in the multivariate analysis section that illustrates what I'm detecting in the data, a hump in the midweek."
   ]
  },
  {
   "cell_type": "markdown",
   "metadata": {},
   "source": [
    "#### Company & Job Title"
   ]
  },
  {
   "cell_type": "code",
   "execution_count": 447,
   "metadata": {},
   "outputs": [
    {
     "name": "stdout",
     "output_type": "stream",
     "text": [
      "-- company report --\n",
      "Nothing Missing\n",
      "Records: 8327\n",
      "Unique Values: 264\n",
      "None \n",
      "\n",
      "-- job_title report --\n",
      "Nothing Missing\n",
      "Records: 8327\n",
      "Unique Values: 293\n",
      "None \n",
      "\n"
     ]
    },
    {
     "data": {
      "text/html": [
       "<div>\n",
       "<style scoped>\n",
       "    .dataframe tbody tr th:only-of-type {\n",
       "        vertical-align: middle;\n",
       "    }\n",
       "\n",
       "    .dataframe tbody tr th {\n",
       "        vertical-align: top;\n",
       "    }\n",
       "\n",
       "    .dataframe thead th {\n",
       "        text-align: right;\n",
       "    }\n",
       "</style>\n",
       "<table border=\"1\" class=\"dataframe\">\n",
       "  <thead>\n",
       "    <tr style=\"text-align: right;\">\n",
       "      <th></th>\n",
       "      <th>company</th>\n",
       "      <th>job_title</th>\n",
       "    </tr>\n",
       "  </thead>\n",
       "  <tbody>\n",
       "    <tr>\n",
       "      <th>0</th>\n",
       "      <td>Northrop Grumman</td>\n",
       "      <td>Sentinel (GBSD) Software Engineer/Data Scienti...</td>\n",
       "    </tr>\n",
       "    <tr>\n",
       "      <th>4</th>\n",
       "      <td>CyberCoders</td>\n",
       "      <td>Senior ML Engineer - Stealth, Fully Funded (50...</td>\n",
       "    </tr>\n",
       "    <tr>\n",
       "      <th>7</th>\n",
       "      <td>Walmart</td>\n",
       "      <td>(USA) Senior Data Analyst</td>\n",
       "    </tr>\n",
       "    <tr>\n",
       "      <th>8</th>\n",
       "      <td>Simmons Bank</td>\n",
       "      <td>Senior Data Analyst</td>\n",
       "    </tr>\n",
       "    <tr>\n",
       "      <th>12</th>\n",
       "      <td>Deloitte</td>\n",
       "      <td>Senior Data Scientist, Experience Management</td>\n",
       "    </tr>\n",
       "  </tbody>\n",
       "</table>\n",
       "</div>"
      ],
      "text/plain": [
       "             company                                          job_title\n",
       "0   Northrop Grumman  Sentinel (GBSD) Software Engineer/Data Scienti...\n",
       "4        CyberCoders  Senior ML Engineer - Stealth, Fully Funded (50...\n",
       "7            Walmart                          (USA) Senior Data Analyst\n",
       "8       Simmons Bank                                Senior Data Analyst\n",
       "12          Deloitte       Senior Data Scientist, Experience Management"
      ]
     },
     "execution_count": 447,
     "metadata": {},
     "output_type": "execute_result"
    }
   ],
   "source": [
    "\n",
    "str_features = data[['company','job_title']]\n",
    "for feature in str_features.columns:\n",
    "    print(featureReport(data, feature = feature),'\\n')\n",
    "    \n",
    "data[['company','job_title']].head()"
   ]
  },
  {
   "cell_type": "markdown",
   "metadata": {},
   "source": [
    "Requirements do exist, but values are extremeley sparse. I'm keen to run NLP on this feature alone, encoding new features that are more or less associated with the target.\n"
   ]
  },
  {
   "cell_type": "code",
   "execution_count": 448,
   "metadata": {},
   "outputs": [
    {
     "name": "stdout",
     "output_type": "stream",
     "text": [
      "-- company report --\n",
      "Nothing Missing\n",
      "Records: 8327\n",
      "Unique Values: 263\n",
      "None \n",
      "\n",
      "-- job_title report --\n",
      "Nothing Missing\n",
      "Records: 8327\n",
      "Unique Values: 287\n",
      "None \n",
      "\n"
     ]
    },
    {
     "data": {
      "text/html": [
       "<div>\n",
       "<style scoped>\n",
       "    .dataframe tbody tr th:only-of-type {\n",
       "        vertical-align: middle;\n",
       "    }\n",
       "\n",
       "    .dataframe tbody tr th {\n",
       "        vertical-align: top;\n",
       "    }\n",
       "\n",
       "    .dataframe thead th {\n",
       "        text-align: right;\n",
       "    }\n",
       "</style>\n",
       "<table border=\"1\" class=\"dataframe\">\n",
       "  <thead>\n",
       "    <tr style=\"text-align: right;\">\n",
       "      <th></th>\n",
       "      <th>company</th>\n",
       "      <th>job_title</th>\n",
       "    </tr>\n",
       "  </thead>\n",
       "  <tbody>\n",
       "    <tr>\n",
       "      <th>0</th>\n",
       "      <td>Northrop Grumman</td>\n",
       "      <td>Sentinel (GBSD) Software Engineer/Data Scienti...</td>\n",
       "    </tr>\n",
       "    <tr>\n",
       "      <th>4</th>\n",
       "      <td>CyberCoders</td>\n",
       "      <td>Senior ML Engineer - Stealth, Fully Funded (50...</td>\n",
       "    </tr>\n",
       "    <tr>\n",
       "      <th>7</th>\n",
       "      <td>Walmart</td>\n",
       "      <td>(USA) Senior Data Analyst</td>\n",
       "    </tr>\n",
       "    <tr>\n",
       "      <th>8</th>\n",
       "      <td>Simmons Bank</td>\n",
       "      <td>Senior Data Analyst</td>\n",
       "    </tr>\n",
       "    <tr>\n",
       "      <th>12</th>\n",
       "      <td>Deloitte</td>\n",
       "      <td>Senior Data Scientist, Experience Management</td>\n",
       "    </tr>\n",
       "  </tbody>\n",
       "</table>\n",
       "</div>"
      ],
      "text/plain": [
       "             company                                          job_title\n",
       "0   Northrop Grumman  Sentinel (GBSD) Software Engineer/Data Scienti...\n",
       "4        CyberCoders  Senior ML Engineer - Stealth, Fully Funded (50...\n",
       "7            Walmart                          (USA) Senior Data Analyst\n",
       "8       Simmons Bank                                Senior Data Analyst\n",
       "12          Deloitte       Senior Data Scientist, Experience Management"
      ]
     },
     "execution_count": 448,
     "metadata": {},
     "output_type": "execute_result"
    }
   ],
   "source": [
    "def cleanText_comp_jtitle(sentence):\n",
    "    \"\"\"clean the string of any punctuation or special characters\n",
    "\n",
    "    Args:\n",
    "        sentence (string): dirty string\n",
    "\n",
    "    Returns:\n",
    "        string: clean string\n",
    "    \"\"\"\n",
    "    #function to \n",
    "    cleaned = sentence.replace('AI/ML','artificial intelligence machine learning')\n",
    "    cleaned = cleaned.replace('AI','artificial intelligence')\n",
    "    cleaned = cleaned.replace('ML','machine learning')\n",
    "    cleaned = cleaned.replace('Sr.','senior')\n",
    "    cleaned = cleaned.lower()\n",
    "    cleaned = re.sub(r'[^a-zA-Z0-9 \\n\\.|.]+', r'', cleaned)\n",
    "    cleaned = cleaned.replace('  ',' ')\n",
    "    return cleaned\n",
    "\n",
    "str_features = data[['company','job_title']]\n",
    "for i in str_features.columns:\n",
    "    data[i] = data[i].apply(cleanText_comp_jtitle)\n",
    "\n",
    "\n",
    "for i in str_features.columns:\n",
    "    print(featureReport(data, feature = i),'\\n')\n",
    "str_features.head(5)"
   ]
  },
  {
   "cell_type": "code",
   "execution_count": 449,
   "metadata": {},
   "outputs": [
    {
     "name": "stdout",
     "output_type": "stream",
     "text": [
      "All Time Top Employers\n",
      "\n",
      "kpmg                                  738\n",
      "accenture                             357\n",
      "deloitte                              245\n",
      "ibm                                   216\n",
      "jpmorgan chase bank n.a.              214\n",
      "cybercoders                           201\n",
      "spectrum                              199\n",
      "logic2020 inc.                        184\n",
      "infinity consulting solutions inc.    157\n",
      "intuit                                155\n",
      "Name: company, dtype: int64\n",
      "Most Frequently Observed Job Titles\n",
      "\n",
      "data scientist                                                                 762\n",
      "senior data analyst                                                            427\n",
      "lead specialist data scientist                                                 326\n",
      "data scientist 4418074                                                         323\n",
      "senior data scientist                                                          289\n",
      "senior data scientist experience management                                    223\n",
      "data scientist iii                                                             220\n",
      "manager data scientist intelligent forecasting                                 175\n",
      "senior business data analyst                                                   152\n",
      "senior associate product management artificial intelligencemachine learning    139\n",
      "Name: job_title, dtype: int64\n"
     ]
    }
   ],
   "source": [
    "print('All Time Top Employers' + \"\\n\\n\" + f'{data.company.value_counts()[:10]}')\n",
    "print('Most Frequently Observed Job Titles' + \"\\n\\n\" + f'{data.job_title.value_counts()[:10]}')"
   ]
  },
  {
   "cell_type": "markdown",
   "metadata": {},
   "source": [
    "#### Location"
   ]
  },
  {
   "cell_type": "code",
   "execution_count": 450,
   "metadata": {},
   "outputs": [
    {
     "name": "stdout",
     "output_type": "stream",
     "text": [
      "-- location report --\n",
      "Nothing Missing\n",
      "Records: 8327\n",
      "Unique Values: 436\n",
      "None \n",
      "\n",
      "-- state report --\n",
      "Nothing Missing\n",
      "Records: 8327\n",
      "Unique Values: 62\n",
      "None \n",
      "\n",
      "-- city report --\n",
      "Nothing Missing\n",
      "Records: 8327\n",
      "Unique Values: 219\n",
      "None \n",
      "\n",
      "-- remote report --\n",
      "Nothing Missing\n",
      "Records: 8327\n",
      "Unique Values: 3\n",
      "None \n",
      "\n"
     ]
    },
    {
     "data": {
      "text/html": [
       "<div>\n",
       "<style scoped>\n",
       "    .dataframe tbody tr th:only-of-type {\n",
       "        vertical-align: middle;\n",
       "    }\n",
       "\n",
       "    .dataframe tbody tr th {\n",
       "        vertical-align: top;\n",
       "    }\n",
       "\n",
       "    .dataframe thead th {\n",
       "        text-align: right;\n",
       "    }\n",
       "</style>\n",
       "<table border=\"1\" class=\"dataframe\">\n",
       "  <thead>\n",
       "    <tr style=\"text-align: right;\">\n",
       "      <th></th>\n",
       "      <th>location</th>\n",
       "      <th>state</th>\n",
       "      <th>city</th>\n",
       "      <th>remote</th>\n",
       "    </tr>\n",
       "  </thead>\n",
       "  <tbody>\n",
       "    <tr>\n",
       "      <th>0</th>\n",
       "      <td>Huntsville, AL</td>\n",
       "      <td>AL</td>\n",
       "      <td>Huntsville</td>\n",
       "      <td>Not Remote</td>\n",
       "    </tr>\n",
       "    <tr>\n",
       "      <th>4</th>\n",
       "      <td>Huntsville, AL 35801</td>\n",
       "      <td>AL</td>\n",
       "      <td>Huntsville</td>\n",
       "      <td>Not Remote</td>\n",
       "    </tr>\n",
       "    <tr>\n",
       "      <th>7</th>\n",
       "      <td>Bentonville, AR 72712</td>\n",
       "      <td>AR</td>\n",
       "      <td>Bentonville</td>\n",
       "      <td>Not Remote</td>\n",
       "    </tr>\n",
       "    <tr>\n",
       "      <th>8</th>\n",
       "      <td>Little Rock, AR 72201 (Downtown CBD area)</td>\n",
       "      <td>AR</td>\n",
       "      <td>Little Rock</td>\n",
       "      <td>Not Remote</td>\n",
       "    </tr>\n",
       "    <tr>\n",
       "      <th>12</th>\n",
       "      <td>Phoenix, AZ 85012 (Encanto area)</td>\n",
       "      <td>AZ</td>\n",
       "      <td>Phoenix</td>\n",
       "      <td>Not Remote</td>\n",
       "    </tr>\n",
       "  </tbody>\n",
       "</table>\n",
       "</div>"
      ],
      "text/plain": [
       "                                     location state         city      remote\n",
       "0                              Huntsville, AL    AL   Huntsville  Not Remote\n",
       "4                        Huntsville, AL 35801    AL   Huntsville  Not Remote\n",
       "7                       Bentonville, AR 72712    AR  Bentonville  Not Remote\n",
       "8   Little Rock, AR 72201 (Downtown CBD area)    AR  Little Rock  Not Remote\n",
       "12           Phoenix, AZ 85012 (Encanto area)    AZ      Phoenix  Not Remote"
      ]
     },
     "execution_count": 450,
     "metadata": {},
     "output_type": "execute_result"
    }
   ],
   "source": [
    "def cleanText_loc(row):\n",
    "    \"\"\"extracts, splits, and reassigns vaues from the location value in each row of data\n",
    "\n",
    "    Args:\n",
    "        row (string): row in the DataFrame\n",
    "\n",
    "    Returns:\n",
    "        DataFrame: row with location information assigned to new features, state, city, and remote status\n",
    "    \"\"\"\n",
    "    #function to clean the word of any punctuation or special characters\n",
    "    states = [', AK', 'Alaska', ', AL', 'Alabama', ', AR', 'Arkansas', ', AZ', 'Arizona', ', CA', 'California', ', CO', 'Colorado', ', CT', 'Connecticut', ', DC', 'District of Columbia', ', DE', 'Delaware', ', FL', 'Florida', ', GA', 'Georgia', ', HI', 'Hawaii', ', IA', 'Iowa', ', ID', 'Idaho', ', IL', 'Illinois', ', IN', 'Indiana', ', KS', 'Kansas',\n",
    " ', KY', 'Kentucky', ', LA', 'Louisiana', ', MA', 'Massachusetts', ', MD', 'Maryland', ', ME', 'Maine', ', MI', 'Michigan', ', MN', 'Minnesota', ', MO', 'Missouri', ', MS', 'Mississippi', ', MT', 'Montana', ', NC', 'North Carolina', ', ND', 'North Dakota', ', NE', 'Nebraska', ', NH', 'New Hampshire', ', NJ', 'New Jersey', ', NM', 'New Mexico',\n",
    " ', NV', 'Nevada', ', NY', 'New York', ', OH', 'Ohio', ', OK', 'Oklahoma', ', OR', 'Oregon', ', PA', 'Pennsylvania', ', RI', 'Rhode Island', ', SC', 'South Carolina', ', SD',\n",
    " 'South Dakota', ', TN', 'Tennessee', ', TX', 'Texas', ', UT', 'Utah', ', VA', 'Virginia', ', VT', 'Vermont', ', WA', 'Washington', ', WI', 'Wisconsin', ', WV', 'West Virginia',\n",
    " ', WY', 'Wyoming']\n",
    "\n",
    "    for i in states:\n",
    "        if i in row['location']:\n",
    "            row['state'] = i.strip(',')\n",
    "        if ',' in row['location']:\n",
    "            row['city'] = row['location'].split(',')[0].replace('Remote in ','')\n",
    "            #row['city'] = row['city'].replace('Hybrid','')\n",
    "            row['city'] = row['city'].replace('remote in ','').strip()\n",
    "    \n",
    "\n",
    "\n",
    "\n",
    "    if 'Hybrid remote' in row['location']:\n",
    "        row['remote'] = 'Hybrid'\n",
    "\n",
    "    elif 'remote in ' in row['location']:\n",
    "        row['remote'] = 'Remote in'\n",
    "    elif ('Remote' or 'remote') in row['location']:\n",
    "        row['remote'] = 'Remote'\n",
    "    else:\n",
    "        row['remote'] = 'Not Remote'\n",
    "\n",
    "    return row\n",
    "\n",
    "data = data.copy()\n",
    "data['remote'] = ''\n",
    "data['state'] = ''\n",
    "data['city'] = ''\n",
    "data = data.apply( lambda row : cleanText_loc(row), axis = 1)\n",
    "\n",
    "\n",
    "str_features = ['location','state','city','remote']\n",
    "\n",
    "for i in str_features:\n",
    "    print(featureReport(data, feature = i),'\\n')\n",
    "\n",
    "\n",
    "data[str_features].head(5)\n"
   ]
  },
  {
   "cell_type": "markdown",
   "metadata": {},
   "source": [
    "#### descriptive text"
   ]
  },
  {
   "cell_type": "code",
   "execution_count": 451,
   "metadata": {},
   "outputs": [
    {
     "name": "stdout",
     "output_type": "stream",
     "text": [
      "-- description report --\n",
      "Nothing Missing\n",
      "Records: 8327\n",
      "Unique Values: 403\n",
      "None \n",
      "\n",
      "-- summary report --\n",
      "Nothing Missing\n",
      "Records: 8327\n",
      "Unique Values: 513\n",
      "None \n",
      "\n",
      "-- requirements report --\n",
      "Missing 8110 out of 8327 Records\n",
      "Percent Missing: 97.4%\n",
      "Unique Values: 14\n",
      "None \n",
      "\n"
     ]
    },
    {
     "data": {
      "text/html": [
       "<div>\n",
       "<style scoped>\n",
       "    .dataframe tbody tr th:only-of-type {\n",
       "        vertical-align: middle;\n",
       "    }\n",
       "\n",
       "    .dataframe tbody tr th {\n",
       "        vertical-align: top;\n",
       "    }\n",
       "\n",
       "    .dataframe thead th {\n",
       "        text-align: right;\n",
       "    }\n",
       "</style>\n",
       "<table border=\"1\" class=\"dataframe\">\n",
       "  <thead>\n",
       "    <tr style=\"text-align: right;\">\n",
       "      <th></th>\n",
       "      <th>description</th>\n",
       "      <th>summary</th>\n",
       "      <th>requirements</th>\n",
       "    </tr>\n",
       "  </thead>\n",
       "  <tbody>\n",
       "    <tr>\n",
       "      <th>0</th>\n",
       "      <td>Requisition ID: R10053754Category: Engineering...</td>\n",
       "      <td>Support the design, develop, and document the ...</td>\n",
       "      <td>NaN</td>\n",
       "    </tr>\n",
       "    <tr>\n",
       "      <th>4</th>\n",
       "      <td>Senior ML Engineer - Stealth, Fully Funded (5...</td>\n",
       "      <td>Online (real-time) and offline data collection...</td>\n",
       "      <td>NaN</td>\n",
       "    </tr>\n",
       "    <tr>\n",
       "      <th>7</th>\n",
       "      <td>Position Summary...What you'll do... Data Sour...</td>\n",
       "      <td>Adopts a broad perspective that considers data...</td>\n",
       "      <td>NaN</td>\n",
       "    </tr>\n",
       "    <tr>\n",
       "      <th>8</th>\n",
       "      <td>Position SummaryThe Data Analyst IV position i...</td>\n",
       "      <td>The Data Analyst IV position involves the proc...</td>\n",
       "      <td>NaN</td>\n",
       "    </tr>\n",
       "    <tr>\n",
       "      <th>12</th>\n",
       "      <td>In today's world, customers expect companies ...</td>\n",
       "      <td>A Master's in a quantitative field (engineerin...</td>\n",
       "      <td>NaN</td>\n",
       "    </tr>\n",
       "  </tbody>\n",
       "</table>\n",
       "</div>"
      ],
      "text/plain": [
       "                                          description  \\\n",
       "0   Requisition ID: R10053754Category: Engineering...   \n",
       "4    Senior ML Engineer - Stealth, Fully Funded (5...   \n",
       "7   Position Summary...What you'll do... Data Sour...   \n",
       "8   Position SummaryThe Data Analyst IV position i...   \n",
       "12   In today's world, customers expect companies ...   \n",
       "\n",
       "                                              summary requirements  \n",
       "0   Support the design, develop, and document the ...          NaN  \n",
       "4   Online (real-time) and offline data collection...          NaN  \n",
       "7   Adopts a broad perspective that considers data...          NaN  \n",
       "8   The Data Analyst IV position involves the proc...          NaN  \n",
       "12  A Master's in a quantitative field (engineerin...          NaN  "
      ]
     },
     "execution_count": 451,
     "metadata": {},
     "output_type": "execute_result"
    }
   ],
   "source": [
    "str_features = data[['description','summary','requirements']]\n",
    "for i in str_features.columns:\n",
    "    print(featureReport(data, feature = i),'\\n')\n",
    "str_features.head(5)"
   ]
  },
  {
   "cell_type": "code",
   "execution_count": 452,
   "metadata": {},
   "outputs": [
    {
     "data": {
      "text/plain": [
       "8327"
      ]
     },
     "execution_count": 452,
     "metadata": {},
     "output_type": "execute_result"
    }
   ],
   "source": [
    "len(data)\n",
    "data.dropna(subset=['description'], inplace=True)\n",
    "len(data)"
   ]
  },
  {
   "cell_type": "code",
   "execution_count": 453,
   "metadata": {},
   "outputs": [],
   "source": [
    "\n",
    "def cleanText_descriptive(row):\n",
    "\n",
    "    summary = row['summary']\n",
    "    description = row['description']\n",
    "    requirements = row['requirements']\n",
    "\n",
    "    text = summary+' '+description\n",
    "    if type(requirements) != type(np.nan):\n",
    "        text = requirements+' '+text\n",
    "    \n",
    "    sentences = text.split('.')\n",
    "    clean_sentences = []\n",
    "    for i in sentences:\n",
    "        clean_sentence = re.sub(r'[?|!|\\'|\"|#|/|-|,(|)|$|-|' '|:]',r' ',i)\n",
    "        clean_sentence = re.sub(r'[?|!|\\'|\"|#|/|-|,(|)|$|-|' '|:]',r' ',clean_sentence)\n",
    "        # TODO when seperating ut requirements for aalysis you can use this string but add 0-9 to retain numbers, like years exp.\n",
    "        clean_sentence = \" \".join(re.findall(\"[(a-zA-Z,&)]+\", clean_sentence))\n",
    "        clean_sentences.append(clean_sentence)\n",
    "    clean_text = ''\n",
    "    for i in clean_sentences:\n",
    "        clean_text+=' '\n",
    "        clean_text+=i\n",
    "        clean_text = clean_text.strip().lower()\n",
    "    row['text'] =  clean_text\n",
    "    return row\n",
    "\n",
    "\n",
    "data = data.copy()\n",
    "data['text'] = ''\n",
    "data = data.apply( lambda row : cleanText_descriptive(row), axis = 1)\n"
   ]
  },
  {
   "cell_type": "code",
   "execution_count": 454,
   "metadata": {},
   "outputs": [
    {
     "name": "stdout",
     "output_type": "stream",
     "text": [
      "-- description report --\n",
      "Nothing Missing\n",
      "Records: 8327\n",
      "Unique Values: 403\n",
      "None \n",
      "\n",
      "-- summary report --\n",
      "Nothing Missing\n",
      "Records: 8327\n",
      "Unique Values: 513\n",
      "None \n",
      "\n",
      "-- requirements report --\n",
      "Missing 8110 out of 8327 Records\n",
      "Percent Missing: 97.4%\n",
      "Unique Values: 14\n",
      "None \n",
      "\n",
      "-- text report --\n",
      "Nothing Missing\n",
      "Records: 8327\n",
      "Unique Values: 533\n",
      "None \n",
      "\n"
     ]
    },
    {
     "data": {
      "text/html": [
       "<div>\n",
       "<style scoped>\n",
       "    .dataframe tbody tr th:only-of-type {\n",
       "        vertical-align: middle;\n",
       "    }\n",
       "\n",
       "    .dataframe tbody tr th {\n",
       "        vertical-align: top;\n",
       "    }\n",
       "\n",
       "    .dataframe thead th {\n",
       "        text-align: right;\n",
       "    }\n",
       "</style>\n",
       "<table border=\"1\" class=\"dataframe\">\n",
       "  <thead>\n",
       "    <tr style=\"text-align: right;\">\n",
       "      <th></th>\n",
       "      <th>description</th>\n",
       "      <th>summary</th>\n",
       "      <th>requirements</th>\n",
       "      <th>text</th>\n",
       "    </tr>\n",
       "  </thead>\n",
       "  <tbody>\n",
       "    <tr>\n",
       "      <th>0</th>\n",
       "      <td>Requisition ID: R10053754Category: Engineering...</td>\n",
       "      <td>Support the design, develop, and document the ...</td>\n",
       "      <td>NaN</td>\n",
       "      <td>support the design develop and document the da...</td>\n",
       "    </tr>\n",
       "    <tr>\n",
       "      <th>4</th>\n",
       "      <td>Senior ML Engineer - Stealth, Fully Funded (5...</td>\n",
       "      <td>Online (real-time) and offline data collection...</td>\n",
       "      <td>NaN</td>\n",
       "      <td>online real time and offline data collection f...</td>\n",
       "    </tr>\n",
       "    <tr>\n",
       "      <th>7</th>\n",
       "      <td>Position Summary...What you'll do... Data Sour...</td>\n",
       "      <td>Adopts a broad perspective that considers data...</td>\n",
       "      <td>NaN</td>\n",
       "      <td>adopts a broad perspective that considers data...</td>\n",
       "    </tr>\n",
       "    <tr>\n",
       "      <th>8</th>\n",
       "      <td>Position SummaryThe Data Analyst IV position i...</td>\n",
       "      <td>The Data Analyst IV position involves the proc...</td>\n",
       "      <td>NaN</td>\n",
       "      <td>the data analyst iv position involves the proc...</td>\n",
       "    </tr>\n",
       "    <tr>\n",
       "      <th>12</th>\n",
       "      <td>In today's world, customers expect companies ...</td>\n",
       "      <td>A Master's in a quantitative field (engineerin...</td>\n",
       "      <td>NaN</td>\n",
       "      <td>a master s in a quantitative field engineering...</td>\n",
       "    </tr>\n",
       "  </tbody>\n",
       "</table>\n",
       "</div>"
      ],
      "text/plain": [
       "                                          description  \\\n",
       "0   Requisition ID: R10053754Category: Engineering...   \n",
       "4    Senior ML Engineer - Stealth, Fully Funded (5...   \n",
       "7   Position Summary...What you'll do... Data Sour...   \n",
       "8   Position SummaryThe Data Analyst IV position i...   \n",
       "12   In today's world, customers expect companies ...   \n",
       "\n",
       "                                              summary requirements  \\\n",
       "0   Support the design, develop, and document the ...          NaN   \n",
       "4   Online (real-time) and offline data collection...          NaN   \n",
       "7   Adopts a broad perspective that considers data...          NaN   \n",
       "8   The Data Analyst IV position involves the proc...          NaN   \n",
       "12  A Master's in a quantitative field (engineerin...          NaN   \n",
       "\n",
       "                                                 text  \n",
       "0   support the design develop and document the da...  \n",
       "4   online real time and offline data collection f...  \n",
       "7   adopts a broad perspective that considers data...  \n",
       "8   the data analyst iv position involves the proc...  \n",
       "12  a master s in a quantitative field engineering...  "
      ]
     },
     "execution_count": 454,
     "metadata": {},
     "output_type": "execute_result"
    }
   ],
   "source": [
    "\n",
    "\n",
    "str_features = data[['description', 'summary', 'requirements', 'text']]\n",
    "for i in str_features.columns:\n",
    "    print(featureReport(data, feature = i),'\\n')\n",
    "str_features.head(5)\n"
   ]
  },
  {
   "cell_type": "code",
   "execution_count": 456,
   "metadata": {},
   "outputs": [],
   "source": [
    "\n",
    "\n",
    "stemmer = SnowballStemmer(\"english\")\n",
    "def stemming(sentence):\n",
    "    stemSentence = \"\"\n",
    "    for word in sentence.split():\n",
    "        stem = stemmer.stem(word)\n",
    "        stemSentence += stem\n",
    "        stemSentence += \" \"\n",
    "    stemSentence = stemSentence.strip()\n",
    "    return stemSentence\n",
    "\n",
    "data['stemmed'] = data['text'].apply(stemming)"
   ]
  },
  {
   "cell_type": "code",
   "execution_count": 457,
   "metadata": {},
   "outputs": [],
   "source": [
    "lemmatizer = WordNetLemmatizer()\n",
    "\n",
    "def lemming(sentence):\n",
    "    LemSentence = \"\"\n",
    "    for word in sentence.split():\n",
    "        stem = lemmatizer.lemmatize(word)\n",
    "        LemSentence += stem\n",
    "        LemSentence += \" \"\n",
    "    LemSentence = LemSentence.strip()\n",
    "    return LemSentence\n",
    "\n",
    "data['lemmed'] = data['text'].apply(lemming)"
   ]
  },
  {
   "cell_type": "code",
   "execution_count": 458,
   "metadata": {},
   "outputs": [
    {
     "name": "stdout",
     "output_type": "stream",
     "text": [
      "Requirements - - -\n",
      "SQL: 1 year (Preferred)Data warehouse: 1 year (Preferred)US work authorization (Preferred)\n",
      "\n",
      "\n",
      "Summary - - -\n",
      "Leverage scientific approaches to ask questions, test hypothesizes, and share stories with the use of. Work as part of the internal Data & Analytics team to…\n",
      "\n",
      "\n",
      "Description - - -\n",
      "Data Scientist Job DescriptionApply advanced statistics to solve business problems dailyLeverage scientific approaches to ask questions, test hypothesizes, and share stories with the use ofcomplex dataWork directly with all parts of the business to harvest requirements and to collaborate on projects thatspan multiple departmentsDesign, develop, test, and maintain ML/AI modelsHelp identify value-driven opportunities to implement and embed ML/AI models in analytics workloadsand enterprise applicationsWork as part of the internal Data & Analytics team to ensure the optimal design of data models andpipelines to support data science initiativesProactively identify data availability and quality gaps and assess/share feedback of downstream impactEngage in continuous-improvement cycles for all production supported solutions; increase accuracy,performance, scope of insights, and moreRequirements of Data ScientistB.S. in Computer Science/Information Technology or equivalent experience2+ years of experience in applied Data ScienceStatistically inclined/mathematical expertiseStrong understanding of enterprise data warehousingExperience with business intelligence toolsets (IBM Cognos Analytics preferred)Proficient in relevant information management technologieso ETL/ELT (IBM DataStage preferred)o Message queues (IBM Data Replication preferred)o SQL (IBM Db2 preferred)o PythonKnowledgeable & self-sufficient in process automationExtensive ML/AI modeling experienceo Familiarity with common algorithms and techniqueso Ability to translate accuracy measures into business-friendly outcomesIBM Data Science CertificationTop-tier organizational skillsStrong communication & interpersonal skillsExceptional ability to document solutionsJob Details of Data Scientist$80,000 - $100,000/yearLong term contract with possibility of internal hireFully remote within the United StatesJob Types: Full-time, ContractPay: $80,000.00 - $100,000.00 per yearSchedule:8 hour shiftMonday to FridayExperience:SQL: 1 year (Preferred)Data warehouse: 1 year (Preferred)Work Location: Remote\n",
      "\n",
      "\n",
      "-   -   -   Now with requirements, summary, and descrption combined into a single string:\n",
      "\n",
      "\n",
      "Raw Text - - -\n",
      "Data Scientist Job DescriptionApply advanced statistics to solve business problems dailyLeverage scientific approaches to ask questions, test hypothesizes, and share stories with the use ofcomplex dataWork directly with all parts of the business to harvest requirements and to collaborate on projects thatspan multiple departmentsDesign, develop, test, and maintain ML/AI modelsHelp identify value-driven opportunities to implement and embed ML/AI models in analytics workloadsand enterprise applicationsWork as part of the internal Data & Analytics team to ensure the optimal design of data models andpipelines to support data science initiativesProactively identify data availability and quality gaps and assess/share feedback of downstream impactEngage in continuous-improvement cycles for all production supported solutions; increase accuracy,performance, scope of insights, and moreRequirements of Data ScientistB.S. in Computer Science/Information Technology or equivalent experience2+ years of experience in applied Data ScienceStatistically inclined/mathematical expertiseStrong understanding of enterprise data warehousingExperience with business intelligence toolsets (IBM Cognos Analytics preferred)Proficient in relevant information management technologieso ETL/ELT (IBM DataStage preferred)o Message queues (IBM Data Replication preferred)o SQL (IBM Db2 preferred)o PythonKnowledgeable & self-sufficient in process automationExtensive ML/AI modeling experienceo Familiarity with common algorithms and techniqueso Ability to translate accuracy measures into business-friendly outcomesIBM Data Science CertificationTop-tier organizational skillsStrong communication & interpersonal skillsExceptional ability to document solutionsJob Details of Data Scientist$80,000 - $100,000/yearLong term contract with possibility of internal hireFully remote within the United StatesJob Types: Full-time, ContractPay: $80,000.00 - $100,000.00 per yearSchedule:8 hour shiftMonday to FridayExperience:SQL: 1 year (Preferred)Data warehouse: 1 year (Preferred)Work Location: Remote\n",
      "\n",
      "\n",
      "Cleaned Text - - -\n",
      "sql year preferred data warehouse year preferred us work authorization preferred leverage scientific approaches to ask questions test hypothesizes and share stories with the use of work as part of the internal data & analytics team to data scientist job descriptionapply advanced statistics to solve business problems dailyleverage scientific approaches to ask questions test hypothesizes and share stories with the use ofcomplex datawork directly with all parts of the business to harvest requirements and to collaborate on projects thatspan multiple departmentsdesign develop test and maintain ml ai modelshelp identify value driven opportunities to implement and embed ml ai models in analytics workloadsand enterprise applicationswork as part of the internal data & analytics team to ensure the optimal design of data models andpipelines to support data science initiativesproactively identify data availability and quality gaps and assess share feedback of downstream impactengage in continuous improvement cycles for all production supported solutions increase accuracy performance scope of insights and morerequirements of data scientistb s in computer science information technology or equivalent experience years of experience in applied data sciencestatistically inclined mathematical expertisestrong understanding of enterprise data warehousingexperience with business intelligence toolsets ibm cognos analytics preferred proficient in relevant information management technologieso etl elt ibm datastage preferred o message queues ibm data replication preferred o sql ibm db preferred o pythonknowledgeable & self sufficient in process automationextensive ml ai modeling experienceo familiarity with common algorithms and techniqueso ability to translate accuracy measures into business friendly outcomesibm data science certificationtop tier organizational skillsstrong communication & interpersonal skillsexceptional ability to document solutionsjob details of data scientist yearlong term contract with possibility of internal hirefully remote within the united statesjob types full time contractpay per yearschedule hour shiftmonday to fridayexperience sql year preferred data warehouse year preferred work location remote\n",
      "\n",
      "\n",
      "Stemmed Text - - -\n",
      "sql year prefer data warehous year prefer us work author prefer leverag scientif approach to ask question test hypothes and share stori with the use of work as part of the intern data & analyt team to data scientist job descriptionappli advanc statist to solv busi problem dailyleverag scientif approach to ask question test hypothes and share stori with the use ofcomplex datawork direct with all part of the busi to harvest requir and to collabor on project thatspan multipl departmentsdesign develop test and maintain ml ai modelshelp identifi valu driven opportun to implement and emb ml ai model in analyt workloadsand enterpris applicationswork as part of the intern data & analyt team to ensur the optim design of data model andpipelin to support data scienc initiativesproact identifi data avail and qualiti gap and assess share feedback of downstream impactengag in continu improv cycl for all product support solut increas accuraci perform scope of insight and morerequir of data scientistb s in comput scienc inform technolog or equival experi year of experi in appli data sciencestatist inclin mathemat expertisestrong understand of enterpris data warehousingexperi with busi intellig toolset ibm cogno analyt prefer profici in relev inform manag technologieso etl elt ibm datastag prefer o messag queue ibm data replic prefer o sql ibm db prefer o pythonknowledg & self suffici in process automationextens ml ai model experienceo familiar with common algorithm and techniqueso abil to translat accuraci measur into busi friend outcomesibm data scienc certificationtop tier organiz skillsstrong communic & interperson skillsexcept abil to document solutionsjob detail of data scientist yearlong term contract with possibl of intern hire remot within the unit statesjob type full time contractpay per yearschedul hour shiftmonday to fridayexperi sql year prefer data warehous year prefer work locat remot\n",
      "\n",
      "\n",
      "Lemmed Text - - -\n",
      "sql year preferred data warehouse year preferred u work authorization preferred leverage scientific approach to ask question test hypothesizes and share story with the use of work a part of the internal data & analytics team to data scientist job descriptionapply advanced statistic to solve business problem dailyleverage scientific approach to ask question test hypothesizes and share story with the use ofcomplex datawork directly with all part of the business to harvest requirement and to collaborate on project thatspan multiple departmentsdesign develop test and maintain ml ai modelshelp identify value driven opportunity to implement and embed ml ai model in analytics workloadsand enterprise applicationswork a part of the internal data & analytics team to ensure the optimal design of data model andpipelines to support data science initiativesproactively identify data availability and quality gap and ass share feedback of downstream impactengage in continuous improvement cycle for all production supported solution increase accuracy performance scope of insight and morerequirements of data scientistb s in computer science information technology or equivalent experience year of experience in applied data sciencestatistically inclined mathematical expertisestrong understanding of enterprise data warehousingexperience with business intelligence toolsets ibm cognos analytics preferred proficient in relevant information management technologieso etl elt ibm datastage preferred o message queue ibm data replication preferred o sql ibm db preferred o pythonknowledgeable & self sufficient in process automationextensive ml ai modeling experienceo familiarity with common algorithm and techniqueso ability to translate accuracy measure into business friendly outcomesibm data science certificationtop tier organizational skillsstrong communication & interpersonal skillsexceptional ability to document solutionsjob detail of data scientist yearlong term contract with possibility of internal hirefully remote within the united statesjob type full time contractpay per yearschedule hour shiftmonday to fridayexperience sql year preferred data warehouse year preferred work location remote\n"
     ]
    }
   ],
   "source": [
    "\n",
    "\n",
    "with_reqs = data[data.requirements.notna()]\n",
    "\n",
    "print('Requirements - - -' + '\\n' f'{with_reqs.requirements.iloc[0]}'+ '\\n\\n')\n",
    "print('Summary - - -' + '\\n' f'{with_reqs.summary.iloc[0]}'+ '\\n\\n')\n",
    "print('Description - - -' + '\\n' f'{with_reqs.description.iloc[0]}'+ '\\n\\n')\n",
    "print('-   -   -   Now with requirements, summary, and descrption combined into a single string:'+ '\\n\\n')\n",
    "print('Raw Text - - -' + '\\n' f'{with_reqs.description.iloc[0]}'+ '\\n\\n')\n",
    "print('Cleaned Text - - -' + '\\n' f'{with_reqs.text.iloc[0]}'+ '\\n\\n')\n",
    "print('Stemmed Text - - -' + '\\n' f'{with_reqs.stemmed.iloc[0]}'+ '\\n\\n')\n",
    "print('Lemmed Text - - -' + '\\n' f'{with_reqs.lemmed.iloc[0]}')\n"
   ]
  },
  {
   "cell_type": "markdown",
   "metadata": {},
   "source": [
    "##### Salary\n",
    "\n",
    "'salary'\\\n",
    "Several different approaches will need to be used to extract salary information from this feature because employers provide this information themselves.\n",
    "For one example, the pay periods of hour, day, week etc will need to be scaled to an anuual scale so I can have a standard scale to start wiith.\n",
    "The salary ranges also appear here, so I'll be extracting numeric string characters, converting them into floats representing the lower and upper bounds of each range, and taking their medaian value.\n",
    "\n",
    "'estimated_salary'\\\n",
    "\n",
    "\n",
    "\n",
    "'sal_guide_items'\\\n",
    "\n",
    "\n",
    "'salary_and_jtype' & 'salfromsection'\\\n",
    "These will be wrangled in much the same way. The only other pertinent information in these features would be the job_type data already found in job_type_items,\n",
    "\n",
    "\n",
    "The 'salary' feature is whatever information the employer provided. There are several subgroups within these values:\\\n",
    "&nbsp;work week\\\n",
    "While I could convert these to lists, the only information I need (salary) can be parsed out.\n",
    "\n",
    "\n",
    "The 'estimated_salary' feature \n",
    "Indeed.com provides its own salary estimates in what appear to be bins.\n",
    "These and all other salary ranges will be collapsed to their median values once I've extracted and converted their numeric string reresentations.\n",
    "\n",
    "\n",
    "\n",
    "The task is to find the delta (difference), the intervening days since the post was made, and subtract it from the extract date so I can get the actual date publishd."
   ]
  },
  {
   "cell_type": "code",
   "execution_count": 459,
   "metadata": {},
   "outputs": [
    {
     "name": "stdout",
     "output_type": "stream",
     "text": [
      "-- salary report --\n",
      "Missing 2747 out of 8327 Records\n",
      "Percent Missing: 33.0%\n",
      "Unique Values: 85\n",
      "None \n",
      "\n",
      "-- estimated_salary report --\n",
      "Missing 6197 out of 8327 Records\n",
      "Percent Missing: 74.4%\n",
      "Unique Values: 114\n",
      "None \n",
      "\n"
     ]
    },
    {
     "data": {
      "text/html": [
       "<div>\n",
       "<style scoped>\n",
       "    .dataframe tbody tr th:only-of-type {\n",
       "        vertical-align: middle;\n",
       "    }\n",
       "\n",
       "    .dataframe tbody tr th {\n",
       "        vertical-align: top;\n",
       "    }\n",
       "\n",
       "    .dataframe thead th {\n",
       "        text-align: right;\n",
       "    }\n",
       "</style>\n",
       "<table border=\"1\" class=\"dataframe\">\n",
       "  <thead>\n",
       "    <tr style=\"text-align: right;\">\n",
       "      <th></th>\n",
       "      <th>salary</th>\n",
       "      <th>estimated_salary</th>\n",
       "    </tr>\n",
       "  </thead>\n",
       "  <tbody>\n",
       "    <tr>\n",
       "      <th>0</th>\n",
       "      <td>$71,100 - $138,400 a year</td>\n",
       "      <td>NaN</td>\n",
       "    </tr>\n",
       "    <tr>\n",
       "      <th>4</th>\n",
       "      <td>$100,000 - $175,000 a year -  Full-time</td>\n",
       "      <td>NaN</td>\n",
       "    </tr>\n",
       "    <tr>\n",
       "      <th>7</th>\n",
       "      <td>NaN</td>\n",
       "      <td>NaN</td>\n",
       "    </tr>\n",
       "    <tr>\n",
       "      <th>8</th>\n",
       "      <td>Full-time</td>\n",
       "      <td>NaN</td>\n",
       "    </tr>\n",
       "    <tr>\n",
       "      <th>12</th>\n",
       "      <td>Full-time</td>\n",
       "      <td>NaN</td>\n",
       "    </tr>\n",
       "  </tbody>\n",
       "</table>\n",
       "</div>"
      ],
      "text/plain": [
       "                                     salary estimated_salary\n",
       "0                 $71,100 - $138,400 a year              NaN\n",
       "4   $100,000 - $175,000 a year -  Full-time              NaN\n",
       "7                                       NaN              NaN\n",
       "8                                 Full-time              NaN\n",
       "12                                Full-time              NaN"
      ]
     },
     "execution_count": 459,
     "metadata": {},
     "output_type": "execute_result"
    }
   ],
   "source": [
    "print(featureReport(data, feature = 'salary'),'\\n')\n",
    "print(featureReport(data, feature = 'estimated_salary'),'\\n')\n",
    "data[['salary','estimated_salary']].head(5)"
   ]
  },
  {
   "cell_type": "code",
   "execution_count": 460,
   "metadata": {},
   "outputs": [
    {
     "data": {
      "text/plain": [
       "Full-time                                     3353\n",
       "$102 - $112 an hour -  Full-time               323\n",
       "Contract                                       210\n",
       "$83,100 - $163,500 a year -  Full-time         110\n",
       "$100,000 - $150,000 a year -  Temp-to-hire      97\n",
       "                                              ... \n",
       "$71,100 - $138,400 a year                        1\n",
       "$88,920 - $129,314 a year -  Full-time           1\n",
       "$50,000 - $56,000 a year -  Full-time            1\n",
       "$99,524 - $129,107 a year -  Full-time           1\n",
       "$56,000 - $106,080 a year                        1\n",
       "Name: salary, Length: 84, dtype: int64"
      ]
     },
     "execution_count": 460,
     "metadata": {},
     "output_type": "execute_result"
    }
   ],
   "source": [
    "data.salary.value_counts()"
   ]
  },
  {
   "cell_type": "code",
   "execution_count": 461,
   "metadata": {},
   "outputs": [
    {
     "name": "stdout",
     "output_type": "stream",
     "text": [
      "223171.428571    323\n",
      "125000.000000    289\n",
      "105000.000000    116\n",
      "123300.000000    110\n",
      "130000.000000     89\n",
      "                ... \n",
      "54390.000000       1\n",
      "109500.000000      1\n",
      "32676.000000       1\n",
      "114315.500000      1\n",
      "99500.000000       1\n",
      "Name: cleanedsal, Length: 64, dtype: int64\n"
     ]
    },
    {
     "data": {
      "text/html": [
       "<div>\n",
       "<style scoped>\n",
       "    .dataframe tbody tr th:only-of-type {\n",
       "        vertical-align: middle;\n",
       "    }\n",
       "\n",
       "    .dataframe tbody tr th {\n",
       "        vertical-align: top;\n",
       "    }\n",
       "\n",
       "    .dataframe thead th {\n",
       "        text-align: right;\n",
       "    }\n",
       "</style>\n",
       "<table border=\"1\" class=\"dataframe\">\n",
       "  <thead>\n",
       "    <tr style=\"text-align: right;\">\n",
       "      <th></th>\n",
       "      <th>salary</th>\n",
       "      <th>cleanedsal</th>\n",
       "      <th>estimated_salary</th>\n",
       "      <th>cleanedest</th>\n",
       "    </tr>\n",
       "  </thead>\n",
       "  <tbody>\n",
       "    <tr>\n",
       "      <th>0</th>\n",
       "      <td>$71,100 - $138,400 a year</td>\n",
       "      <td>104750.0</td>\n",
       "      <td>NaN</td>\n",
       "      <td>NaN</td>\n",
       "    </tr>\n",
       "    <tr>\n",
       "      <th>4</th>\n",
       "      <td>$100,000 - $175,000 a year -  Full-time</td>\n",
       "      <td>137500.0</td>\n",
       "      <td>NaN</td>\n",
       "      <td>NaN</td>\n",
       "    </tr>\n",
       "    <tr>\n",
       "      <th>7</th>\n",
       "      <td>NaN</td>\n",
       "      <td>NaN</td>\n",
       "      <td>NaN</td>\n",
       "      <td>NaN</td>\n",
       "    </tr>\n",
       "    <tr>\n",
       "      <th>8</th>\n",
       "      <td>Full-time</td>\n",
       "      <td>NaN</td>\n",
       "      <td>NaN</td>\n",
       "      <td>NaN</td>\n",
       "    </tr>\n",
       "    <tr>\n",
       "      <th>12</th>\n",
       "      <td>Full-time</td>\n",
       "      <td>NaN</td>\n",
       "      <td>NaN</td>\n",
       "      <td>NaN</td>\n",
       "    </tr>\n",
       "    <tr>\n",
       "      <th>...</th>\n",
       "      <td>...</td>\n",
       "      <td>...</td>\n",
       "      <td>...</td>\n",
       "      <td>...</td>\n",
       "    </tr>\n",
       "    <tr>\n",
       "      <th>11015</th>\n",
       "      <td>NaN</td>\n",
       "      <td>NaN</td>\n",
       "      <td>['', 'Not provided by employer', \"$72.4K - $91...</td>\n",
       "      <td>82.0</td>\n",
       "    </tr>\n",
       "    <tr>\n",
       "      <th>11016</th>\n",
       "      <td>Part-time</td>\n",
       "      <td>NaN</td>\n",
       "      <td>NaN</td>\n",
       "      <td>NaN</td>\n",
       "    </tr>\n",
       "    <tr>\n",
       "      <th>11018</th>\n",
       "      <td>Full-time</td>\n",
       "      <td>NaN</td>\n",
       "      <td>NaN</td>\n",
       "      <td>NaN</td>\n",
       "    </tr>\n",
       "    <tr>\n",
       "      <th>11020</th>\n",
       "      <td>NaN</td>\n",
       "      <td>NaN</td>\n",
       "      <td>['', 'Not provided by employer', \"$105K - $133...</td>\n",
       "      <td>119.0</td>\n",
       "    </tr>\n",
       "    <tr>\n",
       "      <th>11022</th>\n",
       "      <td>NaN</td>\n",
       "      <td>NaN</td>\n",
       "      <td>['', 'Not provided by employer', \"$105K - $133...</td>\n",
       "      <td>119.0</td>\n",
       "    </tr>\n",
       "  </tbody>\n",
       "</table>\n",
       "<p>8327 rows × 4 columns</p>\n",
       "</div>"
      ],
      "text/plain": [
       "                                        salary  cleanedsal  \\\n",
       "0                    $71,100 - $138,400 a year    104750.0   \n",
       "4      $100,000 - $175,000 a year -  Full-time    137500.0   \n",
       "7                                          NaN         NaN   \n",
       "8                                    Full-time         NaN   \n",
       "12                                   Full-time         NaN   \n",
       "...                                        ...         ...   \n",
       "11015                                      NaN         NaN   \n",
       "11016                                Part-time         NaN   \n",
       "11018                                Full-time         NaN   \n",
       "11020                                      NaN         NaN   \n",
       "11022                                      NaN         NaN   \n",
       "\n",
       "                                        estimated_salary  cleanedest  \n",
       "0                                                    NaN         NaN  \n",
       "4                                                    NaN         NaN  \n",
       "7                                                    NaN         NaN  \n",
       "8                                                    NaN         NaN  \n",
       "12                                                   NaN         NaN  \n",
       "...                                                  ...         ...  \n",
       "11015  ['', 'Not provided by employer', \"$72.4K - $91...        82.0  \n",
       "11016                                                NaN         NaN  \n",
       "11018                                                NaN         NaN  \n",
       "11020  ['', 'Not provided by employer', \"$105K - $133...       119.0  \n",
       "11022  ['', 'Not provided by employer', \"$105K - $133...       119.0  \n",
       "\n",
       "[8327 rows x 4 columns]"
      ]
     },
     "execution_count": 461,
     "metadata": {},
     "output_type": "execute_result"
    }
   ],
   "source": [
    "def justNumbers(data):\n",
    "    \"\"\"extracts numeric information from given and estimated salary string values.\n",
    "        if the values give a range, it's transformed into into an average\n",
    "\n",
    "    Args:\n",
    "        data (string): values for a given salary feature, by row\n",
    "\n",
    "    Returns:\n",
    "        float : given or estimated salary\n",
    "    \"\"\"\n",
    "    if type(data) == str:\n",
    "        # for estimatedsalary col\n",
    "        if bool(re.search(r'Not provided by employer', data)):\n",
    "            est = data.split(',')\n",
    "            est = est[2].split('a year')[0]\n",
    "            est = re.sub(r'[(a-zA-Z,&,$)]+' '|:]',r'',est)\n",
    "            est = est.replace(\"-\",\"\")\n",
    "            est = est.replace('\"',\"\")\n",
    "            est1, est2 = est.split()[0], est.split()[1]\n",
    "            return (float(est1)+float(est2))/2\n",
    "        # for salary col\n",
    "        else:\n",
    "            if bool(re.search(r'\\d', data)):\n",
    "                    if bool(re.search(r' - ', data)):\n",
    "                        z = data.split(' - ')\n",
    "                        if bool(re.search(r'\\d', z[1])):\n",
    "                            lower = re.sub(r'[(a-zA-Z,&,$)]+' '|:]',r'',z[0]).strip()\n",
    "                            upper = re.sub(r'[(a-zA-Z,&,$)]+' '|:]',r'',z[1]).strip()\n",
    "                            sal = ((float(lower)+float(upper))/2)\n",
    "                            if bool(re.search(r'hour', data)):\n",
    "                                return sal*40*(365/7)\n",
    "                            elif bool(re.search(r'day', data)):\n",
    "                                return sal*5*(365/7)\n",
    "                            elif bool(re.search(r'month', data)):\n",
    "                                return sal*12\n",
    "                            elif bool(re.search(r'year', data)):\n",
    "                                return sal\n",
    "\n",
    "                        else:\n",
    "                            sal = float(re.sub(r'[(a-zA-Z,&,$)]+' '|:]',r'',z[0]).replace(\"-\",\"\").strip())\n",
    "                            if bool(re.search(r'hour', data)):\n",
    "                                    return sal*40*(365/7)\n",
    "                            elif bool(re.search(r'day', data)):\n",
    "                                    return sal*5*(365/7)\n",
    "                            elif bool(re.search(r'month', data)):\n",
    "                                    return sal*12\n",
    "                            elif bool(re.search(r'year', data)):\n",
    "                                    return sal\n",
    "                            return float(sal)\n",
    "\"\"\"\n",
    "\n",
    "\n",
    "                        sal = sal.replace(\"-\",\"\")\n",
    "                        sal = sal.strip()\n",
    "\n",
    "\n",
    "\n",
    "                    else:\n",
    "                        sal = data\n",
    "                    sal = re.sub(r'[?|!|\\'|\"|#|/|-|(|)|$|' '|:]',r'',sal)\n",
    "                    sal = re.sub(r'[(a-zA-Z,&)]+' '|:]',r'',sal)\n",
    "                    sal = sal.replace(\"-\",\"\")\n",
    "                    sal = sal.strip()\n",
    "                    if bool(re.search(r' ', sal)):\n",
    "                        sal1, sal2 = sal.split(' ')[0], sal.split(' ')[1]\n",
    "                        # Assuming a forty hour workweek.\n",
    "                        if bool(re.search(r'hour', data)):\n",
    "                            return ((float(sal1)+float(sal2))/2)*40*(365/7)\n",
    "                        elif bool(re.search(r'month', data)):\n",
    "                            return ((float(sal1)+float(sal2))/2)*12\n",
    "                        else:\n",
    "                            return (float(sal1)+float(sal2))/2\n",
    "                    else:\n",
    "                        return float(sal)\n",
    "\"\"\"\n",
    "data['cleanedsal'] = data.salary.apply(justNumbers)\n",
    "data['cleanedest'] = data.estimated_salary.apply(justNumbers)\n",
    "print(data.cleanedsal.value_counts())\n",
    "data[['salary', 'cleanedsal', 'estimated_salary','cleanedest']]"
   ]
  },
  {
   "cell_type": "code",
   "execution_count": 462,
   "metadata": {},
   "outputs": [
    {
     "data": {
      "text/html": [
       "<div>\n",
       "<style scoped>\n",
       "    .dataframe tbody tr th:only-of-type {\n",
       "        vertical-align: middle;\n",
       "    }\n",
       "\n",
       "    .dataframe tbody tr th {\n",
       "        vertical-align: top;\n",
       "    }\n",
       "\n",
       "    .dataframe thead th {\n",
       "        text-align: right;\n",
       "    }\n",
       "</style>\n",
       "<table border=\"1\" class=\"dataframe\">\n",
       "  <thead>\n",
       "    <tr style=\"text-align: right;\">\n",
       "      <th></th>\n",
       "      <th>salary</th>\n",
       "      <th>estimated_salary</th>\n",
       "      <th>cleanedsal</th>\n",
       "      <th>cleanedest</th>\n",
       "      <th>salaries</th>\n",
       "    </tr>\n",
       "  </thead>\n",
       "  <tbody>\n",
       "    <tr>\n",
       "      <th>0</th>\n",
       "      <td>$71,100 - $138,400 a year</td>\n",
       "      <td>NaN</td>\n",
       "      <td>104750.0</td>\n",
       "      <td>NaN</td>\n",
       "      <td>104750.0</td>\n",
       "    </tr>\n",
       "    <tr>\n",
       "      <th>4</th>\n",
       "      <td>$100,000 - $175,000 a year -  Full-time</td>\n",
       "      <td>NaN</td>\n",
       "      <td>137500.0</td>\n",
       "      <td>NaN</td>\n",
       "      <td>137500.0</td>\n",
       "    </tr>\n",
       "    <tr>\n",
       "      <th>7</th>\n",
       "      <td>NaN</td>\n",
       "      <td>NaN</td>\n",
       "      <td>NaN</td>\n",
       "      <td>NaN</td>\n",
       "      <td>NaN</td>\n",
       "    </tr>\n",
       "    <tr>\n",
       "      <th>8</th>\n",
       "      <td>Full-time</td>\n",
       "      <td>NaN</td>\n",
       "      <td>NaN</td>\n",
       "      <td>NaN</td>\n",
       "      <td>NaN</td>\n",
       "    </tr>\n",
       "    <tr>\n",
       "      <th>12</th>\n",
       "      <td>Full-time</td>\n",
       "      <td>NaN</td>\n",
       "      <td>NaN</td>\n",
       "      <td>NaN</td>\n",
       "      <td>NaN</td>\n",
       "    </tr>\n",
       "    <tr>\n",
       "      <th>...</th>\n",
       "      <td>...</td>\n",
       "      <td>...</td>\n",
       "      <td>...</td>\n",
       "      <td>...</td>\n",
       "      <td>...</td>\n",
       "    </tr>\n",
       "    <tr>\n",
       "      <th>11015</th>\n",
       "      <td>NaN</td>\n",
       "      <td>['', 'Not provided by employer', \"$72.4K - $91...</td>\n",
       "      <td>NaN</td>\n",
       "      <td>82.0</td>\n",
       "      <td>82000.0</td>\n",
       "    </tr>\n",
       "    <tr>\n",
       "      <th>11016</th>\n",
       "      <td>Part-time</td>\n",
       "      <td>NaN</td>\n",
       "      <td>NaN</td>\n",
       "      <td>NaN</td>\n",
       "      <td>NaN</td>\n",
       "    </tr>\n",
       "    <tr>\n",
       "      <th>11018</th>\n",
       "      <td>Full-time</td>\n",
       "      <td>NaN</td>\n",
       "      <td>NaN</td>\n",
       "      <td>NaN</td>\n",
       "      <td>NaN</td>\n",
       "    </tr>\n",
       "    <tr>\n",
       "      <th>11020</th>\n",
       "      <td>NaN</td>\n",
       "      <td>['', 'Not provided by employer', \"$105K - $133...</td>\n",
       "      <td>NaN</td>\n",
       "      <td>119.0</td>\n",
       "      <td>119000.0</td>\n",
       "    </tr>\n",
       "    <tr>\n",
       "      <th>11022</th>\n",
       "      <td>NaN</td>\n",
       "      <td>['', 'Not provided by employer', \"$105K - $133...</td>\n",
       "      <td>NaN</td>\n",
       "      <td>119.0</td>\n",
       "      <td>119000.0</td>\n",
       "    </tr>\n",
       "  </tbody>\n",
       "</table>\n",
       "<p>8327 rows × 5 columns</p>\n",
       "</div>"
      ],
      "text/plain": [
       "                                        salary  \\\n",
       "0                    $71,100 - $138,400 a year   \n",
       "4      $100,000 - $175,000 a year -  Full-time   \n",
       "7                                          NaN   \n",
       "8                                    Full-time   \n",
       "12                                   Full-time   \n",
       "...                                        ...   \n",
       "11015                                      NaN   \n",
       "11016                                Part-time   \n",
       "11018                                Full-time   \n",
       "11020                                      NaN   \n",
       "11022                                      NaN   \n",
       "\n",
       "                                        estimated_salary  cleanedsal  \\\n",
       "0                                                    NaN    104750.0   \n",
       "4                                                    NaN    137500.0   \n",
       "7                                                    NaN         NaN   \n",
       "8                                                    NaN         NaN   \n",
       "12                                                   NaN         NaN   \n",
       "...                                                  ...         ...   \n",
       "11015  ['', 'Not provided by employer', \"$72.4K - $91...         NaN   \n",
       "11016                                                NaN         NaN   \n",
       "11018                                                NaN         NaN   \n",
       "11020  ['', 'Not provided by employer', \"$105K - $133...         NaN   \n",
       "11022  ['', 'Not provided by employer', \"$105K - $133...         NaN   \n",
       "\n",
       "       cleanedest  salaries  \n",
       "0             NaN  104750.0  \n",
       "4             NaN  137500.0  \n",
       "7             NaN       NaN  \n",
       "8             NaN       NaN  \n",
       "12            NaN       NaN  \n",
       "...           ...       ...  \n",
       "11015        82.0   82000.0  \n",
       "11016         NaN       NaN  \n",
       "11018         NaN       NaN  \n",
       "11020       119.0  119000.0  \n",
       "11022       119.0  119000.0  \n",
       "\n",
       "[8327 rows x 5 columns]"
      ]
     },
     "execution_count": 462,
     "metadata": {},
     "output_type": "execute_result"
    }
   ],
   "source": [
    "def salaries(row):\n",
    "    \"\"\"Critical function that converts postdate values into relative (in days) distance from the extract date.\n",
    "    Args:\n",
    "        data (string): text descrption of how old the post is.\n",
    "    Returns:\n",
    "        npnan or int: numeric representation of post age\n",
    "    \"\"\"\n",
    "    if (row['cleanedest'] > 0) & (row['cleanedest'] != type('NoneType')):\n",
    "        return round(float(row['cleanedest']) ,2)*1000\n",
    "\n",
    "    elif (row['cleanedsal'] > 0) & (row['cleanedsal'] != type(None)):\n",
    "        return round(float(row['cleanedsal']) ,2)\n",
    "\n",
    "\n",
    "data['salaries'] = data.apply( lambda row : salaries(row), axis = 1).astype(float)\n",
    "data[['salary','estimated_salary','cleanedsal','cleanedest', 'salaries']]"
   ]
  },
  {
   "cell_type": "code",
   "execution_count": 463,
   "metadata": {},
   "outputs": [
    {
     "data": {
      "text/html": [
       "<div>\n",
       "<style scoped>\n",
       "    .dataframe tbody tr th:only-of-type {\n",
       "        vertical-align: middle;\n",
       "    }\n",
       "\n",
       "    .dataframe tbody tr th {\n",
       "        vertical-align: top;\n",
       "    }\n",
       "\n",
       "    .dataframe thead th {\n",
       "        text-align: right;\n",
       "    }\n",
       "</style>\n",
       "<table border=\"1\" class=\"dataframe\">\n",
       "  <thead>\n",
       "    <tr style=\"text-align: right;\">\n",
       "      <th></th>\n",
       "      <th>cleanedsal</th>\n",
       "      <th>cleanedest</th>\n",
       "      <th>salaries</th>\n",
       "    </tr>\n",
       "  </thead>\n",
       "  <tbody>\n",
       "    <tr>\n",
       "      <th>count</th>\n",
       "      <td>1811.000000</td>\n",
       "      <td>2130.000000</td>\n",
       "      <td>3941.000000</td>\n",
       "    </tr>\n",
       "    <tr>\n",
       "      <th>mean</th>\n",
       "      <td>141867.705056</td>\n",
       "      <td>118.140070</td>\n",
       "      <td>129043.583981</td>\n",
       "    </tr>\n",
       "    <tr>\n",
       "      <th>std</th>\n",
       "      <td>51293.860556</td>\n",
       "      <td>27.058569</td>\n",
       "      <td>41763.361588</td>\n",
       "    </tr>\n",
       "    <tr>\n",
       "      <th>min</th>\n",
       "      <td>32676.000000</td>\n",
       "      <td>49.300000</td>\n",
       "      <td>32676.000000</td>\n",
       "    </tr>\n",
       "    <tr>\n",
       "      <th>25%</th>\n",
       "      <td>109443.000000</td>\n",
       "      <td>102.850000</td>\n",
       "      <td>105497.500000</td>\n",
       "    </tr>\n",
       "    <tr>\n",
       "      <th>50%</th>\n",
       "      <td>125000.000000</td>\n",
       "      <td>121.000000</td>\n",
       "      <td>125000.000000</td>\n",
       "    </tr>\n",
       "    <tr>\n",
       "      <th>75%</th>\n",
       "      <td>165500.000000</td>\n",
       "      <td>134.000000</td>\n",
       "      <td>137100.000000</td>\n",
       "    </tr>\n",
       "    <tr>\n",
       "      <th>max</th>\n",
       "      <td>270000.000000</td>\n",
       "      <td>181.000000</td>\n",
       "      <td>270000.000000</td>\n",
       "    </tr>\n",
       "  </tbody>\n",
       "</table>\n",
       "</div>"
      ],
      "text/plain": [
       "          cleanedsal   cleanedest       salaries\n",
       "count    1811.000000  2130.000000    3941.000000\n",
       "mean   141867.705056   118.140070  129043.583981\n",
       "std     51293.860556    27.058569   41763.361588\n",
       "min     32676.000000    49.300000   32676.000000\n",
       "25%    109443.000000   102.850000  105497.500000\n",
       "50%    125000.000000   121.000000  125000.000000\n",
       "75%    165500.000000   134.000000  137100.000000\n",
       "max    270000.000000   181.000000  270000.000000"
      ]
     },
     "execution_count": 463,
     "metadata": {},
     "output_type": "execute_result"
    }
   ],
   "source": [
    "data[['salary','estimated_salary','cleanedsal','cleanedest', 'salaries']].describe()"
   ]
  },
  {
   "cell_type": "code",
   "execution_count": 464,
   "metadata": {},
   "outputs": [
    {
     "name": "stdout",
     "output_type": "stream",
     "text": [
      "-- salary report --\n",
      "Missing 2747 out of 8327 Records\n",
      "Percent Missing: 33.0%\n",
      "Unique Values: 85\n",
      "\n",
      "-- estimated_salary report --\n",
      "Missing 6197 out of 8327 Records\n",
      "Percent Missing: 74.4%\n",
      "Unique Values: 114\n",
      "\n",
      "-- salaries report --\n",
      "Missing 4386 out of 8327 Records\n",
      "Percent Missing: 52.7%\n",
      "Unique Values: 147\n",
      "Min: 32676.0\n",
      "Max: 270000.0\n",
      "Mean: 129043.584\n",
      "Mode: 125000.0\n",
      "Std.Dev: 41758.0627\n",
      "\n"
     ]
    },
    {
     "data": {
      "text/html": [
       "<div>\n",
       "<style scoped>\n",
       "    .dataframe tbody tr th:only-of-type {\n",
       "        vertical-align: middle;\n",
       "    }\n",
       "\n",
       "    .dataframe tbody tr th {\n",
       "        vertical-align: top;\n",
       "    }\n",
       "\n",
       "    .dataframe thead th {\n",
       "        text-align: right;\n",
       "    }\n",
       "</style>\n",
       "<table border=\"1\" class=\"dataframe\">\n",
       "  <thead>\n",
       "    <tr style=\"text-align: right;\">\n",
       "      <th></th>\n",
       "      <th>salary</th>\n",
       "      <th>estimated_salary</th>\n",
       "      <th>salaries</th>\n",
       "    </tr>\n",
       "  </thead>\n",
       "  <tbody>\n",
       "    <tr>\n",
       "      <th>0</th>\n",
       "      <td>$71,100 - $138,400 a year</td>\n",
       "      <td>NaN</td>\n",
       "      <td>104750.0</td>\n",
       "    </tr>\n",
       "    <tr>\n",
       "      <th>4</th>\n",
       "      <td>$100,000 - $175,000 a year -  Full-time</td>\n",
       "      <td>NaN</td>\n",
       "      <td>137500.0</td>\n",
       "    </tr>\n",
       "    <tr>\n",
       "      <th>7</th>\n",
       "      <td>NaN</td>\n",
       "      <td>NaN</td>\n",
       "      <td>NaN</td>\n",
       "    </tr>\n",
       "    <tr>\n",
       "      <th>8</th>\n",
       "      <td>Full-time</td>\n",
       "      <td>NaN</td>\n",
       "      <td>NaN</td>\n",
       "    </tr>\n",
       "    <tr>\n",
       "      <th>12</th>\n",
       "      <td>Full-time</td>\n",
       "      <td>NaN</td>\n",
       "      <td>NaN</td>\n",
       "    </tr>\n",
       "  </tbody>\n",
       "</table>\n",
       "</div>"
      ],
      "text/plain": [
       "                                     salary estimated_salary  salaries\n",
       "0                 $71,100 - $138,400 a year              NaN  104750.0\n",
       "4   $100,000 - $175,000 a year -  Full-time              NaN  137500.0\n",
       "7                                       NaN              NaN       NaN\n",
       "8                                 Full-time              NaN       NaN\n",
       "12                                Full-time              NaN       NaN"
      ]
     },
     "execution_count": 464,
     "metadata": {},
     "output_type": "execute_result"
    }
   ],
   "source": [
    "#TODO There's no overlap here, which is anticipated. owever, I need to come back and see what's being cleaned out/lost.\n",
    "cols = ['salary','estimated_salary','salaries']\n",
    "for i in cols:\n",
    "    featureReport(data,i)\n",
    "    print('')\n",
    "\n",
    "data[cols].head(5)"
   ]
  },
  {
   "cell_type": "code",
   "execution_count": 465,
   "metadata": {},
   "outputs": [
    {
     "data": {
      "text/plain": [
       "105497.5"
      ]
     },
     "execution_count": 465,
     "metadata": {},
     "output_type": "execute_result"
    }
   ],
   "source": [
    "q1 = np.quantile(data[data.salaries.notna()].salaries, .25)\n",
    "q1"
   ]
  },
  {
   "cell_type": "code",
   "execution_count": 466,
   "metadata": {},
   "outputs": [
    {
     "data": {
      "text/plain": [
       "125000.0"
      ]
     },
     "execution_count": 466,
     "metadata": {},
     "output_type": "execute_result"
    }
   ],
   "source": [
    "q2 = np.quantile(data[data['salaries'].notna()].salaries, 0.5)\n",
    "q2"
   ]
  },
  {
   "cell_type": "code",
   "execution_count": 467,
   "metadata": {},
   "outputs": [
    {
     "data": {
      "text/plain": [
       "0         True\n",
       "4         True\n",
       "7        False\n",
       "8        False\n",
       "12       False\n",
       "         ...  \n",
       "11015     True\n",
       "11016    False\n",
       "11018    False\n",
       "11020     True\n",
       "11022     True\n",
       "Name: salaries, Length: 8327, dtype: bool"
      ]
     },
     "execution_count": 467,
     "metadata": {},
     "output_type": "execute_result"
    }
   ],
   "source": [
    "data['salaries'].notna()"
   ]
  },
  {
   "cell_type": "code",
   "execution_count": 470,
   "metadata": {},
   "outputs": [
    {
     "data": {
      "image/png": "[encoded data removed]",
      "text/plain": [
       "<Figure size 432x288 with 1 Axes>"
      ]
     },
     "metadata": {
      "needs_background": "light"
     },
     "output_type": "display_data"
    },
    {
     "data": {
      "image/png": "[encoded data removed]",
      "text/plain": [
       "<Figure size 432x288 with 1 Axes>"
      ]
     },
     "metadata": {
      "needs_background": "light"
     },
     "output_type": "display_data"
    },
    {
     "data": {
      "image/png": "[encoded data removed]",
      "text/plain": [
       "<Figure size 432x288 with 1 Axes>"
      ]
     },
     "metadata": {
      "needs_background": "light"
     },
     "output_type": "display_data"
    },
    {
     "name": "stdout",
     "output_type": "stream",
     "text": [
      "There are 447 records below and 99 above.\n",
      "Records Including Outliers: 8327\n",
      "Records Without Outliers: 3395\n"
     ]
    },
    {
     "data": {
      "image/png": "[encoded data removed]",
      "text/plain": [
       "<Figure size 432x288 with 1 Axes>"
      ]
     },
     "metadata": {
      "needs_background": "light"
     },
     "output_type": "display_data"
    },
    {
     "data": {
      "image/png": "[encoded data removed]",
      "text/plain": [
       "<Figure size 432x288 with 1 Axes>"
      ]
     },
     "metadata": {
      "needs_background": "light"
     },
     "output_type": "display_data"
    },
    {
     "data": {
      "image/png": "[encoded data removed]",
      "text/plain": [
       "<Figure size 432x288 with 1 Axes>"
      ]
     },
     "metadata": {
      "needs_background": "light"
     },
     "output_type": "display_data"
    }
   ],
   "source": [
    "data, q1, q3= iqr_detect(data, feature='salaries')\n"
   ]
  },
  {
   "cell_type": "markdown",
   "metadata": {},
   "source": [
    "## 4.1 Target\n",
    "Before I can begin splitting the data I need to set the target for my methodology of training four seperate logistic regression models. I'm doing this because I'd like my classifications to be as accurate as possible, and also, by building my NLP strategy around a particular label, i.e. finding common words for that label as opposed to being generalized through the entire corpus\\\n",
    "\n",
    "I'm going to one-hot-encode the target feature so I can select each of the next columns as my y - one for each model.\n",
    "\n",
    "\n",
    "\n",
    "##\n",
    "I need to make one model for each target. Before doing so, I'll need to use gridsearch to find the best hyperperamters.\n",
    "Looping through each target, I set y to that specific single-column binary '(for target in targets target == 0 or 1)'\n",
    "Then do a test train split before setting up the pipeline. The grid being use in this case is the selection of hyperperamters I want to check.\n"
   ]
  },
  {
   "cell_type": "code",
   "execution_count": 471,
   "metadata": {},
   "outputs": [
    {
     "name": "stdout",
     "output_type": "stream",
     "text": [
      "1 740\n",
      "2 946\n",
      "3 798\n",
      "4 911\n"
     ]
    },
    {
     "data": {
      "text/plain": [
       "Series([], Name: salaries, dtype: float64)"
      ]
     },
     "execution_count": 471,
     "metadata": {},
     "output_type": "execute_result"
    }
   ],
   "source": [
    "def Q(row):\n",
    "    \"\"\"\n",
    "    Subtracts the distance (in days) provided by the postD function.\n",
    "    Args:\n",
    "        row (record in the data): record\n",
    "\n",
    "    Returns:\n",
    "        datetime object: extract date - relative age = actual post date\n",
    "    \"\"\"\n",
    "    q1 = np.quantile(data[data.salaries.notna()].salaries, 0.25)\n",
    "    q2 = np.quantile(data[data.salaries.notna()].salaries, 0.5)\n",
    "    q3 = np.quantile(data[data.salaries.notna()].salaries, 0.75)\n",
    "\n",
    "\n",
    "    \n",
    "    salary = row['salaries']\n",
    "    if salary != np.nan:\n",
    "        if salary < q1:\n",
    "            row['Q1'] = 1\n",
    "            row['target'] = 1\n",
    "\n",
    "        if (salary >= q1) & (salary < q2):\n",
    "            row['Q2'] = 1\n",
    "            row['target'] = 2\n",
    "\n",
    "\n",
    "        if (salary >= q2) & (salary < q3):\n",
    "            row['Q3'] = 1\n",
    "            row['target'] = 3\n",
    "\n",
    "\n",
    "        if salary >= q3:\n",
    "            row['Q4'] = 1\n",
    "            row['target'] = 4\n",
    "\n",
    "        if row['target'] == 0:\n",
    "            row['target'] = np.nan\n",
    "    \n",
    "    return row\n",
    "\n",
    "\n",
    "\n",
    "data['Q1'] = 0\n",
    "data['Q2'] = 0\n",
    "data['Q3'] = 0\n",
    "data['Q4'] = 0\n",
    "data['target'] = 0\n",
    "\n",
    "\n",
    "\n",
    "data = data.apply( lambda row : Q(row), axis = 1)\n",
    "for i,j in sorted(data.target.value_counts().items()):\n",
    "    print(i,j)\n",
    "data[data.salaries == 12000].salaries"
   ]
  },
  {
   "cell_type": "markdown",
   "metadata": {},
   "source": [
    "## EDA\n",
    "\n",
    "### 2.2 Univariate Feature Analysis & Centering\n",
    "I'm going to employ visual and statistical methods to analyze each feature, starting with the target, and outside of scaling, prepare them for logistic regression which will require that each feature's vaues are normally distributes.\n"
   ]
  },
  {
   "cell_type": "code",
   "execution_count": 472,
   "metadata": {},
   "outputs": [
    {
     "data": {
      "image/png": "[encoded data removed]",
      "text/plain": [
       "<Figure size 1296x288 with 1 Axes>"
      ]
     },
     "metadata": {
      "needs_background": "light"
     },
     "output_type": "display_data"
    }
   ],
   "source": [
    "ax = sns.pairplot(data=data[data.salaries.notna()],\n",
    "                  x_vars=['dateposted'],\n",
    "                  y_vars=['salaries'], height=8, hue=\"target\", palette=\"crest\")\n",
    "\n",
    "ax.fig.set_size_inches(18,4)"
   ]
  },
  {
   "cell_type": "code",
   "execution_count": 478,
   "metadata": {},
   "outputs": [
    {
     "data": {
      "image/png": "[encoded data removed]",
      "text/plain": [
       "<Figure size 360x360 with 1 Axes>"
      ]
     },
     "metadata": {
      "needs_background": "light"
     },
     "output_type": "display_data"
    }
   ],
   "source": [
    "\n",
    "g = sns.catplot(x=\"target\", y=\"salaries\", kind=\"violin\", inner=None, data=data)\n",
    "sns.swarmplot(x=\"target\", y=\"salaries\", color=\"k\", size=.1, data=data, ax=g.ax)\n",
    "plt.show()"
   ]
  },
  {
   "cell_type": "code",
   "execution_count": 475,
   "metadata": {},
   "outputs": [
    {
     "data": {
      "image/png": "[encoded data removed]",
      "text/plain": [
       "<Figure size 432x288 with 1 Axes>"
      ]
     },
     "metadata": {
      "needs_background": "light"
     },
     "output_type": "display_data"
    }
   ],
   "source": [
    "ax = sns.violinplot(x=\"target\", y=\"salaries\", data=data,\n",
    "\n",
    "                    inner=None, color=\".01\")\n",
    "\n",
    "ax = sns.stripplot(x=\"target\", y=\"salaries\", data=data)"
   ]
  },
  {
   "cell_type": "code",
   "execution_count": null,
   "metadata": {},
   "outputs": [],
   "source": []
  },
  {
   "cell_type": "code",
   "execution_count": 480,
   "metadata": {},
   "outputs": [
    {
     "ename": "NameError",
     "evalue": "name 'tips' is not defined",
     "output_type": "error",
     "traceback": [
      "\u001b[0;31m---------------------------------------------------------------------------\u001b[0m",
      "\u001b[0;31mNameError\u001b[0m                                 Traceback (most recent call last)",
      "\u001b[0;32m<ipython-input-480-3c2792c24c0e>\u001b[0m in \u001b[0;36m<module>\u001b[0;34m\u001b[0m\n\u001b[0;32m----> 1\u001b[0;31m \u001b[0max\u001b[0m \u001b[0;34m=\u001b[0m \u001b[0msns\u001b[0m\u001b[0;34m.\u001b[0m\u001b[0mboxplot\u001b[0m\u001b[0;34m(\u001b[0m\u001b[0mx\u001b[0m\u001b[0;34m=\u001b[0m\u001b[0;34m\"tip\"\u001b[0m\u001b[0;34m,\u001b[0m \u001b[0my\u001b[0m\u001b[0;34m=\u001b[0m\u001b[0;34m\"day\"\u001b[0m\u001b[0;34m,\u001b[0m \u001b[0mdata\u001b[0m\u001b[0;34m=\u001b[0m\u001b[0mtips\u001b[0m\u001b[0;34m,\u001b[0m \u001b[0mwhis\u001b[0m\u001b[0;34m=\u001b[0m\u001b[0mnp\u001b[0m\u001b[0;34m.\u001b[0m\u001b[0minf\u001b[0m\u001b[0;34m)\u001b[0m\u001b[0;34m\u001b[0m\u001b[0;34m\u001b[0m\u001b[0m\n\u001b[0m\u001b[1;32m      2\u001b[0m \u001b[0;34m\u001b[0m\u001b[0m\n\u001b[1;32m      3\u001b[0m \u001b[0max\u001b[0m \u001b[0;34m=\u001b[0m \u001b[0msns\u001b[0m\u001b[0;34m.\u001b[0m\u001b[0mstripplot\u001b[0m\u001b[0;34m(\u001b[0m\u001b[0mx\u001b[0m\u001b[0;34m=\u001b[0m\u001b[0;34m\"tip\"\u001b[0m\u001b[0;34m,\u001b[0m \u001b[0my\u001b[0m\u001b[0;34m=\u001b[0m\u001b[0;34m\"day\"\u001b[0m\u001b[0;34m,\u001b[0m \u001b[0mdata\u001b[0m\u001b[0;34m=\u001b[0m\u001b[0mtips\u001b[0m\u001b[0;34m,\u001b[0m \u001b[0mcolor\u001b[0m\u001b[0;34m=\u001b[0m\u001b[0;34m\".3\"\u001b[0m\u001b[0;34m)\u001b[0m\u001b[0;34m\u001b[0m\u001b[0;34m\u001b[0m\u001b[0m\n",
      "\u001b[0;31mNameError\u001b[0m: name 'tips' is not defined"
     ]
    }
   ],
   "source": [
    "ax = sns.boxplot(x=\"tip\", y=\"day\", data=data, whis=np.inf)\n",
    "\n",
    "ax = sns.stripplot(x=\"tip\", y=\"day\", data=data, color=\".3\")"
   ]
  },
  {
   "cell_type": "code",
   "execution_count": 476,
   "metadata": {},
   "outputs": [
    {
     "name": "stdout",
     "output_type": "stream",
     "text": [
      "0    2655\n",
      "1     740\n",
      "Name: Q1, dtype: int64\n",
      "0    2449\n",
      "1     946\n",
      "Name: Q2, dtype: int64\n",
      "0    2597\n",
      "1     798\n",
      "Name: Q3, dtype: int64\n",
      "0    2484\n",
      "1     911\n",
      "Name: Q4, dtype: int64\n"
     ]
    }
   ],
   "source": [
    "for i in data[['Q1','Q2','Q3','Q4']]:\n",
    "    print(data[i].value_counts())"
   ]
  },
  {
   "cell_type": "code",
   "execution_count": null,
   "metadata": {},
   "outputs": [],
   "source": [
    "data = data[['company','job_title','state','city','rating','text', 'salaries', 'target', 'Q1', 'Q2', 'Q3', 'Q4']]"
   ]
  },
  {
   "cell_type": "code",
   "execution_count": null,
   "metadata": {},
   "outputs": [],
   "source": [
    "# check for duplcates.\n",
    "print(f'Number of dupes: {sum(data.duplicated())}')\n",
    "data.drop_duplicates(inplace=True)\n",
    "# check for missing\n",
    "print(data.isna().sum().sort_values(ascending=False))\n",
    "data.dropna(inplace = True)\n",
    "\n",
    "print(f'Number of dupes: {sum(data.duplicated())}')\n",
    "print(data.isna().sum().sort_values(ascending=False))\n"
   ]
  },
  {
   "cell_type": "markdown",
   "metadata": {},
   "source": [
    "## Pipelining"
   ]
  },
  {
   "cell_type": "code",
   "execution_count": null,
   "metadata": {},
   "outputs": [],
   "source": [
    "\n",
    "def grid_search_pipe():\n",
    "    targets = ['Q1','Q2','Q3','Q4']\n",
    "    X = data.drop(targets, axis=1)\n",
    "\n",
    "    le_cols = ['company', 'job_title', 'state', 'city']\n",
    "    scal_cols = ['rating']\n",
    "\n",
    "    evaluations = {}\n",
    "\n",
    "    \n",
    "    for i in targets:\n",
    "    # test/train split\n",
    "        y = data[i]\n",
    "        x_train, x_test, y_train, y_test = train_test_split(X, y , test_size=.2, random_state=42)\n",
    "\n",
    "\n",
    "        preprocessor = ColumnTransformer(\n",
    "            transformers=[\n",
    "                ('text', TfidfVectorizer(ngram_range=(1,3), analyzer = 'word',max_features=1000,stop_words='english',decode_error='ignore'), 'text'),\n",
    "                ('category', OneHotEncoder(handle_unknown ='ignore'), le_cols),\n",
    "                ('scaler', StandardScaler(), scal_cols)\n",
    "                \n",
    "                ],remainder='drop')\n",
    "        #   populating parameter grid to search\n",
    "        grid = [\n",
    "            {\n",
    "            'classifier' : [LogisticRegression()],\n",
    "            #'classifier__penalty' : ['l1', 'l2'],\n",
    "            #'classifier__C' : np.logspace(-4, 4, 20),\n",
    "            'classifier__solver' : ['liblinear']}\n",
    "            ]\n",
    "\n",
    "        pipe = Pipeline(\n",
    "            steps=[\n",
    "            ('preprocessor', preprocessor),\n",
    "            ('classifier', LogisticRegression(grid)),\n",
    "            ],\n",
    "            )\n",
    "\n",
    "\n",
    "        \n",
    "        grid_search = GridSearchCV(pipe, param_grid=grid, verbose=2, return_train_score=True)\n",
    "        grid_search.fit(x_train,y_train)\n",
    "\n",
    "        print(\"Best parameter (CV score=%0.3f):\" % grid_search.best_score_)\n",
    "        print(grid_search.best_params_)\n",
    "\n",
    "\n",
    "        if i not in evaluations.keys():\n",
    "            evaluations[i] = {\n",
    "                'grid_search':grid_search,\n",
    "                'x_train':x_train,\n",
    "                'y_train':y_train,\n",
    "                'x_test':x_test,\n",
    "                'y_test':y_test\n",
    "                \n",
    "            }\n",
    "\n",
    "\n",
    "    return evaluations\n",
    "\n",
    "\n",
    "evaluations = grid_search_pipe()"
   ]
  },
  {
   "cell_type": "markdown",
   "metadata": {},
   "source": [
    "## Modelling"
   ]
  },
  {
   "cell_type": "code",
   "execution_count": null,
   "metadata": {},
   "outputs": [],
   "source": [
    "def make_model(evaluations):\n",
    "\n",
    "\n",
    "    targets = ['Q1','Q2','Q3','Q4']\n",
    "    X = data.drop(targets, axis=1)\n",
    "\n",
    "    test_results = {}\n",
    "\n",
    "    for i in targets:\n",
    "        evaluation = evaluations[i]['grid_search']\n",
    "        params = evaluation.best_params_\n",
    "\n",
    "\n",
    "        y = data[i]\n",
    "        x_train, x_test, y_train, y_test = train_test_split(X, y , test_size=.2, random_state=42)\n",
    "\n",
    "\n",
    "\n",
    "        le_cols = ['company', 'job_title', 'state', 'city']\n",
    "        scal_cols = ['rating']\n",
    "\n",
    "        preprocessor = ColumnTransformer(\n",
    "            transformers=[\n",
    "                ('text', TfidfVectorizer(ngram_range=(1,3), analyzer = 'word',max_features=1000,stop_words='english',decode_error='ignore'), 'text'),\n",
    "                ('category', OneHotEncoder(handle_unknown ='ignore'), le_cols),\n",
    "                ('scaler', MinMaxScaler(), scal_cols)\n",
    "                \n",
    "                ],remainder='drop')\n",
    "\n",
    "\n",
    "        pipe = Pipeline(\n",
    "            steps=[\n",
    "                ('preprocessor', preprocessor),\n",
    "                ('classifier', params['classifier']),\n",
    "            ],\n",
    "        )\n",
    "\n",
    "\n",
    "        pipe.fit(x_train,y_train)\n",
    "\n",
    "        predictions = pipe.predict(x_test)\n",
    "        score = pipe.score(x_train, y_train)\n",
    "\n",
    "\n",
    "        ### check\n",
    "        check = pd.DataFrame(preprocessor.fit_transform(x_train,y_train).toarray())\n",
    "\n",
    "\n",
    "        if i not in test_results.keys():\n",
    "            test_results[i] = pipe, x_train, y_train, x_test, y_test, predictions, score\n",
    "                \n",
    "    return test_results, check\n",
    "        \n",
    "test_results, check = make_model(evaluations)\n"
   ]
  },
  {
   "cell_type": "code",
   "execution_count": null,
   "metadata": {},
   "outputs": [],
   "source": [
    "def combinator(test_results):\n",
    "    targets = ['Q1','Q2','Q3','Q4']\n",
    "\n",
    "    resultsDB = {}\n",
    "    lst = []\n",
    "\n",
    "    \n",
    "    for label in targets:\n",
    "        data_dict = {}\n",
    "        pipe = test_results[label][0]\n",
    "        x_test = test_results[label][3]\n",
    "        y_test = test_results[label][4]\n",
    "        y_prob = pipe.predict_proba(x_test)\n",
    "        predict_y = pipe.predict(x_test)\n",
    "        data_dict = {\n",
    "            f'{label}_y_test':y_test, \n",
    "             f'{label}_pred y': predict_y.tolist(),\n",
    "             f'{label}_probabilities': y_prob.tolist()\n",
    "             }\n",
    "        zulu = x_test.join(pd.DataFrame(data_dict))\n",
    "        if label not in resultsDB.keys():\n",
    "            resultsDB[label] = zulu\n",
    "        else:\n",
    "            continue\n",
    "\n",
    "\n",
    "        out = pd.DataFrame(data_dict)\n",
    "        lst.append(out)\n",
    "\n",
    "    results_table = x_test\n",
    "    for i, label in zip(lst, targets):\n",
    "        results_table = results_table.join(i, lsuffix=label)\n",
    "    #results_table = results_table.join(lst[1], lsuffix='__')\n",
    "    #for label, results in zip(targets,lst):\n",
    "    #    results_table = results_table.join(results, lsuffix=label)\n",
    "    return resultsDB, results_table, lst\n",
    "   \n",
    "\n",
    "data_dict, results_table, lst = combinator(test_results)"
   ]
  },
  {
   "cell_type": "code",
   "execution_count": null,
   "metadata": {},
   "outputs": [],
   "source": [
    "len(test_results['Q1'])"
   ]
  },
  {
   "cell_type": "code",
   "execution_count": null,
   "metadata": {},
   "outputs": [],
   "source": []
  },
  {
   "cell_type": "code",
   "execution_count": null,
   "metadata": {},
   "outputs": [],
   "source": [
    "pipe = test_results['Q1'][0]\n",
    "x_train = test_results['Q1'][1]\n",
    "y_train = test_results['Q1'][2]\n",
    "\n",
    "x_test = test_results['Q1'][3]\n",
    "\n",
    "y_test = test_results['Q1'][4]\n",
    "\n",
    "predictions =  test_results['Q1'][5]\n",
    "\n",
    "score =  test_results['Q1'][6]\n",
    "\n",
    "score = pipe.score(x_train, y_train)\n",
    "\n",
    "predictions = pipe.predict(x_test)\n",
    "\n",
    "print(\"Accuracy :\",accuracy_score(y_test, predictions))\n",
    "print(\"Hamming loss \",hamming_loss(y_test,predictions))\n",
    "precision = precision_score(y_test, predictions, average='micro')\n",
    "recall = recall_score(y_test, predictions, average='micro')\n",
    "f1 = f1_score(y_test, predictions, average='micro')\n",
    "print(\"\\nMicro-average quality numbers\")\n",
    "print(\"Precision: {:.4f}, Recall: {:.4f}, F1-measure: {:.4f}\".format(precision, recall, f1))\n",
    "precision = precision_score(y_test, predictions, average='macro')\n",
    "recall = recall_score(y_test, predictions, average='macro')\n",
    "f1 = f1_score(y_test, predictions, average='macro')\n",
    "print(\"\\nMacro-average quality numbers\")\n",
    "print(\"Precision: {:.4f}, Recall: {:.4f}, F1-measure: {:.4f}\".format(precision, recall, f1))\n",
    "print(\"\\nClassification Report\")\n",
    "print (classification_report(y_test, predictions))\n",
    "pipe.score(x_train, y_train)\n",
    "cf1 = confusion_matrix(y_test, predictions)\n",
    "Q = ['Q1']\n",
    "te_confusions = [cf1]\n",
    "y_t = [y_test]\n",
    "te_probs = [pipe.predict_proba(x_test)]\n",
    "y_pred = [predictions]\n",
    "y_test_preds = predictions\n",
    "y_prob = [pipe.predict_proba(x_test)]\n",
    "from sklearn.metrics import classification_report\n",
    "print(classification_report(y_test, predictions, target_names=['0', '1']))\n",
    "\n",
    "import sklearn.metrics as metrics# calculate the fpr and tpr for all thresholds of the classification\n",
    "probs = pipe.predict_proba(x_test)\n",
    "preds = probs[:,1]\n",
    "fpr, tpr, threshold = metrics.roc_curve(y_test, preds)\n",
    "roc_auc = metrics.auc(fpr, tpr)\n",
    "import matplotlib.pyplot as plt\n",
    "plt.title('Receiver Operating Characteristic')\n",
    "plt.plot(fpr, tpr, 'b', label = 'AUC = %0.2f' % roc_auc)\n",
    "plt.legend(loc = 'lower right')\n",
    "plt.plot([0, 1], [0, 1],'r--')\n",
    "plt.xlim([-.01, 1.])\n",
    "plt.ylim([-.01, 1.05])\n",
    "plt.ylabel('True Positive Rate')\n",
    "plt.xlabel('False Positive Rate')\n",
    "plt.show()\n",
    "\n",
    "for title, cf, y_t, y_pred, y_prob in zip(Q, te_confusions, y_test, y_test_preds, te_probs):\n",
    "    make_confusion_matrix(cf, title='\\n'+title+' Confusion Matrix\\n')\n",
    "\n",
    "results_table\n",
    "\n",
    "def Q(row):\n",
    "    \"\"\"Subtracts the distance (in days) provided by the postD function.\n",
    "    Args:\n",
    "        row (record in the data): record\n",
    "\n",
    "    Returns:\n",
    "        datetime object: extract date - relative age = actual post date\n",
    "    \"\"\"\n",
    "    #np.argmax(row[['Q1_Prob', 'Q2_Prob','Q3_Prob','Q4_Prob']].values)\n",
    "    Q1 = row['Q1_probabilities'][1]\n",
    "    Q2 = row['Q2_probabilities'][1]\n",
    "    Q3 = row['Q3_probabilities'][1]\n",
    "    Q4 = row['Q4_probabilities'][1]\n",
    "    lst = [Q1,Q2,Q3,Q4]\n",
    "    # adding 1 so these correspond to the target names rather than 0 indexed.\n",
    "    return int(lst.index(max(lst))+1)\n",
    "    #next, check if that \n",
    "\n",
    "\n",
    "results_table['Q'] = results_table.apply( lambda row : Q(row), axis = 1)\n",
    "results_table\n"
   ]
  },
  {
   "cell_type": "code",
   "execution_count": null,
   "metadata": {},
   "outputs": [],
   "source": [
    "results_table.columns"
   ]
  },
  {
   "cell_type": "code",
   "execution_count": null,
   "metadata": {},
   "outputs": [],
   "source": [
    "\n",
    "ohe = OneHotEncoder(sparse=False)\n",
    "#results_table = results_table.join(pd.DataFrame(ohe.fit_transform(results_table[['Q']]), columns=['Q1','Q2','Q3','Q4']))\n",
    "\n",
    "ohe = ohe.fit_transform(results_table[['Q']]).T\n",
    "\n",
    "results_table['Q1'] = ohe[0]\n",
    "results_table['Q2'] = ohe[1]\n",
    "results_table['Q3'] = ohe[2]\n",
    "results_table['Q4'] = ohe[3]\n",
    "\n",
    "results_table\n",
    "results_table.columns\n",
    "results_table.to_csv(f'../app/data/tableau_table.csv', index=False)\n",
    "results_table=results_table[results_table.salaries.notna()]\n",
    "results_table[results_table.Q != results_table.target]\n",
    "\n",
    "results_table.info()\n",
    "\n",
    "\n",
    "q1 = np.quantile(results_table.salaries, 0.25)\n",
    "q2 = np.quantile(results_table.salaries, 0.5)\n",
    "q3 = np.quantile(results_table.salaries, 0.75)\n",
    "\n",
    "# calc iqr\n",
    "iqr = (q3 - q1)\n",
    "# expand iqr to discern outliers\n",
    "iqr_x = iqr*1.5\n",
    "\n",
    "# setting the lower and upper limits\n",
    "iqr_lower = q1-iqr_x\n",
    "iqr_upper = q3+iqr_x\n",
    "\n",
    "\n",
    "sns.displot(results_table.salaries)\n",
    "plt.axvline(x=q1, label=\"Q1\", c = 'g')\n",
    "plt.axvline(x=q2, label=\"Q2\", c = '#fd4d3f')\n",
    "plt.axvline(x=q3, label=\"Q3\", c = 'r')\n",
    "\n",
    "plt.axvline(x=iqr_lower, label = 'IQR Lower', c = 'black')\n",
    "plt.axvline(x=iqr_upper, label = 'IQR Upper', c = 'black')\n",
    "plt.xticks(rotation=30)\n",
    "plt.legend()\n",
    "plt.show()\n",
    "\n",
    "results_table.Q.value_counts()\n",
    "\n",
    "g = sns.catplot(x=\"Q\", y=\"salaries\", kind=\"violin\", inner=None, data=results_table)\n",
    "sns.swarmplot(x=\"Q\", y=\"salaries\", color=\"k\", size=2, data=results_table, ax=g.ax)\n",
    "\n",
    "plt.xticks(rotation=0)\n",
    "\n",
    "plt.show()"
   ]
  },
  {
   "cell_type": "markdown",
   "metadata": {},
   "source": [
    "## EDA Stuff"
   ]
  },
  {
   "cell_type": "code",
   "execution_count": null,
   "metadata": {},
   "outputs": [],
   "source": [
    "data2 = data.copy()\n",
    "data2.dropna(inplace=True)\n",
    "\n",
    "\n",
    "target = 'target'\n",
    "\n",
    "associated = []\n",
    "\n",
    "for i in data2.select_dtypes('number').columns:\n",
    "    if i == target:\n",
    "        continue\n",
    "    else:\n",
    "        pearson_cor, pval = pearsonr(data2[i],data2[target])\n",
    "\n",
    "    if pearson_cor > .3:\n",
    "        associated.append([i,pearson_cor])\n",
    "\n",
    "# Extracting column names of the dependent variables that passed the pearson correlation test of being at least .3\n",
    "num_cols = []\n",
    "for i in associated:\n",
    "    num_cols.append(i[0])\n",
    "num_cols"
   ]
  },
  {
   "cell_type": "code",
   "execution_count": null,
   "metadata": {},
   "outputs": [],
   "source": [
    "#TODO complete this by collecting the most significant colinear features and possibl removing them.\n",
    "\n",
    "score_dictionary = {}\n",
    "for i in data.select_dtypes('object').columns:\n",
    "    feature = pd.crosstab(data[i], data[target])\n",
    "    # calculate the chi squared statistic and save it as chi2, then print it:\n",
    "    chi2, pval, dof, expected = chi2_contingency(feature)\n",
    "    score_dictionary[i] = round(chi2,2)\n",
    "score_df = pd.DataFrame(score_dictionary.items(), columns=['feature','chi2 score']).sort_values('chi2 score', ascending=False)\n",
    "score_df[:-1]"
   ]
  },
  {
   "cell_type": "markdown",
   "metadata": {},
   "source": [
    "## NLP Stuff"
   ]
  },
  {
   "cell_type": "code",
   "execution_count": null,
   "metadata": {},
   "outputs": [],
   "source": [
    "\n",
    "X_tfidf = tfidf.fit_transform(_test).toarray()\n",
    "vocab = q1_vectorizer.vocabulary_\n",
    "reverse_vocab = {v:k for k,v in vocab.items()}\n",
    "\n",
    "feature_names = tfidf.get_feature_names()\n",
    "df_tfidf = pd.DataFrame(X_tfidf, columns = feature_names)\n",
    "\n",
    "idx = X_tfidf.argsort(axis=1)\n",
    "\n",
    "tfidf_max10 = idx[:,-10:]\n",
    "\n",
    "df_tfidf['top10'] = [[reverse_vocab.get(item) for item in row] for row in tfidf_max10 ]\n",
    "\n",
    "df_tfidf['top10']\n"
   ]
  },
  {
   "cell_type": "code",
   "execution_count": null,
   "metadata": {},
   "outputs": [],
   "source": []
  },
  {
   "cell_type": "code",
   "execution_count": null,
   "metadata": {},
   "outputs": [],
   "source": []
  },
  {
   "cell_type": "code",
   "execution_count": null,
   "metadata": {},
   "outputs": [],
   "source": []
  },
  {
   "cell_type": "code",
   "execution_count": null,
   "metadata": {},
   "outputs": [],
   "source": [
    "null = sum(data.salaries.isnull())\n",
    "nnull = sum(data.salaries.notnull())\n",
    "print('')\n",
    "print(f'The data contains {data.shape[0]} rows of individual job postings with values for {data.shape[1]} columns based on\\n different sections of each post\\'s web page.')\n",
    "print('')\n",
    "print(f'- Out of {len(data)} job postings {nnull} or {round(nnull/len(data)*100,2)}% include some sort of salary information,\\n- The remaining {null} rowws, or {round(null/len(data)*100,2)}% are missing salary data.')\n",
    "#\\n- Also, there are no null values in the rest of the table meaning we won\\'t need\\n  to lose any data by dropping rows. While the null values in the Pay column will\\n  simply be dropped after we translate the not nulls into the target.')\n",
    "\n",
    "\n",
    "data[data['salaries'].notna()].salaries\n",
    "print(missing(data, feature = 'salaries'))"
   ]
  },
  {
   "cell_type": "markdown",
   "metadata": {},
   "source": [
    "'job_type_items'\\\n",
    "    I'm going to treat these as likert values, converrting each of these string formatted lists into an ordinal values for a new column.\n"
   ]
  },
  {
   "cell_type": "code",
   "execution_count": null,
   "metadata": {},
   "outputs": [],
   "source": [
    "print(missing(data, feature = 'job_type_items'))"
   ]
  },
  {
   "cell_type": "code",
   "execution_count": null,
   "metadata": {},
   "outputs": [],
   "source": [
    "\n",
    "\n",
    "TODO\n",
    "\n",
    "Fri - Sat - Sun\n",
    "- make sure shit has zeros\n",
    "- check if there is missing salary data from dropped columns\n",
    "------ clean: company, description, location, summary, job_title\n",
    "------ split location\n",
    "------ join main text\n",
    "- prepare main text for nlp\n",
    "\n",
    "- drop cols and do eda\n",
    "\n",
    "- gridsearch\n",
    "- model\n",
    "- evaluation\n",
    "- collate all data\n",
    "- find class characteristics, i.e. top employers/locations/words-phrases\n",
    "\n",
    "- Code review and organizing\n",
    "- readme\n",
    "\n",
    "\n",
    "Monday\n",
    "- plots\n",
    "- review kmeans\n",
    "- review indeed\n",
    "- review the best 2-3 other projects\n",
    "- categorical features\n",
    "\n",
    "NEXT\n",
    "- Code Condensing\n",
    "- Code Review\n",
    "- Code Organization\n",
    "- ReadMe\n",
    "- EDA\n",
    "\n",
    "\n",
    "\n",
    "\n",
    "Tuesday\n",
    "- review remaining projects\n",
    "- categorical features (wrap up)\n",
    "- numeric features\n",
    "- 2hrs linear alg\n",
    "- 2hrs stats\n",
    "- 2hrs proba\n",
    "\n",
    "\n",
    "Wednesday\n",
    "- review all projects, particularly text/readmes\n",
    "- review resume\n",
    "- 2hrs Git: commits and prettify\n",
    "- LinkedIn\n",
    "- Job Sites\n",
    "- 1hr linear alg\n",
    "- 1hr stats\n",
    "- 1hr proba\n",
    "- look at jobs/need for CVs\n",
    "\n",
    "\n",
    "Thurs\n",
    "- 2hr SQL\n",
    "- 1hr Numpy\n",
    "- 1hr Pandas\n",
    "- 1hr SciPyStats\n",
    "- 2hr quiz\n",
    "- Apply\n",
    "\n",
    "\n",
    "Days\n",
    "- 1hr SQL\n",
    "- 1hr Quiz and Practice Questions\n",
    "- 1hr Projects\n",
    "- 1hr Reading/Watching Knoweledge\n",
    "\n",
    "\n",
    "Off\n",
    "- 2hr SQL\n",
    "- 2hr Apply\n",
    "- 3hr Projects\n",
    "- 1hr Reading/Watching Knoweledge\n",
    "- 2hr Quiz and Practice Questions\n",
    "- 1hr linear alg or stats or proba\n",
    "\n",
    "\n",
    "\n",
    "\n",
    "\n",
    "def jobtype(data):\n",
    "    \"\"\"Used for creating a new feature containing nominal values for the job type.\n",
    "\n",
    "    Args:\n",
    "        data (string): Values from the 'job_type_items' column.\n",
    "\n",
    "    Returns:\n",
    "        string: Extracted and simplified values for each category.\n",
    "    \"\"\"\n",
    "    if type(data) == str:\n",
    "        if re.search('full', data):\n",
    "            out = 'full'\n",
    "        if re.search('part', data):\n",
    "            out = 'part'\n",
    "        if re.search('contract', data):\n",
    "            out = 'contract'\n",
    "        if re.search('temp', data):\n",
    "            out = 'temp'\n",
    "        return out\n",
    "    else:\n",
    "        pass\n",
    "\n",
    "cols = ['company','description', 'job_type_items','location','postdate','requirements',\t'summary','job_title']\n",
    "for txt_col in cols:\n",
    "    data[txt_col] = data[txt_col].str.lower()\n",
    "\n",
    "\n",
    "\n",
    "data['jobtype'] = data.job_type_items.apply(jobtype)\n",
    "\n",
    "data['text'] = data.description+' '+data.summary\n",
    "#TODO add requirements\n",
    "\n",
    "cols = ['job_type_items','raw_desc_soup','url','description','summary','requirements']\n",
    "\n",
    "\n",
    "data.text = data.text.replace(')',' ')\n",
    "\n",
    "\n",
    "\n",
    "data = annual(data)\n",
    "#data.schedule.value_counts() keep and eye on this, may have to deal with more than just hourly"
   ]
  },
  {
   "cell_type": "markdown",
   "metadata": {},
   "source": [
    "\n",
    "'company'\\\n",
    "There's presently 96 different companies - that's a ton of dimensions added to the data, and I've still got to add count vectorizer. I'll try label encoding these. In the future, shifting these into clusters might be useful.\\\n",
    "Other than that, this variable doesn't seem to need much - "
   ]
  },
  {
   "cell_type": "code",
   "execution_count": null,
   "metadata": {},
   "outputs": [],
   "source": [
    "data.company.value_counts()"
   ]
  },
  {
   "cell_type": "markdown",
   "metadata": {},
   "source": [
    "'location'\\\n",
    "This feature holds a wealth of information: state, city/remote, and in some cases a zip code.\n",
    "Zip codes seem to be a recent addition to the information I can get from Indeed.com but since its presence is rather sparse I'll just extract city/remote and state values, splitting them into their respective columns."
   ]
  },
  {
   "cell_type": "code",
   "execution_count": null,
   "metadata": {},
   "outputs": [],
   "source": [
    "data.job_type_items.unique()"
   ]
  },
  {
   "cell_type": "markdown",
   "metadata": {},
   "source": [
    "'job_title'\\\n",
    "Although the webscrapper searches for 'data scientist' the results contain over 80 unique job titles. This is largely due to a prefix or suffix that provides the role's specialization at that particular company for that particular job posting. These include items like 'Marketing', 'Senior', 'Geospatial...'.\n",
    "I'll start by cleaning and simplifying these values, i.e. appearences of 'Sr' can be converted to 'Senior'. This will significantly reduce the number of unique values, hopefully increasing model accuracy.\n",
    "\n",
    "\n"
   ]
  },
  {
   "cell_type": "code",
   "execution_count": null,
   "metadata": {},
   "outputs": [],
   "source": [
    "print(len(data.job_title.unique()))\n",
    "data.job_title.unique()[:10]"
   ]
  },
  {
   "cell_type": "markdown",
   "metadata": {},
   "source": [
    "'requirements'\\\n",
    "I will most likely merge this in with the description prior to conducting NLP. The rationale is that these explicit requirements may be echoed in the description or summary, so by adding them to the corpus I'll raise the scores derived from their increaseed frequency. Eventually I wiuld like to build a set of requirements that I can use in with a clustering algorithm, like KNN, to find/define subgroups within the sample population."
   ]
  },
  {
   "cell_type": "code",
   "execution_count": null,
   "metadata": {},
   "outputs": [],
   "source": [
    "data.requirements[0]"
   ]
  },
  {
   "cell_type": "markdown",
   "metadata": {},
   "source": [
    "'summary'\\\n",
    "Much like the description, these are unique. COming from the search results page itself, these are brief descriptions of each job. In most cases this is not merely an abridgement of the summary. Like 'requirement' I'll start by lumping these texts in with description so analysis of the corpus can be boosted by the added descriptions."
   ]
  },
  {
   "cell_type": "code",
   "execution_count": null,
   "metadata": {},
   "outputs": [],
   "source": [
    "for i in data.summary[:3]:\n",
    "    print(i)"
   ]
  },
  {
   "cell_type": "markdown",
   "metadata": {},
   "source": [
    "'description'\\\n",
    "Each value is a unique string of the full job description. I'll lower and remove special characters but this feature will be dealt with seperately in its own NLP process.\n"
   ]
  },
  {
   "cell_type": "markdown",
   "metadata": {},
   "source": []
  },
  {
   "cell_type": "markdown",
   "metadata": {},
   "source": [
    "'raw_desc_soup'\\\n",
    "I'm only saving this in case I refine or change my parsing. Below is a truncated slice of one of the raw records.\n",
    "\n",
    "'url'\\\n",
    "Like raw_doc_soup, I'm simply keeping these in case I need to go back and re-parse the raw data. In fact, this URL points directly to the page where that raw doc soup is found.\n",
    "I may also be able to detect job post updates and duplicates by using these unique addresses."
   ]
  },
  {
   "cell_type": "code",
   "execution_count": null,
   "metadata": {},
   "outputs": [],
   "source": [
    "data.raw_desc_soup[1][:1000]\n",
    "data.url[0]"
   ]
  },
  {
   "cell_type": "markdown",
   "metadata": {},
   "source": [
    "### 2.3 Wrangling & Feature Engineering\n",
    "Below are the implementations of the data wrangling steps I described above for each feature. Using Numpy, Regex, and Pandas I'll simutaneaously clean the strings, extract and convert numeric information, and create new feature columns."
   ]
  },
  {
   "cell_type": "markdown",
   "metadata": {},
   "source": [
    "Let's see what the data looks like at this point. It looks like the 17 original features have been reduced to 11. Most of the columns have been collapsed and cleaned, too. Just a bit more work till this is ready for EDA, NLP, and transformations."
   ]
  },
  {
   "cell_type": "code",
   "execution_count": null,
   "metadata": {},
   "outputs": [],
   "source": [
    "data"
   ]
  },
  {
   "cell_type": "code",
   "execution_count": null,
   "metadata": {},
   "outputs": [],
   "source": [
    "\n",
    "\n",
    "data.rating = data.rating.fillna(0)\n",
    "\n",
    "cols = ['extractdate','postdate','schedule','jobtype','salary']\n",
    "data.drop(cols,inplace=True,axis=1)\n",
    "data = data.rename({'annual_sal': 'salary'}, axis=1)\n",
    "\n",
    "data['salary'] = data['salary'].apply(sal_fixer)"
   ]
  },
  {
   "cell_type": "code",
   "execution_count": null,
   "metadata": {},
   "outputs": [],
   "source": [
    "data.salary"
   ]
  },
  {
   "cell_type": "code",
   "execution_count": null,
   "metadata": {},
   "outputs": [],
   "source": []
  },
  {
   "cell_type": "code",
   "execution_count": null,
   "metadata": {},
   "outputs": [],
   "source": [
    "data.columns\n",
    "cols = ['salary','estimated_salary', 'job_type_items','raw_desc_soup', 'sal_guide_items','salary_and_jtype', 'salfromsection']\n",
    "data.drop(cols,inplace=True,axis=1)\n",
    "data.rename(columns={'final_sal': 'salary'},inplace=True)\n",
    "\n",
    "data = data[data.description != 'NaN']\n",
    "\n",
    "len(data)\n",
    "\n",
    "data.description.value_counts()[1:]"
   ]
  },
  {
   "cell_type": "code",
   "execution_count": null,
   "metadata": {},
   "outputs": [],
   "source": []
  },
  {
   "cell_type": "code",
   "execution_count": null,
   "metadata": {},
   "outputs": [],
   "source": []
  },
  {
   "cell_type": "code",
   "execution_count": null,
   "metadata": {},
   "outputs": [],
   "source": []
  },
  {
   "cell_type": "markdown",
   "metadata": {},
   "source": [
    "### 2.4 Assessment"
   ]
  },
  {
   "cell_type": "code",
   "execution_count": null,
   "metadata": {},
   "outputs": [],
   "source": [
    "data.info(memory_usage='deep')\n",
    "data.head()"
   ]
  },
  {
   "cell_type": "code",
   "execution_count": null,
   "metadata": {},
   "outputs": [],
   "source": [
    "shape = data.shape\n",
    "print(f\"The {shape[0]} rows of data now have {shape[1]} variables whose values are now cleaned and typed properly.\\nThe only missing values are in Salary which is my target.\\nNext, I'll conduct analysis, encoding, and scaling of each feature, starting with Salary which .\")\n",
    "data.describe(include = 'all')\n"
   ]
  },
  {
   "cell_type": "code",
   "execution_count": null,
   "metadata": {},
   "outputs": [],
   "source": [
    "sns.countplot(x='salary', data=data.notnull(), palette='Set3')\n",
    "plt.show()"
   ]
  },
  {
   "cell_type": "code",
   "execution_count": null,
   "metadata": {},
   "outputs": [],
   "source": [
    "null = len(data[data.salary.isnull()])\n",
    "nnull = len(data[data.salary.notnull()])\n",
    "print(f'{round(nnull/len(data)*100,2)}% of the data has salary information, should be an easy target')"
   ]
  },
  {
   "cell_type": "code",
   "execution_count": null,
   "metadata": {},
   "outputs": [],
   "source": [
    "data = data[data['text'].notna()]"
   ]
  },
  {
   "cell_type": "code",
   "execution_count": null,
   "metadata": {},
   "outputs": [],
   "source": [
    "data.to_csv(f'../app/data/wrangled_data.csv', index=False)"
   ]
  },
  {
   "cell_type": "code",
   "execution_count": null,
   "metadata": {},
   "outputs": [],
   "source": [
    "data"
   ]
  },
  {
   "cell_type": "code",
   "execution_count": null,
   "metadata": {},
   "outputs": [],
   "source": [
    "munged = data\n",
    "munged"
   ]
  },
  {
   "cell_type": "code",
   "execution_count": null,
   "metadata": {},
   "outputs": [],
   "source": [
    "null = len(munged[munged.salary.isnull()])\n",
    "nnull = len(munged[munged.salary.notnull()])\n",
    "print(f'Droping {len(data)-len(munged)} duplicates and out of date posts leaves {len(munged)} rows of data for the regressor to be trained and tested on.')\n",
    "print(f'- Of those {len(munged)} job postings {nnull} or {round(nnull/len(munged)*100,2)}% include salary information,\\n- The remaining {null} rows, or {round(null/len(munged)*100,2)}% are missing salary data.')"
   ]
  },
  {
   "cell_type": "markdown",
   "metadata": {},
   "source": [
    "## EDA"
   ]
  },
  {
   "cell_type": "code",
   "execution_count": null,
   "metadata": {},
   "outputs": [],
   "source": [
    "import numpy as np\n",
    "import pandas as pd\n",
    "\n",
    "from sklearn import metrics\n",
    "from scipy.stats import pearsonr, chi2_contingency\n",
    "from sklearn.preprocessing import StandardScaler, MinMaxScaler\n",
    "\n",
    "\n",
    "\n",
    "import matplotlib.pyplot as plt\n",
    "from datetime import datetime, date, timedelta\n",
    "\n",
    "plt.rcParams['figure.figsize'] = (8, 8)\n",
    "plt.rcParams['font.size'] = 17\n",
    "\n",
    "import seaborn as sns\n",
    "import re\n",
    "import warnings # current version of seaborn generates a bunch of warnings that we'll ignore\n",
    "warnings.filterwarnings(\"ignore\")\n",
    "sns.set(style=\"ticks\", color_codes=True)\n",
    "%matplotlib inline"
   ]
  },
  {
   "cell_type": "markdown",
   "metadata": {},
   "source": [
    "### Target\n",
    "\n",
    "### Numeric Features\n",
    "\n",
    "#### 'dateposted'\n",
    "This isn't going into the pipelie, despite some interesting patterns, I don't think there's enough periodic/seasonality information available here. Still, great for visualizing the job market.\n",
    "### Categorical Features\n",
    "\n",
    "#### 'job_title'\n",
    "'job_title'\\\n",
    "Oddly enough, these number as many as company, I suspect multicolinearity. I'll come back to collapse these a bit and perhaps build a new feature for specializations out of these.\n",
    "To be label encoded and possibly clustered later.\n",
    "\n",
    "### Feature Associations\n",
    "#### Feature Selection and Hyperparameter Tuning\n",
    "### Pipeline GridSearch\n",
    "## Modelling\n",
    "## Evaluations"
   ]
  },
  {
   "cell_type": "markdown",
   "metadata": {},
   "source": [
    "## Detecting Outliers: Using both the Z-Score and IQR methods\n",
    "    Now that preprocessed the data and building the target variable of Salary let's see conduct a bit more EDA to see if there are any outliers that could potentially skew how the regressor will learn from the training data."
   ]
  },
  {
   "cell_type": "code",
   "execution_count": null,
   "metadata": {},
   "outputs": [],
   "source": [
    "ax = sns.pairplot(data=munged[munged.salary.notnull()],\n",
    "                  x_vars=['dateposted'],\n",
    "                  y_vars=['salary'], height=8, hue=\"salary\", palette=\"crest\")\n",
    "\n",
    "ax.fig.set_size_inches(18,4)"
   ]
  },
  {
   "cell_type": "markdown",
   "metadata": {},
   "source": [
    "A plot is helpful in isualizing data, but let's program a few functions to detect and remove outliers based on thresholds.\n",
    "With the Z-Score, we can determine any data outside 3 standard deviations from the mean of our salary data to be an outlier.\n",
    "Wheras with the interquartile (IQR) range, the middle 50% of given salaries, I'll set the conventional cutoff of 1.5+/- the IQR as the cutoff.\n",
    "Values found outside of either range will be collected into a list and that'll allow for some fancy indexing so those particular postings can be examined and removed programatically."
   ]
  },
  {
   "cell_type": "markdown",
   "metadata": {},
   "source": [
    "#### Z-Score\n",
    "Salaries 3 standard deviations away from the mean will be listed as outliers.\n",
    "Here we can see that there are five records with salary values outside the Z-score threshold.\n",
    "\n",
    "To explore the possibility of outliers I'll start with a box and whisker plot. Those whisters reach 1.5 times past the IQR boundary on either side, and are generally provide a good means of identifying outliers - values beyond the boundaries.\n",
    "\n",
    "\n",
    "A plot is helpful in isualizing data, but let's program a few functions to detect and remove outliers based on thresholds.\n",
    "With the Z-Score, we can determine any data outside 3 standard deviations from the mean of our salary data to be an outlier.\n",
    "Wheras with the interquartile (IQR) range, the middle 50% of given salaries, I'll set the conventional cutoff of 1.5+/- the IQR as the cutoff.\n",
    "Values found outside of either range will be collected into a list and that'll allow for some fancy indexing so those particular postings can be examined and removed programatically."
   ]
  },
  {
   "cell_type": "code",
   "execution_count": null,
   "metadata": {},
   "outputs": [],
   "source": [
    "outliers = []\n",
    "def z_detect(munged):\n",
    "    sample = munged[munged['salary'].notnull()].salary\n",
    "    threshold=3\n",
    "    mean = np.mean(sample)\n",
    "    std = np.std(sample)\n",
    "    \n",
    "    for i in sample:\n",
    "        z_score = (i-mean)/std\n",
    "        if np.abs(z_score) > threshold:\n",
    "            outliers.append(i)\n",
    "    if len(outliers) == 0:\n",
    "        pass\n",
    "    else:\n",
    "        return outliers\n",
    "z_detect(munged)"
   ]
  },
  {
   "cell_type": "code",
   "execution_count": null,
   "metadata": {},
   "outputs": [],
   "source": [
    "munged"
   ]
  },
  {
   "cell_type": "markdown",
   "metadata": {},
   "source": [
    "\n",
    "#### IQR\n",
    "Salaries outside 1.5 times the interquartile range boundaries, either above or below will be listed as outliers.\\\n",
    "Here, I clearly demarcate the quartiles as well as the uppet and lower boundaries. Before removing these outliers let's take a look.\n",
    "\n",
    "There aren't any outliers beyond the lower bound for either test so let's take a look at what's above the IQR threshold.\\\n",
    "While not guarenteed, its a good thing that both tests seem to identify the same five records, the salary values match."
   ]
  },
  {
   "cell_type": "markdown",
   "metadata": {},
   "source": [
    "Trimming the data, while showing the number of records were starting with and how many remain after removing the outliers viewed above."
   ]
  },
  {
   "cell_type": "code",
   "execution_count": null,
   "metadata": {},
   "outputs": [],
   "source": [
    "print(len(data))\n",
    "data1 = data[data.salary <= iqr_upper]\n",
    "data2 = data[data.salary.isnull()]\n",
    "data = pd.concat([data1,data2])\n",
    "print(len(data))\n",
    "eda_data = data[data[col]>1]"
   ]
  },
  {
   "cell_type": "code",
   "execution_count": null,
   "metadata": {},
   "outputs": [],
   "source": []
  },
  {
   "cell_type": "code",
   "execution_count": null,
   "metadata": {},
   "outputs": [],
   "source": []
  },
  {
   "cell_type": "code",
   "execution_count": null,
   "metadata": {},
   "outputs": [],
   "source": [
    "def iqr_detect(munged):\n",
    "    sample = munged[munged['salary'].notnull()].salary\n",
    "    Q1, Q3 = np.percentile(sample,[25,75])\n",
    "    iqr = Q3-Q1\n",
    "    lower_bound = Q1-(1.5*iqr)\n",
    "    upper_bound = Q3+(1.5*iqr)\n",
    "    for i in sample:\n",
    "        if (i < lower_bound)  | (i > upper_bound):\n",
    "            outliers.append(i)\n",
    "    if len(outliers) == 0:\n",
    "        pass\n",
    "    else:\n",
    "        return outliers\n",
    "set(iqr_detect(munged))"
   ]
  },
  {
   "cell_type": "code",
   "execution_count": null,
   "metadata": {},
   "outputs": [],
   "source": [
    "def unique(list1):\n",
    "    list_set = set(list1)\n",
    "    # convert the set to the list\n",
    "    unique_list = (list(list_set))\n",
    "    for x in unique_list:\n",
    "        print(x)\n",
    "        \n",
    "mn = min(outliers)\n",
    "mx = max(outliers)\n",
    "print(f'The {len(set(outliers))} Unique Outliers Are:')\n",
    "unique(outliers)\n",
    "print(f'- With a minumum of ${round(mn)} and a maximum of ${round(mx)}')"
   ]
  },
  {
   "cell_type": "code",
   "execution_count": null,
   "metadata": {},
   "outputs": [],
   "source": [
    "# Take a look at those tables.\n",
    "\n",
    "outliers = munged[munged['salary'].isin(outliers)]\n",
    "munged.drop(outliers.index, axis=0,inplace=True)\n",
    "outliers"
   ]
  },
  {
   "cell_type": "code",
   "execution_count": null,
   "metadata": {},
   "outputs": [],
   "source": [
    "null = len(munged[munged.salary.isnull()])\n",
    "\n",
    "nnull = len(munged[munged.salary.notnull()])"
   ]
  },
  {
   "cell_type": "code",
   "execution_count": null,
   "metadata": {},
   "outputs": [],
   "source": [
    "ax = sns.pairplot(data=munged[munged.salary.notnull()],\n",
    "                  x_vars=['dateposted'],\n",
    "                  y_vars=['salary'], height=8, hue=\"salary\", palette=\"crest\")\n",
    "\n",
    "ax.fig.set_size_inches(18,4)"
   ]
  },
  {
   "cell_type": "code",
   "execution_count": null,
   "metadata": {},
   "outputs": [],
   "source": [
    "sns.countplot(x='salary', data=munged.notnull(), palette='Set3')\n",
    "print(f'- Dropping {len(outliers)} outliers now leaves {nnull}, or {round(nnull/len(munged)*100,2)}%, of rows with with salary information,\\n- The remaining {null} rows, or {round(null/len(munged)*100,2)}%, are missing salary data.')\n"
   ]
  },
  {
   "cell_type": "code",
   "execution_count": null,
   "metadata": {},
   "outputs": [],
   "source": [
    "munged.info()"
   ]
  },
  {
   "cell_type": "code",
   "execution_count": null,
   "metadata": {},
   "outputs": [],
   "source": [
    "munged.to_csv(f'../app/data/wrangled_data.csv', index=False)"
   ]
  },
  {
   "cell_type": "code",
   "execution_count": null,
   "metadata": {},
   "outputs": [],
   "source": [
    "munged.info()"
   ]
  },
  {
   "cell_type": "code",
   "execution_count": null,
   "metadata": {},
   "outputs": [],
   "source": [
    "munged.info(memory_usage='deep')"
   ]
  },
  {
   "cell_type": "markdown",
   "metadata": {},
   "source": []
  },
  {
   "cell_type": "code",
   "execution_count": null,
   "metadata": {},
   "outputs": [],
   "source": [
    "munged.drop('location',inplace=True,axis=1)"
   ]
  },
  {
   "cell_type": "code",
   "execution_count": null,
   "metadata": {},
   "outputs": [],
   "source": [
    "munged.info(memory_usage='deep')"
   ]
  },
  {
   "cell_type": "code",
   "execution_count": null,
   "metadata": {},
   "outputs": [],
   "source": [
    "ax = sns.pairplot(data=data[data.salary.notnull()],\n",
    "                  x_vars=['dateposted'],\n",
    "                  y_vars=['salary'], height=10, hue=\"salary\", palette=\"crest\")\n",
    "\n",
    "ax.fig.set_size_inches(18,4)"
   ]
  },
  {
   "cell_type": "code",
   "execution_count": null,
   "metadata": {},
   "outputs": [],
   "source": [
    "sns.countplot(x='salary', data=data.notnull(), palette='Set3')\n",
    "plt.show()"
   ]
  },
  {
   "cell_type": "code",
   "execution_count": null,
   "metadata": {},
   "outputs": [],
   "source": [
    "null = len(data[data.salary.isnull()])\n",
    "nnull = len(data[data.salary.notnull()])\n",
    "print(f'{round(nnull/len(data)*100,2)}% of the data has salary information, should be an easy target')"
   ]
  },
  {
   "cell_type": "code",
   "execution_count": null,
   "metadata": {},
   "outputs": [],
   "source": [
    "sns.histplot(data,x='salary',bins=100)\n",
    "plt.xticks(rotation=30)\n",
    "plt.show()"
   ]
  },
  {
   "cell_type": "code",
   "execution_count": null,
   "metadata": {},
   "outputs": [],
   "source": [
    "sns.violinplot(x=\"salary\", data=data)\n",
    "plt.xticks(rotation=30)\n",
    "plt.show()"
   ]
  },
  {
   "cell_type": "code",
   "execution_count": null,
   "metadata": {},
   "outputs": [],
   "source": [
    "sns.lineplot(x=\"dateposted\", y=\"salary\", hue=\"target\", data=data)\n",
    "plt.xticks(rotation=30)\n",
    "plt.show()"
   ]
  },
  {
   "cell_type": "code",
   "execution_count": null,
   "metadata": {},
   "outputs": [],
   "source": [
    "ax = sns.pairplot(data=data,\n",
    "                  x_vars=['dateposted'],\n",
    "                  y_vars=['salary'], height=8, hue=\"target\", palette=\"crest\")\n",
    "\n",
    "ax.fig.set_size_inches(18,4)\n",
    "\n",
    "\n"
   ]
  },
  {
   "cell_type": "code",
   "execution_count": null,
   "metadata": {},
   "outputs": [],
   "source": []
  },
  {
   "cell_type": "code",
   "execution_count": null,
   "metadata": {},
   "outputs": [],
   "source": []
  },
  {
   "cell_type": "code",
   "execution_count": null,
   "metadata": {},
   "outputs": [],
   "source": []
  }
 ],
 "metadata": {
  "interpreter": {
   "hash": "ac83f05b37eb5c5c49ba67e50f0047ddfbc4b30205fc79ee5f327b9c0ac37f55"
  },
  "kernelspec": {
   "display_name": "Python 3.8.10 ('indeedapp')",
   "language": "python",
   "name": "python3"
  },
  "language_info": {
   "codemirror_mode": {
    "name": "ipython",
    "version": 3
   },
   "file_extension": ".py",
   "mimetype": "text/x-python",
   "name": "python",
   "nbconvert_exporter": "python",
   "pygments_lexer": "ipython3",
   "version": "3.8.10"
  },
  "metadata": {
   "interpreter": {
    "hash": "46216370387cf43888a1dc9433c5a4546bda9feed2ad4f35c2a851da9960dc54"
   }
  }
 },
 "nbformat": 4,
 "nbformat_minor": 4
}
