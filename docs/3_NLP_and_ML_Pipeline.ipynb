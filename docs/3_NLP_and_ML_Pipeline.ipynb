{
 "cells": [
  {
   "cell_type": "code",
   "execution_count": 680,
   "id": "analyzed-adjustment",
   "metadata": {},
   "outputs": [],
   "source": [
    "import numpy as np\n",
    "import pandas as pd\n",
    "\n",
    "from sklearn.feature_extraction.text import CountVectorizer\n",
    "from sklearn.model_selection import train_test_split, cross_validate\n",
    "\n",
    "from sklearn.preprocessing import OneHotEncoder, OrdinalEncoder, StandardScaler, MinMaxScaler, LabelEncoder\n",
    "from sklearn.pipeline import Pipeline\n",
    "from sklearn.compose import ColumnTransformer\n",
    "\n",
    "\n",
    "\n",
    "import re\n",
    "\n",
    "import matplotlib.pyplot as plt\n",
    "import seaborn as sns\n",
    "plt.rcParams['figure.figsize'] = (8, 8)\n",
    "plt.rcParams['font.size'] = 17\n",
    "\n",
    "\n",
    "\n",
    "import warnings\n",
    "warnings.filterwarnings(\"ignore\")\n",
    "sns.set(style=\"ticks\", color_codes=True)\n",
    "%matplotlib inline"
   ]
  },
  {
   "cell_type": "code",
   "execution_count": 681,
   "id": "b055407b",
   "metadata": {},
   "outputs": [],
   "source": [
    "data = pd.read_csv(f'../app/data/processed_data.csv')\n"
   ]
  },
  {
   "cell_type": "code",
   "execution_count": 682,
   "id": "06c7eaa1",
   "metadata": {},
   "outputs": [
    {
     "data": {
      "text/plain": [
       "\"job descriptiondata scientist, marketingsan diego, ca /analytics – data science /full-timeheadquartered in san diego, we serve as a leading provider of working capital ($5k - $1.5m) to the small and medium-sized businesses that fuel our country. since 2008, we have prided ourselves on our collaborative, innovative, and customer-focused approach. enjoying a period of unprecedented growth, driven by the combination of cutting-edge technology, human touch, and unwavering integrity, we are looking to add to our people-first culture, with highly motivated and results-oriented professionals, to push the limits of what's possible while creating value for all of our partners.we are seeking a mid-level to senior level statistician, quantitative modeling specialist, or data scientist to join our analytics team and build predictive models for marketing. if you have exceptional analytical, quantitative and problem-solving skills, demonstrated experience designing and implementing predictive models and analytics in marketing, a proven track record of bringing thought leadership to problems, and the desire to make a rapid impact on the success of the business, this is an opportunity for you.the ideal candidate has an advanced degree in statistics, economics, mathematics or a related field; strong inner motivation to work hard, learn and grow; intellectual curiosity and honesty; attention to detail; and excellent interpersonal skills. this position reports to the svp of analytics.responsibilitiesresearch, devise, test and implement innovative statistical models for marketing and related areas of the business.work independently and in collaboration with others on the team.identify relevant data sources and data sets to deliver insights and analysis for business decision-making.source, cleanse and verify data.work closely with analytics and technology teams to deploy models in production and to monitor and test deployed models.communicate analytics solutions to parties across the business in the form of presentations and other materials.own the accuracy and precision of all work.required qualificationsb.a. or above in statistics, economics, applied mathematics, or related discipline (master’s or above preferred).2-5 years of experience in model design and implementation in marketing for fintech or related industry.independence and thought leadership in problem solving; demonstrated ability to own a problem from initial data analysis to model research, development, testing and operationalization.strong understanding of and experience with marketing data flows and methods for audience segmentation, customer lifetime value, and attribution.fluency with statistical modeling and machine learning methods.fluency with sql and python.fluency with descriptive data analysis and presentation.strong attention to detail and organizational skills.intellectual curiosity and creativity.strong written and verbal communication skills.we offercompetitive compensation package.great medical, vision and dental benefits.health savings account.flexible spending accounts.life and disability insurance.fantastic 401k with matching contribution.sick, vacation, and holidays.gym membership contribution.employee assistance program (eap) – mental health support.online commuter benefits.internal referral program.fun team and company events.start-up culture, within an established business with 13 years of experience.great central location in san diego – easy access from highway.we are an equal opportunity employer (eoe) and takes great pride in building a diverse work environment. qualified applicants are considered for employment without regard to age, race, religion, gender, national origin, sexual orientation, disability or veteran status.job type: full-timepay: $145,000.00 - $150,000.00 per yearbenefits:dental insuranceflexible schedulehealth insurancepaid time offvision insuranceschedule:8 hour shiftday shiftmonday to fridayeducation:master's (preferred)experience:python: 1 year (preferred)sql: 1 year (preferred)data scientists & statisticians: 1 year (preferred)work location: remote identify relevant data sources and data sets to deliver insights and analysis for business decision-making. source, cleanse and verify data.\""
      ]
     },
     "execution_count": 682,
     "metadata": {},
     "output_type": "execute_result"
    }
   ],
   "source": [
    "data.text[0]"
   ]
  },
  {
   "cell_type": "code",
   "execution_count": 683,
   "id": "db2618bb",
   "metadata": {},
   "outputs": [],
   "source": [
    "def cleanPunc(sentence): #function to clean the word of any punctuation or special characters\n",
    "    cleaned = re.sub(r'[?|!|\\'|\"|#]',r'',sentence)\n",
    "    cleaned = re.sub(r'[.|,|)|(|\\|/]',r' ',cleaned)\n",
    "    cleaned = cleaned.strip()\n",
    "    cleaned = cleaned.replace(\"\\n\",\" \")\n",
    "    return cleaned\n"
   ]
  },
  {
   "cell_type": "code",
   "execution_count": 684,
   "id": "39c14552",
   "metadata": {},
   "outputs": [],
   "source": [
    "def clean_text(data):\n",
    "    sentences = data.split('.')\n",
    "    clean_sentences = []\n",
    "    for i in sentences:\n",
    "        clean_sentence = re.sub(r'[?|!|\\'|\"|#|/|-|,(|)|$|-|' '|:]',r'',i)\n",
    "        clean_sentence = re.sub(r'[?|!|\\'|\"|#|/|-|,(|)|$|(0-9)]',r'',clean_sentence.strip(' '))\n",
    "        if len(clean_sentence.strip()) > 1:\n",
    "            clean_sentences.append(clean_sentence)\n",
    "    done_sent = ''\n",
    "    for i in clean_sentences:\n",
    "        done_sent += (' '+i)\n",
    "    return done_sent.strip()\n",
    "    \n",
    "\n",
    "data['cleaned'] = data.text.apply(clean_text)"
   ]
  },
  {
   "cell_type": "code",
   "execution_count": 685,
   "id": "043cdcb5",
   "metadata": {},
   "outputs": [
    {
     "data": {
      "text/plain": [
       "'job descriptiondata scientist marketingsan diego ca analytics – data science full-timeheadquartered in san diego we serve as a leading provider of working capital k -  m to the small and medium-sized businesses that fuel our country since  we have prided ourselves on our collaborative innovative and customer-focused approach enjoying a period of unprecedented growth driven by the combination of cutting-edge technology human touch and unwavering integrity we are looking to add to our people-first culture with highly motivated and results-oriented professionals to push the limits of whats possible while creating value for all of our partners we are seeking a mid-level to senior level statistician quantitative modeling specialist or data scientist to join our analytics team and build predictive models for marketing if you have exceptional analytical quantitative and problem-solving skills demonstrated experience designing and implementing predictive models and analytics in marketing a proven track record of bringing thought leadership to problems and the desire to make a rapid impact on the success of the business this is an opportunity for you the ideal candidate has an advanced degree in statistics economics mathematics or a related field; strong inner motivation to work hard learn and grow; intellectual curiosity and honesty; attention to detail; and excellent interpersonal skills this position reports to the svp of analytics responsibilitiesresearch devise test and implement innovative statistical models for marketing and related areas of the business work independently and in collaboration with others on the team identify relevant data sources and data sets to deliver insights and analysis for business decision-making source cleanse and verify data work closely with analytics and technology teams to deploy models in production and to monitor and test deployed models communicate analytics solutions to parties across the business in the form of presentations and other materials own the accuracy and precision of all work required qualificationsb or above in statistics economics applied mathematics or related discipline master’s or above preferred - years of experience in model design and implementation in marketing for fintech or related industry independence and thought leadership in problem solving; demonstrated ability to own a problem from initial data analysis to model research development testing and operationalization strong understanding of and experience with marketing data flows and methods for audience segmentation customer lifetime value and attribution fluency with statistical modeling and machine learning methods fluency with sql and python fluency with descriptive data analysis and presentation strong attention to detail and organizational skills intellectual curiosity and creativity strong written and verbal communication skills we offercompetitive compensation package great medical vision and dental benefits health savings account flexible spending accounts life and disability insurance fantastic k with matching contribution sick vacation and holidays gym membership contribution employee assistance program eap – mental health support online commuter benefits internal referral program fun team and company events start-up culture within an established business with  years of experience great central location in san diego – easy access from highway we are an equal opportunity employer eoe and takes great pride in building a diverse work environment qualified applicants are considered for employment without regard to age race religion gender national origin sexual orientation disability or veteran status job type full-timepay   per yearbenefitsdental insuranceflexible schedulehealth insurancepaid time offvision insuranceschedule hour shiftday shiftmonday to fridayeducationmasters preferredexperiencepython  year preferredsql  year preferreddata scientists & statisticians  year preferredwork location remote identify relevant data sources and data sets to deliver insights and analysis for business decision-making source cleanse and verify data'"
      ]
     },
     "execution_count": 685,
     "metadata": {},
     "output_type": "execute_result"
    }
   ],
   "source": [
    "data.cleaned[0]"
   ]
  },
  {
   "cell_type": "code",
   "execution_count": 686,
   "id": "7edd3bc7",
   "metadata": {},
   "outputs": [],
   "source": [
    "def clean_text(data):\n",
    "    sentences = data.split('.')\n",
    "    clean_sentences = []\n",
    "    for i in sentences:\n",
    "        clean_sentence = re.sub(r'[?|!|\\'|\"|#|/|-|,(|)|$|-|' '|:]',r'',i)\n",
    "        clean_sentence = re.sub(r'[?|!|\\'|\"|#|/|-|,(|)|$|-|' '|:]',r'',clean_sentence)\n",
    "        clean_sentence = \" \".join(re.findall(\"[(a-zA-Z,&)]+\", clean_sentence))\n",
    "        clean_sentences.append(clean_sentence)\n",
    "    clean_text = ''\n",
    "    for i in clean_sentences:\n",
    "        clean_text += (' '+i)\n",
    "    return clean_text.strip(' ')\n",
    "\n",
    "    \n",
    "\n",
    "data['cleaned'] = data.text.apply(clean_text)\n",
    "\n"
   ]
  },
  {
   "cell_type": "code",
   "execution_count": 687,
   "id": "96973395",
   "metadata": {},
   "outputs": [
    {
     "data": {
      "text/plain": [
       "'li remote about eab at eab our mission is to make education smarter and our communities stronger we work with more than institutions to drive transformative change through data driven insights and best in class capabilities from kindergarten to college to career eab partners with leaders and practitioners to accelerate progress and drive results across five major areas enrollment student success institutional strategy data & analytics and diversity equity and inclusion de&i we work with each partner differently tailoring our portfolio of research technology and marketing and enrollment solutions to meet the unique needs of every leadership team as well as the students and employees they serve at eab we serve not only our partner institutions but each other thats why we are always working to make sure our employees love their jobs and are invested in their communities see how weve been recognized for this dedication to our employees by checking out our recent awards for more information visit our careers page the role in brief associate data scientist this position is based in washington d c remote possible job description eab is seeking aspiring data scientists of diverse talents and interests to help grow our industry leading software platforms artificial intelligence and machine learning capabilities whether you are by nature a researcher with a quantitative bent interested in tackling some of the most impactful questions in the social sciences or a software engineer who wants to build a world class machine learning platform you can carve out a place for yourself on our team we are a medium sized team working to discover build and scale aiml solutions that help colleges and universities support their students from the application phase to graduation and beyond in a positive inquisitive and collaborative environment primary responsibilitiescollaborate with data engineers and software engineers to integrate research driven machine learning models into production software systemsbuild internal tools for data scienceanalytics workflowsmanage data processing pipelines for analyzing terabyte scale data from multiple sourceswrite python code using current best practicescoordinate with product managers software engineers and customer facing teamsbasic qualificationsbachelor s degree in a quantitative field or equivalent experienceprogramming skills in pythonexperience using sql for data cleansing transformation summarization or analysisability to communicate and collaborate with both technical and non technical team membersconscientious curious dedicated and quality focusedideal qualificationsexperience with machine learning statistics and the scientific methodprofessional experience with software engineering data warehousing linux systemsexperience with aws or other cloud based server management and machine learning servicescommitment to valuing diversity practicing inclusive behaviors and contributing to an equitable working and continual learning environment in support of eab s de&i promiseif you ve reached this section of the job description and are unsure of whether to apply please do at eab we welcome diversity of background and experience we would encourage you to submit an application if this is a role you would be passionate about doing every day benefits consistent with our belief that our employees are our most valuable resource eab offers a competitive and inclusive benefits package medical dental and vision insurance dependents and domestic partners eligible k retirement plan with company match days of pto annually in addition to paid firm holidaysdaytime leave policy for community service or fitness activities up to hours a month eachpaid parental leave for birthing or non birthing parentsphase back to work program for employees returning from parental leaveinfertility treatment coverage and adoption or surrogacy assistancewellness programs including gym discounts and incentives to promote healthy livingdynamic growth opportunities with merit based promotion philosophybenefits kick in day one see the full details here at eab we believe that to fulfill our mission to make education smarter and our communities stronger we need team members who bring a diversity of perspectives to the table and are committed to fostering a workplace where each team member is valued respected and heard to that end eab is an equal opportunity employer and we make employment decisions on the basis of qualifications merit and business need we don t discriminate on the basis of race religion color sex gender identity or expression sexual orientation age non disqualifying physical or mental disability national origin veteran status or any other basis covered by appropriate law experience with machine learning statistics and the scientific method collaborate with data engineers and software engineers to integrate research driven'"
      ]
     },
     "execution_count": 687,
     "metadata": {},
     "output_type": "execute_result"
    }
   ],
   "source": [
    "data.cleaned[3]"
   ]
  },
  {
   "cell_type": "code",
   "execution_count": null,
   "id": "edd300ba",
   "metadata": {},
   "outputs": [],
   "source": []
  },
  {
   "cell_type": "markdown",
   "id": "679e87e7",
   "metadata": {},
   "source": [
    "### 4.1 Target\n",
    "Before I can begin splitting the data I need to set the target for my methodology of training four seperate logistic regression models. I'm doing this because I'd like my classifications to be as accurate as possible, and also, by building my NLP strategy around a particular label, i.e. finding common words for that label as opposed to being generalized through the entire corpus\\\n",
    "\n",
    "I'm going to one-hot-encode the target feature so I can select each of the next columns as my y - one for each model."
   ]
  },
  {
   "cell_type": "code",
   "execution_count": 688,
   "id": "f059c064",
   "metadata": {},
   "outputs": [],
   "source": [
    "data = data[['company','job_title','state','city','rating','cleaned','target']]"
   ]
  },
  {
   "cell_type": "code",
   "execution_count": 689,
   "id": "b30f30a1",
   "metadata": {},
   "outputs": [],
   "source": [
    "ohe = OneHotEncoder(sparse=False, dtype='int')\n",
    "targets = ohe.fit_transform(pd.DataFrame(data.target))\n"
   ]
  },
  {
   "cell_type": "code",
   "execution_count": 690,
   "id": "76b9e0d2",
   "metadata": {},
   "outputs": [],
   "source": [
    "targets = pd.DataFrame(targets,columns=['Q1','Q2','Q3','Q4','unk'])\n"
   ]
  },
  {
   "cell_type": "code",
   "execution_count": 691,
   "id": "ea516b01",
   "metadata": {},
   "outputs": [
    {
     "data": {
      "text/html": [
       "<div>\n",
       "<style scoped>\n",
       "    .dataframe tbody tr th:only-of-type {\n",
       "        vertical-align: middle;\n",
       "    }\n",
       "\n",
       "    .dataframe tbody tr th {\n",
       "        vertical-align: top;\n",
       "    }\n",
       "\n",
       "    .dataframe thead th {\n",
       "        text-align: right;\n",
       "    }\n",
       "</style>\n",
       "<table border=\"1\" class=\"dataframe\">\n",
       "  <thead>\n",
       "    <tr style=\"text-align: right;\">\n",
       "      <th></th>\n",
       "      <th>company</th>\n",
       "      <th>job_title</th>\n",
       "      <th>state</th>\n",
       "      <th>city</th>\n",
       "      <th>rating</th>\n",
       "      <th>cleaned</th>\n",
       "      <th>target</th>\n",
       "      <th>Q1</th>\n",
       "      <th>Q2</th>\n",
       "      <th>Q3</th>\n",
       "      <th>Q4</th>\n",
       "      <th>unk</th>\n",
       "    </tr>\n",
       "  </thead>\n",
       "  <tbody>\n",
       "    <tr>\n",
       "      <th>0</th>\n",
       "      <td>online technical services</td>\n",
       "      <td>data scientist - marketing</td>\n",
       "      <td>remote</td>\n",
       "      <td>remote</td>\n",
       "      <td>3.7</td>\n",
       "      <td>job descriptiondata scientist marketingsan die...</td>\n",
       "      <td>4.0</td>\n",
       "      <td>0</td>\n",
       "      <td>0</td>\n",
       "      <td>0</td>\n",
       "      <td>1</td>\n",
       "      <td>0</td>\n",
       "    </tr>\n",
       "    <tr>\n",
       "      <th>1</th>\n",
       "      <td>west cap</td>\n",
       "      <td>data scientist, botguard</td>\n",
       "      <td>ny</td>\n",
       "      <td>remote in new york</td>\n",
       "      <td>3.5</td>\n",
       "      <td>human was founded in in a brooklyn sci fi book...</td>\n",
       "      <td>2.0</td>\n",
       "      <td>0</td>\n",
       "      <td>1</td>\n",
       "      <td>0</td>\n",
       "      <td>0</td>\n",
       "      <td>0</td>\n",
       "    </tr>\n",
       "    <tr>\n",
       "      <th>2</th>\n",
       "      <td>techtrueup</td>\n",
       "      <td>mcs data scientist</td>\n",
       "      <td>remote</td>\n",
       "      <td>remote</td>\n",
       "      <td>3.8</td>\n",
       "      <td>description data scientist fully remote develo...</td>\n",
       "      <td>3.0</td>\n",
       "      <td>0</td>\n",
       "      <td>0</td>\n",
       "      <td>1</td>\n",
       "      <td>0</td>\n",
       "      <td>0</td>\n",
       "    </tr>\n",
       "    <tr>\n",
       "      <th>3</th>\n",
       "      <td>eab</td>\n",
       "      <td>associate data scientist</td>\n",
       "      <td>dc</td>\n",
       "      <td>remote in washington</td>\n",
       "      <td>3.7</td>\n",
       "      <td>li remote about eab at eab our mission is to m...</td>\n",
       "      <td>1.0</td>\n",
       "      <td>1</td>\n",
       "      <td>0</td>\n",
       "      <td>0</td>\n",
       "      <td>0</td>\n",
       "      <td>0</td>\n",
       "    </tr>\n",
       "    <tr>\n",
       "      <th>4</th>\n",
       "      <td>redfin</td>\n",
       "      <td>senior data analyst - tour support (remote eli...</td>\n",
       "      <td>remote</td>\n",
       "      <td>remote</td>\n",
       "      <td>3.4</td>\n",
       "      <td>this position is a remote eligible position yo...</td>\n",
       "      <td>2.0</td>\n",
       "      <td>0</td>\n",
       "      <td>1</td>\n",
       "      <td>0</td>\n",
       "      <td>0</td>\n",
       "      <td>0</td>\n",
       "    </tr>\n",
       "  </tbody>\n",
       "</table>\n",
       "</div>"
      ],
      "text/plain": [
       "                     company  \\\n",
       "0  online technical services   \n",
       "1                   west cap   \n",
       "2                 techtrueup   \n",
       "3                        eab   \n",
       "4                     redfin   \n",
       "\n",
       "                                           job_title   state  \\\n",
       "0                         data scientist - marketing  remote   \n",
       "1                           data scientist, botguard      ny   \n",
       "2                                 mcs data scientist  remote   \n",
       "3                           associate data scientist      dc   \n",
       "4  senior data analyst - tour support (remote eli...  remote   \n",
       "\n",
       "                   city  rating  \\\n",
       "0                remote     3.7   \n",
       "1    remote in new york     3.5   \n",
       "2                remote     3.8   \n",
       "3  remote in washington     3.7   \n",
       "4                remote     3.4   \n",
       "\n",
       "                                             cleaned  target  Q1  Q2  Q3  Q4  \\\n",
       "0  job descriptiondata scientist marketingsan die...     4.0   0   0   0   1   \n",
       "1  human was founded in in a brooklyn sci fi book...     2.0   0   1   0   0   \n",
       "2  description data scientist fully remote develo...     3.0   0   0   1   0   \n",
       "3  li remote about eab at eab our mission is to m...     1.0   1   0   0   0   \n",
       "4  this position is a remote eligible position yo...     2.0   0   1   0   0   \n",
       "\n",
       "   unk  \n",
       "0    0  \n",
       "1    0  \n",
       "2    0  \n",
       "3    0  \n",
       "4    0  "
      ]
     },
     "execution_count": 691,
     "metadata": {},
     "output_type": "execute_result"
    }
   ],
   "source": [
    "data = data.join(targets)\n",
    "data.head()"
   ]
  },
  {
   "cell_type": "code",
   "execution_count": 692,
   "id": "d16b9772",
   "metadata": {},
   "outputs": [],
   "source": [
    "data.drop(['target','unk'], axis=1,inplace=True)"
   ]
  },
  {
   "cell_type": "code",
   "execution_count": 693,
   "id": "1edd6058",
   "metadata": {},
   "outputs": [],
   "source": [
    "from nltk.stem.snowball import SnowballStemmer\n",
    "stemmer = SnowballStemmer(\"english\")\n",
    "def stemming(sentence):\n",
    "    stemSentence = \"\"\n",
    "    for word in sentence.split():\n",
    "        stem = stemmer.stem(word)\n",
    "        stemSentence += stem\n",
    "        stemSentence += \" \"\n",
    "    stemSentence = stemSentence.strip()\n",
    "    return stemSentence\n",
    "\n",
    "\n",
    "data['comment_text'] = data['cleaned'].apply(stemming)"
   ]
  },
  {
   "cell_type": "code",
   "execution_count": 694,
   "id": "404132b4",
   "metadata": {},
   "outputs": [
    {
     "data": {
      "text/plain": [
       "'job descriptiondata scientist marketingsan diego ca analyt data scienc full timeheadquart in san diego we serv as a lead provid of work capit k m to the small and medium size busi that fuel our countri sinc we have pride ourselv on our collabor innov and custom focus approach enjoy a period of unpreced growth driven by the combin of cut edg technolog human touch and unwav integr we are look to add to our peopl first cultur with high motiv and result orient profession to push the limit of what possibl while creat valu for all of our partner we are seek a mid level to senior level statistician quantit model specialist or data scientist to join our analyt team and build predict model for market if you have except analyt quantit and problem solv skill demonstr experi design and implement predict model and analyt in market a proven track record of bring thought leadership to problem and the desir to make a rapid impact on the success of the busi this is an opportun for you the ideal candid has an advanc degre in statist econom mathemat or a relat field strong inner motiv to work hard learn and grow intellectu curios and honesti attent to detail and excel interperson skill this posit report to the svp of analyt responsibilitiesresearch devis test and implement innov statist model for market and relat area of the busi work independ and in collabor with other on the team identifi relev data sourc and data set to deliv insight and analysi for busi decis make sourc cleans and verifi data work close with analyt and technolog team to deploy model in product and to monitor and test deploy model communic analyt solut to parti across the busi in the form of present and other materi own the accuraci and precis of all work requir qualificationsb a or abov in statist econom appli mathemat or relat disciplin master s or abov prefer year of experi in model design and implement in market for fintech or relat industri independ and thought leadership in problem solv demonstr abil to own a problem from initi data analysi to model research develop test and operation strong understand of and experi with market data flow and method for audienc segment custom lifetim valu and attribut fluenci with statist model and machin learn method fluenci with sql and python fluenci with descript data analysi and present strong attent to detail and organiz skill intellectu curios and creativ strong written and verbal communic skill we offercompetit compens packag great medic vision and dental benefit health save account flexibl spend account life and disabl insur fantast k with match contribut sick vacat and holiday gym membership contribut employe assist program eap mental health support onlin commut benefit intern referr program fun team and compani event start up cultur within an establish busi with year of experi great central locat in san diego easi access from highway we are an equal opportun employ eoe and take great pride in build a divers work environ qualifi applic are consid for employ without regard to age race religion gender nation origin sexual orient disabl or veteran status job type full timepay per yearbenefitsdent insuranceflex schedulehealth insurancepaid time offvis insuranceschedul hour shiftday shiftmonday to fridayeducationmast preferredexperiencepython year preferredsql year preferreddata scientist & statistician year preferredwork locat remot identifi relev data sourc and data set to deliv insight and analysi for busi decis make sourc cleans and verifi data'"
      ]
     },
     "execution_count": 694,
     "metadata": {},
     "output_type": "execute_result"
    }
   ],
   "source": [
    "data.comment_text[0]"
   ]
  },
  {
   "cell_type": "code",
   "execution_count": 695,
   "id": "ab7348a0",
   "metadata": {},
   "outputs": [
    {
     "data": {
      "text/plain": [
       "'job descriptiondata scientist marketingsan diego ca analytics data science full timeheadquartered in san diego we serve a a leading provider of working capital k m to the small and medium sized business that fuel our country since we have prided ourselves on our collaborative innovative and customer focused approach enjoying a period of unprecedented growth driven by the combination of cutting edge technology human touch and unwavering integrity we are looking to add to our people first culture with highly motivated and result oriented professional to push the limit of whats possible while creating value for all of our partner we are seeking a mid level to senior level statistician quantitative modeling specialist or data scientist to join our analytics team and build predictive model for marketing if you have exceptional analytical quantitative and problem solving skill demonstrated experience designing and implementing predictive model and analytics in marketing a proven track record of bringing thought leadership to problem and the desire to make a rapid impact on the success of the business this is an opportunity for you the ideal candidate ha an advanced degree in statistic economics mathematics or a related field strong inner motivation to work hard learn and grow intellectual curiosity and honesty attention to detail and excellent interpersonal skill this position report to the svp of analytics responsibilitiesresearch devise test and implement innovative statistical model for marketing and related area of the business work independently and in collaboration with others on the team identify relevant data source and data set to deliver insight and analysis for business decision making source cleanse and verify data work closely with analytics and technology team to deploy model in production and to monitor and test deployed model communicate analytics solution to party across the business in the form of presentation and other material own the accuracy and precision of all work required qualificationsb a or above in statistic economics applied mathematics or related discipline master s or above preferred year of experience in model design and implementation in marketing for fintech or related industry independence and thought leadership in problem solving demonstrated ability to own a problem from initial data analysis to model research development testing and operationalization strong understanding of and experience with marketing data flow and method for audience segmentation customer lifetime value and attribution fluency with statistical modeling and machine learning method fluency with sql and python fluency with descriptive data analysis and presentation strong attention to detail and organizational skill intellectual curiosity and creativity strong written and verbal communication skill we offercompetitive compensation package great medical vision and dental benefit health saving account flexible spending account life and disability insurance fantastic k with matching contribution sick vacation and holiday gym membership contribution employee assistance program eap mental health support online commuter benefit internal referral program fun team and company event start up culture within an established business with year of experience great central location in san diego easy access from highway we are an equal opportunity employer eoe and take great pride in building a diverse work environment qualified applicant are considered for employment without regard to age race religion gender national origin sexual orientation disability or veteran status job type full timepay per yearbenefitsdental insuranceflexible schedulehealth insurancepaid time offvision insuranceschedule hour shiftday shiftmonday to fridayeducationmasters preferredexperiencepython year preferredsql year preferreddata scientist & statistician year preferredwork location remote identify relevant data source and data set to deliver insight and analysis for business decision making source cleanse and verify data'"
      ]
     },
     "execution_count": 695,
     "metadata": {},
     "output_type": "execute_result"
    }
   ],
   "source": [
    "from nltk.stem import WordNetLemmatizer\n",
    "\n",
    "\n",
    "\n",
    "lemmatizer = WordNetLemmatizer()\n",
    "def stemming(sentence):\n",
    "    LemSentence = \"\"\n",
    "    for word in sentence.split():\n",
    "        stem = lemmatizer.lemmatize(word)\n",
    "        LemSentence += stem\n",
    "        LemSentence += \" \"\n",
    "    LemSentence = LemSentence.strip()\n",
    "    return LemSentence\n",
    "\n",
    "\n",
    "data['comment_text_lem'] = data['cleaned'].apply(stemming)\n",
    "data.comment_text_lem[0]"
   ]
  },
  {
   "cell_type": "code",
   "execution_count": 696,
   "id": "960258da",
   "metadata": {},
   "outputs": [],
   "source": [
    "data.drop(['cleaned','comment_text'], axis=1,inplace=True)"
   ]
  },
  {
   "cell_type": "code",
   "execution_count": 697,
   "id": "cbeb0310",
   "metadata": {},
   "outputs": [
    {
     "data": {
      "text/html": [
       "<div>\n",
       "<style scoped>\n",
       "    .dataframe tbody tr th:only-of-type {\n",
       "        vertical-align: middle;\n",
       "    }\n",
       "\n",
       "    .dataframe tbody tr th {\n",
       "        vertical-align: top;\n",
       "    }\n",
       "\n",
       "    .dataframe thead th {\n",
       "        text-align: right;\n",
       "    }\n",
       "</style>\n",
       "<table border=\"1\" class=\"dataframe\">\n",
       "  <thead>\n",
       "    <tr style=\"text-align: right;\">\n",
       "      <th></th>\n",
       "      <th>company</th>\n",
       "      <th>job_title</th>\n",
       "      <th>state</th>\n",
       "      <th>city</th>\n",
       "      <th>rating</th>\n",
       "      <th>Q1</th>\n",
       "      <th>Q2</th>\n",
       "      <th>Q3</th>\n",
       "      <th>Q4</th>\n",
       "      <th>comment_text_lem</th>\n",
       "    </tr>\n",
       "  </thead>\n",
       "  <tbody>\n",
       "    <tr>\n",
       "      <th>0</th>\n",
       "      <td>online technical services</td>\n",
       "      <td>data scientist - marketing</td>\n",
       "      <td>remote</td>\n",
       "      <td>remote</td>\n",
       "      <td>3.7</td>\n",
       "      <td>0</td>\n",
       "      <td>0</td>\n",
       "      <td>0</td>\n",
       "      <td>1</td>\n",
       "      <td>job descriptiondata scientist marketingsan die...</td>\n",
       "    </tr>\n",
       "    <tr>\n",
       "      <th>1</th>\n",
       "      <td>west cap</td>\n",
       "      <td>data scientist, botguard</td>\n",
       "      <td>ny</td>\n",
       "      <td>remote in new york</td>\n",
       "      <td>3.5</td>\n",
       "      <td>0</td>\n",
       "      <td>1</td>\n",
       "      <td>0</td>\n",
       "      <td>0</td>\n",
       "      <td>human wa founded in in a brooklyn sci fi books...</td>\n",
       "    </tr>\n",
       "    <tr>\n",
       "      <th>2</th>\n",
       "      <td>techtrueup</td>\n",
       "      <td>mcs data scientist</td>\n",
       "      <td>remote</td>\n",
       "      <td>remote</td>\n",
       "      <td>3.8</td>\n",
       "      <td>0</td>\n",
       "      <td>0</td>\n",
       "      <td>1</td>\n",
       "      <td>0</td>\n",
       "      <td>description data scientist fully remote develo...</td>\n",
       "    </tr>\n",
       "    <tr>\n",
       "      <th>3</th>\n",
       "      <td>eab</td>\n",
       "      <td>associate data scientist</td>\n",
       "      <td>dc</td>\n",
       "      <td>remote in washington</td>\n",
       "      <td>3.7</td>\n",
       "      <td>1</td>\n",
       "      <td>0</td>\n",
       "      <td>0</td>\n",
       "      <td>0</td>\n",
       "      <td>li remote about eab at eab our mission is to m...</td>\n",
       "    </tr>\n",
       "    <tr>\n",
       "      <th>4</th>\n",
       "      <td>redfin</td>\n",
       "      <td>senior data analyst - tour support (remote eli...</td>\n",
       "      <td>remote</td>\n",
       "      <td>remote</td>\n",
       "      <td>3.4</td>\n",
       "      <td>0</td>\n",
       "      <td>1</td>\n",
       "      <td>0</td>\n",
       "      <td>0</td>\n",
       "      <td>this position is a remote eligible position yo...</td>\n",
       "    </tr>\n",
       "    <tr>\n",
       "      <th>...</th>\n",
       "      <td>...</td>\n",
       "      <td>...</td>\n",
       "      <td>...</td>\n",
       "      <td>...</td>\n",
       "      <td>...</td>\n",
       "      <td>...</td>\n",
       "      <td>...</td>\n",
       "      <td>...</td>\n",
       "      <td>...</td>\n",
       "      <td>...</td>\n",
       "    </tr>\n",
       "    <tr>\n",
       "      <th>1025</th>\n",
       "      <td>etsy</td>\n",
       "      <td>senior applied scientist ii-knowledge base</td>\n",
       "      <td>wa</td>\n",
       "      <td>remote in seattle</td>\n",
       "      <td>4.3</td>\n",
       "      <td>0</td>\n",
       "      <td>0</td>\n",
       "      <td>0</td>\n",
       "      <td>0</td>\n",
       "      <td>company description etsy is the global marketp...</td>\n",
       "    </tr>\n",
       "    <tr>\n",
       "      <th>1026</th>\n",
       "      <td>nike</td>\n",
       "      <td>senior data scientist (open to remote work, ex...</td>\n",
       "      <td>or</td>\n",
       "      <td>remote in beaverton</td>\n",
       "      <td>4.1</td>\n",
       "      <td>0</td>\n",
       "      <td>0</td>\n",
       "      <td>0</td>\n",
       "      <td>0</td>\n",
       "      <td>become a part of the nike inc teamnike inc doe...</td>\n",
       "    </tr>\n",
       "    <tr>\n",
       "      <th>1027</th>\n",
       "      <td>windstream communications</td>\n",
       "      <td>senior data scientist</td>\n",
       "      <td>remote</td>\n",
       "      <td>remote</td>\n",
       "      <td>3.2</td>\n",
       "      <td>0</td>\n",
       "      <td>0</td>\n",
       "      <td>0</td>\n",
       "      <td>0</td>\n",
       "      <td>we are looking for a data scientist to help u ...</td>\n",
       "    </tr>\n",
       "    <tr>\n",
       "      <th>1028</th>\n",
       "      <td>nike</td>\n",
       "      <td>senior data scientist (open to remote work, ex...</td>\n",
       "      <td>or</td>\n",
       "      <td>remote in beaverton</td>\n",
       "      <td>4.1</td>\n",
       "      <td>0</td>\n",
       "      <td>0</td>\n",
       "      <td>0</td>\n",
       "      <td>0</td>\n",
       "      <td>become a part of the nike inc teamnike inc doe...</td>\n",
       "    </tr>\n",
       "    <tr>\n",
       "      <th>1029</th>\n",
       "      <td>windstream communications</td>\n",
       "      <td>senior data scientist</td>\n",
       "      <td>remote</td>\n",
       "      <td>remote</td>\n",
       "      <td>3.2</td>\n",
       "      <td>0</td>\n",
       "      <td>0</td>\n",
       "      <td>0</td>\n",
       "      <td>0</td>\n",
       "      <td>we are looking for a data scientist to help u ...</td>\n",
       "    </tr>\n",
       "  </tbody>\n",
       "</table>\n",
       "<p>1030 rows × 10 columns</p>\n",
       "</div>"
      ],
      "text/plain": [
       "                        company  \\\n",
       "0     online technical services   \n",
       "1                      west cap   \n",
       "2                    techtrueup   \n",
       "3                           eab   \n",
       "4                        redfin   \n",
       "...                         ...   \n",
       "1025                       etsy   \n",
       "1026                       nike   \n",
       "1027  windstream communications   \n",
       "1028                       nike   \n",
       "1029  windstream communications   \n",
       "\n",
       "                                              job_title   state  \\\n",
       "0                            data scientist - marketing  remote   \n",
       "1                              data scientist, botguard      ny   \n",
       "2                                    mcs data scientist  remote   \n",
       "3                              associate data scientist      dc   \n",
       "4     senior data analyst - tour support (remote eli...  remote   \n",
       "...                                                 ...     ...   \n",
       "1025         senior applied scientist ii-knowledge base      wa   \n",
       "1026  senior data scientist (open to remote work, ex...      or   \n",
       "1027                              senior data scientist  remote   \n",
       "1028  senior data scientist (open to remote work, ex...      or   \n",
       "1029                              senior data scientist  remote   \n",
       "\n",
       "                      city  rating  Q1  Q2  Q3  Q4  \\\n",
       "0                   remote     3.7   0   0   0   1   \n",
       "1       remote in new york     3.5   0   1   0   0   \n",
       "2                   remote     3.8   0   0   1   0   \n",
       "3     remote in washington     3.7   1   0   0   0   \n",
       "4                   remote     3.4   0   1   0   0   \n",
       "...                    ...     ...  ..  ..  ..  ..   \n",
       "1025     remote in seattle     4.3   0   0   0   0   \n",
       "1026   remote in beaverton     4.1   0   0   0   0   \n",
       "1027                remote     3.2   0   0   0   0   \n",
       "1028   remote in beaverton     4.1   0   0   0   0   \n",
       "1029                remote     3.2   0   0   0   0   \n",
       "\n",
       "                                       comment_text_lem  \n",
       "0     job descriptiondata scientist marketingsan die...  \n",
       "1     human wa founded in in a brooklyn sci fi books...  \n",
       "2     description data scientist fully remote develo...  \n",
       "3     li remote about eab at eab our mission is to m...  \n",
       "4     this position is a remote eligible position yo...  \n",
       "...                                                 ...  \n",
       "1025  company description etsy is the global marketp...  \n",
       "1026  become a part of the nike inc teamnike inc doe...  \n",
       "1027  we are looking for a data scientist to help u ...  \n",
       "1028  become a part of the nike inc teamnike inc doe...  \n",
       "1029  we are looking for a data scientist to help u ...  \n",
       "\n",
       "[1030 rows x 10 columns]"
      ]
     },
     "execution_count": 697,
     "metadata": {},
     "output_type": "execute_result"
    }
   ],
   "source": [
    "data"
   ]
  },
  {
   "cell_type": "code",
   "execution_count": 698,
   "id": "6235ad03",
   "metadata": {},
   "outputs": [],
   "source": [
    "from sklearn.feature_extraction.text import TfidfVectorizer"
   ]
  },
  {
   "cell_type": "code",
   "execution_count": null,
   "metadata": {},
   "outputs": [],
   "source": []
  },
  {
   "cell_type": "code",
   "execution_count": null,
   "id": "292b00b6",
   "metadata": {},
   "outputs": [],
   "source": []
  },
  {
   "cell_type": "code",
   "execution_count": 699,
   "id": "c91b775f",
   "metadata": {},
   "outputs": [],
   "source": [
    "q1_data = data.drop(['Q2','Q3','Q4'], axis=1)\n",
    "q2_data = data.drop(['Q1','Q3','Q4'], axis=1)\n",
    "q3_data = data.drop(['Q1','Q2','Q4'], axis=1)\n",
    "q4_data = data.drop(['Q1','Q2','Q3'], axis=1)"
   ]
  },
  {
   "cell_type": "code",
   "execution_count": 700,
   "id": "74bf2b45",
   "metadata": {},
   "outputs": [],
   "source": [
    "X = q1_data.drop(['Q1'], axis=1)\n",
    "y = q1_data['Q1']\n",
    "\n",
    "\n",
    "q1_vectorizer = TfidfVectorizer(ngram_range=(1,3), analyzer = 'word',max_features=1000,stop_words='english')\n",
    "corpus = X.comment_text_lem\n",
    "q1_vectorizer.fit_transform(corpus).toarray()\n",
    "vectorized = pd.DataFrame(q1_vectorizer.fit_transform(corpus).toarray(),columns=q1_vectorizer.get_feature_names())\n",
    "\n",
    "\n",
    "X = X.join(z,lsuffix='_')\n",
    "X = X.fillna(0)\n",
    "\n",
    "\n",
    "\n",
    "x_train, x_test, y_train, y_test = train_test_split(X, y , test_size=.2, random_state=42)"
   ]
  },
  {
   "cell_type": "code",
   "execution_count": 701,
   "id": "80f54cab",
   "metadata": {},
   "outputs": [],
   "source": [
    "x_train = x_train.drop('comment_text_lem',axis=1)\n",
    "x_test = x_test.drop('comment_text_lem',axis=1)"
   ]
  },
  {
   "cell_type": "code",
   "execution_count": 702,
   "id": "feb4384b",
   "metadata": {},
   "outputs": [
    {
     "data": {
      "text/plain": [
       "Index(['company_', 'job_title', 'state_', 'city_'], dtype='object')"
      ]
     },
     "execution_count": 702,
     "metadata": {},
     "output_type": "execute_result"
    }
   ],
   "source": [
    "le_cols = x_train.select_dtypes('object').columns\n",
    "le_cols"
   ]
  },
  {
   "cell_type": "code",
   "execution_count": 703,
   "id": "ba60f909",
   "metadata": {},
   "outputs": [],
   "source": [
    "#scaler_features = num_cols\n",
    "nlp_cols = ['comment_text_lem']\n",
    "le_cols = x_train.select_dtypes('object').columns\n",
    "scal_cols = ['rating']\n",
    "\n",
    "one_hot_encoder = Pipeline(steps=[\n",
    "    ('ohe', OneHotEncoder(handle_unknown ='ignore'))\n",
    "])\n",
    "\n",
    "vect = Pipeline(steps=[\n",
    "    ('vect', TfidfVectorizer(ngram_range=(1,3), analyzer = 'word',max_features=1000,stop_words='english'))\n",
    "])\n",
    "\n",
    "#ord_enc = OrdinalEncoder(handle_unknown='rder')\n",
    "\n",
    "label_encoder = Pipeline(steps=[\n",
    "    ('label_enc', LabelEncoder())\n",
    "])\n",
    "scaler_transformer = Pipeline(steps=[\n",
    "    ('scaler', StandardScaler())])\n",
    "\n",
    "minmax_scalar_transformer = Pipeline(steps=[\n",
    "    ('scaler', MinMaxScaler())])\n",
    "\n",
    "\n",
    "preprocessor = ColumnTransformer(\n",
    "    transformers=[\n",
    "        #('ord_cat', ordinal_cat_encoder, ordinal_cat_features),\n",
    "        ('ohe', one_hot_encoder, le_cols),\n",
    "        #('ord',ord_enc,le_cols),\n",
    "        ('scaler', scaler_transformer,scal_cols),\n",
    "        #('ohe', one_hot_encoder, nom_cols),\n",
    "        #('binarize', one_hot_encoder, bin_cols),\n",
    "        #('vect',vect,nlp_cols),\n",
    "        #('label_enc', label_encoder, le_cols),\n",
    "        \n",
    "        #('minmax_scaler', minmax_scalar_transformer,scaler_features)\n",
    "    ],remainder='passthrough'\n",
    ")\n",
    "\n",
    "transformer = Pipeline(steps=[('preprocessor', preprocessor)])\n"
   ]
  },
  {
   "cell_type": "code",
   "execution_count": null,
   "metadata": {},
   "outputs": [],
   "source": []
  },
  {
   "cell_type": "code",
   "execution_count": null,
   "id": "90192a6e",
   "metadata": {},
   "outputs": [],
   "source": []
  },
  {
   "cell_type": "code",
   "execution_count": 704,
   "metadata": {},
   "outputs": [
    {
     "data": {
      "text/html": [
       "<style>#sk-ce84c3da-4d76-4c72-8944-c278ad83dfec {color: black;background-color: white;}#sk-ce84c3da-4d76-4c72-8944-c278ad83dfec pre{padding: 0;}#sk-ce84c3da-4d76-4c72-8944-c278ad83dfec div.sk-toggleable {background-color: white;}#sk-ce84c3da-4d76-4c72-8944-c278ad83dfec label.sk-toggleable__label {cursor: pointer;display: block;width: 100%;margin-bottom: 0;padding: 0.2em 0.3em;box-sizing: border-box;text-align: center;}#sk-ce84c3da-4d76-4c72-8944-c278ad83dfec div.sk-toggleable__content {max-height: 0;max-width: 0;overflow: hidden;text-align: left;background-color: #f0f8ff;}#sk-ce84c3da-4d76-4c72-8944-c278ad83dfec div.sk-toggleable__content pre {margin: 0.2em;color: black;border-radius: 0.25em;background-color: #f0f8ff;}#sk-ce84c3da-4d76-4c72-8944-c278ad83dfec input.sk-toggleable__control:checked~div.sk-toggleable__content {max-height: 200px;max-width: 100%;overflow: auto;}#sk-ce84c3da-4d76-4c72-8944-c278ad83dfec div.sk-estimator input.sk-toggleable__control:checked~label.sk-toggleable__label {background-color: #d4ebff;}#sk-ce84c3da-4d76-4c72-8944-c278ad83dfec div.sk-label input.sk-toggleable__control:checked~label.sk-toggleable__label {background-color: #d4ebff;}#sk-ce84c3da-4d76-4c72-8944-c278ad83dfec input.sk-hidden--visually {border: 0;clip: rect(1px 1px 1px 1px);clip: rect(1px, 1px, 1px, 1px);height: 1px;margin: -1px;overflow: hidden;padding: 0;position: absolute;width: 1px;}#sk-ce84c3da-4d76-4c72-8944-c278ad83dfec div.sk-estimator {font-family: monospace;background-color: #f0f8ff;margin: 0.25em 0.25em;border: 1px dotted black;border-radius: 0.25em;box-sizing: border-box;}#sk-ce84c3da-4d76-4c72-8944-c278ad83dfec div.sk-estimator:hover {background-color: #d4ebff;}#sk-ce84c3da-4d76-4c72-8944-c278ad83dfec div.sk-parallel-item::after {content: \"\";width: 100%;border-bottom: 1px solid gray;flex-grow: 1;}#sk-ce84c3da-4d76-4c72-8944-c278ad83dfec div.sk-label:hover label.sk-toggleable__label {background-color: #d4ebff;}#sk-ce84c3da-4d76-4c72-8944-c278ad83dfec div.sk-serial::before {content: \"\";position: absolute;border-left: 1px solid gray;box-sizing: border-box;top: 2em;bottom: 0;left: 50%;}#sk-ce84c3da-4d76-4c72-8944-c278ad83dfec div.sk-serial {display: flex;flex-direction: column;align-items: center;background-color: white;}#sk-ce84c3da-4d76-4c72-8944-c278ad83dfec div.sk-item {z-index: 1;}#sk-ce84c3da-4d76-4c72-8944-c278ad83dfec div.sk-parallel {display: flex;align-items: stretch;justify-content: center;background-color: white;}#sk-ce84c3da-4d76-4c72-8944-c278ad83dfec div.sk-parallel-item {display: flex;flex-direction: column;position: relative;background-color: white;}#sk-ce84c3da-4d76-4c72-8944-c278ad83dfec div.sk-parallel-item:first-child::after {align-self: flex-end;width: 50%;}#sk-ce84c3da-4d76-4c72-8944-c278ad83dfec div.sk-parallel-item:last-child::after {align-self: flex-start;width: 50%;}#sk-ce84c3da-4d76-4c72-8944-c278ad83dfec div.sk-parallel-item:only-child::after {width: 0;}#sk-ce84c3da-4d76-4c72-8944-c278ad83dfec div.sk-dashed-wrapped {border: 1px dashed gray;margin: 0.2em;box-sizing: border-box;padding-bottom: 0.1em;background-color: white;position: relative;}#sk-ce84c3da-4d76-4c72-8944-c278ad83dfec div.sk-label label {font-family: monospace;font-weight: bold;background-color: white;display: inline-block;line-height: 1.2em;}#sk-ce84c3da-4d76-4c72-8944-c278ad83dfec div.sk-label-container {position: relative;z-index: 2;text-align: center;}#sk-ce84c3da-4d76-4c72-8944-c278ad83dfec div.sk-container {display: inline-block;position: relative;}</style><div id=\"sk-ce84c3da-4d76-4c72-8944-c278ad83dfec\" class\"sk-top-container\"><div class=\"sk-container\"><div class=\"sk-item sk-dashed-wrapped\"><div class=\"sk-label-container\"><div class=\"sk-label sk-toggleable\"><input class=\"sk-toggleable__control sk-hidden--visually\" id=\"c5f7c41d-848f-4e69-b19a-de922d34ec3b\" type=\"checkbox\" ><label class=\"sk-toggleable__label\" for=\"c5f7c41d-848f-4e69-b19a-de922d34ec3b\">Pipeline</label><div class=\"sk-toggleable__content\"><pre>Pipeline(steps=[('preprocessor',\n",
       "                 Pipeline(steps=[('preprocessor',\n",
       "                                  ColumnTransformer(remainder='passthrough',\n",
       "                                                    transformers=[('ohe',\n",
       "                                                                   Pipeline(steps=[('ohe',\n",
       "                                                                                    OneHotEncoder(handle_unknown='ignore'))]),\n",
       "                                                                   Index(['company_', 'job_title', 'state_', 'city_'], dtype='object')),\n",
       "                                                                  ('scaler',\n",
       "                                                                   Pipeline(steps=[('scaler',\n",
       "                                                                                    StandardScaler())]),\n",
       "                                                                   ['rating'])]))])),\n",
       "                ('logreg', LogisticRegression())])</pre></div></div></div><div class=\"sk-serial\"><div class=\"sk-item\"><div class=\"sk-label-container\"><div class=\"sk-label sk-toggleable\"><input class=\"sk-toggleable__control sk-hidden--visually\" id=\"a283de6b-9896-4d4e-bf1f-2af73319a183\" type=\"checkbox\" ><label class=\"sk-toggleable__label\" for=\"a283de6b-9896-4d4e-bf1f-2af73319a183\">preprocessor: Pipeline</label><div class=\"sk-toggleable__content\"><pre>Pipeline(steps=[('preprocessor',\n",
       "                 ColumnTransformer(remainder='passthrough',\n",
       "                                   transformers=[('ohe',\n",
       "                                                  Pipeline(steps=[('ohe',\n",
       "                                                                   OneHotEncoder(handle_unknown='ignore'))]),\n",
       "                                                  Index(['company_', 'job_title', 'state_', 'city_'], dtype='object')),\n",
       "                                                 ('scaler',\n",
       "                                                  Pipeline(steps=[('scaler',\n",
       "                                                                   StandardScaler())]),\n",
       "                                                  ['rating'])]))])</pre></div></div></div><div class=\"sk-serial\"><div class=\"sk-item sk-dashed-wrapped\"><div class=\"sk-label-container\"><div class=\"sk-label sk-toggleable\"><input class=\"sk-toggleable__control sk-hidden--visually\" id=\"3287502b-1a00-4efa-a3e1-05f60444b974\" type=\"checkbox\" ><label class=\"sk-toggleable__label\" for=\"3287502b-1a00-4efa-a3e1-05f60444b974\">preprocessor: ColumnTransformer</label><div class=\"sk-toggleable__content\"><pre>ColumnTransformer(remainder='passthrough',\n",
       "                  transformers=[('ohe',\n",
       "                                 Pipeline(steps=[('ohe',\n",
       "                                                  OneHotEncoder(handle_unknown='ignore'))]),\n",
       "                                 Index(['company_', 'job_title', 'state_', 'city_'], dtype='object')),\n",
       "                                ('scaler',\n",
       "                                 Pipeline(steps=[('scaler', StandardScaler())]),\n",
       "                                 ['rating'])])</pre></div></div></div><div class=\"sk-parallel\"><div class=\"sk-parallel-item\"><div class=\"sk-item\"><div class=\"sk-label-container\"><div class=\"sk-label sk-toggleable\"><input class=\"sk-toggleable__control sk-hidden--visually\" id=\"865d4e62-7070-4b1d-8ec1-595fa47bf335\" type=\"checkbox\" ><label class=\"sk-toggleable__label\" for=\"865d4e62-7070-4b1d-8ec1-595fa47bf335\">ohe</label><div class=\"sk-toggleable__content\"><pre>Index(['company_', 'job_title', 'state_', 'city_'], dtype='object')</pre></div></div></div><div class=\"sk-serial\"><div class=\"sk-item\"><div class=\"sk-serial\"><div class=\"sk-item\"><div class=\"sk-estimator sk-toggleable\"><input class=\"sk-toggleable__control sk-hidden--visually\" id=\"0d9738d9-85e6-493c-a4eb-61c152ca3c55\" type=\"checkbox\" ><label class=\"sk-toggleable__label\" for=\"0d9738d9-85e6-493c-a4eb-61c152ca3c55\">OneHotEncoder</label><div class=\"sk-toggleable__content\"><pre>OneHotEncoder(handle_unknown='ignore')</pre></div></div></div></div></div></div></div></div><div class=\"sk-parallel-item\"><div class=\"sk-item\"><div class=\"sk-label-container\"><div class=\"sk-label sk-toggleable\"><input class=\"sk-toggleable__control sk-hidden--visually\" id=\"420f25cd-f670-4bc3-bbb1-67e79e7d5ac5\" type=\"checkbox\" ><label class=\"sk-toggleable__label\" for=\"420f25cd-f670-4bc3-bbb1-67e79e7d5ac5\">scaler</label><div class=\"sk-toggleable__content\"><pre>['rating']</pre></div></div></div><div class=\"sk-serial\"><div class=\"sk-item\"><div class=\"sk-serial\"><div class=\"sk-item\"><div class=\"sk-estimator sk-toggleable\"><input class=\"sk-toggleable__control sk-hidden--visually\" id=\"cf5597f7-cda0-44ae-8280-625f2f1a93e3\" type=\"checkbox\" ><label class=\"sk-toggleable__label\" for=\"cf5597f7-cda0-44ae-8280-625f2f1a93e3\">StandardScaler</label><div class=\"sk-toggleable__content\"><pre>StandardScaler()</pre></div></div></div></div></div></div></div></div><div class=\"sk-parallel-item\"><div class=\"sk-item\"><div class=\"sk-label-container\"><div class=\"sk-label sk-toggleable\"><input class=\"sk-toggleable__control sk-hidden--visually\" id=\"264ecbca-8740-49f7-922a-9b8a3346ab11\" type=\"checkbox\" ><label class=\"sk-toggleable__label\" for=\"264ecbca-8740-49f7-922a-9b8a3346ab11\">remainder</label><div class=\"sk-toggleable__content\"><pre>['ab', 'ability', 'ability work', 'able', 'accelerate', 'accept', 'access', 'accommodation', 'account', 'act', 'action', 'action employer', 'actionable', 'actual', 'ad', 'addition', 'additional', 'additional information', 'advance', 'advanced', 'advanced analytics', 'advanced degree', 'advertising', 'age', 'agency', 'agile', 'ai', 'aiml', 'aledade', 'algorithm', 'america', 'analysis', 'analyst', 'analytic', 'analytical', 'analytics', 'analytics data', 'analyze', 'andor', 'anomaly', 'anomaly detection', 'applicable', 'applicable law', 'applicant', 'applicant employment', 'applicant receive', 'applicant receive consideration', 'application', 'application process', 'applied', 'apply', 'applying', 'approach', 'appropriate', 'area', 'art', 'artificial', 'artificial intelligence', 'assessment', 'assigned', 'assigned business', 'assigned business unit', 'assistance', 'assistance application', 'assistance application process', 'associate', 'attention', 'audience', 'austin', 'automated', 'automation', 'available', 'award', 'aws', 'azure', 'bachelor', 'bachelor degree', 'background', 'base', 'base salary', 'based', 'basis', 'beginning', 'belief', 'believe', 'benefit', 'benefit package', 'best', 'best match', 'best work', 'better', 'bi', 'big', 'bonnie', 'bonnie kutin', 'bonus', 'bot', 'brand', 'bring', 'build', 'building', 'business', 'business analytics', 'business need', 'business opportunity', 'business problem', 'business unit', 'buyer', 'california', 'campaign', 'candidate', 'capability', 'care', 'career', 'case', 'center', 'certification', 'chain', 'challenge', 'chance', 'change', 'changing', 'characteristic', 'characteristic protected', 'check', 'city', 'claim', 'class', 'clear', 'clearly', 'client', 'clinical', 'closely', 'cloud', 'cloud based', 'clustering', 'code', 'collaborate', 'collaborating', 'collaboration', 'collaborative', 'collection', 'color', 'color religion', 'color religion sex', 'colorado', 'com', 'comcentric', 'come', 'comfortable', 'commitment', 'committed', 'common', 'communicate', 'communication', 'communication skill', 'community', 'company', 'compensation', 'compensation package', 'competitive', 'complete', 'complex', 'complex data', 'compliance', 'component', 'comprehensive', 'comprehensive benefit', 'comprehensive benefit package', 'computer', 'computer science', 'concept', 'condition', 'conduct', 'connect', 'consideration', 'consideration employment', 'consideration employment regard', 'considered', 'consistent', 'consumer', 'contact', 'content', 'contractor', 'contribute', 'contribution', 'core', 'cost', 'country', 'coursework', 'coverage', 'covid', 'covid vaccination', 'create', 'creating', 'creation', 'creative', 'critical', 'cross', 'cross functional', 'culture', 'curiosity', 'currently', 'customer', 'cutting', 'cutting edge', 'cycle', 'dashboard', 'data', 'data analysis', 'data analyst', 'data analytics', 'data collection', 'data driven', 'data engineer', 'data engineering', 'data science', 'data science team', 'data scientist', 'data scientist ml', 'data set', 'data source', 'data visualization', 'data work', 'database', 'datasets', 'date', 'day', 'decision', 'decision making', 'decision tree', 'dedicated', 'deep', 'deep learning', 'define', 'degree', 'degree year', 'deliver', 'delivering', 'delivery', 'demonstrated', 'dental', 'dental vision', 'department', 'deploy', 'deploying', 'description', 'design', 'designated', 'designing', 'desire', 'desire solve', 'desire solve difficult', 'detection', 'develop', 'developer', 'developing', 'development', 'did', 'difference', 'different', 'difficult', 'difficult problem', 'difficult problem intersection', 'digital', 'direct', 'direction', 'disability', 'disability status', 'discipline', 'disclose', 'discriminate', 'discrimination', 'distributed', 'distribution', 'diverse', 'diversity', 'document', 'doe', 'doing', 'drive', 'driven', 'driver', 'drug', 'dsc', 'duty', 'dynamic', 'eab', 'economics', 'edge', 'edge technology', 'education', 'eeo', 'effective', 'effectively', 'efficiency', 'efficient', 'effort', 'electric', 'electronic', 'eligibility', 'eligible', 'email', 'employee', 'employee applicant', 'employer', 'employer qualified', 'employer qualified applicant', 'employment', 'employment opportunity', 'employment regard', 'employment regard race', 'enable', 'encourage', 'end', 'end end', 'engagement', 'engineer', 'engineer data', 'engineer data scientist', 'engineering', 'engineering data', 'enjoy', 'ensure', 'enterprise', 'entire', 'environment', 'equal', 'equal employment', 'equal employment opportunity', 'equal opportunity', 'equal opportunity employer', 'equity', 'equivalent', 'ericsson', 'error', 'especially', 'essential', 'essential job', 'essential job function', 'etsy', 'evaluate', 'evaluation', 'event', 'example', 'excel', 'excellent', 'exciting', 'execute', 'executive', 'exemption', 'existing', 'expected', 'experience', 'experience building', 'experience data', 'experience machine', 'experience machine learning', 'experiment', 'experimental', 'expert', 'expertise', 'explain', 'exploratory', 'explore', 'expression', 'extensive', 'external', 'facility', 'factor', 'factor including', 'factor including limited', 'familiarity', 'family', 'fast', 'feature', 'federal', 'federal law', 'federal state', 'federal state local', 'field', 'field year', 'finance', 'financial', 'finding', 'flexible', 'focus', 'focused', 'following', 'ford', 'forecasting', 'form', 'forward', 'framework', 'fully', 'fully vaccinated', 'function', 'functional', 'future', 'gained', 'galaxe', 'ganey', 'gender', 'gender identity', 'gender identity expression', 'generation', 'global', 'goal', 'good', 'government', 'graph', 'great', 'group', 'grow', 'grow software', 'grow software engineer', 'growing', 'growth', 'guest', 'ha', 'hand', 'health', 'health care', 'health safety', 'healthcare', 'help', 'help build', 'helping', 'high', 'high level', 'highly', 'hire', 'hiring', 'home', 'hour', 'httpswww', 'human', 'humana', 'ibm', 'idea', 'ideal', 'ideal candidate', 'identify', 'identifying', 'identity', 'identity expression', 'image', 'impact', 'impactful', 'implement', 'implementation', 'implementing', 'important', 'improve', 'improvement', 'improving', 'incentive', 'include', 'includes', 'including', 'including limited', 'inclusion', 'inclusive', 'independently', 'individual', 'industry', 'industry experience', 'inference', 'inform', 'information', 'infrastructure', 'initiative', 'innovation', 'innovative', 'insight', 'insurance', 'integrate', 'integration', 'integrity', 'intelligence', 'interested', 'internal', 'internal external', 'internet', 'intersection', 'interview', 'investment', 'issue', 'iterative', 'job', 'job description', 'job function', 'join', 'joining', 'just', 'key', 'kind', 'know', 'knowledge', 'knowledge base', 'knowledge data', 'kutin', 'language', 'language python', 'large', 'large data', 'large scale', 'large scale production', 'largest', 'law', 'lead', 'leader', 'leadership', 'leading', 'learn', 'learning', 'learning data', 'learning data engineering', 'learning engineer', 'learning framework', 'learning model', 'learning solution', 'learning statistic', 'learning technique', 'leave', 'legally', 'level', 'leverage', 'li', 'life', 'lifecycle', 'like', 'limited', 'list', 'live', 'll', 'local', 'local law', 'location', 'long', 'look', 'looking', 'love', 'machine', 'machine learning', 'machine learning data', 'machine learning engineer', 'machine learning model', 'machine learning statistic', 'machine learning technique', 'maintain', 'major', 'make', 'making', 'manage', 'management', 'manager', 'marital', 'marital status', 'market', 'market intelligence', 'marketing', 'marketplace', 'master', 'master degree', 'match', 'mathematics', 'matter', 'matter expert', 'meaningful', 'medical', 'medical dental', 'medical religious', 'medical religious exemption', 'medium', 'meet', 'member', 'mentor', 'method', 'methodology', 'metric', 'microsoft', 'military', 'million', 'million job', 'minimum', 'mining', 'minneapolis', 'mission', 'mission build', 'ml', 'ml engineer', 'ml model', 'model', 'modeling', 'monitor', 'month', 'motivated', 'multi', 'multiple', 'national', 'national origin', 'national origin disability', 'nature', 'necessary', 'need', 'needed', 'network', 'neural', 'neural network', 'new', 'new idea', 'nlp', 'non', 'non technical', 'nthrive', 'offer', 'office', 'ongoing', 'online', 'open', 'open source', 'operate', 'operating', 'operation', 'operational', 'opportunity', 'opportunity employer', 'optimization', 'option', 'order', 'organization', 'orientation', 'orientation gender', 'orientation gender identity', 'oriented', 'origin', 'origin disability', 'outside', 'ownership', 'paced', 'package', 'paid', 'parental', 'parental leave', 'participate', 'partner', 'passion', 'passionate', 'patient', 'pattern', 'pay', 'people', 'perform', 'perform essential', 'performance', 'perk', 'person', 'personal', 'perspective', 'phase', 'phd', 'physical', 'pipeline', 'place', 'plan', 'planning', 'platform', 'plus', 'policy', 'population', 'population health', 'portfolio', 'position', 'possible', 'potential', 'power', 'practical', 'practice', 'predictive', 'predictive analytics', 'preferred', 'pregnancy', 'present', 'presentation', 'press', 'press ganey', 'primary', 'prior', 'prior employment', 'priority', 'problem', 'problem intersection', 'problem solving', 'process', 'processing', 'produce', 'product', 'production', 'production ready', 'professional', 'professional experience', 'proficiency', 'proficient', 'program', 'programming', 'programming language', 'project', 'project team', 'proof', 'proof vaccination', 'protect', 'protected', 'protected law', 'protected veteran', 'protected veteran status', 'protection', 'prototype', 'proud', 'proud equal', 'proud equal opportunity', 'proven', 'provide', 'provides', 'providing', 'pto', 'pyspark', 'python', 'pytorch', 'qualification', 'qualified', 'qualified applicant', 'qualified applicant receive', 'quality', 'quantitative', 'quantitative field', 'quarterly', 'query', 'question', 'race', 'race color', 'race color religion', 'range', 'reach', 'ready', 'real', 'reasonable', 'reasonable accommodation', 'receive', 'receive consideration', 'receive consideration employment', 'recognition', 'recommendation', 'record', 'redfin', 'regard', 'regard race', 'regard race color', 'regarding', 'regression', 'regulation', 'related', 'related field', 'relational', 'relationship', 'relevant', 'reliable', 'religion', 'religion sex', 'religious', 'religious exemption', 'remote', 'remotely', 'report', 'reporting', 'request', 'require', 'required', 'requirement', 'requires', 'research', 'resident', 'resource', 'responsibility', 'responsible', 'result', 'resume', 'retail', 'revel', 'revenue', 'reward', 'ride', 'right', 'risk', 'robust', 'role', 'run', 'safety', 'safety employee', 'salary', 'salary range', 'san', 'saving', 'scalable', 'scale', 'scale production', 'science', 'science related', 'science team', 'scientific', 'scientist', 'scientist ml', 'scientist ml engineer', 'scope', 'search', 'security', 'seek', 'seeking', 'selection', 'self', 'send', 'senior', 'senior data', 'senior data scientist', 'series', 'serve', 'server', 'service', 'set', 'sex', 'sex national', 'sex national origin', 'sexual', 'sexual orientation', 'sexual orientation gender', 'share', 'similar', 'skill', 'skill ability', 'small', 'software', 'software engineer', 'software engineer data', 'solid', 'solution', 'solve', 'solve difficult', 'solve difficult problem', 'solving', 'source', 'space', 'spark', 'sparkcognition', 'spartannash', 'specific', 'spending', 'sponsorship', 'spotify', 'sql', 'sql python', 'stack', 'stakeholder', 'standard', 'start', 'start date', 'startup', 'state', 'state california', 'state local', 'statistic', 'statistical', 'statistical analysis', 'statistical model', 'status', 'status disability', 'status prior', 'status sexual', 'status sexual orientation', 'stock', 'strategic', 'strategy', 'strong', 'structure', 'structured', 'student', 'subject', 'subject matter', 'subject matter expert', 'success', 'success deploying', 'successful', 'successful applicant', 'supply', 'supply chain', 'support', 'tableau', 'tackle', 'talent', 'talented', 'target', 'task', 'team', 'team build', 'team member', 'tech', 'technical', 'technique', 'technology', 'telecommute', 'tell', 'tensorflow', 'term', 'test', 'testing', 'thats', 'thing', 'thinking', 'thought', 'thrive', 'time', 'today', 'tool', 'total', 'track', 'train', 'training', 'transform', 'transformation', 'translate', 'transportation', 'travel', 'tree', 'trend', 'tuning', 'type', 'understand', 'understanding', 'unique', 'unit', 'united', 'united state', 'united state california', 'unitedhealth', 'unitedhealth group', 'unstructured', 'use', 'use case', 'used', 'user', 'using', 'vaccinated', 'vaccination', 'vaccination requirement', 'vaccination status', 'vaccination status prior', 'value', 'variety', 'various', 'vary', 've', 'verbal', 'verification', 'verify', 'veteran', 'veteran status', 'visa', 'vision', 'visit', 'visualization', 'visualization tool', 'want', 'way', 'web', 'week', 'weekly', 'welcome', 'wide', 'willing', 'work', 'work closely', 'work experience', 'work home', 'work life', 'work united', 'workflow', 'workforce', 'working', 'workplace', 'world', 'write', 'writing', 'written', 'written verbal', 'year', 'year experience', 'year professional', 'year professional experience', 'youll', 'youre', 'zone']</pre></div></div></div><div class=\"sk-serial\"><div class=\"sk-item\"><div class=\"sk-estimator sk-toggleable\"><input class=\"sk-toggleable__control sk-hidden--visually\" id=\"d255d670-ef3d-4786-8c48-9313ddf706e8\" type=\"checkbox\" ><label class=\"sk-toggleable__label\" for=\"d255d670-ef3d-4786-8c48-9313ddf706e8\">passthrough</label><div class=\"sk-toggleable__content\"><pre>passthrough</pre></div></div></div></div></div></div></div></div></div></div><div class=\"sk-item\"><div class=\"sk-estimator sk-toggleable\"><input class=\"sk-toggleable__control sk-hidden--visually\" id=\"919e4b8e-8000-4c29-991c-b43b6bca7665\" type=\"checkbox\" ><label class=\"sk-toggleable__label\" for=\"919e4b8e-8000-4c29-991c-b43b6bca7665\">LogisticRegression</label><div class=\"sk-toggleable__content\"><pre>LogisticRegression()</pre></div></div></div></div></div></div></div>"
      ],
      "text/plain": [
       "Pipeline(steps=[('preprocessor',\n",
       "                 Pipeline(steps=[('preprocessor',\n",
       "                                  ColumnTransformer(remainder='passthrough',\n",
       "                                                    transformers=[('ohe',\n",
       "                                                                   Pipeline(steps=[('ohe',\n",
       "                                                                                    OneHotEncoder(handle_unknown='ignore'))]),\n",
       "                                                                   Index(['company_', 'job_title', 'state_', 'city_'], dtype='object')),\n",
       "                                                                  ('scaler',\n",
       "                                                                   Pipeline(steps=[('scaler',\n",
       "                                                                                    StandardScaler())]),\n",
       "                                                                   ['rating'])]))])),\n",
       "                ('logreg', LogisticRegression())])"
      ]
     },
     "execution_count": 704,
     "metadata": {},
     "output_type": "execute_result"
    }
   ],
   "source": [
    "from sklearn.linear_model import LogisticRegression\n",
    "pipe = Pipeline(\n",
    "    steps=[\n",
    "        (\"preprocessor\", transformer), \n",
    "        (\"logreg\", LogisticRegression())\n",
    "        ]\n",
    "    )\n",
    "\n",
    "pipe.fit(x_train,y_train)\n",
    "\n"
   ]
  },
  {
   "cell_type": "code",
   "execution_count": 705,
   "id": "f89a5fa7",
   "metadata": {},
   "outputs": [
    {
     "data": {
      "text/plain": [
       "fit_time       0.434359\n",
       "score_time     0.028966\n",
       "test_score     0.970835\n",
       "train_score    0.979504\n",
       "dtype: float64"
      ]
     },
     "execution_count": 705,
     "metadata": {},
     "output_type": "execute_result"
    }
   ],
   "source": [
    "pd.DataFrame(cross_validate(pipe, x_train, y_train, scoring = 'accuracy',return_train_score=True,error_score=\"raise\",cv=10)).mean()"
   ]
  },
  {
   "cell_type": "code",
   "execution_count": 706,
   "id": "3887fcea",
   "metadata": {},
   "outputs": [
    {
     "data": {
      "text/plain": [
       "0.9805825242718447"
      ]
     },
     "execution_count": 706,
     "metadata": {},
     "output_type": "execute_result"
    }
   ],
   "source": [
    "pipe.score(x_train, y_train)\n"
   ]
  },
  {
   "cell_type": "code",
   "execution_count": 707,
   "id": "5e71b373",
   "metadata": {},
   "outputs": [
    {
     "data": {
      "text/html": [
       "<div>\n",
       "<style scoped>\n",
       "    .dataframe tbody tr th:only-of-type {\n",
       "        vertical-align: middle;\n",
       "    }\n",
       "\n",
       "    .dataframe tbody tr th {\n",
       "        vertical-align: top;\n",
       "    }\n",
       "\n",
       "    .dataframe thead th {\n",
       "        text-align: right;\n",
       "    }\n",
       "</style>\n",
       "<table border=\"1\" class=\"dataframe\">\n",
       "  <thead>\n",
       "    <tr style=\"text-align: right;\">\n",
       "      <th></th>\n",
       "      <th>company_</th>\n",
       "      <th>job_title</th>\n",
       "      <th>state_</th>\n",
       "      <th>city_</th>\n",
       "      <th>rating</th>\n",
       "      <th>ab</th>\n",
       "      <th>ability</th>\n",
       "      <th>ability work</th>\n",
       "      <th>able</th>\n",
       "      <th>accelerate</th>\n",
       "      <th>...</th>\n",
       "      <th>writing</th>\n",
       "      <th>written</th>\n",
       "      <th>written verbal</th>\n",
       "      <th>year</th>\n",
       "      <th>year experience</th>\n",
       "      <th>year professional</th>\n",
       "      <th>year professional experience</th>\n",
       "      <th>youll</th>\n",
       "      <th>youre</th>\n",
       "      <th>zone</th>\n",
       "    </tr>\n",
       "  </thead>\n",
       "  <tbody>\n",
       "    <tr>\n",
       "      <th>995</th>\n",
       "      <td>spotify</td>\n",
       "      <td>data scientist, advertising economics</td>\n",
       "      <td>ny</td>\n",
       "      <td>remote in new york</td>\n",
       "      <td>4.3</td>\n",
       "      <td>0.000000</td>\n",
       "      <td>0.000000</td>\n",
       "      <td>0.0</td>\n",
       "      <td>0.0</td>\n",
       "      <td>0.0</td>\n",
       "      <td>...</td>\n",
       "      <td>0.00000</td>\n",
       "      <td>0.000000</td>\n",
       "      <td>0.000000</td>\n",
       "      <td>0.000000</td>\n",
       "      <td>0.000000</td>\n",
       "      <td>0.000000</td>\n",
       "      <td>0.000000</td>\n",
       "      <td>0.0</td>\n",
       "      <td>0.0</td>\n",
       "      <td>0.0</td>\n",
       "    </tr>\n",
       "    <tr>\n",
       "      <th>507</th>\n",
       "      <td>s&amp;p global</td>\n",
       "      <td>data scientist</td>\n",
       "      <td>tn</td>\n",
       "      <td>remote in nashville</td>\n",
       "      <td>3.9</td>\n",
       "      <td>0.000000</td>\n",
       "      <td>0.029699</td>\n",
       "      <td>0.0</td>\n",
       "      <td>0.0</td>\n",
       "      <td>0.0</td>\n",
       "      <td>...</td>\n",
       "      <td>0.00000</td>\n",
       "      <td>0.043425</td>\n",
       "      <td>0.054596</td>\n",
       "      <td>0.115707</td>\n",
       "      <td>0.073827</td>\n",
       "      <td>0.000000</td>\n",
       "      <td>0.000000</td>\n",
       "      <td>0.0</td>\n",
       "      <td>0.0</td>\n",
       "      <td>0.0</td>\n",
       "    </tr>\n",
       "    <tr>\n",
       "      <th>334</th>\n",
       "      <td>cybercoders</td>\n",
       "      <td>remote senior data analyst</td>\n",
       "      <td>ca</td>\n",
       "      <td>remote in san francisco</td>\n",
       "      <td>3.7</td>\n",
       "      <td>0.053519</td>\n",
       "      <td>0.000000</td>\n",
       "      <td>0.0</td>\n",
       "      <td>0.0</td>\n",
       "      <td>0.0</td>\n",
       "      <td>...</td>\n",
       "      <td>0.00000</td>\n",
       "      <td>0.000000</td>\n",
       "      <td>0.000000</td>\n",
       "      <td>0.042137</td>\n",
       "      <td>0.000000</td>\n",
       "      <td>0.000000</td>\n",
       "      <td>0.000000</td>\n",
       "      <td>0.0</td>\n",
       "      <td>0.0</td>\n",
       "      <td>0.0</td>\n",
       "    </tr>\n",
       "    <tr>\n",
       "      <th>848</th>\n",
       "      <td>galaxe.solutions</td>\n",
       "      <td>data analyst</td>\n",
       "      <td>wi</td>\n",
       "      <td>remote in milwaukee</td>\n",
       "      <td>2.5</td>\n",
       "      <td>0.000000</td>\n",
       "      <td>0.000000</td>\n",
       "      <td>0.0</td>\n",
       "      <td>0.0</td>\n",
       "      <td>0.0</td>\n",
       "      <td>...</td>\n",
       "      <td>0.00000</td>\n",
       "      <td>0.000000</td>\n",
       "      <td>0.000000</td>\n",
       "      <td>0.000000</td>\n",
       "      <td>0.000000</td>\n",
       "      <td>0.000000</td>\n",
       "      <td>0.000000</td>\n",
       "      <td>0.0</td>\n",
       "      <td>0.0</td>\n",
       "      <td>0.0</td>\n",
       "    </tr>\n",
       "    <tr>\n",
       "      <th>294</th>\n",
       "      <td>galaxe.solutions</td>\n",
       "      <td>data analyst</td>\n",
       "      <td>wi</td>\n",
       "      <td>remote in milwaukee</td>\n",
       "      <td>2.5</td>\n",
       "      <td>0.000000</td>\n",
       "      <td>0.000000</td>\n",
       "      <td>0.0</td>\n",
       "      <td>0.0</td>\n",
       "      <td>0.0</td>\n",
       "      <td>...</td>\n",
       "      <td>0.08536</td>\n",
       "      <td>0.000000</td>\n",
       "      <td>0.000000</td>\n",
       "      <td>0.082743</td>\n",
       "      <td>0.000000</td>\n",
       "      <td>0.000000</td>\n",
       "      <td>0.000000</td>\n",
       "      <td>0.0</td>\n",
       "      <td>0.0</td>\n",
       "      <td>0.0</td>\n",
       "    </tr>\n",
       "    <tr>\n",
       "      <th>...</th>\n",
       "      <td>...</td>\n",
       "      <td>...</td>\n",
       "      <td>...</td>\n",
       "      <td>...</td>\n",
       "      <td>...</td>\n",
       "      <td>...</td>\n",
       "      <td>...</td>\n",
       "      <td>...</td>\n",
       "      <td>...</td>\n",
       "      <td>...</td>\n",
       "      <td>...</td>\n",
       "      <td>...</td>\n",
       "      <td>...</td>\n",
       "      <td>...</td>\n",
       "      <td>...</td>\n",
       "      <td>...</td>\n",
       "      <td>...</td>\n",
       "      <td>...</td>\n",
       "      <td>...</td>\n",
       "      <td>...</td>\n",
       "      <td>...</td>\n",
       "    </tr>\n",
       "    <tr>\n",
       "      <th>87</th>\n",
       "      <td>online technical services</td>\n",
       "      <td>data scientist - marketing</td>\n",
       "      <td>remote</td>\n",
       "      <td>remote</td>\n",
       "      <td>3.7</td>\n",
       "      <td>0.000000</td>\n",
       "      <td>0.000000</td>\n",
       "      <td>0.0</td>\n",
       "      <td>0.0</td>\n",
       "      <td>0.0</td>\n",
       "      <td>...</td>\n",
       "      <td>0.00000</td>\n",
       "      <td>0.000000</td>\n",
       "      <td>0.000000</td>\n",
       "      <td>0.028055</td>\n",
       "      <td>0.000000</td>\n",
       "      <td>0.000000</td>\n",
       "      <td>0.000000</td>\n",
       "      <td>0.0</td>\n",
       "      <td>0.0</td>\n",
       "      <td>0.0</td>\n",
       "    </tr>\n",
       "    <tr>\n",
       "      <th>330</th>\n",
       "      <td>cybercoders</td>\n",
       "      <td>principal data scientist</td>\n",
       "      <td>wa</td>\n",
       "      <td>remote in seattle</td>\n",
       "      <td>3.7</td>\n",
       "      <td>0.194667</td>\n",
       "      <td>0.024588</td>\n",
       "      <td>0.0</td>\n",
       "      <td>0.0</td>\n",
       "      <td>0.0</td>\n",
       "      <td>...</td>\n",
       "      <td>0.00000</td>\n",
       "      <td>0.000000</td>\n",
       "      <td>0.000000</td>\n",
       "      <td>0.019159</td>\n",
       "      <td>0.030561</td>\n",
       "      <td>0.000000</td>\n",
       "      <td>0.000000</td>\n",
       "      <td>0.0</td>\n",
       "      <td>0.0</td>\n",
       "      <td>0.0</td>\n",
       "    </tr>\n",
       "    <tr>\n",
       "      <th>466</th>\n",
       "      <td>sparkcognition</td>\n",
       "      <td>machine learning engineer</td>\n",
       "      <td>tx</td>\n",
       "      <td>remote in austin</td>\n",
       "      <td>4.4</td>\n",
       "      <td>0.000000</td>\n",
       "      <td>0.000000</td>\n",
       "      <td>0.0</td>\n",
       "      <td>0.0</td>\n",
       "      <td>0.0</td>\n",
       "      <td>...</td>\n",
       "      <td>0.00000</td>\n",
       "      <td>0.083019</td>\n",
       "      <td>0.000000</td>\n",
       "      <td>0.088482</td>\n",
       "      <td>0.070571</td>\n",
       "      <td>0.000000</td>\n",
       "      <td>0.000000</td>\n",
       "      <td>0.0</td>\n",
       "      <td>0.0</td>\n",
       "      <td>0.0</td>\n",
       "    </tr>\n",
       "    <tr>\n",
       "      <th>121</th>\n",
       "      <td>amadeus</td>\n",
       "      <td>principal data scientist - network planning fo...</td>\n",
       "      <td>remote</td>\n",
       "      <td>remote</td>\n",
       "      <td>3.9</td>\n",
       "      <td>0.000000</td>\n",
       "      <td>0.000000</td>\n",
       "      <td>0.0</td>\n",
       "      <td>0.0</td>\n",
       "      <td>0.0</td>\n",
       "      <td>...</td>\n",
       "      <td>0.00000</td>\n",
       "      <td>0.000000</td>\n",
       "      <td>0.000000</td>\n",
       "      <td>0.041024</td>\n",
       "      <td>0.000000</td>\n",
       "      <td>0.110709</td>\n",
       "      <td>0.115231</td>\n",
       "      <td>0.0</td>\n",
       "      <td>0.0</td>\n",
       "      <td>0.0</td>\n",
       "    </tr>\n",
       "    <tr>\n",
       "      <th>860</th>\n",
       "      <td>ericsson</td>\n",
       "      <td>data scientist (techn) -remote</td>\n",
       "      <td>ca</td>\n",
       "      <td>remote in santa clara</td>\n",
       "      <td>4.1</td>\n",
       "      <td>0.000000</td>\n",
       "      <td>0.000000</td>\n",
       "      <td>0.0</td>\n",
       "      <td>0.0</td>\n",
       "      <td>0.0</td>\n",
       "      <td>...</td>\n",
       "      <td>0.00000</td>\n",
       "      <td>0.000000</td>\n",
       "      <td>0.000000</td>\n",
       "      <td>0.000000</td>\n",
       "      <td>0.000000</td>\n",
       "      <td>0.000000</td>\n",
       "      <td>0.000000</td>\n",
       "      <td>0.0</td>\n",
       "      <td>0.0</td>\n",
       "      <td>0.0</td>\n",
       "    </tr>\n",
       "  </tbody>\n",
       "</table>\n",
       "<p>824 rows × 1005 columns</p>\n",
       "</div>"
      ],
      "text/plain": [
       "                      company_  \\\n",
       "995                    spotify   \n",
       "507                 s&p global   \n",
       "334                cybercoders   \n",
       "848           galaxe.solutions   \n",
       "294           galaxe.solutions   \n",
       "..                         ...   \n",
       "87   online technical services   \n",
       "330                cybercoders   \n",
       "466             sparkcognition   \n",
       "121                    amadeus   \n",
       "860                   ericsson   \n",
       "\n",
       "                                             job_title  state_  \\\n",
       "995              data scientist, advertising economics      ny   \n",
       "507                                     data scientist      tn   \n",
       "334                         remote senior data analyst      ca   \n",
       "848                                       data analyst      wi   \n",
       "294                                       data analyst      wi   \n",
       "..                                                 ...     ...   \n",
       "87                          data scientist - marketing  remote   \n",
       "330                           principal data scientist      wa   \n",
       "466                          machine learning engineer      tx   \n",
       "121  principal data scientist - network planning fo...  remote   \n",
       "860                     data scientist (techn) -remote      ca   \n",
       "\n",
       "                       city_  rating        ab   ability  ability work  able  \\\n",
       "995       remote in new york     4.3  0.000000  0.000000           0.0   0.0   \n",
       "507      remote in nashville     3.9  0.000000  0.029699           0.0   0.0   \n",
       "334  remote in san francisco     3.7  0.053519  0.000000           0.0   0.0   \n",
       "848      remote in milwaukee     2.5  0.000000  0.000000           0.0   0.0   \n",
       "294      remote in milwaukee     2.5  0.000000  0.000000           0.0   0.0   \n",
       "..                       ...     ...       ...       ...           ...   ...   \n",
       "87                    remote     3.7  0.000000  0.000000           0.0   0.0   \n",
       "330        remote in seattle     3.7  0.194667  0.024588           0.0   0.0   \n",
       "466         remote in austin     4.4  0.000000  0.000000           0.0   0.0   \n",
       "121                   remote     3.9  0.000000  0.000000           0.0   0.0   \n",
       "860    remote in santa clara     4.1  0.000000  0.000000           0.0   0.0   \n",
       "\n",
       "     accelerate  ...  writing   written  written verbal      year  \\\n",
       "995         0.0  ...  0.00000  0.000000        0.000000  0.000000   \n",
       "507         0.0  ...  0.00000  0.043425        0.054596  0.115707   \n",
       "334         0.0  ...  0.00000  0.000000        0.000000  0.042137   \n",
       "848         0.0  ...  0.00000  0.000000        0.000000  0.000000   \n",
       "294         0.0  ...  0.08536  0.000000        0.000000  0.082743   \n",
       "..          ...  ...      ...       ...             ...       ...   \n",
       "87          0.0  ...  0.00000  0.000000        0.000000  0.028055   \n",
       "330         0.0  ...  0.00000  0.000000        0.000000  0.019159   \n",
       "466         0.0  ...  0.00000  0.083019        0.000000  0.088482   \n",
       "121         0.0  ...  0.00000  0.000000        0.000000  0.041024   \n",
       "860         0.0  ...  0.00000  0.000000        0.000000  0.000000   \n",
       "\n",
       "     year experience  year professional  year professional experience  youll  \\\n",
       "995         0.000000           0.000000                      0.000000    0.0   \n",
       "507         0.073827           0.000000                      0.000000    0.0   \n",
       "334         0.000000           0.000000                      0.000000    0.0   \n",
       "848         0.000000           0.000000                      0.000000    0.0   \n",
       "294         0.000000           0.000000                      0.000000    0.0   \n",
       "..               ...                ...                           ...    ...   \n",
       "87          0.000000           0.000000                      0.000000    0.0   \n",
       "330         0.030561           0.000000                      0.000000    0.0   \n",
       "466         0.070571           0.000000                      0.000000    0.0   \n",
       "121         0.000000           0.110709                      0.115231    0.0   \n",
       "860         0.000000           0.000000                      0.000000    0.0   \n",
       "\n",
       "     youre  zone  \n",
       "995    0.0   0.0  \n",
       "507    0.0   0.0  \n",
       "334    0.0   0.0  \n",
       "848    0.0   0.0  \n",
       "294    0.0   0.0  \n",
       "..     ...   ...  \n",
       "87     0.0   0.0  \n",
       "330    0.0   0.0  \n",
       "466    0.0   0.0  \n",
       "121    0.0   0.0  \n",
       "860    0.0   0.0  \n",
       "\n",
       "[824 rows x 1005 columns]"
      ]
     },
     "execution_count": 707,
     "metadata": {},
     "output_type": "execute_result"
    }
   ],
   "source": [
    "x_train"
   ]
  },
  {
   "cell_type": "code",
   "execution_count": 708,
   "id": "83392640",
   "metadata": {},
   "outputs": [],
   "source": [
    "y_pred = pipe.predict(x_test)"
   ]
  },
  {
   "cell_type": "code",
   "execution_count": 709,
   "id": "b9da4b73",
   "metadata": {},
   "outputs": [
    {
     "data": {
      "text/plain": [
       "(824, 1005)"
      ]
     },
     "execution_count": 709,
     "metadata": {},
     "output_type": "execute_result"
    }
   ],
   "source": [
    "x_train.shape"
   ]
  },
  {
   "cell_type": "code",
   "execution_count": 710,
   "id": "b4b2114f",
   "metadata": {},
   "outputs": [
    {
     "data": {
      "text/plain": [
       "(206, 1005)"
      ]
     },
     "execution_count": 710,
     "metadata": {},
     "output_type": "execute_result"
    }
   ],
   "source": [
    "x_test.shape"
   ]
  },
  {
   "cell_type": "code",
   "execution_count": 711,
   "id": "3a07bbc0",
   "metadata": {},
   "outputs": [
    {
     "data": {
      "text/plain": [
       "Index(['company_', 'job_title', 'state_', 'city_', 'rating', 'ab', 'ability',\n",
       "       'ability work', 'able', 'accelerate',\n",
       "       ...\n",
       "       'writing', 'written', 'written verbal', 'year', 'year experience',\n",
       "       'year professional', 'year professional experience', 'youll', 'youre',\n",
       "       'zone'],\n",
       "      dtype='object', length=1005)"
      ]
     },
     "execution_count": 711,
     "metadata": {},
     "output_type": "execute_result"
    }
   ],
   "source": [
    "x_train.columns"
   ]
  },
  {
   "cell_type": "code",
   "execution_count": 712,
   "id": "b72bcf09",
   "metadata": {},
   "outputs": [
    {
     "data": {
      "text/plain": [
       "Index(['company_', 'job_title', 'state_', 'city_', 'rating', 'ab', 'ability',\n",
       "       'ability work', 'able', 'accelerate',\n",
       "       ...\n",
       "       'writing', 'written', 'written verbal', 'year', 'year experience',\n",
       "       'year professional', 'year professional experience', 'youll', 'youre',\n",
       "       'zone'],\n",
       "      dtype='object', length=1005)"
      ]
     },
     "execution_count": 712,
     "metadata": {},
     "output_type": "execute_result"
    }
   ],
   "source": [
    "x_test.columns"
   ]
  },
  {
   "cell_type": "code",
   "execution_count": 713,
   "id": "c6f8056e",
   "metadata": {},
   "outputs": [
    {
     "data": {
      "text/html": [
       "<div>\n",
       "<style scoped>\n",
       "    .dataframe tbody tr th:only-of-type {\n",
       "        vertical-align: middle;\n",
       "    }\n",
       "\n",
       "    .dataframe tbody tr th {\n",
       "        vertical-align: top;\n",
       "    }\n",
       "\n",
       "    .dataframe thead th {\n",
       "        text-align: right;\n",
       "    }\n",
       "</style>\n",
       "<table border=\"1\" class=\"dataframe\">\n",
       "  <thead>\n",
       "    <tr style=\"text-align: right;\">\n",
       "      <th></th>\n",
       "      <th>fit_time</th>\n",
       "      <th>score_time</th>\n",
       "      <th>test_score</th>\n",
       "      <th>train_score</th>\n",
       "    </tr>\n",
       "  </thead>\n",
       "  <tbody>\n",
       "    <tr>\n",
       "      <th>0</th>\n",
       "      <td>0.258841</td>\n",
       "      <td>0.016938</td>\n",
       "      <td>0.975758</td>\n",
       "      <td>0.981791</td>\n",
       "    </tr>\n",
       "    <tr>\n",
       "      <th>1</th>\n",
       "      <td>0.435632</td>\n",
       "      <td>0.025419</td>\n",
       "      <td>0.981818</td>\n",
       "      <td>0.977238</td>\n",
       "    </tr>\n",
       "    <tr>\n",
       "      <th>2</th>\n",
       "      <td>0.543952</td>\n",
       "      <td>0.033120</td>\n",
       "      <td>0.957576</td>\n",
       "      <td>0.978756</td>\n",
       "    </tr>\n",
       "    <tr>\n",
       "      <th>3</th>\n",
       "      <td>0.677501</td>\n",
       "      <td>0.049773</td>\n",
       "      <td>0.957576</td>\n",
       "      <td>0.981791</td>\n",
       "    </tr>\n",
       "    <tr>\n",
       "      <th>4</th>\n",
       "      <td>0.629385</td>\n",
       "      <td>0.023546</td>\n",
       "      <td>0.987805</td>\n",
       "      <td>0.972727</td>\n",
       "    </tr>\n",
       "  </tbody>\n",
       "</table>\n",
       "</div>"
      ],
      "text/plain": [
       "   fit_time  score_time  test_score  train_score\n",
       "0  0.258841    0.016938    0.975758     0.981791\n",
       "1  0.435632    0.025419    0.981818     0.977238\n",
       "2  0.543952    0.033120    0.957576     0.978756\n",
       "3  0.677501    0.049773    0.957576     0.981791\n",
       "4  0.629385    0.023546    0.987805     0.972727"
      ]
     },
     "execution_count": 713,
     "metadata": {},
     "output_type": "execute_result"
    }
   ],
   "source": [
    "scores_processed = cross_validate(pipe, x_train, y_train, return_train_score=True)\n",
    "pd.DataFrame(scores_processed)"
   ]
  },
  {
   "cell_type": "code",
   "execution_count": 714,
   "id": "c05f9ec8",
   "metadata": {},
   "outputs": [
    {
     "data": {
      "text/html": [
       "<style>#sk-1ed85e37-4fbe-494c-b5af-a0ade34796c1 {color: black;background-color: white;}#sk-1ed85e37-4fbe-494c-b5af-a0ade34796c1 pre{padding: 0;}#sk-1ed85e37-4fbe-494c-b5af-a0ade34796c1 div.sk-toggleable {background-color: white;}#sk-1ed85e37-4fbe-494c-b5af-a0ade34796c1 label.sk-toggleable__label {cursor: pointer;display: block;width: 100%;margin-bottom: 0;padding: 0.2em 0.3em;box-sizing: border-box;text-align: center;}#sk-1ed85e37-4fbe-494c-b5af-a0ade34796c1 div.sk-toggleable__content {max-height: 0;max-width: 0;overflow: hidden;text-align: left;background-color: #f0f8ff;}#sk-1ed85e37-4fbe-494c-b5af-a0ade34796c1 div.sk-toggleable__content pre {margin: 0.2em;color: black;border-radius: 0.25em;background-color: #f0f8ff;}#sk-1ed85e37-4fbe-494c-b5af-a0ade34796c1 input.sk-toggleable__control:checked~div.sk-toggleable__content {max-height: 200px;max-width: 100%;overflow: auto;}#sk-1ed85e37-4fbe-494c-b5af-a0ade34796c1 div.sk-estimator input.sk-toggleable__control:checked~label.sk-toggleable__label {background-color: #d4ebff;}#sk-1ed85e37-4fbe-494c-b5af-a0ade34796c1 div.sk-label input.sk-toggleable__control:checked~label.sk-toggleable__label {background-color: #d4ebff;}#sk-1ed85e37-4fbe-494c-b5af-a0ade34796c1 input.sk-hidden--visually {border: 0;clip: rect(1px 1px 1px 1px);clip: rect(1px, 1px, 1px, 1px);height: 1px;margin: -1px;overflow: hidden;padding: 0;position: absolute;width: 1px;}#sk-1ed85e37-4fbe-494c-b5af-a0ade34796c1 div.sk-estimator {font-family: monospace;background-color: #f0f8ff;margin: 0.25em 0.25em;border: 1px dotted black;border-radius: 0.25em;box-sizing: border-box;}#sk-1ed85e37-4fbe-494c-b5af-a0ade34796c1 div.sk-estimator:hover {background-color: #d4ebff;}#sk-1ed85e37-4fbe-494c-b5af-a0ade34796c1 div.sk-parallel-item::after {content: \"\";width: 100%;border-bottom: 1px solid gray;flex-grow: 1;}#sk-1ed85e37-4fbe-494c-b5af-a0ade34796c1 div.sk-label:hover label.sk-toggleable__label {background-color: #d4ebff;}#sk-1ed85e37-4fbe-494c-b5af-a0ade34796c1 div.sk-serial::before {content: \"\";position: absolute;border-left: 1px solid gray;box-sizing: border-box;top: 2em;bottom: 0;left: 50%;}#sk-1ed85e37-4fbe-494c-b5af-a0ade34796c1 div.sk-serial {display: flex;flex-direction: column;align-items: center;background-color: white;}#sk-1ed85e37-4fbe-494c-b5af-a0ade34796c1 div.sk-item {z-index: 1;}#sk-1ed85e37-4fbe-494c-b5af-a0ade34796c1 div.sk-parallel {display: flex;align-items: stretch;justify-content: center;background-color: white;}#sk-1ed85e37-4fbe-494c-b5af-a0ade34796c1 div.sk-parallel-item {display: flex;flex-direction: column;position: relative;background-color: white;}#sk-1ed85e37-4fbe-494c-b5af-a0ade34796c1 div.sk-parallel-item:first-child::after {align-self: flex-end;width: 50%;}#sk-1ed85e37-4fbe-494c-b5af-a0ade34796c1 div.sk-parallel-item:last-child::after {align-self: flex-start;width: 50%;}#sk-1ed85e37-4fbe-494c-b5af-a0ade34796c1 div.sk-parallel-item:only-child::after {width: 0;}#sk-1ed85e37-4fbe-494c-b5af-a0ade34796c1 div.sk-dashed-wrapped {border: 1px dashed gray;margin: 0.2em;box-sizing: border-box;padding-bottom: 0.1em;background-color: white;position: relative;}#sk-1ed85e37-4fbe-494c-b5af-a0ade34796c1 div.sk-label label {font-family: monospace;font-weight: bold;background-color: white;display: inline-block;line-height: 1.2em;}#sk-1ed85e37-4fbe-494c-b5af-a0ade34796c1 div.sk-label-container {position: relative;z-index: 2;text-align: center;}#sk-1ed85e37-4fbe-494c-b5af-a0ade34796c1 div.sk-container {display: inline-block;position: relative;}</style><div id=\"sk-1ed85e37-4fbe-494c-b5af-a0ade34796c1\" class\"sk-top-container\"><div class=\"sk-container\"><div class=\"sk-item sk-dashed-wrapped\"><div class=\"sk-label-container\"><div class=\"sk-label sk-toggleable\"><input class=\"sk-toggleable__control sk-hidden--visually\" id=\"05624fc1-5f2d-4f12-88b1-bec7cf212d7b\" type=\"checkbox\" ><label class=\"sk-toggleable__label\" for=\"05624fc1-5f2d-4f12-88b1-bec7cf212d7b\">Pipeline</label><div class=\"sk-toggleable__content\"><pre>Pipeline(steps=[('preprocessor',\n",
       "                 Pipeline(steps=[('preprocessor',\n",
       "                                  ColumnTransformer(remainder='passthrough',\n",
       "                                                    transformers=[('ohe',\n",
       "                                                                   Pipeline(steps=[('ohe',\n",
       "                                                                                    OneHotEncoder(handle_unknown='ignore'))]),\n",
       "                                                                   Index(['company_', 'job_title', 'state_', 'city_'], dtype='object')),\n",
       "                                                                  ('scaler',\n",
       "                                                                   Pipeline(steps=[('scaler',\n",
       "                                                                                    StandardScaler())]),\n",
       "                                                                   ['rating'])]))])),\n",
       "                ('logreg', LogisticRegression())])</pre></div></div></div><div class=\"sk-serial\"><div class=\"sk-item\"><div class=\"sk-label-container\"><div class=\"sk-label sk-toggleable\"><input class=\"sk-toggleable__control sk-hidden--visually\" id=\"af5b4dff-e81d-43c1-b400-4307f0148a5b\" type=\"checkbox\" ><label class=\"sk-toggleable__label\" for=\"af5b4dff-e81d-43c1-b400-4307f0148a5b\">preprocessor: Pipeline</label><div class=\"sk-toggleable__content\"><pre>Pipeline(steps=[('preprocessor',\n",
       "                 ColumnTransformer(remainder='passthrough',\n",
       "                                   transformers=[('ohe',\n",
       "                                                  Pipeline(steps=[('ohe',\n",
       "                                                                   OneHotEncoder(handle_unknown='ignore'))]),\n",
       "                                                  Index(['company_', 'job_title', 'state_', 'city_'], dtype='object')),\n",
       "                                                 ('scaler',\n",
       "                                                  Pipeline(steps=[('scaler',\n",
       "                                                                   StandardScaler())]),\n",
       "                                                  ['rating'])]))])</pre></div></div></div><div class=\"sk-serial\"><div class=\"sk-item sk-dashed-wrapped\"><div class=\"sk-label-container\"><div class=\"sk-label sk-toggleable\"><input class=\"sk-toggleable__control sk-hidden--visually\" id=\"277d3a87-e695-4bba-94f6-f97ec00f4fe7\" type=\"checkbox\" ><label class=\"sk-toggleable__label\" for=\"277d3a87-e695-4bba-94f6-f97ec00f4fe7\">preprocessor: ColumnTransformer</label><div class=\"sk-toggleable__content\"><pre>ColumnTransformer(remainder='passthrough',\n",
       "                  transformers=[('ohe',\n",
       "                                 Pipeline(steps=[('ohe',\n",
       "                                                  OneHotEncoder(handle_unknown='ignore'))]),\n",
       "                                 Index(['company_', 'job_title', 'state_', 'city_'], dtype='object')),\n",
       "                                ('scaler',\n",
       "                                 Pipeline(steps=[('scaler', StandardScaler())]),\n",
       "                                 ['rating'])])</pre></div></div></div><div class=\"sk-parallel\"><div class=\"sk-parallel-item\"><div class=\"sk-item\"><div class=\"sk-label-container\"><div class=\"sk-label sk-toggleable\"><input class=\"sk-toggleable__control sk-hidden--visually\" id=\"e144a82f-df1f-4a06-92fd-fe1ce979f61e\" type=\"checkbox\" ><label class=\"sk-toggleable__label\" for=\"e144a82f-df1f-4a06-92fd-fe1ce979f61e\">ohe</label><div class=\"sk-toggleable__content\"><pre>Index(['company_', 'job_title', 'state_', 'city_'], dtype='object')</pre></div></div></div><div class=\"sk-serial\"><div class=\"sk-item\"><div class=\"sk-serial\"><div class=\"sk-item\"><div class=\"sk-estimator sk-toggleable\"><input class=\"sk-toggleable__control sk-hidden--visually\" id=\"c39d17d9-3fe8-4ede-9719-4d70a1d366ed\" type=\"checkbox\" ><label class=\"sk-toggleable__label\" for=\"c39d17d9-3fe8-4ede-9719-4d70a1d366ed\">OneHotEncoder</label><div class=\"sk-toggleable__content\"><pre>OneHotEncoder(handle_unknown='ignore')</pre></div></div></div></div></div></div></div></div><div class=\"sk-parallel-item\"><div class=\"sk-item\"><div class=\"sk-label-container\"><div class=\"sk-label sk-toggleable\"><input class=\"sk-toggleable__control sk-hidden--visually\" id=\"6f34e62d-2ee8-43b0-8162-8634fd9f9b2b\" type=\"checkbox\" ><label class=\"sk-toggleable__label\" for=\"6f34e62d-2ee8-43b0-8162-8634fd9f9b2b\">scaler</label><div class=\"sk-toggleable__content\"><pre>['rating']</pre></div></div></div><div class=\"sk-serial\"><div class=\"sk-item\"><div class=\"sk-serial\"><div class=\"sk-item\"><div class=\"sk-estimator sk-toggleable\"><input class=\"sk-toggleable__control sk-hidden--visually\" id=\"235ca70c-8e9c-41a8-92c5-f342d06211d8\" type=\"checkbox\" ><label class=\"sk-toggleable__label\" for=\"235ca70c-8e9c-41a8-92c5-f342d06211d8\">StandardScaler</label><div class=\"sk-toggleable__content\"><pre>StandardScaler()</pre></div></div></div></div></div></div></div></div><div class=\"sk-parallel-item\"><div class=\"sk-item\"><div class=\"sk-label-container\"><div class=\"sk-label sk-toggleable\"><input class=\"sk-toggleable__control sk-hidden--visually\" id=\"ac4076af-ea7c-4111-a045-793276f65fd5\" type=\"checkbox\" ><label class=\"sk-toggleable__label\" for=\"ac4076af-ea7c-4111-a045-793276f65fd5\">remainder</label><div class=\"sk-toggleable__content\"><pre>['ab', 'ability', 'ability work', 'able', 'accelerate', 'accept', 'access', 'accommodation', 'account', 'act', 'action', 'action employer', 'actionable', 'actual', 'ad', 'addition', 'additional', 'additional information', 'advance', 'advanced', 'advanced analytics', 'advanced degree', 'advertising', 'age', 'agency', 'agile', 'ai', 'aiml', 'aledade', 'algorithm', 'america', 'analysis', 'analyst', 'analytic', 'analytical', 'analytics', 'analytics data', 'analyze', 'andor', 'anomaly', 'anomaly detection', 'applicable', 'applicable law', 'applicant', 'applicant employment', 'applicant receive', 'applicant receive consideration', 'application', 'application process', 'applied', 'apply', 'applying', 'approach', 'appropriate', 'area', 'art', 'artificial', 'artificial intelligence', 'assessment', 'assigned', 'assigned business', 'assigned business unit', 'assistance', 'assistance application', 'assistance application process', 'associate', 'attention', 'audience', 'austin', 'automated', 'automation', 'available', 'award', 'aws', 'azure', 'bachelor', 'bachelor degree', 'background', 'base', 'base salary', 'based', 'basis', 'beginning', 'belief', 'believe', 'benefit', 'benefit package', 'best', 'best match', 'best work', 'better', 'bi', 'big', 'bonnie', 'bonnie kutin', 'bonus', 'bot', 'brand', 'bring', 'build', 'building', 'business', 'business analytics', 'business need', 'business opportunity', 'business problem', 'business unit', 'buyer', 'california', 'campaign', 'candidate', 'capability', 'care', 'career', 'case', 'center', 'certification', 'chain', 'challenge', 'chance', 'change', 'changing', 'characteristic', 'characteristic protected', 'check', 'city', 'claim', 'class', 'clear', 'clearly', 'client', 'clinical', 'closely', 'cloud', 'cloud based', 'clustering', 'code', 'collaborate', 'collaborating', 'collaboration', 'collaborative', 'collection', 'color', 'color religion', 'color religion sex', 'colorado', 'com', 'comcentric', 'come', 'comfortable', 'commitment', 'committed', 'common', 'communicate', 'communication', 'communication skill', 'community', 'company', 'compensation', 'compensation package', 'competitive', 'complete', 'complex', 'complex data', 'compliance', 'component', 'comprehensive', 'comprehensive benefit', 'comprehensive benefit package', 'computer', 'computer science', 'concept', 'condition', 'conduct', 'connect', 'consideration', 'consideration employment', 'consideration employment regard', 'considered', 'consistent', 'consumer', 'contact', 'content', 'contractor', 'contribute', 'contribution', 'core', 'cost', 'country', 'coursework', 'coverage', 'covid', 'covid vaccination', 'create', 'creating', 'creation', 'creative', 'critical', 'cross', 'cross functional', 'culture', 'curiosity', 'currently', 'customer', 'cutting', 'cutting edge', 'cycle', 'dashboard', 'data', 'data analysis', 'data analyst', 'data analytics', 'data collection', 'data driven', 'data engineer', 'data engineering', 'data science', 'data science team', 'data scientist', 'data scientist ml', 'data set', 'data source', 'data visualization', 'data work', 'database', 'datasets', 'date', 'day', 'decision', 'decision making', 'decision tree', 'dedicated', 'deep', 'deep learning', 'define', 'degree', 'degree year', 'deliver', 'delivering', 'delivery', 'demonstrated', 'dental', 'dental vision', 'department', 'deploy', 'deploying', 'description', 'design', 'designated', 'designing', 'desire', 'desire solve', 'desire solve difficult', 'detection', 'develop', 'developer', 'developing', 'development', 'did', 'difference', 'different', 'difficult', 'difficult problem', 'difficult problem intersection', 'digital', 'direct', 'direction', 'disability', 'disability status', 'discipline', 'disclose', 'discriminate', 'discrimination', 'distributed', 'distribution', 'diverse', 'diversity', 'document', 'doe', 'doing', 'drive', 'driven', 'driver', 'drug', 'dsc', 'duty', 'dynamic', 'eab', 'economics', 'edge', 'edge technology', 'education', 'eeo', 'effective', 'effectively', 'efficiency', 'efficient', 'effort', 'electric', 'electronic', 'eligibility', 'eligible', 'email', 'employee', 'employee applicant', 'employer', 'employer qualified', 'employer qualified applicant', 'employment', 'employment opportunity', 'employment regard', 'employment regard race', 'enable', 'encourage', 'end', 'end end', 'engagement', 'engineer', 'engineer data', 'engineer data scientist', 'engineering', 'engineering data', 'enjoy', 'ensure', 'enterprise', 'entire', 'environment', 'equal', 'equal employment', 'equal employment opportunity', 'equal opportunity', 'equal opportunity employer', 'equity', 'equivalent', 'ericsson', 'error', 'especially', 'essential', 'essential job', 'essential job function', 'etsy', 'evaluate', 'evaluation', 'event', 'example', 'excel', 'excellent', 'exciting', 'execute', 'executive', 'exemption', 'existing', 'expected', 'experience', 'experience building', 'experience data', 'experience machine', 'experience machine learning', 'experiment', 'experimental', 'expert', 'expertise', 'explain', 'exploratory', 'explore', 'expression', 'extensive', 'external', 'facility', 'factor', 'factor including', 'factor including limited', 'familiarity', 'family', 'fast', 'feature', 'federal', 'federal law', 'federal state', 'federal state local', 'field', 'field year', 'finance', 'financial', 'finding', 'flexible', 'focus', 'focused', 'following', 'ford', 'forecasting', 'form', 'forward', 'framework', 'fully', 'fully vaccinated', 'function', 'functional', 'future', 'gained', 'galaxe', 'ganey', 'gender', 'gender identity', 'gender identity expression', 'generation', 'global', 'goal', 'good', 'government', 'graph', 'great', 'group', 'grow', 'grow software', 'grow software engineer', 'growing', 'growth', 'guest', 'ha', 'hand', 'health', 'health care', 'health safety', 'healthcare', 'help', 'help build', 'helping', 'high', 'high level', 'highly', 'hire', 'hiring', 'home', 'hour', 'httpswww', 'human', 'humana', 'ibm', 'idea', 'ideal', 'ideal candidate', 'identify', 'identifying', 'identity', 'identity expression', 'image', 'impact', 'impactful', 'implement', 'implementation', 'implementing', 'important', 'improve', 'improvement', 'improving', 'incentive', 'include', 'includes', 'including', 'including limited', 'inclusion', 'inclusive', 'independently', 'individual', 'industry', 'industry experience', 'inference', 'inform', 'information', 'infrastructure', 'initiative', 'innovation', 'innovative', 'insight', 'insurance', 'integrate', 'integration', 'integrity', 'intelligence', 'interested', 'internal', 'internal external', 'internet', 'intersection', 'interview', 'investment', 'issue', 'iterative', 'job', 'job description', 'job function', 'join', 'joining', 'just', 'key', 'kind', 'know', 'knowledge', 'knowledge base', 'knowledge data', 'kutin', 'language', 'language python', 'large', 'large data', 'large scale', 'large scale production', 'largest', 'law', 'lead', 'leader', 'leadership', 'leading', 'learn', 'learning', 'learning data', 'learning data engineering', 'learning engineer', 'learning framework', 'learning model', 'learning solution', 'learning statistic', 'learning technique', 'leave', 'legally', 'level', 'leverage', 'li', 'life', 'lifecycle', 'like', 'limited', 'list', 'live', 'll', 'local', 'local law', 'location', 'long', 'look', 'looking', 'love', 'machine', 'machine learning', 'machine learning data', 'machine learning engineer', 'machine learning model', 'machine learning statistic', 'machine learning technique', 'maintain', 'major', 'make', 'making', 'manage', 'management', 'manager', 'marital', 'marital status', 'market', 'market intelligence', 'marketing', 'marketplace', 'master', 'master degree', 'match', 'mathematics', 'matter', 'matter expert', 'meaningful', 'medical', 'medical dental', 'medical religious', 'medical religious exemption', 'medium', 'meet', 'member', 'mentor', 'method', 'methodology', 'metric', 'microsoft', 'military', 'million', 'million job', 'minimum', 'mining', 'minneapolis', 'mission', 'mission build', 'ml', 'ml engineer', 'ml model', 'model', 'modeling', 'monitor', 'month', 'motivated', 'multi', 'multiple', 'national', 'national origin', 'national origin disability', 'nature', 'necessary', 'need', 'needed', 'network', 'neural', 'neural network', 'new', 'new idea', 'nlp', 'non', 'non technical', 'nthrive', 'offer', 'office', 'ongoing', 'online', 'open', 'open source', 'operate', 'operating', 'operation', 'operational', 'opportunity', 'opportunity employer', 'optimization', 'option', 'order', 'organization', 'orientation', 'orientation gender', 'orientation gender identity', 'oriented', 'origin', 'origin disability', 'outside', 'ownership', 'paced', 'package', 'paid', 'parental', 'parental leave', 'participate', 'partner', 'passion', 'passionate', 'patient', 'pattern', 'pay', 'people', 'perform', 'perform essential', 'performance', 'perk', 'person', 'personal', 'perspective', 'phase', 'phd', 'physical', 'pipeline', 'place', 'plan', 'planning', 'platform', 'plus', 'policy', 'population', 'population health', 'portfolio', 'position', 'possible', 'potential', 'power', 'practical', 'practice', 'predictive', 'predictive analytics', 'preferred', 'pregnancy', 'present', 'presentation', 'press', 'press ganey', 'primary', 'prior', 'prior employment', 'priority', 'problem', 'problem intersection', 'problem solving', 'process', 'processing', 'produce', 'product', 'production', 'production ready', 'professional', 'professional experience', 'proficiency', 'proficient', 'program', 'programming', 'programming language', 'project', 'project team', 'proof', 'proof vaccination', 'protect', 'protected', 'protected law', 'protected veteran', 'protected veteran status', 'protection', 'prototype', 'proud', 'proud equal', 'proud equal opportunity', 'proven', 'provide', 'provides', 'providing', 'pto', 'pyspark', 'python', 'pytorch', 'qualification', 'qualified', 'qualified applicant', 'qualified applicant receive', 'quality', 'quantitative', 'quantitative field', 'quarterly', 'query', 'question', 'race', 'race color', 'race color religion', 'range', 'reach', 'ready', 'real', 'reasonable', 'reasonable accommodation', 'receive', 'receive consideration', 'receive consideration employment', 'recognition', 'recommendation', 'record', 'redfin', 'regard', 'regard race', 'regard race color', 'regarding', 'regression', 'regulation', 'related', 'related field', 'relational', 'relationship', 'relevant', 'reliable', 'religion', 'religion sex', 'religious', 'religious exemption', 'remote', 'remotely', 'report', 'reporting', 'request', 'require', 'required', 'requirement', 'requires', 'research', 'resident', 'resource', 'responsibility', 'responsible', 'result', 'resume', 'retail', 'revel', 'revenue', 'reward', 'ride', 'right', 'risk', 'robust', 'role', 'run', 'safety', 'safety employee', 'salary', 'salary range', 'san', 'saving', 'scalable', 'scale', 'scale production', 'science', 'science related', 'science team', 'scientific', 'scientist', 'scientist ml', 'scientist ml engineer', 'scope', 'search', 'security', 'seek', 'seeking', 'selection', 'self', 'send', 'senior', 'senior data', 'senior data scientist', 'series', 'serve', 'server', 'service', 'set', 'sex', 'sex national', 'sex national origin', 'sexual', 'sexual orientation', 'sexual orientation gender', 'share', 'similar', 'skill', 'skill ability', 'small', 'software', 'software engineer', 'software engineer data', 'solid', 'solution', 'solve', 'solve difficult', 'solve difficult problem', 'solving', 'source', 'space', 'spark', 'sparkcognition', 'spartannash', 'specific', 'spending', 'sponsorship', 'spotify', 'sql', 'sql python', 'stack', 'stakeholder', 'standard', 'start', 'start date', 'startup', 'state', 'state california', 'state local', 'statistic', 'statistical', 'statistical analysis', 'statistical model', 'status', 'status disability', 'status prior', 'status sexual', 'status sexual orientation', 'stock', 'strategic', 'strategy', 'strong', 'structure', 'structured', 'student', 'subject', 'subject matter', 'subject matter expert', 'success', 'success deploying', 'successful', 'successful applicant', 'supply', 'supply chain', 'support', 'tableau', 'tackle', 'talent', 'talented', 'target', 'task', 'team', 'team build', 'team member', 'tech', 'technical', 'technique', 'technology', 'telecommute', 'tell', 'tensorflow', 'term', 'test', 'testing', 'thats', 'thing', 'thinking', 'thought', 'thrive', 'time', 'today', 'tool', 'total', 'track', 'train', 'training', 'transform', 'transformation', 'translate', 'transportation', 'travel', 'tree', 'trend', 'tuning', 'type', 'understand', 'understanding', 'unique', 'unit', 'united', 'united state', 'united state california', 'unitedhealth', 'unitedhealth group', 'unstructured', 'use', 'use case', 'used', 'user', 'using', 'vaccinated', 'vaccination', 'vaccination requirement', 'vaccination status', 'vaccination status prior', 'value', 'variety', 'various', 'vary', 've', 'verbal', 'verification', 'verify', 'veteran', 'veteran status', 'visa', 'vision', 'visit', 'visualization', 'visualization tool', 'want', 'way', 'web', 'week', 'weekly', 'welcome', 'wide', 'willing', 'work', 'work closely', 'work experience', 'work home', 'work life', 'work united', 'workflow', 'workforce', 'working', 'workplace', 'world', 'write', 'writing', 'written', 'written verbal', 'year', 'year experience', 'year professional', 'year professional experience', 'youll', 'youre', 'zone']</pre></div></div></div><div class=\"sk-serial\"><div class=\"sk-item\"><div class=\"sk-estimator sk-toggleable\"><input class=\"sk-toggleable__control sk-hidden--visually\" id=\"7e2b9e32-1302-4090-9f93-e718c4bcc8ba\" type=\"checkbox\" ><label class=\"sk-toggleable__label\" for=\"7e2b9e32-1302-4090-9f93-e718c4bcc8ba\">passthrough</label><div class=\"sk-toggleable__content\"><pre>passthrough</pre></div></div></div></div></div></div></div></div></div></div><div class=\"sk-item\"><div class=\"sk-estimator sk-toggleable\"><input class=\"sk-toggleable__control sk-hidden--visually\" id=\"42c6dd97-5d7c-4ac2-98e4-a2a4f0fd7be4\" type=\"checkbox\" ><label class=\"sk-toggleable__label\" for=\"42c6dd97-5d7c-4ac2-98e4-a2a4f0fd7be4\">LogisticRegression</label><div class=\"sk-toggleable__content\"><pre>LogisticRegression()</pre></div></div></div></div></div></div></div>"
      ],
      "text/plain": [
       "Pipeline(steps=[('preprocessor',\n",
       "                 Pipeline(steps=[('preprocessor',\n",
       "                                  ColumnTransformer(remainder='passthrough',\n",
       "                                                    transformers=[('ohe',\n",
       "                                                                   Pipeline(steps=[('ohe',\n",
       "                                                                                    OneHotEncoder(handle_unknown='ignore'))]),\n",
       "                                                                   Index(['company_', 'job_title', 'state_', 'city_'], dtype='object')),\n",
       "                                                                  ('scaler',\n",
       "                                                                   Pipeline(steps=[('scaler',\n",
       "                                                                                    StandardScaler())]),\n",
       "                                                                   ['rating'])]))])),\n",
       "                ('logreg', LogisticRegression())])"
      ]
     },
     "execution_count": 714,
     "metadata": {},
     "output_type": "execute_result"
    }
   ],
   "source": [
    "from sklearn import set_config\n",
    "\n",
    "set_config(display='diagram')\n",
    "pipe"
   ]
  },
  {
   "cell_type": "code",
   "execution_count": 715,
   "metadata": {},
   "outputs": [],
   "source": [
    "scores_processed = cross_validate(pipe, x_train, y_train, return_train_score=True)"
   ]
  },
  {
   "cell_type": "code",
   "execution_count": 716,
   "id": "3fac9019",
   "metadata": {},
   "outputs": [
    {
     "data": {
      "text/html": [
       "<div>\n",
       "<style scoped>\n",
       "    .dataframe tbody tr th:only-of-type {\n",
       "        vertical-align: middle;\n",
       "    }\n",
       "\n",
       "    .dataframe tbody tr th {\n",
       "        vertical-align: top;\n",
       "    }\n",
       "\n",
       "    .dataframe thead th {\n",
       "        text-align: right;\n",
       "    }\n",
       "</style>\n",
       "<table border=\"1\" class=\"dataframe\">\n",
       "  <thead>\n",
       "    <tr style=\"text-align: right;\">\n",
       "      <th></th>\n",
       "      <th>fit_time</th>\n",
       "      <th>score_time</th>\n",
       "      <th>test_score</th>\n",
       "      <th>train_score</th>\n",
       "    </tr>\n",
       "  </thead>\n",
       "  <tbody>\n",
       "    <tr>\n",
       "      <th>0</th>\n",
       "      <td>0.234286</td>\n",
       "      <td>0.020550</td>\n",
       "      <td>0.975758</td>\n",
       "      <td>0.981791</td>\n",
       "    </tr>\n",
       "    <tr>\n",
       "      <th>1</th>\n",
       "      <td>0.161977</td>\n",
       "      <td>0.020794</td>\n",
       "      <td>0.981818</td>\n",
       "      <td>0.977238</td>\n",
       "    </tr>\n",
       "    <tr>\n",
       "      <th>2</th>\n",
       "      <td>0.164715</td>\n",
       "      <td>0.016729</td>\n",
       "      <td>0.957576</td>\n",
       "      <td>0.978756</td>\n",
       "    </tr>\n",
       "    <tr>\n",
       "      <th>3</th>\n",
       "      <td>0.309675</td>\n",
       "      <td>0.016896</td>\n",
       "      <td>0.957576</td>\n",
       "      <td>0.981791</td>\n",
       "    </tr>\n",
       "    <tr>\n",
       "      <th>4</th>\n",
       "      <td>0.215975</td>\n",
       "      <td>0.012218</td>\n",
       "      <td>0.987805</td>\n",
       "      <td>0.972727</td>\n",
       "    </tr>\n",
       "  </tbody>\n",
       "</table>\n",
       "</div>"
      ],
      "text/plain": [
       "   fit_time  score_time  test_score  train_score\n",
       "0  0.234286    0.020550    0.975758     0.981791\n",
       "1  0.161977    0.020794    0.981818     0.977238\n",
       "2  0.164715    0.016729    0.957576     0.978756\n",
       "3  0.309675    0.016896    0.957576     0.981791\n",
       "4  0.215975    0.012218    0.987805     0.972727"
      ]
     },
     "execution_count": 716,
     "metadata": {},
     "output_type": "execute_result"
    }
   ],
   "source": [
    "pd.DataFrame(scores_processed)"
   ]
  },
  {
   "cell_type": "code",
   "execution_count": 717,
   "id": "63d80af5",
   "metadata": {},
   "outputs": [],
   "source": [
    "from sklearn.metrics import accuracy_score, hamming_loss,precision_score,recall_score,f1_score,classification_report\n",
    "predictions = pipe.predict(x_test)"
   ]
  },
  {
   "cell_type": "code",
   "execution_count": 718,
   "id": "9cda20ca",
   "metadata": {},
   "outputs": [
    {
     "name": "stdout",
     "output_type": "stream",
     "text": [
      "Accuracy : 0.9757281553398058\n"
     ]
    }
   ],
   "source": [
    "print(\"Accuracy :\",accuracy_score(y_test, predictions))"
   ]
  },
  {
   "cell_type": "code",
   "execution_count": 719,
   "id": "66a401de",
   "metadata": {},
   "outputs": [
    {
     "name": "stdout",
     "output_type": "stream",
     "text": [
      "Hamming loss  0.024271844660194174\n"
     ]
    }
   ],
   "source": [
    "\n",
    "print(\"Hamming loss \",hamming_loss(y_test,predictions))"
   ]
  },
  {
   "cell_type": "code",
   "execution_count": 720,
   "id": "c84cd949",
   "metadata": {},
   "outputs": [],
   "source": [
    "precision = precision_score(y_test, predictions, average='micro')\n",
    "recall = recall_score(y_test, predictions, average='micro')\n",
    "f1 = f1_score(y_test, predictions, average='micro')"
   ]
  },
  {
   "cell_type": "code",
   "execution_count": 721,
   "id": "ddc63768",
   "metadata": {},
   "outputs": [
    {
     "name": "stdout",
     "output_type": "stream",
     "text": [
      "\n",
      "Micro-average quality numbers\n",
      "Precision: 0.9757, Recall: 0.9757, F1-measure: 0.9757\n"
     ]
    }
   ],
   "source": [
    "print(\"\\nMicro-average quality numbers\")\n",
    "print(\"Precision: {:.4f}, Recall: {:.4f}, F1-measure: {:.4f}\".format(precision, recall, f1))"
   ]
  },
  {
   "cell_type": "code",
   "execution_count": 722,
   "id": "2dd7102d",
   "metadata": {},
   "outputs": [],
   "source": [
    "precision = precision_score(y_test, predictions, average='macro')\n",
    "recall = recall_score(y_test, predictions, average='macro')\n",
    "f1 = f1_score(y_test, predictions, average='macro')"
   ]
  },
  {
   "cell_type": "code",
   "execution_count": 723,
   "id": "86d9da39",
   "metadata": {},
   "outputs": [
    {
     "name": "stdout",
     "output_type": "stream",
     "text": [
      "\n",
      "Macro-average quality numbers\n",
      "Precision: 0.9430, Recall: 0.9737, F1-measure: 0.9575\n"
     ]
    }
   ],
   "source": [
    "print(\"\\nMacro-average quality numbers\")\n",
    "print(\"Precision: {:.4f}, Recall: {:.4f}, F1-measure: {:.4f}\".format(precision, recall, f1))"
   ]
  },
  {
   "cell_type": "code",
   "execution_count": 724,
   "id": "6265cd11",
   "metadata": {},
   "outputs": [
    {
     "name": "stdout",
     "output_type": "stream",
     "text": [
      "\n",
      "Classification Report\n",
      "              precision    recall  f1-score   support\n",
      "\n",
      "           0       0.99      0.98      0.99       172\n",
      "           1       0.89      0.97      0.93        34\n",
      "\n",
      "    accuracy                           0.98       206\n",
      "   macro avg       0.94      0.97      0.96       206\n",
      "weighted avg       0.98      0.98      0.98       206\n",
      "\n"
     ]
    }
   ],
   "source": [
    "print(\"\\nClassification Report\")\n",
    "print (classification_report(y_test, predictions))"
   ]
  },
  {
   "cell_type": "code",
   "execution_count": 725,
   "id": "9bb52f30",
   "metadata": {},
   "outputs": [
    {
     "data": {
      "text/plain": [
       "array([0, 0, 0, 1, 0, 0, 0, 0, 0, 1, 0, 1, 0, 0, 0, 0, 0, 1, 0, 0, 0, 0,\n",
       "       0, 0, 0, 0, 1, 0, 0, 1, 0, 1, 0, 0, 0, 0, 0, 0, 0, 0, 0, 0, 0, 0,\n",
       "       1, 0, 0, 1, 0, 0, 0, 0, 0, 1, 1, 1, 0, 0, 1, 0, 0, 0, 1, 1, 1, 1,\n",
       "       0, 0, 1, 0, 0, 0, 0, 0, 0, 0, 0, 0, 0, 0, 0, 0, 0, 0, 1, 0, 0, 0,\n",
       "       0, 1, 0, 0, 1, 0, 0, 1, 0, 0, 0, 1, 0, 0, 0, 0, 1, 0, 0, 1, 0, 0,\n",
       "       1, 0, 0, 0, 0, 0, 0, 0, 0, 0, 1, 1, 0, 0, 0, 0, 0, 0, 1, 0, 0, 0,\n",
       "       0, 0, 1, 0, 0, 0, 0, 0, 0, 0, 0, 0, 0, 0, 0, 0, 0, 0, 0, 0, 0, 0,\n",
       "       0, 0, 0, 0, 0, 0, 1, 0, 0, 0, 0, 0, 0, 0, 0, 0, 0, 0, 1, 0, 0, 1,\n",
       "       0, 0, 0, 0, 0, 0, 0, 0, 0, 0, 0, 0, 0, 0, 0, 1, 1, 0, 0, 0, 0, 0,\n",
       "       1, 1, 0, 0, 0, 0, 0, 0])"
      ]
     },
     "execution_count": 725,
     "metadata": {},
     "output_type": "execute_result"
    }
   ],
   "source": [
    "predictions"
   ]
  },
  {
   "cell_type": "code",
   "execution_count": 726,
   "id": "df1e23d1",
   "metadata": {},
   "outputs": [],
   "source": [
    "%reset"
   ]
  },
  {
   "cell_type": "code",
   "execution_count": null,
   "id": "c59a4119",
   "metadata": {},
   "outputs": [],
   "source": []
  },
  {
   "cell_type": "code",
   "execution_count": null,
   "id": "38da9383",
   "metadata": {},
   "outputs": [],
   "source": []
  },
  {
   "cell_type": "code",
   "execution_count": null,
   "id": "278d1da5",
   "metadata": {},
   "outputs": [],
   "source": []
  }
 ],
 "metadata": {
  "interpreter": {
   "hash": "ac83f05b37eb5c5c49ba67e50f0047ddfbc4b30205fc79ee5f327b9c0ac37f55"
  },
  "kernelspec": {
   "display_name": "Python [conda env:indeedapp]",
   "language": "python",
   "name": "python3"
  },
  "language_info": {
   "codemirror_mode": {
    "name": "ipython",
    "version": 3
   },
   "file_extension": ".py",
   "mimetype": "text/x-python",
   "name": "python",
   "nbconvert_exporter": "python",
   "pygments_lexer": "ipython3",
   "version": "3.8.10"
  }
 },
 "nbformat": 4,
 "nbformat_minor": 5
}
