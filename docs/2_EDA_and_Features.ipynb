{
 "cells": [
  {
   "cell_type": "code",
   "execution_count": 30,
   "id": "analyzed-adjustment",
   "metadata": {},
   "outputs": [],
   "source": [
    "import numpy as np\n",
    "import pandas as pd\n",
    "\n",
    "from sklearn import metrics\n",
    "from scipy.stats import pearsonr, chi2_contingency\n",
    "from sklearn.preprocessing import StandardScaler, MinMaxScaler\n",
    "\n",
    "\n",
    "\n",
    "import matplotlib.pyplot as plt\n",
    "from datetime import datetime, date, timedelta\n",
    "\n",
    "plt.rcParams['figure.figsize'] = (8, 8)\n",
    "plt.rcParams['font.size'] = 17\n",
    "\n",
    "import seaborn as sns\n",
    "import re\n",
    "import warnings # current version of seaborn generates a bunch of warnings that we'll ignore\n",
    "warnings.filterwarnings(\"ignore\")\n",
    "sns.set(style=\"ticks\", color_codes=True)\n",
    "%matplotlib inline"
   ]
  },
  {
   "cell_type": "markdown",
   "id": "4dbcbb5e",
   "metadata": {},
   "source": [
    "## 2. Preprocesing B\n",
    "### 2.1 Reinspect Data"
   ]
  },
  {
   "cell_type": "code",
   "execution_count": 2,
   "id": "3a8c3416",
   "metadata": {},
   "outputs": [
    {
     "name": "stdout",
     "output_type": "stream",
     "text": [
      "<class 'pandas.core.frame.DataFrame'>\n",
      "RangeIndex: 1510 entries, 0 to 1509\n",
      "Data columns (total 13 columns):\n",
      " #   Column        Non-Null Count  Dtype  \n",
      "---  ------        --------------  -----  \n",
      " 0   company       1510 non-null   object \n",
      " 1   description   1510 non-null   object \n",
      " 2   location      1510 non-null   object \n",
      " 3   rating        1510 non-null   float64\n",
      " 4   requirements  187 non-null    object \n",
      " 5   summary       1510 non-null   object \n",
      " 6   job_title     1510 non-null   object \n",
      " 7   url           1510 non-null   object \n",
      " 8   text          1510 non-null   object \n",
      " 9   salary        1124 non-null   float64\n",
      " 10  dateposted    1510 non-null   object \n",
      " 11  state         1510 non-null   object \n",
      " 12  city          1510 non-null   object \n",
      "dtypes: float64(2), object(11)\n",
      "memory usage: 24.5 MB\n"
     ]
    },
    {
     "data": {
      "text/html": [
       "<div>\n",
       "<style scoped>\n",
       "    .dataframe tbody tr th:only-of-type {\n",
       "        vertical-align: middle;\n",
       "    }\n",
       "\n",
       "    .dataframe tbody tr th {\n",
       "        vertical-align: top;\n",
       "    }\n",
       "\n",
       "    .dataframe thead th {\n",
       "        text-align: right;\n",
       "    }\n",
       "</style>\n",
       "<table border=\"1\" class=\"dataframe\">\n",
       "  <thead>\n",
       "    <tr style=\"text-align: right;\">\n",
       "      <th></th>\n",
       "      <th>company</th>\n",
       "      <th>description</th>\n",
       "      <th>location</th>\n",
       "      <th>rating</th>\n",
       "      <th>requirements</th>\n",
       "      <th>summary</th>\n",
       "      <th>job_title</th>\n",
       "      <th>url</th>\n",
       "      <th>text</th>\n",
       "      <th>salary</th>\n",
       "      <th>dateposted</th>\n",
       "      <th>state</th>\n",
       "      <th>city</th>\n",
       "    </tr>\n",
       "  </thead>\n",
       "  <tbody>\n",
       "    <tr>\n",
       "      <th>0</th>\n",
       "      <td>online technical services</td>\n",
       "      <td>job descriptiondata scientist, marketingsan di...</td>\n",
       "      <td>remote</td>\n",
       "      <td>3.7</td>\n",
       "      <td>master's (preferred)python: 1 year (preferred)...</td>\n",
       "      <td>identify relevant data sources and data sets t...</td>\n",
       "      <td>data scientist - marketing</td>\n",
       "      <td>https://www.indeed.com/pagead/clk?mo=r&amp;ad=-6NY...</td>\n",
       "      <td>job descriptiondata scientist, marketingsan di...</td>\n",
       "      <td>148000.0</td>\n",
       "      <td>2022-04-13</td>\n",
       "      <td>remote</td>\n",
       "      <td>remote</td>\n",
       "    </tr>\n",
       "    <tr>\n",
       "      <th>1</th>\n",
       "      <td>west cap</td>\n",
       "      <td>human was founded in 2012 in a brooklyn sci-fi...</td>\n",
       "      <td>remote in new york, ny+2 locations</td>\n",
       "      <td>3.5</td>\n",
       "      <td>NaN</td>\n",
       "      <td>you’ve worked as a data scientist solving larg...</td>\n",
       "      <td>data scientist, botguard</td>\n",
       "      <td>https://www.indeed.com/rc/clk?jk=58cdde046f643...</td>\n",
       "      <td>human was founded in 2012 in a brooklyn sci-fi...</td>\n",
       "      <td>129000.0</td>\n",
       "      <td>2022-04-13</td>\n",
       "      <td>ny</td>\n",
       "      <td>remote in new york</td>\n",
       "    </tr>\n",
       "    <tr>\n",
       "      <th>2</th>\n",
       "      <td>maya ai inc.</td>\n",
       "      <td>our maya team is expanding and we are looking ...</td>\n",
       "      <td>remote</td>\n",
       "      <td>0.0</td>\n",
       "      <td>python: 1 year (preferred)sql: 1 year (preferred)</td>\n",
       "      <td>our analyst will be dealing with data coming i...</td>\n",
       "      <td>data scientist</td>\n",
       "      <td>https://www.indeed.com/company/Maya-Ai-inc./jo...</td>\n",
       "      <td>our maya team is expanding and we are looking ...</td>\n",
       "      <td>131000.0</td>\n",
       "      <td>2022-04-13</td>\n",
       "      <td>remote</td>\n",
       "      <td>remote</td>\n",
       "    </tr>\n",
       "    <tr>\n",
       "      <th>3</th>\n",
       "      <td>emergetech, inc</td>\n",
       "      <td>description:job categorydata scienceabout emer...</td>\n",
       "      <td>remote</td>\n",
       "      <td>0.0</td>\n",
       "      <td>NaN</td>\n",
       "      <td>design and create the data sources that ”citiz...</td>\n",
       "      <td>data scientist</td>\n",
       "      <td>https://www.indeed.com/rc/clk?jk=95fb128bb025f...</td>\n",
       "      <td>description:job categorydata scienceabout emer...</td>\n",
       "      <td>107000.0</td>\n",
       "      <td>2022-04-13</td>\n",
       "      <td>remote</td>\n",
       "      <td>remote</td>\n",
       "    </tr>\n",
       "    <tr>\n",
       "      <th>4</th>\n",
       "      <td>recurrent</td>\n",
       "      <td>what's the opportunity?recurrent is on a missi...</td>\n",
       "      <td>remote in seattle, wa</td>\n",
       "      <td>0.0</td>\n",
       "      <td>NaN</td>\n",
       "      <td>experienced - you have 2+ years of experience ...</td>\n",
       "      <td>data scientist</td>\n",
       "      <td>https://www.indeed.com/rc/clk?jk=e9ce610b72deb...</td>\n",
       "      <td>what's the opportunity?recurrent is on a missi...</td>\n",
       "      <td>135000.0</td>\n",
       "      <td>2022-04-13</td>\n",
       "      <td>wa</td>\n",
       "      <td>remote in seattle</td>\n",
       "    </tr>\n",
       "  </tbody>\n",
       "</table>\n",
       "</div>"
      ],
      "text/plain": [
       "                     company  \\\n",
       "0  online technical services   \n",
       "1                   west cap   \n",
       "2               maya ai inc.   \n",
       "3            emergetech, inc   \n",
       "4                  recurrent   \n",
       "\n",
       "                                         description  \\\n",
       "0  job descriptiondata scientist, marketingsan di...   \n",
       "1  human was founded in 2012 in a brooklyn sci-fi...   \n",
       "2  our maya team is expanding and we are looking ...   \n",
       "3  description:job categorydata scienceabout emer...   \n",
       "4  what's the opportunity?recurrent is on a missi...   \n",
       "\n",
       "                             location  rating  \\\n",
       "0                              remote     3.7   \n",
       "1  remote in new york, ny+2 locations     3.5   \n",
       "2                              remote     0.0   \n",
       "3                              remote     0.0   \n",
       "4               remote in seattle, wa     0.0   \n",
       "\n",
       "                                        requirements  \\\n",
       "0  master's (preferred)python: 1 year (preferred)...   \n",
       "1                                                NaN   \n",
       "2  python: 1 year (preferred)sql: 1 year (preferred)   \n",
       "3                                                NaN   \n",
       "4                                                NaN   \n",
       "\n",
       "                                             summary  \\\n",
       "0  identify relevant data sources and data sets t...   \n",
       "1  you’ve worked as a data scientist solving larg...   \n",
       "2  our analyst will be dealing with data coming i...   \n",
       "3  design and create the data sources that ”citiz...   \n",
       "4  experienced - you have 2+ years of experience ...   \n",
       "\n",
       "                    job_title  \\\n",
       "0  data scientist - marketing   \n",
       "1    data scientist, botguard   \n",
       "2              data scientist   \n",
       "3              data scientist   \n",
       "4              data scientist   \n",
       "\n",
       "                                                 url  \\\n",
       "0  https://www.indeed.com/pagead/clk?mo=r&ad=-6NY...   \n",
       "1  https://www.indeed.com/rc/clk?jk=58cdde046f643...   \n",
       "2  https://www.indeed.com/company/Maya-Ai-inc./jo...   \n",
       "3  https://www.indeed.com/rc/clk?jk=95fb128bb025f...   \n",
       "4  https://www.indeed.com/rc/clk?jk=e9ce610b72deb...   \n",
       "\n",
       "                                                text    salary  dateposted  \\\n",
       "0  job descriptiondata scientist, marketingsan di...  148000.0  2022-04-13   \n",
       "1  human was founded in 2012 in a brooklyn sci-fi...  129000.0  2022-04-13   \n",
       "2  our maya team is expanding and we are looking ...  131000.0  2022-04-13   \n",
       "3  description:job categorydata scienceabout emer...  107000.0  2022-04-13   \n",
       "4  what's the opportunity?recurrent is on a missi...  135000.0  2022-04-13   \n",
       "\n",
       "    state                city  \n",
       "0  remote              remote  \n",
       "1      ny  remote in new york  \n",
       "2  remote              remote  \n",
       "3  remote              remote  \n",
       "4      wa   remote in seattle  "
      ]
     },
     "execution_count": 2,
     "metadata": {},
     "output_type": "execute_result"
    }
   ],
   "source": [
    "data = pd.read_csv('../app/data/wrangled_data.csv')\n",
    "# 2.2.1 Inspect Table\n",
    "data.info(memory_usage='deep')\n",
    "data.head()"
   ]
  },
  {
   "cell_type": "markdown",
   "id": "0467dba6",
   "metadata": {},
   "source": [
    "From the info table I can see that the only missing values are for the Salary target feature.However, for duplicates it would 'seem' that almost all of my data is duplicated.\\\n",
    "It appears this way because an absolutely distinguishing feature has been removed, the url. That's what these duplicates are, individual records for multiple openings (records/observations,singular data). How this affects NLP and ML will be part of the ongoing discovery process."
   ]
  },
  {
   "cell_type": "code",
   "execution_count": 3,
   "id": "5eb7ef80",
   "metadata": {},
   "outputs": [
    {
     "name": "stdout",
     "output_type": "stream",
     "text": [
      "['online technical services' 'west cap' 'maya ai inc.' 'emergetech, inc'\n",
      " 'recurrent' 'fractal.ai' 'techtrueup' 'eab' 'ford motor company' 'redfin']\n"
     ]
    }
   ],
   "source": [
    "print(data.company.unique()[:10])"
   ]
  },
  {
   "cell_type": "code",
   "execution_count": 4,
   "id": "2e4d094f",
   "metadata": {},
   "outputs": [
    {
     "data": {
      "text/html": [
       "<div>\n",
       "<style scoped>\n",
       "    .dataframe tbody tr th:only-of-type {\n",
       "        vertical-align: middle;\n",
       "    }\n",
       "\n",
       "    .dataframe tbody tr th {\n",
       "        vertical-align: top;\n",
       "    }\n",
       "\n",
       "    .dataframe thead th {\n",
       "        text-align: right;\n",
       "    }\n",
       "</style>\n",
       "<table border=\"1\" class=\"dataframe\">\n",
       "  <thead>\n",
       "    <tr style=\"text-align: right;\">\n",
       "      <th></th>\n",
       "      <th>company</th>\n",
       "      <th>description</th>\n",
       "      <th>location</th>\n",
       "      <th>rating</th>\n",
       "      <th>requirements</th>\n",
       "      <th>summary</th>\n",
       "      <th>job_title</th>\n",
       "      <th>url</th>\n",
       "      <th>text</th>\n",
       "      <th>salary</th>\n",
       "      <th>dateposted</th>\n",
       "      <th>state</th>\n",
       "      <th>city</th>\n",
       "    </tr>\n",
       "  </thead>\n",
       "  <tbody>\n",
       "    <tr>\n",
       "      <th>count</th>\n",
       "      <td>1510</td>\n",
       "      <td>1510</td>\n",
       "      <td>1510</td>\n",
       "      <td>1510.000000</td>\n",
       "      <td>187</td>\n",
       "      <td>1510</td>\n",
       "      <td>1510</td>\n",
       "      <td>1510</td>\n",
       "      <td>1510</td>\n",
       "      <td>1124.000000</td>\n",
       "      <td>1510</td>\n",
       "      <td>1510</td>\n",
       "      <td>1510</td>\n",
       "    </tr>\n",
       "    <tr>\n",
       "      <th>unique</th>\n",
       "      <td>96</td>\n",
       "      <td>118</td>\n",
       "      <td>82</td>\n",
       "      <td>NaN</td>\n",
       "      <td>10</td>\n",
       "      <td>164</td>\n",
       "      <td>87</td>\n",
       "      <td>297</td>\n",
       "      <td>172</td>\n",
       "      <td>NaN</td>\n",
       "      <td>7</td>\n",
       "      <td>30</td>\n",
       "      <td>51</td>\n",
       "    </tr>\n",
       "    <tr>\n",
       "      <th>top</th>\n",
       "      <td>sparkcognition</td>\n",
       "      <td>we are currently seeking a senior data scienti...</td>\n",
       "      <td>remote</td>\n",
       "      <td>NaN</td>\n",
       "      <td>master's (preferred)python: 3 years (preferred...</td>\n",
       "      <td>mentor and grow other software engineers, data...</td>\n",
       "      <td>data scientist</td>\n",
       "      <td>https://www.indeed.com/company/nThrive/jobs/Le...</td>\n",
       "      <td>we are currently seeking a senior data scienti...</td>\n",
       "      <td>NaN</td>\n",
       "      <td>2022-04-16</td>\n",
       "      <td>remote</td>\n",
       "      <td>remote</td>\n",
       "    </tr>\n",
       "    <tr>\n",
       "      <th>freq</th>\n",
       "      <td>80</td>\n",
       "      <td>69</td>\n",
       "      <td>386</td>\n",
       "      <td>NaN</td>\n",
       "      <td>39</td>\n",
       "      <td>68</td>\n",
       "      <td>348</td>\n",
       "      <td>39</td>\n",
       "      <td>68</td>\n",
       "      <td>NaN</td>\n",
       "      <td>376</td>\n",
       "      <td>386</td>\n",
       "      <td>386</td>\n",
       "    </tr>\n",
       "    <tr>\n",
       "      <th>mean</th>\n",
       "      <td>NaN</td>\n",
       "      <td>NaN</td>\n",
       "      <td>NaN</td>\n",
       "      <td>2.518079</td>\n",
       "      <td>NaN</td>\n",
       "      <td>NaN</td>\n",
       "      <td>NaN</td>\n",
       "      <td>NaN</td>\n",
       "      <td>NaN</td>\n",
       "      <td>127310.498221</td>\n",
       "      <td>NaN</td>\n",
       "      <td>NaN</td>\n",
       "      <td>NaN</td>\n",
       "    </tr>\n",
       "    <tr>\n",
       "      <th>std</th>\n",
       "      <td>NaN</td>\n",
       "      <td>NaN</td>\n",
       "      <td>NaN</td>\n",
       "      <td>1.781585</td>\n",
       "      <td>NaN</td>\n",
       "      <td>NaN</td>\n",
       "      <td>NaN</td>\n",
       "      <td>NaN</td>\n",
       "      <td>NaN</td>\n",
       "      <td>33753.818241</td>\n",
       "      <td>NaN</td>\n",
       "      <td>NaN</td>\n",
       "      <td>NaN</td>\n",
       "    </tr>\n",
       "    <tr>\n",
       "      <th>min</th>\n",
       "      <td>NaN</td>\n",
       "      <td>NaN</td>\n",
       "      <td>NaN</td>\n",
       "      <td>0.000000</td>\n",
       "      <td>NaN</td>\n",
       "      <td>NaN</td>\n",
       "      <td>NaN</td>\n",
       "      <td>NaN</td>\n",
       "      <td>NaN</td>\n",
       "      <td>54000.000000</td>\n",
       "      <td>NaN</td>\n",
       "      <td>NaN</td>\n",
       "      <td>NaN</td>\n",
       "    </tr>\n",
       "    <tr>\n",
       "      <th>25%</th>\n",
       "      <td>NaN</td>\n",
       "      <td>NaN</td>\n",
       "      <td>NaN</td>\n",
       "      <td>0.000000</td>\n",
       "      <td>NaN</td>\n",
       "      <td>NaN</td>\n",
       "      <td>NaN</td>\n",
       "      <td>NaN</td>\n",
       "      <td>NaN</td>\n",
       "      <td>104000.000000</td>\n",
       "      <td>NaN</td>\n",
       "      <td>NaN</td>\n",
       "      <td>NaN</td>\n",
       "    </tr>\n",
       "    <tr>\n",
       "      <th>50%</th>\n",
       "      <td>NaN</td>\n",
       "      <td>NaN</td>\n",
       "      <td>NaN</td>\n",
       "      <td>3.500000</td>\n",
       "      <td>NaN</td>\n",
       "      <td>NaN</td>\n",
       "      <td>NaN</td>\n",
       "      <td>NaN</td>\n",
       "      <td>NaN</td>\n",
       "      <td>130000.000000</td>\n",
       "      <td>NaN</td>\n",
       "      <td>NaN</td>\n",
       "      <td>NaN</td>\n",
       "    </tr>\n",
       "    <tr>\n",
       "      <th>75%</th>\n",
       "      <td>NaN</td>\n",
       "      <td>NaN</td>\n",
       "      <td>NaN</td>\n",
       "      <td>3.900000</td>\n",
       "      <td>NaN</td>\n",
       "      <td>NaN</td>\n",
       "      <td>NaN</td>\n",
       "      <td>NaN</td>\n",
       "      <td>NaN</td>\n",
       "      <td>148000.000000</td>\n",
       "      <td>NaN</td>\n",
       "      <td>NaN</td>\n",
       "      <td>NaN</td>\n",
       "    </tr>\n",
       "    <tr>\n",
       "      <th>max</th>\n",
       "      <td>NaN</td>\n",
       "      <td>NaN</td>\n",
       "      <td>NaN</td>\n",
       "      <td>5.000000</td>\n",
       "      <td>NaN</td>\n",
       "      <td>NaN</td>\n",
       "      <td>NaN</td>\n",
       "      <td>NaN</td>\n",
       "      <td>NaN</td>\n",
       "      <td>208000.000000</td>\n",
       "      <td>NaN</td>\n",
       "      <td>NaN</td>\n",
       "      <td>NaN</td>\n",
       "    </tr>\n",
       "  </tbody>\n",
       "</table>\n",
       "</div>"
      ],
      "text/plain": [
       "               company                                        description  \\\n",
       "count             1510                                               1510   \n",
       "unique              96                                                118   \n",
       "top     sparkcognition  we are currently seeking a senior data scienti...   \n",
       "freq                80                                                 69   \n",
       "mean               NaN                                                NaN   \n",
       "std                NaN                                                NaN   \n",
       "min                NaN                                                NaN   \n",
       "25%                NaN                                                NaN   \n",
       "50%                NaN                                                NaN   \n",
       "75%                NaN                                                NaN   \n",
       "max                NaN                                                NaN   \n",
       "\n",
       "       location       rating  \\\n",
       "count      1510  1510.000000   \n",
       "unique       82          NaN   \n",
       "top      remote          NaN   \n",
       "freq        386          NaN   \n",
       "mean        NaN     2.518079   \n",
       "std         NaN     1.781585   \n",
       "min         NaN     0.000000   \n",
       "25%         NaN     0.000000   \n",
       "50%         NaN     3.500000   \n",
       "75%         NaN     3.900000   \n",
       "max         NaN     5.000000   \n",
       "\n",
       "                                             requirements  \\\n",
       "count                                                 187   \n",
       "unique                                                 10   \n",
       "top     master's (preferred)python: 3 years (preferred...   \n",
       "freq                                                   39   \n",
       "mean                                                  NaN   \n",
       "std                                                   NaN   \n",
       "min                                                   NaN   \n",
       "25%                                                   NaN   \n",
       "50%                                                   NaN   \n",
       "75%                                                   NaN   \n",
       "max                                                   NaN   \n",
       "\n",
       "                                                  summary       job_title  \\\n",
       "count                                                1510            1510   \n",
       "unique                                                164              87   \n",
       "top     mentor and grow other software engineers, data...  data scientist   \n",
       "freq                                                   68             348   \n",
       "mean                                                  NaN             NaN   \n",
       "std                                                   NaN             NaN   \n",
       "min                                                   NaN             NaN   \n",
       "25%                                                   NaN             NaN   \n",
       "50%                                                   NaN             NaN   \n",
       "75%                                                   NaN             NaN   \n",
       "max                                                   NaN             NaN   \n",
       "\n",
       "                                                      url  \\\n",
       "count                                                1510   \n",
       "unique                                                297   \n",
       "top     https://www.indeed.com/company/nThrive/jobs/Le...   \n",
       "freq                                                   39   \n",
       "mean                                                  NaN   \n",
       "std                                                   NaN   \n",
       "min                                                   NaN   \n",
       "25%                                                   NaN   \n",
       "50%                                                   NaN   \n",
       "75%                                                   NaN   \n",
       "max                                                   NaN   \n",
       "\n",
       "                                                     text         salary  \\\n",
       "count                                                1510    1124.000000   \n",
       "unique                                                172            NaN   \n",
       "top     we are currently seeking a senior data scienti...            NaN   \n",
       "freq                                                   68            NaN   \n",
       "mean                                                  NaN  127310.498221   \n",
       "std                                                   NaN   33753.818241   \n",
       "min                                                   NaN   54000.000000   \n",
       "25%                                                   NaN  104000.000000   \n",
       "50%                                                   NaN  130000.000000   \n",
       "75%                                                   NaN  148000.000000   \n",
       "max                                                   NaN  208000.000000   \n",
       "\n",
       "        dateposted   state    city  \n",
       "count         1510    1510    1510  \n",
       "unique           7      30      51  \n",
       "top     2022-04-16  remote  remote  \n",
       "freq           376     386     386  \n",
       "mean           NaN     NaN     NaN  \n",
       "std            NaN     NaN     NaN  \n",
       "min            NaN     NaN     NaN  \n",
       "25%            NaN     NaN     NaN  \n",
       "50%            NaN     NaN     NaN  \n",
       "75%            NaN     NaN     NaN  \n",
       "max            NaN     NaN     NaN  "
      ]
     },
     "execution_count": 4,
     "metadata": {},
     "output_type": "execute_result"
    }
   ],
   "source": [
    "data.describe(include='all')"
   ]
  },
  {
   "cell_type": "code",
   "execution_count": 5,
   "id": "de88eba1",
   "metadata": {},
   "outputs": [
    {
     "data": {
      "text/plain": [
       "129.0"
      ]
     },
     "execution_count": 5,
     "metadata": {},
     "output_type": "execute_result"
    }
   ],
   "source": [
    "(114 + 144)/2"
   ]
  },
  {
   "cell_type": "markdown",
   "id": "90be7b9e",
   "metadata": {},
   "source": [
    "### 2.2 Univariate Feature Analysis & Centering\n",
    "I'm going to employ visual and statistical methods to analyze each feature, starting with the target, and outside of scaling, prepare them for logistic regression which will require that each feature's vaues are normally distributes.\n"
   ]
  },
  {
   "cell_type": "markdown",
   "id": "7af69cd1",
   "metadata": {},
   "source": [
    "### 2.2a Target"
   ]
  },
  {
   "cell_type": "code",
   "execution_count": 6,
   "id": "feddc46a",
   "metadata": {},
   "outputs": [],
   "source": [
    "col = 'salary'\n",
    "eda_data = data[data[col]>1]"
   ]
  },
  {
   "cell_type": "markdown",
   "id": "61a81680",
   "metadata": {},
   "source": [
    "### Detecting Outliers: Using both the Z-Score and IQR methods\n",
    "Now that preprocessed the data and building the target variable of Salary let's see conduct a bit more EDA to see if there are any outliers that could potentially skew how the regressor will learn from the training data."
   ]
  },
  {
   "cell_type": "markdown",
   "id": "ad986c43",
   "metadata": {},
   "source": [
    "To explore the possibility of outliers I'll start with a box and whisker plot. Those whisters reach 1.5 times past the IQR boundary on either side, and are generally provide a good means of identifying outliers - values beyond the boundaries."
   ]
  },
  {
   "cell_type": "code",
   "execution_count": 7,
   "id": "c1525374",
   "metadata": {},
   "outputs": [
    {
     "data": {
      "image/png": "[encoded data removed]",
      "text/plain": [
       "<Figure size 432x288 with 1 Axes>"
      ]
     },
     "metadata": {
      "needs_background": "light"
     },
     "output_type": "display_data"
    }
   ],
   "source": [
    "sns.boxplot(data=eda_data, x='salary')\n",
    "plt.xticks(rotation=30)\n",
    "plt.show()"
   ]
  },
  {
   "cell_type": "markdown",
   "id": "de93d012",
   "metadata": {},
   "source": [
    "To observe the impact this has on the target's shape I'll employ a KDE plot."
   ]
  },
  {
   "cell_type": "code",
   "execution_count": 8,
   "id": "93ee5f72",
   "metadata": {},
   "outputs": [
    {
     "data": {
      "image/png": "[encoded data removed]",
      "text/plain": [
       "<Figure size 432x288 with 1 Axes>"
      ]
     },
     "metadata": {
      "needs_background": "light"
     },
     "output_type": "display_data"
    }
   ],
   "source": [
    "sns.kdeplot(eda_data.salary, shade=True)\n",
    "plt.show()"
   ]
  },
  {
   "cell_type": "markdown",
   "id": "b6afc3b1",
   "metadata": {},
   "source": [
    "A plot is helpful in isualizing data, but let's program a few functions to detect and remove outliers based on thresholds.\n",
    "With the Z-Score, we can determine any data outside 3 standard deviations from the mean of our salary data to be an outlier.\n",
    "Wheras with the interquartile (IQR) range, the middle 50% of given salaries, I'll set the conventional cutoff of 1.5+/- the IQR as the cutoff.\n",
    "Values found outside of either range will be collected into a list and that'll allow for some fancy indexing so those particular postings can be examined and removed programatically."
   ]
  },
  {
   "cell_type": "markdown",
   "id": "4812e5e2",
   "metadata": {},
   "source": [
    "#### Z-Score\n",
    "Salaries 3 standard deviations away from the mean will be listed as outliers.\\\n",
    "Here we can see that there are five records with salary values outside the Z-score threshold."
   ]
  },
  {
   "cell_type": "code",
   "execution_count": 9,
   "id": "3a366805",
   "metadata": {},
   "outputs": [],
   "source": [
    "outliers = []\n",
    "def z_detect(data):\n",
    "    sample = data[data['salary'].notnull()].salary\n",
    "    threshold=3\n",
    "    mean = np.mean(sample)\n",
    "    std = np.std(sample)\n",
    "    \n",
    "    for i in sample:\n",
    "        z_score = (i-mean)/std\n",
    "        if np.abs(z_score) > threshold:\n",
    "            outliers.append(i)\n",
    "    if len(outliers) == 0:\n",
    "        pass\n",
    "    else:\n",
    "        return outliers\n",
    "z_detect(data)"
   ]
  },
  {
   "cell_type": "markdown",
   "id": "dcd3d6ee",
   "metadata": {},
   "source": [
    "#### IQR\n",
    "Salaries outside 1.5 times the interquartile range boundaries, either above or below will be listed as outliers.\\\n",
    "Here, I clearly demarcate the quartiles as well as the uppet and lower boundaries. Before removing these outliers let's take a look."
   ]
  },
  {
   "cell_type": "code",
   "execution_count": 10,
   "id": "1b0a0268",
   "metadata": {},
   "outputs": [
    {
     "data": {
      "image/png": "[encoded data removed]",
      "text/plain": [
       "<Figure size 360x360 with 1 Axes>"
      ]
     },
     "metadata": {
      "needs_background": "light"
     },
     "output_type": "display_data"
    }
   ],
   "source": [
    "q1 = np.quantile(eda_data.salary, 0.25)\n",
    "q2 = np.quantile(eda_data.salary, 0.5)\n",
    "q3 = np.quantile(eda_data.salary, 0.75)\n",
    "\n",
    "# calc iqr\n",
    "iqr = (q3 - q1)\n",
    "# expand iqr to discern outliers\n",
    "iqr_x = iqr*1.5\n",
    "\n",
    "# setting the lower and upper limits\n",
    "iqr_lower = q1-iqr_x\n",
    "iqr_upper = q3+iqr_x\n",
    "\n",
    "\n",
    "sns.displot(eda_data.salary)\n",
    "plt.axvline(x=q1, label=\"Q1\", c = 'g')\n",
    "plt.axvline(x=q2, label=\"Q2\", c = '#fd4d3f')\n",
    "plt.axvline(x=q3, label=\"Q3\", c = 'r')\n",
    "\n",
    "plt.axvline(x=iqr_lower, label = 'IQR Lower', c = 'black')\n",
    "plt.axvline(x=iqr_upper, label = 'IQR Upper', c = 'black')\n",
    "plt.xticks(rotation=30)\n",
    "plt.legend()\n",
    "plt.show()"
   ]
  },
  {
   "cell_type": "markdown",
   "id": "7f12b184",
   "metadata": {},
   "source": [
    "There aren't any outliers beyond the lower bound for either test so let's take a look at what's above the IQR threshold.\\\n",
    "While not guarenteed, its a good thing that both tests seem to identify the same five records, the salary values match."
   ]
  },
  {
   "cell_type": "code",
   "execution_count": 11,
   "id": "1dc51937",
   "metadata": {},
   "outputs": [
    {
     "data": {
      "text/html": [
       "<div>\n",
       "<style scoped>\n",
       "    .dataframe tbody tr th:only-of-type {\n",
       "        vertical-align: middle;\n",
       "    }\n",
       "\n",
       "    .dataframe tbody tr th {\n",
       "        vertical-align: top;\n",
       "    }\n",
       "\n",
       "    .dataframe thead th {\n",
       "        text-align: right;\n",
       "    }\n",
       "</style>\n",
       "<table border=\"1\" class=\"dataframe\">\n",
       "  <thead>\n",
       "    <tr style=\"text-align: right;\">\n",
       "      <th></th>\n",
       "      <th>company</th>\n",
       "      <th>description</th>\n",
       "      <th>location</th>\n",
       "      <th>rating</th>\n",
       "      <th>requirements</th>\n",
       "      <th>summary</th>\n",
       "      <th>job_title</th>\n",
       "      <th>url</th>\n",
       "      <th>text</th>\n",
       "      <th>salary</th>\n",
       "      <th>dateposted</th>\n",
       "      <th>state</th>\n",
       "      <th>city</th>\n",
       "    </tr>\n",
       "  </thead>\n",
       "  <tbody>\n",
       "  </tbody>\n",
       "</table>\n",
       "</div>"
      ],
      "text/plain": [
       "Empty DataFrame\n",
       "Columns: [company, description, location, rating, requirements, summary, job_title, url, text, salary, dateposted, state, city]\n",
       "Index: []"
      ]
     },
     "execution_count": 11,
     "metadata": {},
     "output_type": "execute_result"
    }
   ],
   "source": [
    "data[data.salary > iqr_upper]"
   ]
  },
  {
   "cell_type": "markdown",
   "id": "938da817",
   "metadata": {},
   "source": [
    "Trimming the data, while showing the number of records were starting with and how many remain after removing the outliers viewed above."
   ]
  },
  {
   "cell_type": "code",
   "execution_count": 12,
   "id": "202d93a7",
   "metadata": {},
   "outputs": [
    {
     "name": "stdout",
     "output_type": "stream",
     "text": [
      "1510\n",
      "1510\n"
     ]
    }
   ],
   "source": [
    "print(len(data))\n",
    "data1 = data[data.salary <= iqr_upper]\n",
    "data2 = data[data.salary.isnull()]\n",
    "data = pd.concat([data1,data2])\n",
    "print(len(data))\n",
    "eda_data = data[data[col]>1]"
   ]
  },
  {
   "cell_type": "code",
   "execution_count": 13,
   "id": "3510b8ca",
   "metadata": {},
   "outputs": [
    {
     "data": {
      "image/png": "[encoded data removed]",
      "text/plain": [
       "<Figure size 360x360 with 1 Axes>"
      ]
     },
     "metadata": {
      "needs_background": "light"
     },
     "output_type": "display_data"
    }
   ],
   "source": [
    "q1 = np.quantile(eda_data.salary, 0.25)\n",
    "q2 = np.quantile(eda_data.salary, 0.5)\n",
    "q3 = np.quantile(eda_data.salary, 0.75)\n",
    "\n",
    "# calc iqr\n",
    "iqr = (q3 - q1)\n",
    "# expand iqr to discern outliers\n",
    "iqr_x = iqr*1.5\n",
    "\n",
    "# setting the lower and upper limits\n",
    "iqr_lower = q1-iqr_x\n",
    "iqr_upper = q3+iqr_x\n",
    "\n",
    "\n",
    "sns.displot(eda_data.salary)\n",
    "plt.axvline(x=q1, label=\"Q1\", c = 'g')\n",
    "plt.axvline(x=q2, label=\"Q2\", c = '#fd4d3f')\n",
    "plt.axvline(x=q3, label=\"Q3\", c = 'r')\n",
    "\n",
    "plt.axvline(x=iqr_lower, label = 'IQR Lower', c = 'black')\n",
    "plt.axvline(x=iqr_upper, label = 'IQR Upper', c = 'black')\n",
    "plt.legend()\n",
    "plt.xticks(rotation=30)\n",
    "plt.show()"
   ]
  },
  {
   "cell_type": "markdown",
   "id": "4f625b04",
   "metadata": {},
   "source": [
    "Excellent, everything falls within the boundaries. While there are a number of reccords off in the high end, neither test detects them as outliers, let's check with a box and whisker plot though."
   ]
  },
  {
   "cell_type": "code",
   "execution_count": 14,
   "id": "c97d325f",
   "metadata": {},
   "outputs": [
    {
     "data": {
      "image/png": "[encoded data removed]",
      "text/plain": [
       "<Figure size 432x288 with 1 Axes>"
      ]
     },
     "metadata": {
      "needs_background": "light"
     },
     "output_type": "display_data"
    }
   ],
   "source": [
    "sns.boxplot(data=data, x='salary')\n",
    "plt.xticks(rotation=30)\n",
    "plt.show()"
   ]
  },
  {
   "cell_type": "markdown",
   "id": "239f9318",
   "metadata": {},
   "source": [
    "Modality might be an issue but it's something I can come back and fine tune later."
   ]
  },
  {
   "cell_type": "code",
   "execution_count": 15,
   "id": "81ec7524",
   "metadata": {},
   "outputs": [
    {
     "data": {
      "image/png": "[encoded data removed]",
      "text/plain": [
       "<Figure size 432x288 with 1 Axes>"
      ]
     },
     "metadata": {
      "needs_background": "light"
     },
     "output_type": "display_data"
    }
   ],
   "source": [
    "#TODO check on this modality.\n",
    "sns.kdeplot(eda_data.salary, shade=True)\n",
    "plt.xticks(rotation=30)\n",
    "plt.show()"
   ]
  },
  {
   "cell_type": "code",
   "execution_count": 16,
   "id": "26be0709",
   "metadata": {},
   "outputs": [
    {
     "data": {
      "image/png": "[encoded data removed]",
      "text/plain": [
       "<Figure size 1296x288 with 1 Axes>"
      ]
     },
     "metadata": {
      "needs_background": "light"
     },
     "output_type": "display_data"
    }
   ],
   "source": [
    "ax = sns.pairplot(data=data[data.salary.notnull()],\n",
    "                  x_vars=['dateposted'],\n",
    "                  y_vars=['salary'], height=8, hue=\"salary\", palette=\"crest\")\n",
    "\n",
    "ax.fig.set_size_inches(18,4)"
   ]
  },
  {
   "cell_type": "code",
   "execution_count": 17,
   "id": "ecb6cc2b",
   "metadata": {},
   "outputs": [
    {
     "data": {
      "image/png": "[encoded data removed]",
      "text/plain": [
       "<Figure size 432x288 with 1 Axes>"
      ]
     },
     "metadata": {
      "needs_background": "light"
     },
     "output_type": "display_data"
    }
   ],
   "source": [
    "sns.countplot(x='salary', data=data.notnull(), palette='Set3')\n",
    "plt.show()\n"
   ]
  },
  {
   "cell_type": "code",
   "execution_count": 18,
   "id": "ee48a67d",
   "metadata": {},
   "outputs": [
    {
     "name": "stdout",
     "output_type": "stream",
     "text": [
      "74.44% of the data has salary information, should be an easy target\n"
     ]
    }
   ],
   "source": [
    "null = len(data[data.salary.isnull()])\n",
    "nnull = len(data[data.salary.notnull()])\n",
    "print(f'{round(nnull/len(data)*100,2)}% of the data has salary information, should be an easy target')"
   ]
  },
  {
   "cell_type": "code",
   "execution_count": 19,
   "id": "7c1cd106",
   "metadata": {},
   "outputs": [
    {
     "data": {
      "image/png": "[encoded data removed]",
      "text/plain": [
       "<Figure size 432x288 with 1 Axes>"
      ]
     },
     "metadata": {
      "needs_background": "light"
     },
     "output_type": "display_data"
    }
   ],
   "source": [
    "sns.histplot(data,x='salary',bins=100)\n",
    "plt.xticks(rotation=30)\n",
    "plt.show()"
   ]
  },
  {
   "cell_type": "code",
   "execution_count": 20,
   "id": "4cb0c233",
   "metadata": {},
   "outputs": [
    {
     "data": {
      "image/png": "[encoded data removed]",
      "text/plain": [
       "<Figure size 432x288 with 1 Axes>"
      ]
     },
     "metadata": {
      "needs_background": "light"
     },
     "output_type": "display_data"
    }
   ],
   "source": [
    "sns.violinplot(x=\"salary\", data=data)\n",
    "plt.xticks(rotation=30)\n",
    "plt.show()"
   ]
  },
  {
   "cell_type": "code",
   "execution_count": 21,
   "id": "409ded67",
   "metadata": {},
   "outputs": [],
   "source": [
    "def Q(row):\n",
    "    \"\"\"Subtracts the distance (in days) provided by the postD function.\n",
    "    Args:\n",
    "        row (record in the data): record\n",
    "\n",
    "    Returns:\n",
    "        datetime object: extract date - relative age = actual post date\n",
    "    \"\"\"\n",
    "\n",
    "    salary = row['salary']\n",
    "    if salary < q1:\n",
    "        return 1\n",
    "    if (salary >= q1) & (salary < q2):\n",
    "        return 2\n",
    "    if (salary >= q2) & (salary < q3):\n",
    "        return 3\n",
    "    if salary >= q3:\n",
    "        return 4\n",
    "    else:\n",
    "        return np.nan\n",
    "\n",
    "\n",
    "data['target'] = data.apply( lambda row : Q(row), axis = 1)"
   ]
  },
  {
   "cell_type": "markdown",
   "id": "4e175c84",
   "metadata": {},
   "source": [
    "A new target variable has been created and its values are nan, 1, 2, 3, and 4 - representing the unknown set, and four labels for the taget."
   ]
  },
  {
   "cell_type": "code",
   "execution_count": 22,
   "id": "396b3d1b",
   "metadata": {},
   "outputs": [
    {
     "data": {
      "image/png": "[encoded data removed]",
      "text/plain": [
       "<Figure size 360x360 with 1 Axes>"
      ]
     },
     "metadata": {
      "needs_background": "light"
     },
     "output_type": "display_data"
    }
   ],
   "source": [
    "g = sns.catplot(x=\"target\", y=\"salary\", kind=\"violin\", inner=None, data=data)\n",
    "sns.swarmplot(x=\"target\", y=\"salary\", color=\"k\", size=2, data=data, ax=g.ax)\n",
    "\n",
    "plt.xticks(rotation=30)\n",
    "\n",
    "plt.show()"
   ]
  },
  {
   "cell_type": "code",
   "execution_count": 23,
   "id": "eacd7d7c",
   "metadata": {},
   "outputs": [
    {
     "data": {
      "text/plain": [
       "<AxesSubplot:xlabel='salary'>"
      ]
     },
     "execution_count": 23,
     "metadata": {},
     "output_type": "execute_result"
    },
    {
     "data": {
      "image/png": "[encoded data removed]",
      "text/plain": [
       "<Figure size 432x288 with 1 Axes>"
      ]
     },
     "metadata": {
      "needs_background": "light"
     },
     "output_type": "display_data"
    }
   ],
   "source": [
    "sns.boxplot(data=data[data.target == 4],x='salary')"
   ]
  },
  {
   "cell_type": "markdown",
   "id": "dffdcacd",
   "metadata": {},
   "source": [
    "And checking each target value for outliers"
   ]
  },
  {
   "cell_type": "code",
   "execution_count": 24,
   "id": "802e1695",
   "metadata": {},
   "outputs": [
    {
     "data": {
      "image/png": "[encoded data removed]",
      "text/plain": [
       "<Figure size 360x360 with 1 Axes>"
      ]
     },
     "metadata": {
      "needs_background": "light"
     },
     "output_type": "display_data"
    }
   ],
   "source": [
    "check = data[data.target == 4]\n",
    "q1 = np.quantile(check.salary, 0.25)\n",
    "q2 = np.quantile(check.salary, 0.5)\n",
    "q3 = np.quantile(check.salary, 0.75)\n",
    "\n",
    "# calc iqr\n",
    "iqr = (q3 - q1)\n",
    "# expand iqr to discern outliers\n",
    "iqr_x = iqr*1.5\n",
    "\n",
    "# setting the lower and upper limits\n",
    "iqr_lower = q1-iqr_x\n",
    "iqr_upper = q3+iqr_x\n",
    "\n",
    "\n",
    "sns.displot(check.salary)\n",
    "plt.axvline(x=q1, label=\"Q1\", c = 'g')\n",
    "plt.axvline(x=q2, label=\"Q2\", c = '#fd4d3f')\n",
    "plt.axvline(x=q3, label=\"Q3\", c = 'r')\n",
    "\n",
    "plt.axvline(x=iqr_lower, label = 'IQR Lower', c = 'black')\n",
    "plt.axvline(x=iqr_upper, label = 'IQR Upper', c = 'black')\n",
    "plt.legend()\n",
    "plt.xticks(rotation=30)\n",
    "plt.show()"
   ]
  },
  {
   "cell_type": "markdown",
   "id": "8250dca5",
   "metadata": {},
   "source": [
    "'company'\\\n",
    "There's presently 96 different companies - that's a ton of dimensions added to the data, and I've still got to add count vectorizer. I'll try label encoding these. In the future, shifting these into clusters might be useful.\\\n",
    "Other than that, this variable doesn't seem to need much - "
   ]
  },
  {
   "cell_type": "code",
   "execution_count": 25,
   "id": "85259555",
   "metadata": {},
   "outputs": [
    {
     "data": {
      "text/plain": [
       "sparkcognition                               80\n",
       "comcentric                                   69\n",
       "target                                       59\n",
       "etsy                                         52\n",
       "ericsson                                     50\n",
       "                                             ..\n",
       "claritas llc                                  1\n",
       "international consulting associates, inc.     1\n",
       "northrop grumman                              1\n",
       "aureus group                                  1\n",
       "liberty mutual insurance                      1\n",
       "Name: company, Length: 96, dtype: int64"
      ]
     },
     "execution_count": 25,
     "metadata": {},
     "output_type": "execute_result"
    }
   ],
   "source": [
    "data.company.value_counts()"
   ]
  },
  {
   "cell_type": "markdown",
   "id": "41f9618f",
   "metadata": {},
   "source": [
    "'rating'\\\n",
    "Roughly a third of the data is missing values for the company rating feature. At first I used np.fillna(0) to imput 0 for all the missing values but that sharply right-skewed the distribution towards zero.\\\n",
    "Then I checked is scaling the data would fix the bi-modality but I think I have two options here, drop all those records or drop a potentially valuable feature.\\\n",
    "For now, I'll drop the records, I can always get more, and in the future I could conduct linear regression to imput the values."
   ]
  },
  {
   "cell_type": "code",
   "execution_count": 26,
   "id": "746916a6",
   "metadata": {},
   "outputs": [
    {
     "data": {
      "image/png": "[encoded data removed]",
      "text/plain": [
       "<Figure size 432x288 with 1 Axes>"
      ]
     },
     "metadata": {
      "needs_background": "light"
     },
     "output_type": "display_data"
    }
   ],
   "source": [
    "#TODO imput the rating with a regressor.\n",
    "sns.histplot(data=data[data.target ==1], x='rating')\n",
    "plt.xticks(rotation=30)\n",
    "plt.show()"
   ]
  },
  {
   "cell_type": "code",
   "execution_count": 31,
   "id": "9a9f38ca",
   "metadata": {},
   "outputs": [
    {
     "data": {
      "image/png": "[encoded data removed]",
      "text/plain": [
       "<Figure size 432x288 with 1 Axes>"
      ]
     },
     "metadata": {
      "needs_background": "light"
     },
     "output_type": "display_data"
    }
   ],
   "source": [
    "scale = MinMaxScaler()\n",
    "scale = scale.fit_transform(pd.DataFrame(data['rating']))\n",
    "sns.distplot(scale)\n",
    "plt.show()"
   ]
  },
  {
   "cell_type": "code",
   "execution_count": 32,
   "id": "a29465af",
   "metadata": {},
   "outputs": [
    {
     "data": {
      "text/plain": [
       "1030"
      ]
     },
     "execution_count": 32,
     "metadata": {},
     "output_type": "execute_result"
    }
   ],
   "source": [
    "data = data[data.rating > 0]\n",
    "len(data)"
   ]
  },
  {
   "cell_type": "code",
   "execution_count": 33,
   "id": "f0445134",
   "metadata": {},
   "outputs": [
    {
     "data": {
      "image/png": "[encoded data removed]",
      "text/plain": [
       "<Figure size 432x288 with 1 Axes>"
      ]
     },
     "metadata": {
      "needs_background": "light"
     },
     "output_type": "display_data"
    }
   ],
   "source": [
    "sns.histplot(data=data[data.target ==1], x='rating')\n",
    "plt.xticks(rotation=30)\n",
    "plt.show()"
   ]
  },
  {
   "cell_type": "markdown",
   "id": "cfbce629",
   "metadata": {},
   "source": [
    "'job_title'\\\n",
    "Oddly enough, these number as many as company, I suspect multicolinearity. I'll come back to collapse these a bit and perhaps build a new feature for specializations out of these.\n",
    "To be label encoded and possibly clustered later."
   ]
  },
  {
   "cell_type": "code",
   "execution_count": 34,
   "id": "c5013ebe",
   "metadata": {},
   "outputs": [
    {
     "data": {
      "text/plain": [
       "data scientist                                                     149\n",
       "senior data scientist                                               79\n",
       "machine learning engineer                                           49\n",
       "associate data scientist                                            44\n",
       "senior data scientist - routing algorithm                           39\n",
       "                                                                  ... \n",
       "senior product manager- commerce                                     1\n",
       "data analyst, senior (aqh, office of the assistant secretary...      1\n",
       "client engineering data scientist (remote)                           1\n",
       "data engineer - amazon distribution and grocery innovation           1\n",
       "sr. principal / staff data scientist                                 1\n",
       "Name: job_title, Length: 69, dtype: int64"
      ]
     },
     "execution_count": 34,
     "metadata": {},
     "output_type": "execute_result"
    }
   ],
   "source": [
    "data.job_title.value_counts()"
   ]
  },
  {
   "cell_type": "markdown",
   "id": "437f4a3d",
   "metadata": {},
   "source": [
    "'dateposted'\n",
    "This isn't going into the pipelie, despite some interesting patterns, I don't think there's enough periodic/seasonality information available here. Still, great for visualizing the job market."
   ]
  },
  {
   "cell_type": "code",
   "execution_count": 35,
   "id": "42fadd94",
   "metadata": {},
   "outputs": [
    {
     "data": {
      "image/png": "[encoded data removed]",
      "text/plain": [
       "<Figure size 432x288 with 1 Axes>"
      ]
     },
     "metadata": {
      "needs_background": "light"
     },
     "output_type": "display_data"
    }
   ],
   "source": [
    "sns.lineplot(x=\"dateposted\", y=\"salary\", hue=\"target\", data=data)\n",
    "plt.xticks(rotation=30)\n",
    "plt.show()"
   ]
  },
  {
   "cell_type": "code",
   "execution_count": 36,
   "id": "c26dd2f0",
   "metadata": {},
   "outputs": [
    {
     "data": {
      "image/png": "[encoded data removed]",
      "text/plain": [
       "<Figure size 1296x288 with 1 Axes>"
      ]
     },
     "metadata": {
      "needs_background": "light"
     },
     "output_type": "display_data"
    }
   ],
   "source": [
    "ax = sns.pairplot(data=data,\n",
    "                  x_vars=['dateposted'],\n",
    "                  y_vars=['salary'], height=8, hue=\"target\", palette=\"crest\")\n",
    "\n",
    "ax.fig.set_size_inches(18,4)"
   ]
  },
  {
   "cell_type": "code",
   "execution_count": 37,
   "id": "b8e0d767",
   "metadata": {},
   "outputs": [
    {
     "data": {
      "text/plain": [
       "44"
      ]
     },
     "execution_count": 37,
     "metadata": {},
     "output_type": "execute_result"
    }
   ],
   "source": [
    "len(data.city.value_counts())"
   ]
  },
  {
   "cell_type": "code",
   "execution_count": 38,
   "id": "b74b535a",
   "metadata": {},
   "outputs": [
    {
     "data": {
      "text/plain": [
       "29"
      ]
     },
     "execution_count": 38,
     "metadata": {},
     "output_type": "execute_result"
    }
   ],
   "source": [
    "len(data.state.value_counts())"
   ]
  },
  {
   "cell_type": "markdown",
   "id": "3c65ae7e",
   "metadata": {},
   "source": [
    "## Feature Associations"
   ]
  },
  {
   "cell_type": "code",
   "execution_count": 39,
   "id": "d0ab7296",
   "metadata": {},
   "outputs": [],
   "source": [
    "data2 = data.drop('salary', axis=1)\n",
    "data2.dropna(inplace=True)"
   ]
  },
  {
   "cell_type": "code",
   "execution_count": 40,
   "id": "d8600564",
   "metadata": {},
   "outputs": [
    {
     "data": {
      "text/plain": [
       "[]"
      ]
     },
     "execution_count": 40,
     "metadata": {},
     "output_type": "execute_result"
    }
   ],
   "source": [
    "target = 'target'\n",
    "\n",
    "associated = []\n",
    "\n",
    "for i in data2.select_dtypes('number').columns:\n",
    "    if i == target:\n",
    "        continue\n",
    "    else:\n",
    "        pearson_cor, pval = pearsonr(data2[i],data2[target])\n",
    "\n",
    "    if pearson_cor > .3:\n",
    "        associated.append([i,pearson_cor])\n",
    "\n",
    "# Extracting column names of the dependent variables that passed the pearson correlation test of being at least .3\n",
    "num_cols = []\n",
    "for i in associated:\n",
    "    num_cols.append(i[0])\n",
    "num_cols"
   ]
  },
  {
   "cell_type": "markdown",
   "id": "b2bf4cf6",
   "metadata": {},
   "source": [
    "As anticipated, rating passes the pearson test."
   ]
  },
  {
   "cell_type": "code",
   "execution_count": 41,
   "id": "6228ff67",
   "metadata": {},
   "outputs": [
    {
     "data": {
      "text/html": [
       "<div>\n",
       "<style scoped>\n",
       "    .dataframe tbody tr th:only-of-type {\n",
       "        vertical-align: middle;\n",
       "    }\n",
       "\n",
       "    .dataframe tbody tr th {\n",
       "        vertical-align: top;\n",
       "    }\n",
       "\n",
       "    .dataframe thead th {\n",
       "        text-align: right;\n",
       "    }\n",
       "</style>\n",
       "<table border=\"1\" class=\"dataframe\">\n",
       "  <thead>\n",
       "    <tr style=\"text-align: right;\">\n",
       "      <th></th>\n",
       "      <th>feature</th>\n",
       "      <th>chi2 score</th>\n",
       "    </tr>\n",
       "  </thead>\n",
       "  <tbody>\n",
       "    <tr>\n",
       "      <th>1</th>\n",
       "      <td>description</td>\n",
       "      <td>2043.00</td>\n",
       "    </tr>\n",
       "    <tr>\n",
       "      <th>6</th>\n",
       "      <td>url</td>\n",
       "      <td>2043.00</td>\n",
       "    </tr>\n",
       "    <tr>\n",
       "      <th>7</th>\n",
       "      <td>text</td>\n",
       "      <td>2043.00</td>\n",
       "    </tr>\n",
       "    <tr>\n",
       "      <th>4</th>\n",
       "      <td>summary</td>\n",
       "      <td>1951.85</td>\n",
       "    </tr>\n",
       "    <tr>\n",
       "      <th>0</th>\n",
       "      <td>company</td>\n",
       "      <td>1757.75</td>\n",
       "    </tr>\n",
       "    <tr>\n",
       "      <th>5</th>\n",
       "      <td>job_title</td>\n",
       "      <td>1689.85</td>\n",
       "    </tr>\n",
       "    <tr>\n",
       "      <th>2</th>\n",
       "      <td>location</td>\n",
       "      <td>1326.30</td>\n",
       "    </tr>\n",
       "    <tr>\n",
       "      <th>10</th>\n",
       "      <td>city</td>\n",
       "      <td>1302.02</td>\n",
       "    </tr>\n",
       "    <tr>\n",
       "      <th>9</th>\n",
       "      <td>state</td>\n",
       "      <td>972.40</td>\n",
       "    </tr>\n",
       "    <tr>\n",
       "      <th>8</th>\n",
       "      <td>dateposted</td>\n",
       "      <td>221.34</td>\n",
       "    </tr>\n",
       "  </tbody>\n",
       "</table>\n",
       "</div>"
      ],
      "text/plain": [
       "        feature  chi2 score\n",
       "1   description     2043.00\n",
       "6           url     2043.00\n",
       "7          text     2043.00\n",
       "4       summary     1951.85\n",
       "0       company     1757.75\n",
       "5     job_title     1689.85\n",
       "2      location     1326.30\n",
       "10         city     1302.02\n",
       "9         state      972.40\n",
       "8    dateposted      221.34"
      ]
     },
     "execution_count": 41,
     "metadata": {},
     "output_type": "execute_result"
    }
   ],
   "source": [
    "\n",
    "#TODO complete this by collecting the most significant colinear features and possibl removing them.\n",
    "\n",
    "score_dictionary = {}\n",
    "for i in data.select_dtypes('object').columns:\n",
    "    feature = pd.crosstab(data[i], data[target])\n",
    "    # calculate the chi squared statistic and save it as chi2, then print it:\n",
    "    chi2, pval, dof, expected = chi2_contingency(feature)\n",
    "    score_dictionary[i] = round(chi2,2)\n",
    "score_df = pd.DataFrame(score_dictionary.items(), columns=['feature','chi2 score']).sort_values('chi2 score', ascending=False)\n",
    "score_df[:-1]"
   ]
  },
  {
   "cell_type": "markdown",
   "id": "25d6cb51",
   "metadata": {},
   "source": [
    "Greater variance betewwen values leads to higher scores, apparently. 'text' is next."
   ]
  },
  {
   "cell_type": "code",
   "execution_count": 42,
   "id": "110b49f0",
   "metadata": {},
   "outputs": [],
   "source": [
    "data[['company','job_title','text']] = data[['company','job_title','text']].astype(str)"
   ]
  },
  {
   "cell_type": "code",
   "execution_count": 43,
   "id": "c8f974d3",
   "metadata": {},
   "outputs": [
    {
     "name": "stdout",
     "output_type": "stream",
     "text": [
      "<class 'pandas.core.frame.DataFrame'>\n",
      "Int64Index: 1030 entries, 0 to 1506\n",
      "Data columns (total 14 columns):\n",
      " #   Column        Non-Null Count  Dtype  \n",
      "---  ------        --------------  -----  \n",
      " 0   company       1030 non-null   object \n",
      " 1   description   1030 non-null   object \n",
      " 2   location      1030 non-null   object \n",
      " 3   rating        1030 non-null   float64\n",
      " 4   requirements  104 non-null    object \n",
      " 5   summary       1030 non-null   object \n",
      " 6   job_title     1030 non-null   object \n",
      " 7   url           1030 non-null   object \n",
      " 8   text          1030 non-null   object \n",
      " 9   salary        681 non-null    float64\n",
      " 10  dateposted    1030 non-null   object \n",
      " 11  state         1030 non-null   object \n",
      " 12  city          1030 non-null   object \n",
      " 13  target        681 non-null    float64\n",
      "dtypes: float64(3), object(11)\n",
      "memory usage: 120.7+ KB\n"
     ]
    }
   ],
   "source": [
    "data.info()"
   ]
  },
  {
   "cell_type": "code",
   "execution_count": 44,
   "id": "cc82dda8",
   "metadata": {},
   "outputs": [],
   "source": [
    "data.to_csv(f'../app/data/processed_data.csv', index=False)"
   ]
  },
  {
   "cell_type": "code",
   "execution_count": null,
   "id": "4b600bd1",
   "metadata": {},
   "outputs": [],
   "source": []
  }
 ],
 "metadata": {
  "interpreter": {
   "hash": "ac83f05b37eb5c5c49ba67e50f0047ddfbc4b30205fc79ee5f327b9c0ac37f55"
  },
  "kernelspec": {
   "display_name": "Python [conda env:indeedapp]",
   "language": "python",
   "name": "python3"
  },
  "language_info": {
   "codemirror_mode": {
    "name": "ipython",
    "version": 3
   },
   "file_extension": ".py",
   "mimetype": "text/x-python",
   "name": "python",
   "nbconvert_exporter": "python",
   "pygments_lexer": "ipython3",
   "version": "3.8.10"
  }
 },
 "nbformat": 4,
 "nbformat_minor": 5
}
