{
 "cells": [
  {
   "cell_type": "code",
   "execution_count": 2,
   "id": "analyzed-adjustment",
   "metadata": {},
   "outputs": [],
   "source": [
    "import numpy as np\n",
    "import pandas as pd\n",
    "\n",
    "from sklearn import metrics\n",
    "from scipy.stats import pearsonr, chi2_contingency\n",
    "from sklearn.preprocessing import StandardScaler, MinMaxScaler\n",
    "\n",
    "\n",
    "\n",
    "import matplotlib.pyplot as plt\n",
    "from datetime import datetime, date, timedelta\n",
    "\n",
    "plt.rcParams['figure.figsize'] = (8, 8)\n",
    "plt.rcParams['font.size'] = 17\n",
    "\n",
    "import seaborn as sns\n",
    "import re\n",
    "import warnings # current version of seaborn generates a bunch of warnings that we'll ignore\n",
    "warnings.filterwarnings(\"ignore\")\n",
    "sns.set(style=\"ticks\", color_codes=True)\n",
    "%matplotlib inline"
   ]
  },
  {
   "cell_type": "markdown",
   "id": "4dbcbb5e",
   "metadata": {},
   "source": [
    "## 2. Preprocesing B\n",
    "### 2.1 Reinspect Data"
   ]
  },
  {
   "cell_type": "code",
   "execution_count": 3,
   "id": "3a8c3416",
   "metadata": {},
   "outputs": [
    {
     "name": "stdout",
     "output_type": "stream",
     "text": [
      "<class 'pandas.core.frame.DataFrame'>\n",
      "RangeIndex: 3821 entries, 0 to 3820\n",
      "Data columns (total 13 columns):\n",
      " #   Column        Non-Null Count  Dtype  \n",
      "---  ------        --------------  -----  \n",
      " 0   company       3821 non-null   object \n",
      " 1   description   3821 non-null   object \n",
      " 2   location      3821 non-null   object \n",
      " 3   rating        3821 non-null   float64\n",
      " 4   requirements  80 non-null     object \n",
      " 5   summary       3821 non-null   object \n",
      " 6   job_title     3821 non-null   object \n",
      " 7   url           3821 non-null   object \n",
      " 8   text          3821 non-null   object \n",
      " 9   salary        1650 non-null   float64\n",
      " 10  dateposted    3821 non-null   object \n",
      " 11  state         3821 non-null   object \n",
      " 12  city          3821 non-null   object \n",
      "dtypes: float64(2), object(11)\n",
      "memory usage: 64.3 MB\n"
     ]
    },
    {
     "data": {
      "text/html": [
       "<div>\n",
       "<style scoped>\n",
       "    .dataframe tbody tr th:only-of-type {\n",
       "        vertical-align: middle;\n",
       "    }\n",
       "\n",
       "    .dataframe tbody tr th {\n",
       "        vertical-align: top;\n",
       "    }\n",
       "\n",
       "    .dataframe thead th {\n",
       "        text-align: right;\n",
       "    }\n",
       "</style>\n",
       "<table border=\"1\" class=\"dataframe\">\n",
       "  <thead>\n",
       "    <tr style=\"text-align: right;\">\n",
       "      <th></th>\n",
       "      <th>company</th>\n",
       "      <th>description</th>\n",
       "      <th>location</th>\n",
       "      <th>rating</th>\n",
       "      <th>requirements</th>\n",
       "      <th>summary</th>\n",
       "      <th>job_title</th>\n",
       "      <th>url</th>\n",
       "      <th>text</th>\n",
       "      <th>salary</th>\n",
       "      <th>dateposted</th>\n",
       "      <th>state</th>\n",
       "      <th>city</th>\n",
       "    </tr>\n",
       "  </thead>\n",
       "  <tbody>\n",
       "    <tr>\n",
       "      <th>0</th>\n",
       "      <td>recruiting from scratch</td>\n",
       "      <td>who is recruiting from scratch: recruiting fro...</td>\n",
       "      <td>remote in huntsville, al</td>\n",
       "      <td>0.0</td>\n",
       "      <td>NaN</td>\n",
       "      <td>5+ years experience in data engineering or dat...</td>\n",
       "      <td>data scientist</td>\n",
       "      <td>https://www.indeed.com/rc/clk?jk=977d1ccb6d1a1...</td>\n",
       "      <td>who is recruiting from scratch: recruiting fro...</td>\n",
       "      <td>180000.0</td>\n",
       "      <td>2022-06-21</td>\n",
       "      <td>al</td>\n",
       "      <td>remote in huntsville</td>\n",
       "    </tr>\n",
       "    <tr>\n",
       "      <th>1</th>\n",
       "      <td>food management search</td>\n",
       "      <td>sr financial data analyst- fully remote - any ...</td>\n",
       "      <td>remote in united states</td>\n",
       "      <td>0.0</td>\n",
       "      <td>NaN</td>\n",
       "      <td>lead various allocation data analysis projects...</td>\n",
       "      <td>sr financial data analyst- fully remote</td>\n",
       "      <td>https://www.indeed.com/pagead/clk?mo=r&amp;ad=-6NY...</td>\n",
       "      <td>sr financial data analyst- fully remote - any ...</td>\n",
       "      <td>NaN</td>\n",
       "      <td>2022-06-21</td>\n",
       "      <td>remote in united states</td>\n",
       "      <td>remote in united states</td>\n",
       "    </tr>\n",
       "    <tr>\n",
       "      <th>2</th>\n",
       "      <td>gregor diagnostics</td>\n",
       "      <td>role: senior data scientistabout gregor diagno...</td>\n",
       "      <td>remote in united states</td>\n",
       "      <td>0.0</td>\n",
       "      <td>NaN</td>\n",
       "      <td>the senior data scientist will work closely la...</td>\n",
       "      <td>senior data scientist</td>\n",
       "      <td>https://www.indeed.com/pagead/clk?mo=r&amp;ad=-6NY...</td>\n",
       "      <td>role: senior data scientistabout gregor diagno...</td>\n",
       "      <td>NaN</td>\n",
       "      <td>2022-06-20</td>\n",
       "      <td>remote in united states</td>\n",
       "      <td>remote in united states</td>\n",
       "    </tr>\n",
       "    <tr>\n",
       "      <th>3</th>\n",
       "      <td>synergisticit</td>\n",
       "      <td>at synergisticit, we aim to bring aboard it ...</td>\n",
       "      <td>alabama</td>\n",
       "      <td>4.2</td>\n",
       "      <td>NaN</td>\n",
       "      <td>collaborate with dynamic teams of engineers, d...</td>\n",
       "      <td>entry level data scientist</td>\n",
       "      <td>https://www.indeed.com/rc/clk?jk=57d47b0524890...</td>\n",
       "      <td>at synergisticit, we aim to bring aboard it ...</td>\n",
       "      <td>88000.0</td>\n",
       "      <td>2022-06-20</td>\n",
       "      <td>alabama</td>\n",
       "      <td>alabama</td>\n",
       "    </tr>\n",
       "    <tr>\n",
       "      <th>4</th>\n",
       "      <td>9rooftops</td>\n",
       "      <td>we are hiring in multiple locations across the...</td>\n",
       "      <td>birmingham, al 35242</td>\n",
       "      <td>0.0</td>\n",
       "      <td>NaN</td>\n",
       "      <td>o communication skills to ask questions of cli...</td>\n",
       "      <td>statistician/data scientist</td>\n",
       "      <td>https://www.indeed.com/rc/clk?jk=e23726e90096e...</td>\n",
       "      <td>we are hiring in multiple locations across the...</td>\n",
       "      <td>124000.0</td>\n",
       "      <td>2022-06-20</td>\n",
       "      <td>al</td>\n",
       "      <td>birmingham</td>\n",
       "    </tr>\n",
       "  </tbody>\n",
       "</table>\n",
       "</div>"
      ],
      "text/plain": [
       "                   company                                        description  \\\n",
       "0  recruiting from scratch  who is recruiting from scratch: recruiting fro...   \n",
       "1   food management search  sr financial data analyst- fully remote - any ...   \n",
       "2       gregor diagnostics  role: senior data scientistabout gregor diagno...   \n",
       "3            synergisticit    at synergisticit, we aim to bring aboard it ...   \n",
       "4                9rooftops  we are hiring in multiple locations across the...   \n",
       "\n",
       "                   location  rating requirements  \\\n",
       "0  remote in huntsville, al     0.0          NaN   \n",
       "1   remote in united states     0.0          NaN   \n",
       "2   remote in united states     0.0          NaN   \n",
       "3                   alabama     4.2          NaN   \n",
       "4      birmingham, al 35242     0.0          NaN   \n",
       "\n",
       "                                             summary  \\\n",
       "0  5+ years experience in data engineering or dat...   \n",
       "1  lead various allocation data analysis projects...   \n",
       "2  the senior data scientist will work closely la...   \n",
       "3  collaborate with dynamic teams of engineers, d...   \n",
       "4  o communication skills to ask questions of cli...   \n",
       "\n",
       "                                 job_title  \\\n",
       "0                           data scientist   \n",
       "1  sr financial data analyst- fully remote   \n",
       "2                    senior data scientist   \n",
       "3               entry level data scientist   \n",
       "4              statistician/data scientist   \n",
       "\n",
       "                                                 url  \\\n",
       "0  https://www.indeed.com/rc/clk?jk=977d1ccb6d1a1...   \n",
       "1  https://www.indeed.com/pagead/clk?mo=r&ad=-6NY...   \n",
       "2  https://www.indeed.com/pagead/clk?mo=r&ad=-6NY...   \n",
       "3  https://www.indeed.com/rc/clk?jk=57d47b0524890...   \n",
       "4  https://www.indeed.com/rc/clk?jk=e23726e90096e...   \n",
       "\n",
       "                                                text    salary  dateposted  \\\n",
       "0  who is recruiting from scratch: recruiting fro...  180000.0  2022-06-21   \n",
       "1  sr financial data analyst- fully remote - any ...       NaN  2022-06-21   \n",
       "2  role: senior data scientistabout gregor diagno...       NaN  2022-06-20   \n",
       "3    at synergisticit, we aim to bring aboard it ...   88000.0  2022-06-20   \n",
       "4  we are hiring in multiple locations across the...  124000.0  2022-06-20   \n",
       "\n",
       "                     state                     city  \n",
       "0                       al     remote in huntsville  \n",
       "1  remote in united states  remote in united states  \n",
       "2  remote in united states  remote in united states  \n",
       "3                  alabama                  alabama  \n",
       "4                       al               birmingham  "
      ]
     },
     "execution_count": 3,
     "metadata": {},
     "output_type": "execute_result"
    }
   ],
   "source": [
    "data = pd.read_csv('../app/data/wrangled_data.csv')\n",
    "# 2.2.1 Inspect Table\n",
    "data.info(memory_usage='deep')\n",
    "data.head()"
   ]
  },
  {
   "cell_type": "markdown",
   "id": "0467dba6",
   "metadata": {},
   "source": [
    "From the info table I can see that the only missing values are for the Salary target feature. However, for duplicates it would 'seem' that almost all of my data is duplicated.\\\n",
    "It appears this way because an absolutely distinguishing feature has been removed, the url. That's what these duplicates are, individual records for multiple openings (records/observations,singular data). How this affects NLP and ML will be part of the ongoing discovery process."
   ]
  },
  {
   "cell_type": "code",
   "execution_count": 4,
   "id": "5eb7ef80",
   "metadata": {},
   "outputs": [
    {
     "name": "stdout",
     "output_type": "stream",
     "text": [
      "['recruiting from scratch' 'food management search' 'gregor diagnostics'\n",
      " 'synergisticit' '9rooftops' 'ierus technologies, inc.' 'usaa'\n",
      " 'emd electronics' 'aural analytics, inc' 'intersources inc.']\n"
     ]
    }
   ],
   "source": [
    "print(data.company.unique()[:10])"
   ]
  },
  {
   "cell_type": "code",
   "execution_count": 5,
   "id": "2e4d094f",
   "metadata": {},
   "outputs": [
    {
     "data": {
      "text/html": [
       "<div>\n",
       "<style scoped>\n",
       "    .dataframe tbody tr th:only-of-type {\n",
       "        vertical-align: middle;\n",
       "    }\n",
       "\n",
       "    .dataframe tbody tr th {\n",
       "        vertical-align: top;\n",
       "    }\n",
       "\n",
       "    .dataframe thead th {\n",
       "        text-align: right;\n",
       "    }\n",
       "</style>\n",
       "<table border=\"1\" class=\"dataframe\">\n",
       "  <thead>\n",
       "    <tr style=\"text-align: right;\">\n",
       "      <th></th>\n",
       "      <th>company</th>\n",
       "      <th>description</th>\n",
       "      <th>location</th>\n",
       "      <th>rating</th>\n",
       "      <th>requirements</th>\n",
       "      <th>summary</th>\n",
       "      <th>job_title</th>\n",
       "      <th>url</th>\n",
       "      <th>text</th>\n",
       "      <th>salary</th>\n",
       "      <th>dateposted</th>\n",
       "      <th>state</th>\n",
       "      <th>city</th>\n",
       "    </tr>\n",
       "  </thead>\n",
       "  <tbody>\n",
       "    <tr>\n",
       "      <th>count</th>\n",
       "      <td>3821</td>\n",
       "      <td>3821</td>\n",
       "      <td>3821</td>\n",
       "      <td>3821.000000</td>\n",
       "      <td>80</td>\n",
       "      <td>3821</td>\n",
       "      <td>3821</td>\n",
       "      <td>3821</td>\n",
       "      <td>3821</td>\n",
       "      <td>1650.000000</td>\n",
       "      <td>3821</td>\n",
       "      <td>3821</td>\n",
       "      <td>3821</td>\n",
       "    </tr>\n",
       "    <tr>\n",
       "      <th>unique</th>\n",
       "      <td>195</td>\n",
       "      <td>267</td>\n",
       "      <td>286</td>\n",
       "      <td>NaN</td>\n",
       "      <td>11</td>\n",
       "      <td>268</td>\n",
       "      <td>218</td>\n",
       "      <td>521</td>\n",
       "      <td>285</td>\n",
       "      <td>NaN</td>\n",
       "      <td>3</td>\n",
       "      <td>63</td>\n",
       "      <td>213</td>\n",
       "    </tr>\n",
       "    <tr>\n",
       "      <th>top</th>\n",
       "      <td>recruiting from scratch</td>\n",
       "      <td>who is recruiting from scratch: recruiting fro...</td>\n",
       "      <td>cambridge, ma</td>\n",
       "      <td>NaN</td>\n",
       "      <td>sql: 5 years (preferred)oracle: 5 years (prefe...</td>\n",
       "      <td>5+ years experience in data engineering or dat...</td>\n",
       "      <td>data scientist</td>\n",
       "      <td>https://www.indeed.com/rc/clk?jk=2dc6650fabad3...</td>\n",
       "      <td>who is recruiting from scratch: recruiting fro...</td>\n",
       "      <td>NaN</td>\n",
       "      <td>2022-06-22</td>\n",
       "      <td>ma</td>\n",
       "      <td>boston</td>\n",
       "    </tr>\n",
       "    <tr>\n",
       "      <th>freq</th>\n",
       "      <td>219</td>\n",
       "      <td>219</td>\n",
       "      <td>231</td>\n",
       "      <td>NaN</td>\n",
       "      <td>16</td>\n",
       "      <td>201</td>\n",
       "      <td>483</td>\n",
       "      <td>63</td>\n",
       "      <td>201</td>\n",
       "      <td>NaN</td>\n",
       "      <td>1836</td>\n",
       "      <td>927</td>\n",
       "      <td>267</td>\n",
       "    </tr>\n",
       "    <tr>\n",
       "      <th>mean</th>\n",
       "      <td>NaN</td>\n",
       "      <td>NaN</td>\n",
       "      <td>NaN</td>\n",
       "      <td>2.511463</td>\n",
       "      <td>NaN</td>\n",
       "      <td>NaN</td>\n",
       "      <td>NaN</td>\n",
       "      <td>NaN</td>\n",
       "      <td>NaN</td>\n",
       "      <td>124285.454545</td>\n",
       "      <td>NaN</td>\n",
       "      <td>NaN</td>\n",
       "      <td>NaN</td>\n",
       "    </tr>\n",
       "    <tr>\n",
       "      <th>std</th>\n",
       "      <td>NaN</td>\n",
       "      <td>NaN</td>\n",
       "      <td>NaN</td>\n",
       "      <td>1.815056</td>\n",
       "      <td>NaN</td>\n",
       "      <td>NaN</td>\n",
       "      <td>NaN</td>\n",
       "      <td>NaN</td>\n",
       "      <td>NaN</td>\n",
       "      <td>32181.871650</td>\n",
       "      <td>NaN</td>\n",
       "      <td>NaN</td>\n",
       "      <td>NaN</td>\n",
       "    </tr>\n",
       "    <tr>\n",
       "      <th>min</th>\n",
       "      <td>NaN</td>\n",
       "      <td>NaN</td>\n",
       "      <td>NaN</td>\n",
       "      <td>0.000000</td>\n",
       "      <td>NaN</td>\n",
       "      <td>NaN</td>\n",
       "      <td>NaN</td>\n",
       "      <td>NaN</td>\n",
       "      <td>NaN</td>\n",
       "      <td>55000.000000</td>\n",
       "      <td>NaN</td>\n",
       "      <td>NaN</td>\n",
       "      <td>NaN</td>\n",
       "    </tr>\n",
       "    <tr>\n",
       "      <th>25%</th>\n",
       "      <td>NaN</td>\n",
       "      <td>NaN</td>\n",
       "      <td>NaN</td>\n",
       "      <td>0.000000</td>\n",
       "      <td>NaN</td>\n",
       "      <td>NaN</td>\n",
       "      <td>NaN</td>\n",
       "      <td>NaN</td>\n",
       "      <td>NaN</td>\n",
       "      <td>102000.000000</td>\n",
       "      <td>NaN</td>\n",
       "      <td>NaN</td>\n",
       "      <td>NaN</td>\n",
       "    </tr>\n",
       "    <tr>\n",
       "      <th>50%</th>\n",
       "      <td>NaN</td>\n",
       "      <td>NaN</td>\n",
       "      <td>NaN</td>\n",
       "      <td>3.500000</td>\n",
       "      <td>NaN</td>\n",
       "      <td>NaN</td>\n",
       "      <td>NaN</td>\n",
       "      <td>NaN</td>\n",
       "      <td>NaN</td>\n",
       "      <td>120000.000000</td>\n",
       "      <td>NaN</td>\n",
       "      <td>NaN</td>\n",
       "      <td>NaN</td>\n",
       "    </tr>\n",
       "    <tr>\n",
       "      <th>75%</th>\n",
       "      <td>NaN</td>\n",
       "      <td>NaN</td>\n",
       "      <td>NaN</td>\n",
       "      <td>3.900000</td>\n",
       "      <td>NaN</td>\n",
       "      <td>NaN</td>\n",
       "      <td>NaN</td>\n",
       "      <td>NaN</td>\n",
       "      <td>NaN</td>\n",
       "      <td>142000.000000</td>\n",
       "      <td>NaN</td>\n",
       "      <td>NaN</td>\n",
       "      <td>NaN</td>\n",
       "    </tr>\n",
       "    <tr>\n",
       "      <th>max</th>\n",
       "      <td>NaN</td>\n",
       "      <td>NaN</td>\n",
       "      <td>NaN</td>\n",
       "      <td>5.000000</td>\n",
       "      <td>NaN</td>\n",
       "      <td>NaN</td>\n",
       "      <td>NaN</td>\n",
       "      <td>NaN</td>\n",
       "      <td>NaN</td>\n",
       "      <td>190000.000000</td>\n",
       "      <td>NaN</td>\n",
       "      <td>NaN</td>\n",
       "      <td>NaN</td>\n",
       "    </tr>\n",
       "  </tbody>\n",
       "</table>\n",
       "</div>"
      ],
      "text/plain": [
       "                        company  \\\n",
       "count                      3821   \n",
       "unique                      195   \n",
       "top     recruiting from scratch   \n",
       "freq                        219   \n",
       "mean                        NaN   \n",
       "std                         NaN   \n",
       "min                         NaN   \n",
       "25%                         NaN   \n",
       "50%                         NaN   \n",
       "75%                         NaN   \n",
       "max                         NaN   \n",
       "\n",
       "                                              description       location  \\\n",
       "count                                                3821           3821   \n",
       "unique                                                267            286   \n",
       "top     who is recruiting from scratch: recruiting fro...  cambridge, ma   \n",
       "freq                                                  219            231   \n",
       "mean                                                  NaN            NaN   \n",
       "std                                                   NaN            NaN   \n",
       "min                                                   NaN            NaN   \n",
       "25%                                                   NaN            NaN   \n",
       "50%                                                   NaN            NaN   \n",
       "75%                                                   NaN            NaN   \n",
       "max                                                   NaN            NaN   \n",
       "\n",
       "             rating                                       requirements  \\\n",
       "count   3821.000000                                                 80   \n",
       "unique          NaN                                                 11   \n",
       "top             NaN  sql: 5 years (preferred)oracle: 5 years (prefe...   \n",
       "freq            NaN                                                 16   \n",
       "mean       2.511463                                                NaN   \n",
       "std        1.815056                                                NaN   \n",
       "min        0.000000                                                NaN   \n",
       "25%        0.000000                                                NaN   \n",
       "50%        3.500000                                                NaN   \n",
       "75%        3.900000                                                NaN   \n",
       "max        5.000000                                                NaN   \n",
       "\n",
       "                                                  summary       job_title  \\\n",
       "count                                                3821            3821   \n",
       "unique                                                268             218   \n",
       "top     5+ years experience in data engineering or dat...  data scientist   \n",
       "freq                                                  201             483   \n",
       "mean                                                  NaN             NaN   \n",
       "std                                                   NaN             NaN   \n",
       "min                                                   NaN             NaN   \n",
       "25%                                                   NaN             NaN   \n",
       "50%                                                   NaN             NaN   \n",
       "75%                                                   NaN             NaN   \n",
       "max                                                   NaN             NaN   \n",
       "\n",
       "                                                      url  \\\n",
       "count                                                3821   \n",
       "unique                                                521   \n",
       "top     https://www.indeed.com/rc/clk?jk=2dc6650fabad3...   \n",
       "freq                                                   63   \n",
       "mean                                                  NaN   \n",
       "std                                                   NaN   \n",
       "min                                                   NaN   \n",
       "25%                                                   NaN   \n",
       "50%                                                   NaN   \n",
       "75%                                                   NaN   \n",
       "max                                                   NaN   \n",
       "\n",
       "                                                     text         salary  \\\n",
       "count                                                3821    1650.000000   \n",
       "unique                                                285            NaN   \n",
       "top     who is recruiting from scratch: recruiting fro...            NaN   \n",
       "freq                                                  201            NaN   \n",
       "mean                                                  NaN  124285.454545   \n",
       "std                                                   NaN   32181.871650   \n",
       "min                                                   NaN   55000.000000   \n",
       "25%                                                   NaN  102000.000000   \n",
       "50%                                                   NaN  120000.000000   \n",
       "75%                                                   NaN  142000.000000   \n",
       "max                                                   NaN  190000.000000   \n",
       "\n",
       "        dateposted state    city  \n",
       "count         3821  3821    3821  \n",
       "unique           3    63     213  \n",
       "top     2022-06-22    ma  boston  \n",
       "freq          1836   927     267  \n",
       "mean           NaN   NaN     NaN  \n",
       "std            NaN   NaN     NaN  \n",
       "min            NaN   NaN     NaN  \n",
       "25%            NaN   NaN     NaN  \n",
       "50%            NaN   NaN     NaN  \n",
       "75%            NaN   NaN     NaN  \n",
       "max            NaN   NaN     NaN  "
      ]
     },
     "execution_count": 5,
     "metadata": {},
     "output_type": "execute_result"
    }
   ],
   "source": [
    "data.describe(include='all')"
   ]
  },
  {
   "cell_type": "code",
   "execution_count": 6,
   "id": "de88eba1",
   "metadata": {},
   "outputs": [
    {
     "data": {
      "text/plain": [
       "129.0"
      ]
     },
     "execution_count": 6,
     "metadata": {},
     "output_type": "execute_result"
    }
   ],
   "source": [
    "(114 + 144)/2"
   ]
  },
  {
   "cell_type": "markdown",
   "id": "90be7b9e",
   "metadata": {},
   "source": [
    "### 2.2 Univariate Feature Analysis & Centering\n",
    "I'm going to employ visual and statistical methods to analyze each feature, starting with the target, and outside of scaling, prepare them for logistic regression which will require that each feature's vaues are normally distributes.\n"
   ]
  },
  {
   "cell_type": "markdown",
   "id": "7af69cd1",
   "metadata": {},
   "source": [
    "### 2.2a Target"
   ]
  },
  {
   "cell_type": "code",
   "execution_count": 7,
   "id": "feddc46a",
   "metadata": {},
   "outputs": [],
   "source": [
    "col = 'salary'\n",
    "eda_data = data[data[col]>1]"
   ]
  },
  {
   "cell_type": "markdown",
   "id": "61a81680",
   "metadata": {},
   "source": [
    "### Detecting Outliers: Using both the Z-Score and IQR methods\n",
    "Now that preprocessed the data and building the target variable of Salary let's see conduct a bit more EDA to see if there are any outliers that could potentially skew how the regressor will learn from the training data."
   ]
  },
  {
   "cell_type": "markdown",
   "id": "ad986c43",
   "metadata": {},
   "source": [
    "To explore the possibility of outliers I'll start with a box and whisker plot. Those whisters reach 1.5 times past the IQR boundary on either side, and are generally provide a good means of identifying outliers - values beyond the boundaries."
   ]
  },
  {
   "cell_type": "code",
   "execution_count": 8,
   "id": "c1525374",
   "metadata": {},
   "outputs": [
    {
     "data": {
      "image/png": "[encoded data removed]",
      "text/plain": [
       "<Figure size 432x288 with 1 Axes>"
      ]
     },
     "metadata": {
      "needs_background": "light"
     },
     "output_type": "display_data"
    }
   ],
   "source": [
    "sns.boxplot(data=eda_data, x='salary')\n",
    "plt.xticks(rotation=30)\n",
    "plt.show()"
   ]
  },
  {
   "cell_type": "markdown",
   "id": "de93d012",
   "metadata": {},
   "source": [
    "To observe the impact this has on the target's shape I'll employ a KDE plot."
   ]
  },
  {
   "cell_type": "code",
   "execution_count": 9,
   "id": "93ee5f72",
   "metadata": {},
   "outputs": [
    {
     "data": {
      "image/png": "[encoded data removed]",
      "text/plain": [
       "<Figure size 432x288 with 1 Axes>"
      ]
     },
     "metadata": {
      "needs_background": "light"
     },
     "output_type": "display_data"
    }
   ],
   "source": [
    "sns.kdeplot(eda_data.salary, shade=True)\n",
    "plt.xticks(rotation=30)\n",
    "plt.show()"
   ]
  },
  {
   "cell_type": "markdown",
   "id": "b6afc3b1",
   "metadata": {},
   "source": [
    "A plot is helpful in isualizing data, but let's program a few functions to detect and remove outliers based on thresholds.\n",
    "With the Z-Score, we can determine any data outside 3 standard deviations from the mean of our salary data to be an outlier.\n",
    "Wheras with the interquartile (IQR) range, the middle 50% of given salaries, I'll set the conventional cutoff of 1.5+/- the IQR as the cutoff.\n",
    "Values found outside of either range will be collected into a list and that'll allow for some fancy indexing so those particular postings can be examined and removed programatically."
   ]
  },
  {
   "cell_type": "markdown",
   "id": "4812e5e2",
   "metadata": {},
   "source": [
    "#### Z-Score\n",
    "Salaries 3 standard deviations away from the mean will be listed as outliers.\\\n",
    "Here we can see that there are five records with salary values outside the Z-score threshold."
   ]
  },
  {
   "cell_type": "code",
   "execution_count": 10,
   "id": "3a366805",
   "metadata": {},
   "outputs": [],
   "source": [
    "outliers = []\n",
    "def z_detect(data):\n",
    "    sample = data[data['salary'].notnull()].salary\n",
    "    threshold=3\n",
    "    mean = np.mean(sample)\n",
    "    std = np.std(sample)\n",
    "    \n",
    "    for i in sample:\n",
    "        z_score = (i-mean)/std\n",
    "        if np.abs(z_score) > threshold:\n",
    "            outliers.append(i)\n",
    "    if len(outliers) == 0:\n",
    "        pass\n",
    "    else:\n",
    "        return outliers\n",
    "z_detect(data)"
   ]
  },
  {
   "cell_type": "markdown",
   "id": "dcd3d6ee",
   "metadata": {},
   "source": [
    "#### IQR\n",
    "Salaries outside 1.5 times the interquartile range boundaries, either above or below will be listed as outliers.\\\n",
    "Here, I clearly demarcate the quartiles as well as the uppet and lower boundaries. Before removing these outliers let's take a look."
   ]
  },
  {
   "cell_type": "code",
   "execution_count": 11,
   "id": "1b0a0268",
   "metadata": {},
   "outputs": [
    {
     "data": {
      "image/png": "[encoded data removed]",
      "text/plain": [
       "<Figure size 360x360 with 1 Axes>"
      ]
     },
     "metadata": {
      "needs_background": "light"
     },
     "output_type": "display_data"
    }
   ],
   "source": [
    "q1 = np.quantile(eda_data.salary, 0.25)\n",
    "q2 = np.quantile(eda_data.salary, 0.5)\n",
    "q3 = np.quantile(eda_data.salary, 0.75)\n",
    "\n",
    "# calc iqr\n",
    "iqr = (q3 - q1)\n",
    "# expand iqr to discern outliers\n",
    "iqr_x = iqr*1.5\n",
    "\n",
    "# setting the lower and upper limits\n",
    "iqr_lower = q1-iqr_x\n",
    "iqr_upper = q3+iqr_x\n",
    "\n",
    "\n",
    "sns.displot(eda_data.salary)\n",
    "plt.axvline(x=q1, label=\"Q1\", c = 'g')\n",
    "plt.axvline(x=q2, label=\"Q2\", c = 'b')\n",
    "plt.axvline(x=q3, label=\"Q3\", c = 'r')\n",
    "\n",
    "plt.axvline(x=iqr_lower, label = 'IQR Lower', c = 'black')\n",
    "plt.axvline(x=iqr_upper, label = 'IQR Upper', c = 'black')\n",
    "plt.xticks(rotation=30)\n",
    "plt.legend()\n",
    "plt.show()"
   ]
  },
  {
   "cell_type": "code",
   "execution_count": 12,
   "id": "d908fa57",
   "metadata": {},
   "outputs": [
    {
     "data": {
      "text/plain": [
       "31"
      ]
     },
     "execution_count": 12,
     "metadata": {},
     "output_type": "execute_result"
    }
   ],
   "source": [
    "data.salary.value_counts().nunique()"
   ]
  },
  {
   "cell_type": "code",
   "execution_count": 13,
   "id": "e7d56f78",
   "metadata": {},
   "outputs": [
    {
     "data": {
      "text/plain": [
       "142000.0"
      ]
     },
     "execution_count": 13,
     "metadata": {},
     "output_type": "execute_result"
    }
   ],
   "source": [
    "q3"
   ]
  },
  {
   "cell_type": "code",
   "execution_count": 14,
   "id": "9602e36d",
   "metadata": {},
   "outputs": [
    {
     "data": {
      "text/plain": [
       "120000.0"
      ]
     },
     "execution_count": 14,
     "metadata": {},
     "output_type": "execute_result"
    }
   ],
   "source": [
    "np.percentile(eda_data.salary, 50)"
   ]
  },
  {
   "cell_type": "code",
   "execution_count": 15,
   "id": "586c0c97",
   "metadata": {},
   "outputs": [
    {
     "data": {
      "text/plain": [
       "<AxesSubplot:xlabel='salary', ylabel='Count'>"
      ]
     },
     "execution_count": 15,
     "metadata": {},
     "output_type": "execute_result"
    },
    {
     "data": {
      "image/png": "[encoded data removed]",
      "text/plain": [
       "<Figure size 432x288 with 1 Axes>"
      ]
     },
     "metadata": {
      "needs_background": "light"
     },
     "output_type": "display_data"
    }
   ],
   "source": [
    "sns.histplot(data.salary)"
   ]
  },
  {
   "cell_type": "markdown",
   "id": "7f12b184",
   "metadata": {},
   "source": [
    "There aren't any outliers beyond the lower bound for either test so let's take a look at what's above the IQR threshold.\\\n",
    "While not guarenteed, its a good thing that both tests seem to identify the same five records, the salary values match."
   ]
  },
  {
   "cell_type": "code",
   "execution_count": 16,
   "id": "1dc51937",
   "metadata": {},
   "outputs": [
    {
     "data": {
      "text/html": [
       "<div>\n",
       "<style scoped>\n",
       "    .dataframe tbody tr th:only-of-type {\n",
       "        vertical-align: middle;\n",
       "    }\n",
       "\n",
       "    .dataframe tbody tr th {\n",
       "        vertical-align: top;\n",
       "    }\n",
       "\n",
       "    .dataframe thead th {\n",
       "        text-align: right;\n",
       "    }\n",
       "</style>\n",
       "<table border=\"1\" class=\"dataframe\">\n",
       "  <thead>\n",
       "    <tr style=\"text-align: right;\">\n",
       "      <th></th>\n",
       "      <th>company</th>\n",
       "      <th>description</th>\n",
       "      <th>location</th>\n",
       "      <th>rating</th>\n",
       "      <th>requirements</th>\n",
       "      <th>summary</th>\n",
       "      <th>job_title</th>\n",
       "      <th>url</th>\n",
       "      <th>text</th>\n",
       "      <th>salary</th>\n",
       "      <th>dateposted</th>\n",
       "      <th>state</th>\n",
       "      <th>city</th>\n",
       "    </tr>\n",
       "  </thead>\n",
       "  <tbody>\n",
       "  </tbody>\n",
       "</table>\n",
       "</div>"
      ],
      "text/plain": [
       "Empty DataFrame\n",
       "Columns: [company, description, location, rating, requirements, summary, job_title, url, text, salary, dateposted, state, city]\n",
       "Index: []"
      ]
     },
     "execution_count": 16,
     "metadata": {},
     "output_type": "execute_result"
    }
   ],
   "source": [
    "data[data.salary > iqr_upper]"
   ]
  },
  {
   "cell_type": "markdown",
   "id": "938da817",
   "metadata": {},
   "source": [
    "Trimming the data, while showing the number of records were starting with and how many remain after removing the outliers viewed above."
   ]
  },
  {
   "cell_type": "code",
   "execution_count": 17,
   "id": "202d93a7",
   "metadata": {},
   "outputs": [
    {
     "name": "stdout",
     "output_type": "stream",
     "text": [
      "3821\n",
      "3821\n"
     ]
    }
   ],
   "source": [
    "print(len(data))\n",
    "data1 = data[data.salary <= iqr_upper]\n",
    "data2 = data[data.salary.isnull()]\n",
    "data = pd.concat([data1,data2])\n",
    "print(len(data))\n",
    "eda_data = data[data[col]>1]"
   ]
  },
  {
   "cell_type": "code",
   "execution_count": 18,
   "id": "3510b8ca",
   "metadata": {},
   "outputs": [
    {
     "data": {
      "image/png": "[encoded data removed]",
      "text/plain": [
       "<Figure size 360x360 with 1 Axes>"
      ]
     },
     "metadata": {
      "needs_background": "light"
     },
     "output_type": "display_data"
    }
   ],
   "source": [
    "q1 = np.quantile(eda_data.salary, 0.25)\n",
    "q2 = np.quantile(eda_data.salary, 0.5)\n",
    "q3 = np.quantile(eda_data.salary, 0.75)\n",
    "\n",
    "# calc iqr\n",
    "iqr = (q3 - q1)\n",
    "# expand iqr to discern outliers\n",
    "iqr_x = iqr*1.5\n",
    "\n",
    "# setting the lower and upper limits\n",
    "iqr_lower = q1-iqr_x\n",
    "iqr_upper = q3+iqr_x\n",
    "\n",
    "\n",
    "sns.displot(eda_data.salary)\n",
    "plt.axvline(x=q1, label=\"Q1\", c = 'g')\n",
    "plt.axvline(x=q2, label=\"Q2\", c = '#fd4d3f')\n",
    "plt.axvline(x=q3, label=\"Q3\", c = 'r')\n",
    "\n",
    "plt.axvline(x=iqr_lower, label = 'IQR Lower', c = 'black')\n",
    "plt.axvline(x=iqr_upper, label = 'IQR Upper', c = 'black')\n",
    "plt.legend()\n",
    "plt.xticks(rotation=30)\n",
    "plt.show()\n",
    "\n",
    "\n"
   ]
  },
  {
   "cell_type": "markdown",
   "id": "4f625b04",
   "metadata": {},
   "source": [
    "Excellent, everything falls within the boundaries. While there are a number of reccords off in the high end, neither test detects them as outliers, let's check with a box and whisker plot though."
   ]
  },
  {
   "cell_type": "code",
   "execution_count": 19,
   "id": "c97d325f",
   "metadata": {},
   "outputs": [
    {
     "data": {
      "image/png": "[encoded data removed]",
      "text/plain": [
       "<Figure size 432x288 with 1 Axes>"
      ]
     },
     "metadata": {
      "needs_background": "light"
     },
     "output_type": "display_data"
    }
   ],
   "source": [
    "sns.boxplot(data=data, x='salary')\n",
    "plt.xticks(rotation=30)\n",
    "plt.show()"
   ]
  },
  {
   "cell_type": "markdown",
   "id": "239f9318",
   "metadata": {},
   "source": [
    "Modality might be an issue but it's something I can come back and fine tune later."
   ]
  },
  {
   "cell_type": "code",
   "execution_count": 20,
   "id": "81ec7524",
   "metadata": {},
   "outputs": [
    {
     "data": {
      "image/png": "[encoded data removed]",
      "text/plain": [
       "<Figure size 432x288 with 1 Axes>"
      ]
     },
     "metadata": {
      "needs_background": "light"
     },
     "output_type": "display_data"
    }
   ],
   "source": [
    "#TODO check on this modality.\n",
    "sns.kdeplot(eda_data.salary, shade=True)\n",
    "plt.xticks(rotation=30)\n",
    "plt.show()\n",
    "\n",
    "\n"
   ]
  },
  {
   "cell_type": "code",
   "execution_count": 21,
   "id": "26be0709",
   "metadata": {},
   "outputs": [
    {
     "data": {
      "image/png": "[encoded data removed]",
      "text/plain": [
       "<Figure size 1296x288 with 1 Axes>"
      ]
     },
     "metadata": {
      "needs_background": "light"
     },
     "output_type": "display_data"
    }
   ],
   "source": [
    "ax = sns.pairplot(data=data[data.salary.notnull()],\n",
    "                  x_vars=['dateposted'],\n",
    "                  y_vars=['salary'], height=10, hue=\"salary\", palette=\"crest\")\n",
    "\n",
    "ax.fig.set_size_inches(18,4)"
   ]
  },
  {
   "cell_type": "code",
   "execution_count": 23,
   "id": "ecb6cc2b",
   "metadata": {},
   "outputs": [
    {
     "data": {
      "image/png": "[encoded data removed]",
      "text/plain": [
       "<Figure size 432x288 with 1 Axes>"
      ]
     },
     "metadata": {
      "needs_background": "light"
     },
     "output_type": "display_data"
    }
   ],
   "source": [
    "sns.countplot(x='salary', data=data.notnull(), palette='Set3')\n",
    "plt.show()\n"
   ]
  },
  {
   "cell_type": "code",
   "execution_count": 24,
   "id": "ee48a67d",
   "metadata": {},
   "outputs": [
    {
     "name": "stdout",
     "output_type": "stream",
     "text": [
      "43.18% of the data has salary information, should be an easy target\n"
     ]
    }
   ],
   "source": [
    "null = len(data[data.salary.isnull()])\n",
    "nnull = len(data[data.salary.notnull()])\n",
    "print(f'{round(nnull/len(data)*100,2)}% of the data has salary information, should be an easy target')"
   ]
  },
  {
   "cell_type": "code",
   "execution_count": 25,
   "id": "7c1cd106",
   "metadata": {},
   "outputs": [
    {
     "data": {
      "image/png": "[encoded data removed]",
      "text/plain": [
       "<Figure size 432x288 with 1 Axes>"
      ]
     },
     "metadata": {
      "needs_background": "light"
     },
     "output_type": "display_data"
    }
   ],
   "source": [
    "sns.histplot(data,x='salary',bins=100)\n",
    "plt.xticks(rotation=30)\n",
    "plt.show()"
   ]
  },
  {
   "cell_type": "code",
   "execution_count": 26,
   "id": "4cb0c233",
   "metadata": {},
   "outputs": [
    {
     "data": {
      "image/png": "[encoded data removed]",
      "text/plain": [
       "<Figure size 432x288 with 1 Axes>"
      ]
     },
     "metadata": {
      "needs_background": "light"
     },
     "output_type": "display_data"
    }
   ],
   "source": [
    "sns.violinplot(x=\"salary\", data=data)\n",
    "plt.xticks(rotation=30)\n",
    "plt.show()"
   ]
  },
  {
   "cell_type": "code",
   "execution_count": 27,
   "id": "409ded67",
   "metadata": {},
   "outputs": [],
   "source": [
    "def Q(row):\n",
    "    \"\"\"Subtracts the distance (in days) provided by the postD function.\n",
    "    Args:\n",
    "        row (record in the data): record\n",
    "\n",
    "    Returns:\n",
    "        datetime object: extract date - relative age = actual post date\n",
    "    \"\"\"\n",
    "\n",
    "    salary = row['salary']\n",
    "    if salary < q1:\n",
    "        return 1\n",
    "    if (salary >= q1) & (salary < q2):\n",
    "        return 2\n",
    "    if (salary >= q2) & (salary < q3):\n",
    "        return 3\n",
    "    if salary >= q3:\n",
    "        return 4\n",
    "    else:\n",
    "        return np.nan\n",
    "\n",
    "\n",
    "data['target'] = data.apply( lambda row : Q(row), axis = 1)"
   ]
  },
  {
   "cell_type": "code",
   "execution_count": 28,
   "id": "3a18ea66",
   "metadata": {},
   "outputs": [
    {
     "data": {
      "text/plain": [
       "102000.0"
      ]
     },
     "execution_count": 28,
     "metadata": {},
     "output_type": "execute_result"
    }
   ],
   "source": [
    "q1"
   ]
  },
  {
   "cell_type": "code",
   "execution_count": 29,
   "id": "19f4bb62",
   "metadata": {},
   "outputs": [
    {
     "data": {
      "text/plain": [
       "120000.0"
      ]
     },
     "execution_count": 29,
     "metadata": {},
     "output_type": "execute_result"
    }
   ],
   "source": [
    "q2"
   ]
  },
  {
   "cell_type": "code",
   "execution_count": 30,
   "id": "6fa009a2",
   "metadata": {},
   "outputs": [
    {
     "data": {
      "text/plain": [
       "142000.0"
      ]
     },
     "execution_count": 30,
     "metadata": {},
     "output_type": "execute_result"
    }
   ],
   "source": [
    "q3"
   ]
  },
  {
   "cell_type": "code",
   "execution_count": 31,
   "id": "01532472",
   "metadata": {},
   "outputs": [
    {
     "data": {
      "text/plain": [
       "nan"
      ]
     },
     "execution_count": 31,
     "metadata": {},
     "output_type": "execute_result"
    }
   ],
   "source": [
    "np.quantile(data.salary, .5)"
   ]
  },
  {
   "cell_type": "markdown",
   "id": "4e175c84",
   "metadata": {},
   "source": [
    "A new target variable has been created and its values are nan, 1, 2, 3, and 4 - representing the unknown set, and four labels for the taget."
   ]
  },
  {
   "cell_type": "code",
   "execution_count": 32,
   "id": "396b3d1b",
   "metadata": {},
   "outputs": [
    {
     "data": {
      "image/png": "[encoded data removed]",
      "text/plain": [
       "<Figure size 360x360 with 1 Axes>"
      ]
     },
     "metadata": {
      "needs_background": "light"
     },
     "output_type": "display_data"
    }
   ],
   "source": [
    "g = sns.catplot(x=\"target\", y=\"salary\", kind=\"violin\", inner=None, data=data)\n",
    "sns.swarmplot(x=\"target\", y=\"salary\", color=\"k\", size=2, data=data, ax=g.ax)\n",
    "\n",
    "plt.xticks(rotation=30)\n",
    "\n",
    "plt.show()"
   ]
  },
  {
   "cell_type": "code",
   "execution_count": 33,
   "id": "eacd7d7c",
   "metadata": {},
   "outputs": [
    {
     "data": {
      "text/plain": [
       "<AxesSubplot:xlabel='salary'>"
      ]
     },
     "execution_count": 33,
     "metadata": {},
     "output_type": "execute_result"
    },
    {
     "data": {
      "image/png": "[encoded data removed]",
      "text/plain": [
       "<Figure size 432x288 with 1 Axes>"
      ]
     },
     "metadata": {
      "needs_background": "light"
     },
     "output_type": "display_data"
    }
   ],
   "source": [
    "sns.boxplot(data=data[data.target == 4],x='salary')"
   ]
  },
  {
   "cell_type": "markdown",
   "id": "dffdcacd",
   "metadata": {},
   "source": [
    "And checking each target value for outliers"
   ]
  },
  {
   "cell_type": "code",
   "execution_count": 34,
   "id": "802e1695",
   "metadata": {},
   "outputs": [
    {
     "data": {
      "image/png": "[encoded data removed]",
      "text/plain": [
       "<Figure size 360x360 with 1 Axes>"
      ]
     },
     "metadata": {
      "needs_background": "light"
     },
     "output_type": "display_data"
    }
   ],
   "source": [
    "check = data[data.target == 4]\n",
    "q1 = np.quantile(check.salary, 0.25)\n",
    "q2 = np.quantile(check.salary, 0.5)\n",
    "q3 = np.quantile(check.salary, 0.75)\n",
    "\n",
    "# calc iqr\n",
    "iqr = (q3 - q1)\n",
    "# expand iqr to discern outliers\n",
    "iqr_x = iqr*1.5\n",
    "\n",
    "# setting the lower and upper limits\n",
    "iqr_lower = q1-iqr_x\n",
    "iqr_upper = q3+iqr_x\n",
    "\n",
    "\n",
    "sns.displot(check.salary)\n",
    "plt.axvline(x=q1, label=\"Q1\", c = 'g')\n",
    "plt.axvline(x=q2, label=\"Q2\", c = '#fd4d3f')\n",
    "plt.axvline(x=q3, label=\"Q3\", c = 'r')\n",
    "\n",
    "plt.axvline(x=iqr_lower, label = 'IQR Lower', c = 'black')\n",
    "plt.axvline(x=iqr_upper, label = 'IQR Upper', c = 'black')\n",
    "plt.legend()\n",
    "plt.xticks(rotation=30)\n",
    "plt.show()"
   ]
  },
  {
   "cell_type": "markdown",
   "id": "8250dca5",
   "metadata": {},
   "source": [
    "'company'\\\n",
    "There's presently 96 different companies - that's a ton of dimensions added to the data, and I've still got to add count vectorizer. I'll try label encoding these. In the future, shifting these into clusters might be useful.\\\n",
    "Other than that, this variable doesn't seem to need much - "
   ]
  },
  {
   "cell_type": "code",
   "execution_count": 35,
   "id": "85259555",
   "metadata": {},
   "outputs": [
    {
     "data": {
      "text/plain": [
       "recruiting from scratch                         219\n",
       "amazon.com services llc                         195\n",
       "food management search                          147\n",
       "parexel                                         117\n",
       "disney parks,parks, experiences and products    112\n",
       "                                               ... \n",
       "tulk llc                                          3\n",
       "us tech solutions private limited                 3\n",
       "regional finance                                  3\n",
       "clozd                                             3\n",
       "shield ai                                         3\n",
       "Name: company, Length: 195, dtype: int64"
      ]
     },
     "execution_count": 35,
     "metadata": {},
     "output_type": "execute_result"
    }
   ],
   "source": [
    "data.company.value_counts()"
   ]
  },
  {
   "cell_type": "markdown",
   "id": "41f9618f",
   "metadata": {},
   "source": [
    "'rating'\\\n",
    "Roughly a third of the data is missing values for the company rating feature. At first I used np.fillna(0) to imput 0 for all the missing values but that sharply right-skewed the distribution towards zero.\\\n",
    "Then I checked is scaling the data would fix the bi-modality but I think I have two options here, drop all those records or drop a potentially valuable feature.\\\n",
    "For now, I'll drop the records, I can always get more, and in the future I could conduct linear regression to imput the values."
   ]
  },
  {
   "cell_type": "code",
   "execution_count": 36,
   "id": "746916a6",
   "metadata": {},
   "outputs": [
    {
     "data": {
      "image/png": "[encoded data removed]",
      "text/plain": [
       "<Figure size 432x288 with 1 Axes>"
      ]
     },
     "metadata": {
      "needs_background": "light"
     },
     "output_type": "display_data"
    }
   ],
   "source": [
    "#TODO imput the rating with a regressor.\n",
    "sns.histplot(data=data[data.target ==1], x='rating')\n",
    "plt.xticks(rotation=30)\n",
    "plt.show()\n",
    "\n",
    "data.primarytitle.value_counts()"
   ]
  },
  {
   "cell_type": "code",
   "execution_count": 37,
   "id": "9a9f38ca",
   "metadata": {},
   "outputs": [
    {
     "data": {
      "image/png": "[encoded data removed]",
      "text/plain": [
       "<Figure size 432x288 with 1 Axes>"
      ]
     },
     "metadata": {
      "needs_background": "light"
     },
     "output_type": "display_data"
    }
   ],
   "source": [
    "scale = MinMaxScaler()\n",
    "scale = scale.fit_transform(pd.DataFrame(data['rating']))\n",
    "sns.distplot(scale)\n",
    "plt.show()"
   ]
  },
  {
   "cell_type": "code",
   "execution_count": 1,
   "id": "a29465af",
   "metadata": {},
   "outputs": [
    {
     "ename": "NameError",
     "evalue": "name 'data' is not defined",
     "output_type": "error",
     "traceback": [
      "\u001b[0;31m---------------------------------------------------------------------------\u001b[0m",
      "\u001b[0;31mNameError\u001b[0m                                 Traceback (most recent call last)",
      "\u001b[0;32m<ipython-input-1-df4fab25c807>\u001b[0m in \u001b[0;36m<module>\u001b[0;34m\u001b[0m\n\u001b[0;32m----> 1\u001b[0;31m \u001b[0mdata\u001b[0m \u001b[0;34m=\u001b[0m \u001b[0mdata\u001b[0m\u001b[0;34m[\u001b[0m\u001b[0mdata\u001b[0m\u001b[0;34m.\u001b[0m\u001b[0mrating\u001b[0m \u001b[0;34m>\u001b[0m \u001b[0;36m0\u001b[0m\u001b[0;34m]\u001b[0m\u001b[0;34m\u001b[0m\u001b[0;34m\u001b[0m\u001b[0m\n\u001b[0m\u001b[1;32m      2\u001b[0m \u001b[0mlen\u001b[0m\u001b[0;34m(\u001b[0m\u001b[0mdata\u001b[0m\u001b[0;34m)\u001b[0m\u001b[0;34m\u001b[0m\u001b[0;34m\u001b[0m\u001b[0m\n",
      "\u001b[0;31mNameError\u001b[0m: name 'data' is not defined"
     ]
    }
   ],
   "source": [
    "data = data[data.rating > 0]\n",
    "len(data)\n"
   ]
  },
  {
   "cell_type": "code",
   "execution_count": 39,
   "id": "f0445134",
   "metadata": {},
   "outputs": [
    {
     "data": {
      "image/png": "[encoded data removed]",
      "text/plain": [
       "<Figure size 432x288 with 1 Axes>"
      ]
     },
     "metadata": {
      "needs_background": "light"
     },
     "output_type": "display_data"
    }
   ],
   "source": [
    "sns.histplot(data=data[data.target ==1], x='rating')\n",
    "plt.xticks(rotation=30)\n",
    "plt.show()"
   ]
  },
  {
   "cell_type": "markdown",
   "id": "cfbce629",
   "metadata": {},
   "source": [
    "'job_title'\\\n",
    "Oddly enough, these number as many as company, I suspect multicolinearity. I'll come back to collapse these a bit and perhaps build a new feature for specializations out of these.\n",
    "To be label encoded and possibly clustered later."
   ]
  },
  {
   "cell_type": "code",
   "execution_count": 40,
   "id": "c5013ebe",
   "metadata": {},
   "outputs": [
    {
     "data": {
      "text/plain": [
       "data scientist                                                     111\n",
       "data scientist, namr people team                                   110\n",
       "senior data scientist                                               89\n",
       "entry level data scientist                                          78\n",
       "machine learning engineer                                           77\n",
       "                                                                  ... \n",
       "senior data scientist - medicare growth analytics (sql, pyth...      3\n",
       "(usa) data scientist                                                 3\n",
       "senior data scientist (experienced level professional)               2\n",
       "data review scientist                                                2\n",
       "principle data scientist (experienced level professional)            2\n",
       "Name: job_title, Length: 180, dtype: int64"
      ]
     },
     "execution_count": 40,
     "metadata": {},
     "output_type": "execute_result"
    }
   ],
   "source": [
    "data.job_title.value_counts()"
   ]
  },
  {
   "cell_type": "markdown",
   "id": "437f4a3d",
   "metadata": {},
   "source": [
    "'dateposted'\n",
    "This isn't going into the pipelie, despite some interesting patterns, I don't think there's enough periodic/seasonality information available here. Still, great for visualizing the job market."
   ]
  },
  {
   "cell_type": "code",
   "execution_count": 41,
   "id": "42fadd94",
   "metadata": {},
   "outputs": [
    {
     "data": {
      "image/png": "[encoded data removed]",
      "text/plain": [
       "<Figure size 432x288 with 1 Axes>"
      ]
     },
     "metadata": {
      "needs_background": "light"
     },
     "output_type": "display_data"
    }
   ],
   "source": [
    "sns.lineplot(x=\"dateposted\", y=\"salary\", hue=\"target\", data=data)\n",
    "plt.xticks(rotation=30)\n",
    "plt.show()"
   ]
  },
  {
   "cell_type": "code",
   "execution_count": 42,
   "id": "c26dd2f0",
   "metadata": {},
   "outputs": [
    {
     "data": {
      "image/png": "[encoded data removed]",
      "text/plain": [
       "<Figure size 1296x288 with 1 Axes>"
      ]
     },
     "metadata": {
      "needs_background": "light"
     },
     "output_type": "display_data"
    }
   ],
   "source": [
    "ax = sns.pairplot(data=data,\n",
    "                  x_vars=['dateposted'],\n",
    "                  y_vars=['salary'], height=8, hue=\"target\", palette=\"crest\")\n",
    "\n",
    "ax.fig.set_size_inches(18,4)"
   ]
  },
  {
   "cell_type": "code",
   "execution_count": 43,
   "id": "b8e0d767",
   "metadata": {},
   "outputs": [
    {
     "data": {
      "text/plain": [
       "160"
      ]
     },
     "execution_count": 43,
     "metadata": {},
     "output_type": "execute_result"
    }
   ],
   "source": [
    "len(data.city.value_counts())"
   ]
  },
  {
   "cell_type": "code",
   "execution_count": 44,
   "id": "b74b535a",
   "metadata": {},
   "outputs": [
    {
     "data": {
      "text/plain": [
       "56"
      ]
     },
     "execution_count": 44,
     "metadata": {},
     "output_type": "execute_result"
    }
   ],
   "source": [
    "len(data.state.value_counts())"
   ]
  },
  {
   "cell_type": "markdown",
   "id": "3c65ae7e",
   "metadata": {},
   "source": [
    "## Feature Associations"
   ]
  },
  {
   "cell_type": "code",
   "execution_count": 45,
   "id": "d0ab7296",
   "metadata": {},
   "outputs": [],
   "source": [
    "data2 = data.drop('salary', axis=1)\n",
    "data2.dropna(inplace=True)"
   ]
  },
  {
   "cell_type": "code",
   "execution_count": 46,
   "id": "d8600564",
   "metadata": {},
   "outputs": [
    {
     "data": {
      "text/plain": [
       "['rating']"
      ]
     },
     "execution_count": 46,
     "metadata": {},
     "output_type": "execute_result"
    }
   ],
   "source": [
    "target = 'target'\n",
    "\n",
    "associated = []\n",
    "\n",
    "for i in data2.select_dtypes('number').columns:\n",
    "    if i == target:\n",
    "        continue\n",
    "    else:\n",
    "        pearson_cor, pval = pearsonr(data2[i],data2[target])\n",
    "\n",
    "    if pearson_cor > .3:\n",
    "        associated.append([i,pearson_cor])\n",
    "\n",
    "# Extracting column names of the dependent variables that passed the pearson correlation test of being at least .3\n",
    "num_cols = []\n",
    "for i in associated:\n",
    "    num_cols.append(i[0])\n",
    "num_cols"
   ]
  },
  {
   "cell_type": "markdown",
   "id": "b2bf4cf6",
   "metadata": {},
   "source": [
    "As anticipated, rating passes the pearson test."
   ]
  },
  {
   "cell_type": "code",
   "execution_count": 47,
   "id": "6228ff67",
   "metadata": {},
   "outputs": [
    {
     "data": {
      "text/html": [
       "<div>\n",
       "<style scoped>\n",
       "    .dataframe tbody tr th:only-of-type {\n",
       "        vertical-align: middle;\n",
       "    }\n",
       "\n",
       "    .dataframe tbody tr th {\n",
       "        vertical-align: top;\n",
       "    }\n",
       "\n",
       "    .dataframe thead th {\n",
       "        text-align: right;\n",
       "    }\n",
       "</style>\n",
       "<table border=\"1\" class=\"dataframe\">\n",
       "  <thead>\n",
       "    <tr style=\"text-align: right;\">\n",
       "      <th></th>\n",
       "      <th>feature</th>\n",
       "      <th>chi2 score</th>\n",
       "    </tr>\n",
       "  </thead>\n",
       "  <tbody>\n",
       "    <tr>\n",
       "      <th>1</th>\n",
       "      <td>description</td>\n",
       "      <td>1950.00</td>\n",
       "    </tr>\n",
       "    <tr>\n",
       "      <th>4</th>\n",
       "      <td>summary</td>\n",
       "      <td>1950.00</td>\n",
       "    </tr>\n",
       "    <tr>\n",
       "      <th>6</th>\n",
       "      <td>url</td>\n",
       "      <td>1950.00</td>\n",
       "    </tr>\n",
       "    <tr>\n",
       "      <th>7</th>\n",
       "      <td>text</td>\n",
       "      <td>1950.00</td>\n",
       "    </tr>\n",
       "    <tr>\n",
       "      <th>2</th>\n",
       "      <td>location</td>\n",
       "      <td>1801.68</td>\n",
       "    </tr>\n",
       "    <tr>\n",
       "      <th>10</th>\n",
       "      <td>city</td>\n",
       "      <td>1729.89</td>\n",
       "    </tr>\n",
       "    <tr>\n",
       "      <th>5</th>\n",
       "      <td>job_title</td>\n",
       "      <td>1720.00</td>\n",
       "    </tr>\n",
       "    <tr>\n",
       "      <th>0</th>\n",
       "      <td>company</td>\n",
       "      <td>1656.39</td>\n",
       "    </tr>\n",
       "    <tr>\n",
       "      <th>9</th>\n",
       "      <td>state</td>\n",
       "      <td>875.42</td>\n",
       "    </tr>\n",
       "    <tr>\n",
       "      <th>8</th>\n",
       "      <td>dateposted</td>\n",
       "      <td>111.89</td>\n",
       "    </tr>\n",
       "  </tbody>\n",
       "</table>\n",
       "</div>"
      ],
      "text/plain": [
       "        feature  chi2 score\n",
       "1   description     1950.00\n",
       "4       summary     1950.00\n",
       "6           url     1950.00\n",
       "7          text     1950.00\n",
       "2      location     1801.68\n",
       "10         city     1729.89\n",
       "5     job_title     1720.00\n",
       "0       company     1656.39\n",
       "9         state      875.42\n",
       "8    dateposted      111.89"
      ]
     },
     "execution_count": 47,
     "metadata": {},
     "output_type": "execute_result"
    }
   ],
   "source": [
    "\n",
    "#TODO complete this by collecting the most significant colinear features and possibl removing them.\n",
    "\n",
    "score_dictionary = {}\n",
    "for i in data.select_dtypes('object').columns:\n",
    "    feature = pd.crosstab(data[i], data[target])\n",
    "    # calculate the chi squared statistic and save it as chi2, then print it:\n",
    "    chi2, pval, dof, expected = chi2_contingency(feature)\n",
    "    score_dictionary[i] = round(chi2,2)\n",
    "score_df = pd.DataFrame(score_dictionary.items(), columns=['feature','chi2 score']).sort_values('chi2 score', ascending=False)\n",
    "score_df[:-1]"
   ]
  },
  {
   "cell_type": "markdown",
   "id": "25d6cb51",
   "metadata": {},
   "source": [
    "Greater variance betewwen values leads to higher scores, apparently. 'text' is next."
   ]
  },
  {
   "cell_type": "code",
   "execution_count": 48,
   "id": "110b49f0",
   "metadata": {},
   "outputs": [],
   "source": [
    "data[['company','job_title','text']] = data[['company','job_title','text']].astype(str)"
   ]
  },
  {
   "cell_type": "code",
   "execution_count": 49,
   "id": "c8f974d3",
   "metadata": {},
   "outputs": [
    {
     "name": "stdout",
     "output_type": "stream",
     "text": [
      "<class 'pandas.core.frame.DataFrame'>\n",
      "Int64Index: 2533 entries, 3 to 3819\n",
      "Data columns (total 14 columns):\n",
      " #   Column        Non-Null Count  Dtype  \n",
      "---  ------        --------------  -----  \n",
      " 0   company       2533 non-null   object \n",
      " 1   description   2533 non-null   object \n",
      " 2   location      2533 non-null   object \n",
      " 3   rating        2533 non-null   float64\n",
      " 4   requirements  43 non-null     object \n",
      " 5   summary       2533 non-null   object \n",
      " 6   job_title     2533 non-null   object \n",
      " 7   url           2533 non-null   object \n",
      " 8   text          2533 non-null   object \n",
      " 9   salary        650 non-null    float64\n",
      " 10  dateposted    2533 non-null   object \n",
      " 11  state         2533 non-null   object \n",
      " 12  city          2533 non-null   object \n",
      " 13  target        650 non-null    float64\n",
      "dtypes: float64(3), object(11)\n",
      "memory usage: 296.8+ KB\n"
     ]
    }
   ],
   "source": [
    "data.info()"
   ]
  },
  {
   "cell_type": "code",
   "execution_count": 50,
   "id": "cc82dda8",
   "metadata": {},
   "outputs": [],
   "source": [
    "data.to_csv(f'../app/data/processed_data.csv', index=False)"
   ]
  },
  {
   "cell_type": "code",
   "execution_count": null,
   "id": "4b600bd1",
   "metadata": {},
   "outputs": [],
   "source": []
  }
 ],
 "metadata": {
  "interpreter": {
   "hash": "ac83f05b37eb5c5c49ba67e50f0047ddfbc4b30205fc79ee5f327b9c0ac37f55"
  },
  "kernelspec": {
   "display_name": "Python [conda env:indeedapp]",
   "language": "python",
   "name": "python3"
  },
  "language_info": {
   "codemirror_mode": {
    "name": "ipython",
    "version": 3
   },
   "file_extension": ".py",
   "mimetype": "text/x-python",
   "name": "python",
   "nbconvert_exporter": "python",
   "pygments_lexer": "ipython3",
   "version": "3.8.10"
  }
 },
 "nbformat": 4,
 "nbformat_minor": 5
}
